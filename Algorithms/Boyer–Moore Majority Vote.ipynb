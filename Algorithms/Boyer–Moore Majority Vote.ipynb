{
 "cells": [
  {
   "cell_type": "markdown",
   "metadata": {},
   "source": [
    "# Boyer–Moore majority vote\n",
    "\n",
    "Find the majority element in the array"
   ]
  },
  {
   "cell_type": "code",
   "execution_count": 2,
   "metadata": {},
   "outputs": [],
   "source": [
    "def majorityVote(nums):\n",
    "    cand = nums[0]\n",
    "    count = 0\n",
    "    \n",
    "    for num in nums:\n",
    "        if cand == num:\n",
    "            count += 1\n",
    "        elif count == 0:\n",
    "            cand = num\n",
    "        else:\n",
    "            count -= 1\n",
    "            \n",
    "    return cand"
   ]
  }
 ],
 "metadata": {
  "kernelspec": {
   "display_name": "Python 3",
   "language": "python",
   "name": "python3"
  },
  "language_info": {
   "codemirror_mode": {
    "name": "ipython",
    "version": 3
   },
   "file_extension": ".py",
   "mimetype": "text/x-python",
   "name": "python",
   "nbconvert_exporter": "python",
   "pygments_lexer": "ipython3",
   "version": "3.7.7"
  }
 },
 "nbformat": 4,
 "nbformat_minor": 2
}
