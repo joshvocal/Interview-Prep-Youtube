{
 "cells": [
  {
   "cell_type": "markdown",
   "metadata": {},
   "source": [
    "# Binary Search"
   ]
  },
  {
   "cell_type": "markdown",
   "metadata": {},
   "source": [
    "1. Binary Search - Search for the middle occurance of the target\n",
    "\n",
    "2. Lower Bound - Search for the first occurance of the target\n",
    "\n",
    "3. Upper Bound - Search fo the last occurance of the target"
   ]
  },
  {
   "cell_type": "code",
   "execution_count": 25,
   "metadata": {},
   "outputs": [],
   "source": [
    "nums = [0, 1, 2, 3, 4, 5, 5, 5, 5, 5, 6, 7, 8, 9, 10]"
   ]
  },
  {
   "cell_type": "code",
   "execution_count": 26,
   "metadata": {},
   "outputs": [
    {
     "data": {
      "text/plain": [
       "7"
      ]
     },
     "execution_count": 26,
     "metadata": {},
     "output_type": "execute_result"
    }
   ],
   "source": [
    "def binarySearch(nums, target):\n",
    "    lo = 0\n",
    "    hi = len(nums)\n",
    "    \n",
    "    while lo < hi:\n",
    "        mid = (lo + hi) // 2\n",
    "        \n",
    "        if nums[mid] == target:\n",
    "            return mid\n",
    "        \n",
    "        if nums[mid] < target:\n",
    "            lo = mid + 1\n",
    "        else:\n",
    "            hi = mid - 1\n",
    "            \n",
    "    return -1\n",
    "\n",
    "binarySearch(nums, 5)"
   ]
  },
  {
   "cell_type": "code",
   "execution_count": 40,
   "metadata": {},
   "outputs": [
    {
     "data": {
      "text/plain": [
       "5"
      ]
     },
     "execution_count": 40,
     "metadata": {},
     "output_type": "execute_result"
    }
   ],
   "source": [
    "def lowerBound(nums, target):\n",
    "    lo = 0\n",
    "    hi = len(nums)\n",
    "    \n",
    "    while lo < hi:\n",
    "        mid = (lo + hi) // 2\n",
    "        \n",
    "        if nums[mid] < target:\n",
    "            lo = mid + 1\n",
    "        else:\n",
    "            hi = mid\n",
    "            \n",
    "    return lo\n",
    "\n",
    "lowerBound(nums, 5)"
   ]
  },
  {
   "cell_type": "code",
   "execution_count": 41,
   "metadata": {},
   "outputs": [
    {
     "data": {
      "text/plain": [
       "9"
      ]
     },
     "execution_count": 41,
     "metadata": {},
     "output_type": "execute_result"
    }
   ],
   "source": [
    "def upperBound(nums, target):\n",
    "    lo = 0\n",
    "    hi = len(nums)\n",
    "    \n",
    "    while lo < hi:\n",
    "        mid = (lo + hi + 1) // 2\n",
    "        \n",
    "        if nums[mid] <= target:\n",
    "            lo = mid\n",
    "        else:\n",
    "            hi = mid - 1\n",
    "            \n",
    "    return hi\n",
    "            \n",
    "upperBound(nums, 5)"
   ]
  },
  {
   "cell_type": "code",
   "execution_count": null,
   "metadata": {},
   "outputs": [],
   "source": []
  }
 ],
 "metadata": {
  "kernelspec": {
   "display_name": "Python 3",
   "language": "python",
   "name": "python3"
  },
  "language_info": {
   "codemirror_mode": {
    "name": "ipython",
    "version": 3
   },
   "file_extension": ".py",
   "mimetype": "text/x-python",
   "name": "python",
   "nbconvert_exporter": "python",
   "pygments_lexer": "ipython3",
   "version": "3.7.7"
  }
 },
 "nbformat": 4,
 "nbformat_minor": 2
}
