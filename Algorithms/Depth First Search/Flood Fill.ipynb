{
 "cells": [
  {
   "cell_type": "markdown",
   "metadata": {},
   "source": [
    "# Flood Fill\n",
    "\n",
    "Algorithm: DFS\n",
    "\n",
    "* Used to fill/replace values in a matrix of the same value.\n",
    "* Useful for counting groups of shapes"
   ]
  },
  {
   "cell_type": "code",
   "execution_count": 1,
   "metadata": {},
   "outputs": [],
   "source": [
    "import numpy as np"
   ]
  },
  {
   "cell_type": "code",
   "execution_count": 19,
   "metadata": {},
   "outputs": [
    {
     "data": {
      "text/plain": [
       "array([['X', '.', '.', 'X'],\n",
       "       ['.', '.', '.', 'X'],\n",
       "       ['.', '.', '.', 'X']], dtype='<U1')"
      ]
     },
     "execution_count": 19,
     "metadata": {},
     "output_type": "execute_result"
    }
   ],
   "source": [
    "arr = np.array([[\"X\",\".\",\".\",\"X\"],\n",
    "                [\".\",\".\",\".\",\"X\"],\n",
    "                [\".\",\".\",\".\",\"X\"]])\n",
    "arr"
   ]
  },
  {
   "cell_type": "code",
   "execution_count": 20,
   "metadata": {},
   "outputs": [],
   "source": [
    "def fill(matrix, target):\n",
    "    rows = len(matrix)\n",
    "    cols = len(matrix[0])\n",
    "    \n",
    "    count = 0\n",
    "    \n",
    "    for i in range(rows):\n",
    "        for j in range(cols):\n",
    "            dfs(i, j, rows, cols, matrix, target)\n",
    "            count += 1\n",
    "            \n",
    "    return count\n",
    "\n",
    "def dfs(i, j , rows, cols, matrix, target):\n",
    "    if i < 0 or i >= rows or j < 0 or j >= cols or matrix[i][j] == '.':\n",
    "        return\n",
    "    \n",
    "    matrix[i][j] = '.'\n",
    "    \n",
    "    right = dfs(i, j + 1, rows, cols, matrix, target)\n",
    "    left = dfs(i, j - 1, rows, cols, matrix, target)\n",
    "    up = dfs(i + 1, j, rows, cols, matrix, target)\n",
    "    down = dfs(i - 1, j, rows, cols, matrix, target)"
   ]
  },
  {
   "cell_type": "code",
   "execution_count": 22,
   "metadata": {},
   "outputs": [
    {
     "data": {
      "text/plain": [
       "array([['.', '.', '.', '.'],\n",
       "       ['.', '.', '.', '.'],\n",
       "       ['.', '.', '.', '.']], dtype='<U1')"
      ]
     },
     "execution_count": 22,
     "metadata": {},
     "output_type": "execute_result"
    }
   ],
   "source": [
    "fill(arr, 'X')\n",
    "arr"
   ]
  },
  {
   "cell_type": "code",
   "execution_count": null,
   "metadata": {},
   "outputs": [],
   "source": []
  }
 ],
 "metadata": {
  "kernelspec": {
   "display_name": "Python 3",
   "language": "python",
   "name": "python3"
  },
  "language_info": {
   "codemirror_mode": {
    "name": "ipython",
    "version": 3
   },
   "file_extension": ".py",
   "mimetype": "text/x-python",
   "name": "python",
   "nbconvert_exporter": "python",
   "pygments_lexer": "ipython3",
   "version": "3.7.5"
  }
 },
 "nbformat": 4,
 "nbformat_minor": 2
}
