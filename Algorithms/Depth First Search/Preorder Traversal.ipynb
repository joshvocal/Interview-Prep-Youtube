{
 "cells": [
  {
   "cell_type": "markdown",
   "metadata": {},
   "source": [
    "# Preorder Traversal"
   ]
  },
  {
   "cell_type": "code",
   "execution_count": 3,
   "metadata": {},
   "outputs": [
    {
     "name": "stdout",
     "output_type": "stream",
     "text": [
      "\n",
      "         ________5________\n",
      "        /                 \\\n",
      "    ___2__              ___0__\n",
      "   /      \\            /      \\\n",
      "  6        13        _10       9\n",
      " / \\      /  \\      /   \\     / \\\n",
      "7   14   4    11   12    8   1   3\n",
      "\n"
     ]
    }
   ],
   "source": [
    "from binarytree import tree\n",
    "\n",
    "_tree = tree(height=3, is_perfect=True)\n",
    "print(_tree)"
   ]
  },
  {
   "cell_type": "code",
   "execution_count": 4,
   "metadata": {},
   "outputs": [
    {
     "name": "stdout",
     "output_type": "stream",
     "text": [
      "[5, 2, 6, 7, 14, 13, 4, 11, 0, 10, 12, 8, 9, 1, 3]\n"
     ]
    }
   ],
   "source": [
    "def recursivePreorder(root):\n",
    "    res = []\n",
    "    helper(root, res)\n",
    "    return res\n",
    "\n",
    "def helper(root, res):\n",
    "    if not root:\n",
    "        return\n",
    "    \n",
    "    res.append(root.value)\n",
    "    helper(root.left, res)\n",
    "    helper(root.right, res)\n",
    "    \n",
    "print(recursivePreorder(_tree))"
   ]
  },
  {
   "cell_type": "code",
   "execution_count": 5,
   "metadata": {},
   "outputs": [
    {
     "name": "stdout",
     "output_type": "stream",
     "text": [
      "[5, 0, 9, 3, 1, 10, 8, 12, 2, 13, 11, 4, 6, 14, 7]\n"
     ]
    }
   ],
   "source": [
    "def iterativePreorder(root):\n",
    "    if not root:\n",
    "        return []\n",
    "    \n",
    "    stack = [root]\n",
    "    res = []\n",
    "    \n",
    "    while stack:\n",
    "        curr = stack.pop()\n",
    "        res.append(curr.value)\n",
    "        \n",
    "        if curr.left:\n",
    "            stack.append(curr.left)\n",
    "        if curr.right:\n",
    "            stack.append(curr.right)\n",
    "            \n",
    "    return res\n",
    "\n",
    "print(iterativePreorder(_tree))"
   ]
  },
  {
   "cell_type": "code",
   "execution_count": null,
   "metadata": {},
   "outputs": [],
   "source": []
  }
 ],
 "metadata": {
  "kernelspec": {
   "display_name": "Python 3",
   "language": "python",
   "name": "python3"
  },
  "language_info": {
   "codemirror_mode": {
    "name": "ipython",
    "version": 3
   },
   "file_extension": ".py",
   "mimetype": "text/x-python",
   "name": "python",
   "nbconvert_exporter": "python",
   "pygments_lexer": "ipython3",
   "version": "3.7.7"
  }
 },
 "nbformat": 4,
 "nbformat_minor": 2
}
