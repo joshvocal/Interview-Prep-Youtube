{
 "cells": [
  {
   "cell_type": "markdown",
   "metadata": {},
   "source": [
    "# Preorder Traversal"
   ]
  },
  {
   "cell_type": "code",
   "execution_count": 2,
   "metadata": {},
   "outputs": [
    {
     "name": "stdout",
     "output_type": "stream",
     "text": [
      "\n",
      "        _________9_______\n",
      "       /                 \\\n",
      "    __14__              __13__\n",
      "   /      \\            /      \\\n",
      "  7        10        _4        8\n",
      " / \\      /  \\      /  \\      / \\\n",
      "6   3    5    12   11   1    2   0\n",
      "\n"
     ]
    }
   ],
   "source": [
    "from binarytree import tree\n",
    "\n",
    "_tree = tree(height=3, is_perfect=True)\n",
    "print(_tree)"
   ]
  },
  {
   "cell_type": "code",
   "execution_count": 3,
   "metadata": {},
   "outputs": [
    {
     "name": "stdout",
     "output_type": "stream",
     "text": [
      "[9, 14, 7, 6, 3, 10, 5, 12, 13, 4, 11, 1, 8, 2, 0]\n"
     ]
    }
   ],
   "source": [
    "def recursivePreorder(root):\n",
    "    res = []\n",
    "    helper(root, res)\n",
    "    return res\n",
    "\n",
    "def helper(root, res):\n",
    "    if not root:\n",
    "        return\n",
    "    \n",
    "    res.append(root.value)\n",
    "    helper(root.left, res)\n",
    "    helper(root.right, res)\n",
    "    \n",
    "print(recursivePreorder(_tree))"
   ]
  },
  {
   "cell_type": "code",
   "execution_count": 4,
   "metadata": {},
   "outputs": [
    {
     "name": "stdout",
     "output_type": "stream",
     "text": [
      "[9, 14, 7, 6, 3, 10, 5, 12, 13, 4, 11, 1, 8, 2, 0]\n"
     ]
    }
   ],
   "source": [
    "def iterativePreorder(root):\n",
    "    if not root:\n",
    "        return []\n",
    "    \n",
    "    stack = [root]\n",
    "    res = []\n",
    "    \n",
    "    while stack:\n",
    "        curr = stack.pop()\n",
    "        res.append(curr.value)\n",
    "        \n",
    "        if curr.right:\n",
    "            stack.append(curr.right)\n",
    "        if curr.left:\n",
    "            stack.append(curr.left)\n",
    "\n",
    "            \n",
    "    return res\n",
    "\n",
    "print(iterativePreorder(_tree))"
   ]
  },
  {
   "cell_type": "code",
   "execution_count": null,
   "metadata": {},
   "outputs": [],
   "source": []
  }
 ],
 "metadata": {
  "kernelspec": {
   "display_name": "Python 3",
   "language": "python",
   "name": "python3"
  },
  "language_info": {
   "codemirror_mode": {
    "name": "ipython",
    "version": 3
   },
   "file_extension": ".py",
   "mimetype": "text/x-python",
   "name": "python",
   "nbconvert_exporter": "python",
   "pygments_lexer": "ipython3",
   "version": "3.7.7"
  }
 },
 "nbformat": 4,
 "nbformat_minor": 2
}
