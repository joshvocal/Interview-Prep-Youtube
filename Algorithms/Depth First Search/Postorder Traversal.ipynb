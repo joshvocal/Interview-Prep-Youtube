{
 "cells": [
  {
   "cell_type": "markdown",
   "metadata": {},
   "source": [
    "# Postorder Traversal"
   ]
  },
  {
   "cell_type": "code",
   "execution_count": 1,
   "metadata": {},
   "outputs": [
    {
     "name": "stdout",
     "output_type": "stream",
     "text": [
      "\n",
      "         ________3________\n",
      "        /                 \\\n",
      "     __13___            ___6__\n",
      "    /       \\          /      \\\n",
      "  _2        _8       _14       0\n",
      " /  \\      /  \\     /   \\     / \\\n",
      "10   5    12   7   11    1   9   4\n",
      "\n"
     ]
    }
   ],
   "source": [
    "from binarytree import tree\n",
    "\n",
    "_tree = tree(height=3, is_perfect=True)\n",
    "print(_tree)"
   ]
  },
  {
   "cell_type": "code",
   "execution_count": 2,
   "metadata": {},
   "outputs": [
    {
     "name": "stdout",
     "output_type": "stream",
     "text": [
      "[10, 5, 2, 12, 7, 8, 13, 11, 1, 14, 9, 4, 0, 6, 3]\n"
     ]
    }
   ],
   "source": [
    "def recursivePostorder(root):\n",
    "    res = []\n",
    "    helper(root, res)\n",
    "    return res\n",
    "\n",
    "def helper(root, res):\n",
    "    if not root:\n",
    "        return\n",
    "    \n",
    "    helper(root.left, res)\n",
    "    helper(root.right, res)\n",
    "    res.append(root.value)\n",
    "    \n",
    "print(recursivePostorder(_tree))"
   ]
  },
  {
   "cell_type": "code",
   "execution_count": 4,
   "metadata": {},
   "outputs": [
    {
     "name": "stdout",
     "output_type": "stream",
     "text": [
      "[10, 5, 2, 12, 7, 8, 13, 11, 1, 14, 9, 4, 0, 6, 3]\n"
     ]
    }
   ],
   "source": [
    "def iterativePostorder(root):\n",
    "    if not root:\n",
    "        return []\n",
    "    \n",
    "    s1 = [root]\n",
    "    s2 = []\n",
    "    res = []\n",
    "    \n",
    "    while s1:\n",
    "        root = s1.pop()\n",
    "        s2.append(root.value)\n",
    "        \n",
    "        if root.left:\n",
    "            s1.append(root.left)\n",
    "        if root.right:\n",
    "            s1.append(root.right)\n",
    "            \n",
    "            \n",
    "    while s2:\n",
    "        res.append(s2.pop())\n",
    "        \n",
    "    return res\n",
    "\n",
    "print(iterativePostorder(_tree))"
   ]
  },
  {
   "cell_type": "code",
   "execution_count": null,
   "metadata": {},
   "outputs": [],
   "source": []
  }
 ],
 "metadata": {
  "kernelspec": {
   "display_name": "Python 3",
   "language": "python",
   "name": "python3"
  },
  "language_info": {
   "codemirror_mode": {
    "name": "ipython",
    "version": 3
   },
   "file_extension": ".py",
   "mimetype": "text/x-python",
   "name": "python",
   "nbconvert_exporter": "python",
   "pygments_lexer": "ipython3",
   "version": "3.7.7"
  }
 },
 "nbformat": 4,
 "nbformat_minor": 2
}
