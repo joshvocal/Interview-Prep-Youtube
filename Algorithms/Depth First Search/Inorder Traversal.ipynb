{
 "cells": [
  {
   "cell_type": "markdown",
   "metadata": {},
   "source": [
    "# Inorder Traversal"
   ]
  },
  {
   "cell_type": "code",
   "execution_count": 15,
   "metadata": {},
   "outputs": [
    {
     "name": "stdout",
     "output_type": "stream",
     "text": [
      "\n",
      "         ______10_______\n",
      "        /               \\\n",
      "    ___2__            ___11___\n",
      "   /      \\          /        \\\n",
      "  12       4        13        _8\n",
      " /  \\     / \\      /  \\      /  \\\n",
      "9    0   7   3    6    1    14   5\n",
      "\n"
     ]
    }
   ],
   "source": [
    "from binarytree import tree\n",
    "\n",
    "_tree = tree(height=3, is_perfect=True)\n",
    "print(_tree)"
   ]
  },
  {
   "cell_type": "code",
   "execution_count": 16,
   "metadata": {},
   "outputs": [
    {
     "name": "stdout",
     "output_type": "stream",
     "text": [
      "[9, 12, 0, 2, 7, 4, 3, 10, 6, 13, 1, 11, 14, 8, 5]\n"
     ]
    }
   ],
   "source": [
    "def recursiveInorder(root):\n",
    "    res = []\n",
    "    helper(root, res)\n",
    "    return res\n",
    "\n",
    "def helper(node, res):\n",
    "    if not node:\n",
    "        return\n",
    "    \n",
    "    helper(node.left, res)\n",
    "    res.append(node.value)\n",
    "    helper(node.right, res)\n",
    "    \n",
    "    return res\n",
    "    \n",
    "\n",
    "print(recursiveInorder(_tree))"
   ]
  },
  {
   "cell_type": "code",
   "execution_count": 17,
   "metadata": {},
   "outputs": [
    {
     "name": "stdout",
     "output_type": "stream",
     "text": [
      "[9, 12, 0, 2, 7, 4, 3, 10, 6, 13, 1, 11, 14, 8, 5]\n"
     ]
    }
   ],
   "source": [
    "def iterativeInorder(root):\n",
    "    stack = []\n",
    "    res = []\n",
    "    \n",
    "    while stack or root:\n",
    "        while root:\n",
    "            stack.append(root)\n",
    "            root = root.left\n",
    "            \n",
    "        root = stack.pop()\n",
    "        res.append(root.value)\n",
    "        root = root.right\n",
    "        \n",
    "    return res\n",
    "\n",
    "print(iterativeInorder(_tree))"
   ]
  },
  {
   "cell_type": "code",
   "execution_count": null,
   "metadata": {},
   "outputs": [],
   "source": []
  }
 ],
 "metadata": {
  "kernelspec": {
   "display_name": "Python 3",
   "language": "python",
   "name": "python3"
  },
  "language_info": {
   "codemirror_mode": {
    "name": "ipython",
    "version": 3
   },
   "file_extension": ".py",
   "mimetype": "text/x-python",
   "name": "python",
   "nbconvert_exporter": "python",
   "pygments_lexer": "ipython3",
   "version": "3.7.7"
  }
 },
 "nbformat": 4,
 "nbformat_minor": 2
}
