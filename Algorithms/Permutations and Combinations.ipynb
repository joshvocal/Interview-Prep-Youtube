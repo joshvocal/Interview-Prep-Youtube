{
 "cells": [
  {
   "cell_type": "markdown",
   "metadata": {},
   "source": [
    "# Permutations and Combinations"
   ]
  },
  {
   "cell_type": "code",
   "execution_count": 1,
   "metadata": {},
   "outputs": [],
   "source": [
    "arr = [1,2,3]"
   ]
  },
  {
   "cell_type": "markdown",
   "metadata": {},
   "source": [
    "## Permutations with Repetition"
   ]
  },
  {
   "cell_type": "code",
   "execution_count": 3,
   "metadata": {},
   "outputs": [],
   "source": [
    "# Permutation with Repetition\n",
    "class Solution:\n",
    "    def permute(self, arr, k):\n",
    "        res = []\n",
    "        self.backtrack(arr, res, [], k)\n",
    "        return res\n",
    "\n",
    "    def backtrack(self, arr, res, temp, k):\n",
    "        if len(temp) == k:\n",
    "            res.append(list(temp))\n",
    "            return\n",
    "\n",
    "        for i in range(len(arr)):\n",
    "            temp.append(arr[i])\n",
    "            self.backtrack(arr, res, temp, k)\n",
    "            temp.pop()"
   ]
  },
  {
   "cell_type": "code",
   "execution_count": 4,
   "metadata": {},
   "outputs": [
    {
     "data": {
      "text/plain": [
       "[[1, 1, 1],\n",
       " [1, 1, 2],\n",
       " [1, 1, 3],\n",
       " [1, 2, 1],\n",
       " [1, 2, 2],\n",
       " [1, 2, 3],\n",
       " [1, 3, 1],\n",
       " [1, 3, 2],\n",
       " [1, 3, 3],\n",
       " [2, 1, 1],\n",
       " [2, 1, 2],\n",
       " [2, 1, 3],\n",
       " [2, 2, 1],\n",
       " [2, 2, 2],\n",
       " [2, 2, 3],\n",
       " [2, 3, 1],\n",
       " [2, 3, 2],\n",
       " [2, 3, 3],\n",
       " [3, 1, 1],\n",
       " [3, 1, 2],\n",
       " [3, 1, 3],\n",
       " [3, 2, 1],\n",
       " [3, 2, 2],\n",
       " [3, 2, 3],\n",
       " [3, 3, 1],\n",
       " [3, 3, 2],\n",
       " [3, 3, 3]]"
      ]
     },
     "execution_count": 4,
     "metadata": {},
     "output_type": "execute_result"
    }
   ],
   "source": [
    "Solution().permute(arr, 3)"
   ]
  },
  {
   "cell_type": "markdown",
   "metadata": {},
   "source": [
    "## Permutations without Repetition"
   ]
  },
  {
   "cell_type": "code",
   "execution_count": 6,
   "metadata": {},
   "outputs": [],
   "source": [
    "class Solution2:\n",
    "    def permute(self, arr, k):\n",
    "        res = []\n",
    "        self.backtrack(arr, res, [], k)\n",
    "        return res\n",
    "\n",
    "    def backtrack(self, arr, res, temp, k):\n",
    "        if len(temp) == k:\n",
    "            res.append(list(temp))\n",
    "            return\n",
    "\n",
    "        for i in range(len(arr)):\n",
    "            if arr[i] not in temp:\n",
    "                temp.append(arr[i])\n",
    "                self.backtrack(arr, res, temp, k)\n",
    "                temp.pop()"
   ]
  },
  {
   "cell_type": "code",
   "execution_count": 7,
   "metadata": {},
   "outputs": [
    {
     "data": {
      "text/plain": [
       "[[1, 2, 3], [1, 3, 2], [2, 1, 3], [2, 3, 1], [3, 1, 2], [3, 2, 1]]"
      ]
     },
     "execution_count": 7,
     "metadata": {},
     "output_type": "execute_result"
    }
   ],
   "source": [
    "Solution2().permute(arr, 3)"
   ]
  },
  {
   "cell_type": "markdown",
   "metadata": {},
   "source": [
    "## Combinations with Repetition"
   ]
  },
  {
   "cell_type": "code",
   "execution_count": 9,
   "metadata": {},
   "outputs": [],
   "source": [
    "class Solution3:\n",
    "    def permute(self, arr, k):\n",
    "        res = []\n",
    "        self.backtrack(arr, res, [], 0, k)\n",
    "        return res\n",
    "\n",
    "    def backtrack(self, arr, res, temp, pos, k):\n",
    "        if len(temp) == k:\n",
    "            res.append(list(temp))\n",
    "            return\n",
    "\n",
    "        for i in range(pos, len(arr)):\n",
    "            temp.append(arr[i])\n",
    "            self.backtrack(arr, res, temp, i, k)\n",
    "            temp.pop()"
   ]
  },
  {
   "cell_type": "code",
   "execution_count": 10,
   "metadata": {},
   "outputs": [
    {
     "data": {
      "text/plain": [
       "[[1, 1, 1],\n",
       " [1, 1, 2],\n",
       " [1, 1, 3],\n",
       " [1, 2, 2],\n",
       " [1, 2, 3],\n",
       " [1, 3, 3],\n",
       " [2, 2, 2],\n",
       " [2, 2, 3],\n",
       " [2, 3, 3],\n",
       " [3, 3, 3]]"
      ]
     },
     "execution_count": 10,
     "metadata": {},
     "output_type": "execute_result"
    }
   ],
   "source": [
    "Solution3().permute(arr, 3)"
   ]
  },
  {
   "cell_type": "markdown",
   "metadata": {},
   "source": [
    "## Combinations without Repetition"
   ]
  },
  {
   "cell_type": "code",
   "execution_count": 11,
   "metadata": {},
   "outputs": [],
   "source": [
    "# Combination without Repetition\n",
    "class Solution5:\n",
    "    def permute(self, arr, k):\n",
    "        res = []\n",
    "        self.backtrack(arr, res, [], 0, k)\n",
    "        return res\n",
    "\n",
    "    def backtrack(self, arr, res, temp, pos, k):\n",
    "        if len(temp) == k:\n",
    "            res.append(list(temp))\n",
    "            return\n",
    "\n",
    "        for i in range(pos, len(arr)):\n",
    "            temp.append(arr[i])\n",
    "            self.backtrack(arr, res, temp, i + 1, k)\n",
    "            temp.pop()"
   ]
  },
  {
   "cell_type": "code",
   "execution_count": 13,
   "metadata": {},
   "outputs": [
    {
     "data": {
      "text/plain": [
       "[[1, 2, 3]]"
      ]
     },
     "execution_count": 13,
     "metadata": {},
     "output_type": "execute_result"
    }
   ],
   "source": [
    "Solution5().permute(arr, 3)"
   ]
  },
  {
   "cell_type": "markdown",
   "metadata": {},
   "source": [
    "## Power Set"
   ]
  },
  {
   "cell_type": "code",
   "execution_count": 15,
   "metadata": {},
   "outputs": [],
   "source": [
    "# Power set\n",
    "class Solution4:\n",
    "    def permute(self, arr):\n",
    "        res = []\n",
    "        self.backtrack(arr, res, [], 0)\n",
    "        return res\n",
    "\n",
    "    def backtrack(self, arr, res, temp, pos):\n",
    "        res.append(list(temp))\n",
    "\n",
    "        for i in range(pos, len(arr)):\n",
    "            temp.append(arr[i])\n",
    "            self.backtrack(arr, res, temp, i + 1)\n",
    "            temp.pop()\n"
   ]
  },
  {
   "cell_type": "code",
   "execution_count": 16,
   "metadata": {},
   "outputs": [
    {
     "data": {
      "text/plain": [
       "[[], [1], [1, 2], [1, 2, 3], [1, 3], [2], [2, 3], [3]]"
      ]
     },
     "execution_count": 16,
     "metadata": {},
     "output_type": "execute_result"
    }
   ],
   "source": [
    "Solution4().permute(arr)"
   ]
  },
  {
   "cell_type": "code",
   "execution_count": null,
   "metadata": {},
   "outputs": [],
   "source": []
  }
 ],
 "metadata": {
  "kernelspec": {
   "display_name": "Python 3",
   "language": "python",
   "name": "python3"
  },
  "language_info": {
   "codemirror_mode": {
    "name": "ipython",
    "version": 3
   },
   "file_extension": ".py",
   "mimetype": "text/x-python",
   "name": "python",
   "nbconvert_exporter": "python",
   "pygments_lexer": "ipython3",
   "version": "3.7.5"
  }
 },
 "nbformat": 4,
 "nbformat_minor": 2
}
