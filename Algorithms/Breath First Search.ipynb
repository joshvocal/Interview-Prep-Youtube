{
 "cells": [
  {
   "cell_type": "code",
   "execution_count": 3,
   "metadata": {},
   "outputs": [],
   "source": [
    "from binarytree import tree"
   ]
  },
  {
   "cell_type": "markdown",
   "metadata": {},
   "source": [
    "# Breath First Search\n",
    "\n",
    "Time: `O(n)`\n",
    "\n",
    "* We need to go through all the nodes in the tree\n",
    "\n",
    "Space: `O(logn)`\n",
    "\n",
    "* In a perfect binary tree, we can hold the most nodes at the bottom of the tree"
   ]
  },
  {
   "cell_type": "code",
   "execution_count": 9,
   "metadata": {},
   "outputs": [
    {
     "data": {
      "text/plain": [
       "[[6],\n",
       " [13, 28],\n",
       " [25, 1, 18, 29],\n",
       " [24, 30, 7, 17, 10, 15, 3, 12],\n",
       " [5, 20, 23, 16, 19, 27, 4, 11, 21, 26, 8, 9, 0, 14, 22, 2]]"
      ]
     },
     "execution_count": 9,
     "metadata": {},
     "output_type": "execute_result"
    }
   ],
   "source": [
    "def bfs(root) -> None:\n",
    "    if not root:\n",
    "        return None\n",
    "    \n",
    "    queue = [root]\n",
    "    res = []\n",
    "    \n",
    "    while queue:\n",
    "        level = []\n",
    "        for _ in range(len(queue)):\n",
    "            curr = queue.pop(0)\n",
    "            \n",
    "            level.append(curr.value)\n",
    "            \n",
    "            if curr.left:\n",
    "                queue.append(curr.left)\n",
    "            if curr.right:\n",
    "                queue.append(curr.right)\n",
    "                \n",
    "        res.append(level)\n",
    "                \n",
    "    return res\n",
    "\n",
    "\n",
    "_tree = tree(height=4, is_perfect=True)\n",
    "bfs(_tree)"
   ]
  },
  {
   "cell_type": "code",
   "execution_count": null,
   "metadata": {},
   "outputs": [],
   "source": []
  }
 ],
 "metadata": {
  "kernelspec": {
   "display_name": "Python 3",
   "language": "python",
   "name": "python3"
  },
  "language_info": {
   "codemirror_mode": {
    "name": "ipython",
    "version": 3
   },
   "file_extension": ".py",
   "mimetype": "text/x-python",
   "name": "python",
   "nbconvert_exporter": "python",
   "pygments_lexer": "ipython3",
   "version": "3.7.7"
  }
 },
 "nbformat": 4,
 "nbformat_minor": 2
}
