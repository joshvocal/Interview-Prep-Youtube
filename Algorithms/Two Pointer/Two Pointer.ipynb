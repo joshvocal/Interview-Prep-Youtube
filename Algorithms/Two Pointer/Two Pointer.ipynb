{
 "cells": [
  {
   "cell_type": "markdown",
   "metadata": {},
   "source": [
    "# Two Pointer\n",
    "\n",
    "Types of Two Pointer problems:\n",
    "1. Opposite Search: Bounding\n",
    "2. Same Direction: Slow-fast pointer and sliding window"
   ]
  },
  {
   "cell_type": "markdown",
   "metadata": {},
   "source": [
    "## Slow-fast pointer\n",
    "\n",
    "### Finding the k-th element\n",
    "\n",
    "Linked List:\n",
    "* Find the middle of a linked list in O(n)\n",
    "* Find the k-th last element in the list\n",
    "\n",
    "Arrays:\n",
    "* Find the k-th last element\n",
    "\n",
    "### Cycle\n",
    "\n",
    "Aka Floyd's Cycle Detection\n",
    "\n",
    "Graphs:\n",
    "* Have two pointers: fast and slow.\n",
    "* Slow advances one at a time\n",
    "* Fast advances two at a time\n",
    "* If they ever meet, there is a cycle in the graph"
   ]
  },
  {
   "cell_type": "code",
   "execution_count": null,
   "metadata": {},
   "outputs": [],
   "source": []
  }
 ],
 "metadata": {
  "kernelspec": {
   "display_name": "Python 3",
   "language": "python",
   "name": "python3"
  },
  "language_info": {
   "codemirror_mode": {
    "name": "ipython",
    "version": 3
   },
   "file_extension": ".py",
   "mimetype": "text/x-python",
   "name": "python",
   "nbconvert_exporter": "python",
   "pygments_lexer": "ipython3",
   "version": "3.7.5"
  }
 },
 "nbformat": 4,
 "nbformat_minor": 2
}
