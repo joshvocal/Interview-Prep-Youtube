{
 "cells": [
  {
   "cell_type": "markdown",
   "metadata": {},
   "source": [
    "# Sliding Window\n",
    "\n",
    "In the sliding window problem we should look for certain things about the problem statement:\n",
    "\n",
    "* These are array problems where the solution needs to be `contiguous`\n",
    "\n",
    "```python\n",
    "def slidingWindow(nums, target):\n",
    "    min_size = float('inf')\n",
    "    startWindowIndex = 0\n",
    "    current_size = 0\n",
    "    n = len(nums)\n",
    "    \n",
    "    for endWindowIndex in range(n):\n",
    "        current_size += nums[endWindowIndex]\n",
    "        \n",
    "        ```\n",
    "        while \"some condition\":\n",
    "            \"Remove some value from the sliding window\"\n",
    "            startWindowIndex += 1\n",
    "        ```\n",
    "        \n",
    "    return min_size\n",
    "```\n",
    "\n",
    "In solving these problems, always think about the condition:\n",
    "\n",
    "**When should I slide my window up?**\n",
    "\n",
    "* Current window is greater than the target sum? Slide the window up!\n",
    "*"
   ]
  },
  {
   "cell_type": "markdown",
   "metadata": {},
   "source": [
    "# Types\n",
    "\n",
    "1. Fixed Length Window\n",
    "\n",
    "    * Max Sum Subarray of Size k\n",
    "\n",
    "2. Dynamic Window Length\n",
    "\n",
    "3. Dynamic Window w/ Data Structure\n",
    "\n",
    "4. String Permutation"
   ]
  },
  {
   "cell_type": "markdown",
   "metadata": {},
   "source": [
    "# Fixed Length"
   ]
  },
  {
   "cell_type": "code",
   "execution_count": 10,
   "metadata": {},
   "outputs": [],
   "source": [
    "class Solution:\n",
    "    def findMaxAverage(self, nums, k: int):\n",
    "        m = -float('inf')\n",
    "        c = 0\n",
    "        n = len(nums)\n",
    "        \n",
    "        for i in range(n):\n",
    "            # Build up the window size of length k\n",
    "            c += nums[i]\n",
    "            if i >= k - 1:\n",
    "                m = max(m, c / k)\n",
    "                # Remove the tail of the window\n",
    "                c -= nums[i - (k - 1)]\n",
    "        return m        "
   ]
  },
  {
   "cell_type": "code",
   "execution_count": 11,
   "metadata": {},
   "outputs": [
    {
     "data": {
      "text/plain": [
       "12.75"
      ]
     },
     "execution_count": 11,
     "metadata": {},
     "output_type": "execute_result"
    }
   ],
   "source": [
    "nums = [1,12,-5,-6,50,3]\n",
    "k = 4\n",
    "\n",
    "Solution().findMaxAverage(nums, 4)"
   ]
  },
  {
   "cell_type": "code",
   "execution_count": null,
   "metadata": {},
   "outputs": [],
   "source": []
  },
  {
   "cell_type": "code",
   "execution_count": null,
   "metadata": {},
   "outputs": [],
   "source": []
  }
 ],
 "metadata": {
  "kernelspec": {
   "display_name": "Python 3",
   "language": "python",
   "name": "python3"
  },
  "language_info": {
   "codemirror_mode": {
    "name": "ipython",
    "version": 3
   },
   "file_extension": ".py",
   "mimetype": "text/x-python",
   "name": "python",
   "nbconvert_exporter": "python",
   "pygments_lexer": "ipython3",
   "version": "3.7.5"
  }
 },
 "nbformat": 4,
 "nbformat_minor": 2
}
