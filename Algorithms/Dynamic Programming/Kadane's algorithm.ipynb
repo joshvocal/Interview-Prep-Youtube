{
 "cells": [
  {
   "cell_type": "markdown",
   "metadata": {},
   "source": [
    "# Kadane's algorithm\n",
    "\n",
    "Problems:\n",
    "\n",
    "* [53. Maximum Subarray](#53.-Maximum-Subarray)\n",
    "\n",
    "`Recurrance` = `dp[i] = max(0, dp[i - 1]) + nums[i]`\n",
    "\n",
    "* The best we can do at `dp[i]` is continue on from the previous subarray or start a new subarray from the current value.\n",
    "* The DP table will store the maximum subarray at `dp[i]`\n",
    "\n",
    "**Solution 1: DP w/o No Space**\n",
    "\n",
    "Time: `O(n)`\n",
    "\n",
    "Space: `O(1)`\n",
    "\n",
    "**Solution 2: DP w/ Space**\n",
    "\n",
    "Time: `O(n)`\n",
    "\n",
    "Space: `O(n)`"
   ]
  },
  {
   "cell_type": "code",
   "execution_count": 1,
   "metadata": {},
   "outputs": [
    {
     "data": {
      "text/plain": [
       "6"
      ]
     },
     "execution_count": 1,
     "metadata": {},
     "output_type": "execute_result"
    }
   ],
   "source": [
    "def kadane(nums):\n",
    "    current_sum = 0\n",
    "    max_sum = 0\n",
    "    \n",
    "    for num in nums:\n",
    "        current_sum = max(0, current_sum + num)\n",
    "        max_sum = max(max_sum, current_sum)\n",
    "        \n",
    "    return max_sum\n",
    "\n",
    "nums = [-2,1,-3,4,-1,2,1,-5,4] # Max = 6\n",
    "kadane(nums)"
   ]
  },
  {
   "cell_type": "code",
   "execution_count": 3,
   "metadata": {},
   "outputs": [
    {
     "name": "stdout",
     "output_type": "stream",
     "text": [
      "[-2, 1, -2, 4, 3, 5, 6, 1, 5]\n"
     ]
    },
    {
     "data": {
      "text/plain": [
       "6"
      ]
     },
     "execution_count": 3,
     "metadata": {},
     "output_type": "execute_result"
    }
   ],
   "source": [
    "def kadaneSpace(nums):\n",
    "    n = len(nums)\n",
    "    dp = [0] * n\n",
    "    dp[0] = nums[0]\n",
    "    max_sum = nums[0]\n",
    "    \n",
    "    for i in range(1, n):\n",
    "        dp[i] = max(dp[i - 1], 0) + nums[i]\n",
    "        max_sum = max(max_sum, dp[i])\n",
    "        \n",
    "    print(dp)\n",
    "    \n",
    "    return max_sum\n",
    "\n",
    "nums = [-2,1,-3,4,-1,2,1,-5,4] # Max = 6\n",
    "kadaneSpace(nums)"
   ]
  },
  {
   "cell_type": "code",
   "execution_count": null,
   "metadata": {},
   "outputs": [],
   "source": []
  }
 ],
 "metadata": {
  "kernelspec": {
   "display_name": "Python 3",
   "language": "python",
   "name": "python3"
  },
  "language_info": {
   "codemirror_mode": {
    "name": "ipython",
    "version": 3
   },
   "file_extension": ".py",
   "mimetype": "text/x-python",
   "name": "python",
   "nbconvert_exporter": "python",
   "pygments_lexer": "ipython3",
   "version": "3.7.7"
  }
 },
 "nbformat": 4,
 "nbformat_minor": 2
}
