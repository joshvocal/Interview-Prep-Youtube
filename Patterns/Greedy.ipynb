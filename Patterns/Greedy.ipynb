{
 "cells": [
  {
   "cell_type": "markdown",
   "metadata": {},
   "source": [
    "# Greedy\n",
    "\n",
    "* [1167. Minimum Cost to Connect Sticks](#1167.-Minimum-Cost-to-Connect-Sticks)"
   ]
  },
  {
   "cell_type": "markdown",
   "metadata": {},
   "source": [
    "# 1167. Minimum Cost to Connect Sticks\n",
    "\n",
    "**Solution 1: Sorting**\n",
    "\n",
    "Time: O(nlogn)\n",
    "\n",
    "Space: O(n)\n",
    "\n",
    "Idea:\n",
    "\n",
    "* Sort the array and keep adding the smallest sticks together\n",
    "* After you add the shortest sticks together, you need to re-sort the array\n",
    "\n",
    "**Solution 2: Heap**\n",
    "\n",
    "Idea:\n",
    "\n",
    "* Use a heap to maintain a sorted array\n",
    "* Pop the min heap to get the shortest sticks, combine them into new sticks and re-insert into the heap again."
   ]
  },
  {
   "cell_type": "code",
   "execution_count": 5,
   "metadata": {},
   "outputs": [
    {
     "data": {
      "text/plain": [
       "14"
      ]
     },
     "execution_count": 5,
     "metadata": {},
     "output_type": "execute_result"
    }
   ],
   "source": [
    "class Solution1:\n",
    "    def connectSticks(self, sticks):\n",
    "        sticks.sort()\n",
    "        res = 0\n",
    "        \n",
    "        while len(sticks) > 1:\n",
    "            min1 = sticks.pop(0)\n",
    "            min2 = sticks.pop(0)\n",
    "            \n",
    "            res += min1 + min2\n",
    "            \n",
    "            sticks.insert(0, min1 + min2)\n",
    "            sticks.sort()\n",
    "            \n",
    "        return res\n",
    "            \n",
    "s1 = Solution1()\n",
    "s1.connectSticks([2,4,3])"
   ]
  },
  {
   "cell_type": "code",
   "execution_count": 7,
   "metadata": {},
   "outputs": [
    {
     "data": {
      "text/plain": [
       "14"
      ]
     },
     "execution_count": 7,
     "metadata": {},
     "output_type": "execute_result"
    }
   ],
   "source": [
    "from heapq import *\n",
    "\n",
    "class Solution2:\n",
    "    def connectSticks(self, sticks):\n",
    "        heapify(sticks)\n",
    "        res = 0\n",
    "        \n",
    "        while len(sticks) > 1:\n",
    "            min1 = heappop(sticks)\n",
    "            min2 = heappop(sticks)\n",
    "            \n",
    "            res += min1 + min2\n",
    "            \n",
    "            heappush(sticks, min1 + min2)\n",
    "            \n",
    "        return res\n",
    "    \n",
    "s2 = Solution2()\n",
    "s2.connectSticks([2,4,3])"
   ]
  },
  {
   "cell_type": "code",
   "execution_count": null,
   "metadata": {},
   "outputs": [],
   "source": []
  }
 ],
 "metadata": {
  "kernelspec": {
   "display_name": "Python 3",
   "language": "python",
   "name": "python3"
  },
  "language_info": {
   "codemirror_mode": {
    "name": "ipython",
    "version": 3
   },
   "file_extension": ".py",
   "mimetype": "text/x-python",
   "name": "python",
   "nbconvert_exporter": "python",
   "pygments_lexer": "ipython3",
   "version": "3.7.7"
  }
 },
 "nbformat": 4,
 "nbformat_minor": 2
}
