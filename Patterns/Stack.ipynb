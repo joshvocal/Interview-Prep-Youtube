{
 "cells": [
  {
   "cell_type": "markdown",
   "metadata": {},
   "source": [
    "# Stack"
   ]
  },
  {
   "cell_type": "markdown",
   "metadata": {},
   "source": [
    "* [402. Remove K Digits](#402.-Remove-K-Digits)\n",
    "* [901. Online Stock Span](#901.-Online-Stock-Span)"
   ]
  },
  {
   "cell_type": "markdown",
   "metadata": {},
   "source": [
    "# 402. Remove K Digits"
   ]
  },
  {
   "cell_type": "markdown",
   "metadata": {},
   "source": [
    "**Solution 1: Stack**\n",
    "    \n",
    "Time: `O(n)`\n",
    "\n",
    "Space: `O(n)`\n",
    "\n",
    "Idea:\n",
    "\n",
    "* Use a stack to pop the previous numbers in the stack that we are building up.\n",
    "* If `k > 0` and `stack` and the top of the stack is greater than the current element, pop the stack. This is because can build a smaller number by popping\n",
    "* If we can't remove any other numbers because `k == 0`, just append to the stack.\n",
    "\n",
    "Edge Case: All the same numbers `1111`\n",
    "\n",
    "* If all the numbers are the same, keep popping until we have `k` numbers removed\n",
    "* If all the same, we fail to satisfy the condition in the original `idea`\n",
    "\n",
    "Edge Case: `len(nums) == k`\n",
    "\n",
    "* If can remove `k` numbers and there are `k` numbers in the array, we can just return 0 because we can remove all numbers to create the smallest number"
   ]
  },
  {
   "cell_type": "code",
   "execution_count": 7,
   "metadata": {},
   "outputs": [
    {
     "data": {
      "text/plain": [
       "'1219'"
      ]
     },
     "execution_count": 7,
     "metadata": {},
     "output_type": "execute_result"
    }
   ],
   "source": [
    "class Solution1:\n",
    "    def removeKdigits(self, num: str, k: int) -> str:\n",
    "        n = len(num)\n",
    "        if n == k:\n",
    "            return '0'\n",
    "        \n",
    "        stack = []\n",
    "        \n",
    "        i = 0\n",
    "        while i < n:\n",
    "            if k and stack and stack[-1] > int(num[i]):\n",
    "                stack.pop()\n",
    "                k -= 1\n",
    "                \n",
    "            stack.append(int(num[i]))\n",
    "            i += 1\n",
    "                        \n",
    "        # Edge Case\n",
    "        while stack and k:\n",
    "            stack.pop()\n",
    "            k -= 1\n",
    "            \n",
    "        # Case Leading 0's\n",
    "        while stack and stack[0] == 0:\n",
    "            stack.pop(0)\n",
    "            \n",
    "        res = \"\"\n",
    "        for s in stack:\n",
    "            res += str(s)\n",
    "            \n",
    "        return \"0\" if not res else res\n",
    "    \n",
    "s1 = Solution1()\n",
    "num = \"1432219\"\n",
    "k = 3\n",
    "s1.removeKdigits(num, k)"
   ]
  },
  {
   "cell_type": "markdown",
   "metadata": {},
   "source": [
    "# 901. Online Stock Span\n",
    "\n",
    "**Solution 1: Two Stacks**\n",
    "\n",
    "Time: `O(n)`\n",
    "\n",
    "Space: `O(n)`\n",
    "\n",
    "Idea:\n",
    "\n",
    "* Use two stacks. One stack as the main stack to store all the numbers. Another stack to temporary pop out the most recent numbers to check for the consecutive days.\n",
    "* After popping from the main stack to the temp stack, pop from the temp stack back to the main stack to restore the order.\n",
    "\n",
    "**Solution 2: One Stack**\n",
    "\n",
    "Time: `O(n)`\n",
    "\n",
    "Space: `O(n)`\n",
    "\n",
    "Idea:\n",
    "\n",
    "* Use one stack, but store a tuple in the stack. `(price, days)` where days is the number of days where the stack price if lower the the last stock price. This saves us from going back and checking all the previous consecutive prices. Instead they are bundled into this value."
   ]
  },
  {
   "cell_type": "code",
   "execution_count": 1,
   "metadata": {},
   "outputs": [],
   "source": [
    "class StockSpanner:\n",
    "\n",
    "    def __init__(self):\n",
    "        self.stack = []\n",
    "        \n",
    "\n",
    "    def next(self, price: int) -> int:\n",
    "        temp = []\n",
    "        count = 1\n",
    "        c = 1\n",
    "        a = True\n",
    "        \n",
    "        # print('start')\n",
    "        \n",
    "        while self.stack:\n",
    "            top = self.stack.pop()\n",
    "            if price >= top:\n",
    "                c += 1\n",
    "            else:    \n",
    "                c = 0\n",
    "                a = False\n",
    "                temp.append(top)\n",
    "                break\n",
    "                \n",
    "            # print(f\"price: {price} top: {top} c: {c}, stack: {self.stack}\")\n",
    "            \n",
    "            if a:\n",
    "                count = max(count, c)\n",
    "                \n",
    "            temp.append(top)\n",
    "            \n",
    "        # print(\"max: \", count)\n",
    "            \n",
    "        while temp:\n",
    "            self.stack.append(temp.pop())\n",
    "            \n",
    "        self.stack.append(price)\n",
    "            \n",
    "        return count"
   ]
  },
  {
   "cell_type": "code",
   "execution_count": 2,
   "metadata": {},
   "outputs": [],
   "source": [
    "class StockSpanner:\n",
    "\n",
    "    def __init__(self):\n",
    "        self.stack = []\n",
    "        \n",
    "\n",
    "    def next(self, price: int) -> int:\n",
    "        days = 1\n",
    "        \n",
    "        while self.stack and self.stack[-1][0] <= price:\n",
    "            p, d = self.stack.pop()\n",
    "            days += d\n",
    "        \n",
    "        self.stack.append([price, days])\n",
    "        \n",
    "        return days\n",
    "        "
   ]
  },
  {
   "cell_type": "code",
   "execution_count": null,
   "metadata": {},
   "outputs": [],
   "source": []
  }
 ],
 "metadata": {
  "kernelspec": {
   "display_name": "Python 3",
   "language": "python",
   "name": "python3"
  },
  "language_info": {
   "codemirror_mode": {
    "name": "ipython",
    "version": 3
   },
   "file_extension": ".py",
   "mimetype": "text/x-python",
   "name": "python",
   "nbconvert_exporter": "python",
   "pygments_lexer": "ipython3",
   "version": "3.7.7"
  }
 },
 "nbformat": 4,
 "nbformat_minor": 2
}
