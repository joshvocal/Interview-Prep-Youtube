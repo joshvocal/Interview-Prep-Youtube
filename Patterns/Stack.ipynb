{
 "cells": [
  {
   "cell_type": "markdown",
   "metadata": {},
   "source": [
    "# Stack"
   ]
  },
  {
   "cell_type": "markdown",
   "metadata": {},
   "source": [
    "# Stack"
   ]
  },
  {
   "cell_type": "markdown",
   "metadata": {},
   "source": [
    "* [402. Remove K Digits](#402.-Remove-K-Digits)"
   ]
  },
  {
   "cell_type": "markdown",
   "metadata": {},
   "source": [
    "# 402. Remove K Digits"
   ]
  },
  {
   "cell_type": "markdown",
   "metadata": {},
   "source": [
    "**Solution 1: Stack**\n",
    "    \n",
    "Time: `O(n)`\n",
    "\n",
    "Space: `O(n)`\n",
    "\n",
    "Idea:\n",
    "\n",
    "* Use a stack to pop the previous numbers in the stack that we are building up.\n",
    "* If `k > 0` and `stack` and the top of the stack is greater than the current element, pop the stack. This is because can build a smaller number by popping\n",
    "* If we can't remove any other numbers because `k == 0`, just append to the stack.\n",
    "\n",
    "Edge Case: All the same numbers `1111`\n",
    "\n",
    "* If all the numbers are the same, keep popping until we have `k` numbers removed\n",
    "* If all the same, we fail to satisfy the condition in the original `idea`\n",
    "\n",
    "Edge Case: `len(nums) == k`\n",
    "\n",
    "* If can remove `k` numbers and there are `k` numbers in the array, we can just return 0 because we can remove all numbers to create the smallest number"
   ]
  },
  {
   "cell_type": "code",
   "execution_count": 7,
   "metadata": {},
   "outputs": [
    {
     "data": {
      "text/plain": [
       "'1219'"
      ]
     },
     "execution_count": 7,
     "metadata": {},
     "output_type": "execute_result"
    }
   ],
   "source": [
    "class Solution1:\n",
    "    def removeKdigits(self, num: str, k: int) -> str:\n",
    "        n = len(num)\n",
    "        if n == k:\n",
    "            return '0'\n",
    "        \n",
    "        stack = []\n",
    "        \n",
    "        i = 0\n",
    "        while i < n:\n",
    "            if k and stack and stack[-1] > int(num[i]):\n",
    "                stack.pop()\n",
    "                k -= 1\n",
    "                \n",
    "            stack.append(int(num[i]))\n",
    "            i += 1\n",
    "                        \n",
    "        # Edge Case\n",
    "        while stack and k:\n",
    "            stack.pop()\n",
    "            k -= 1\n",
    "            \n",
    "        # Case Leading 0's\n",
    "        while stack and stack[0] == 0:\n",
    "            stack.pop(0)\n",
    "            \n",
    "        res = \"\"\n",
    "        for s in stack:\n",
    "            res += str(s)\n",
    "            \n",
    "        return \"0\" if not res else res\n",
    "    \n",
    "s1 = Solution1()\n",
    "num = \"1432219\"\n",
    "k = 3\n",
    "s1.removeKdigits(num, k)"
   ]
  },
  {
   "cell_type": "code",
   "execution_count": null,
   "metadata": {},
   "outputs": [],
   "source": []
  }
 ],
 "metadata": {
  "kernelspec": {
   "display_name": "Python 3",
   "language": "python",
   "name": "python3"
  },
  "language_info": {
   "codemirror_mode": {
    "name": "ipython",
    "version": 3
   },
   "file_extension": ".py",
   "mimetype": "text/x-python",
   "name": "python",
   "nbconvert_exporter": "python",
   "pygments_lexer": "ipython3",
   "version": "3.7.7"
  }
 },
 "nbformat": 4,
 "nbformat_minor": 2
}
