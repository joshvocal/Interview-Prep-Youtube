{
 "cells": [
  {
   "cell_type": "markdown",
   "metadata": {},
   "source": [
    "# Bit"
   ]
  },
  {
   "cell_type": "markdown",
   "metadata": {},
   "source": [
    "* [476. Number Complement](#476.-Number-Complement)\n",
    "\n",
    "* [1342. Number of Steps to Reduce a Number to Zero](#1342.-Number-of-Steps-to-Reduce-a-Number-to-Zero)"
   ]
  },
  {
   "cell_type": "markdown",
   "metadata": {},
   "source": [
    "# 476. Number Complement"
   ]
  },
  {
   "cell_type": "code",
   "execution_count": 3,
   "metadata": {},
   "outputs": [],
   "source": [
    "class Solution:\n",
    "    def findComplement(self, num: int) -> int:\n",
    "        binary = self.dec2bin(num)\n",
    "        comp = \"\"\n",
    "        for b in binary:\n",
    "            comp += \"1\" if b == \"0\" else \"0\"\n",
    "        return self.bin2dec(int(comp))\n",
    "        \n",
    "            \n",
    "        \n",
    "    def dec2bin(self, num):\n",
    "        res = \"\"\n",
    "        \n",
    "        while num:\n",
    "            r = num % 2\n",
    "            num //= 2\n",
    "            res = str(r) + res\n",
    "            \n",
    "        return res\n",
    "    \n",
    "    def bin2dec(self, num):\n",
    "        dec = 0\n",
    "        base = 1\n",
    "        \n",
    "        while num:\n",
    "            digit = num % 10\n",
    "            num //= 10\n",
    "            dec += digit * base\n",
    "            \n",
    "            base = base * 2\n",
    "            \n",
    "        return dec\n"
   ]
  },
  {
   "cell_type": "markdown",
   "metadata": {},
   "source": [
    "# 1342. Number of Steps to Reduce a Number to Zero"
   ]
  },
  {
   "cell_type": "markdown",
   "metadata": {},
   "source": [
    "**Solution 1: Division**\n",
    "\n",
    "Time: `O(n)`\n",
    "\n",
    "Space: `O(1)`\n",
    "\n",
    "Idea:\n",
    "\n",
    "* Divide by 2 if the number is even\n",
    "* Subtract by 1 if the number is odd\n",
    "* Return the number of steps that took"
   ]
  },
  {
   "cell_type": "code",
   "execution_count": null,
   "metadata": {},
   "outputs": [],
   "source": [
    "class Solution:\n",
    "    def numberOfSteps (self, num: int) -> int:\n",
    "        steps = 0\n",
    "        \n",
    "        if num == 0:\n",
    "            return 0\n",
    "        \n",
    "        while num:\n",
    "            if num % 2 == 0:\n",
    "                num //= 2\n",
    "            else:    \n",
    "                num -= 1\n",
    "                \n",
    "            steps += 1\n",
    "            \n",
    "        return steps\n",
    "        "
   ]
  }
 ],
 "metadata": {
  "kernelspec": {
   "display_name": "Python 3",
   "language": "python",
   "name": "python3"
  },
  "language_info": {
   "codemirror_mode": {
    "name": "ipython",
    "version": 3
   },
   "file_extension": ".py",
   "mimetype": "text/x-python",
   "name": "python",
   "nbconvert_exporter": "python",
   "pygments_lexer": "ipython3",
   "version": "3.7.7"
  }
 },
 "nbformat": 4,
 "nbformat_minor": 2
}
