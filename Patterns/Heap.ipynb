{
 "cells": [
  {
   "cell_type": "markdown",
   "metadata": {},
   "source": [
    "# Heap\n",
    "\n",
    "* [23. Merge k Sorted Lists](#23.-Merge-k-Sorted-Lists)\n",
    "* [215. Kth Largest Element in an Array](#215.-Kth-Largest-Element-in-an-Array) ⭐️\n",
    "* [347. Top K Frequent Elements](#347.-Top-K-Frequent-Elements)\n",
    "* [373. Find K Pairs with Smallest Sums](#373.-Find-K-Pairs-with-Smallest-Sums)\n",
    "* [378. Kth Smallest Element in a Sorted Matrix](#378.-Kth-Smallest-Element-in-a-Sorted-Matrix)\n",
    "* [451. Sort Characters By Frequency](#451.-Sort-Characters-By-Frequency)\n",
    "* [692. Top K Frequent Words](#692.-Top-K-Frequent-Words)\n",
    "* [767. Reorganize String](#767.-Reorganize-String)\n",
    "* [973. K Closest Points to Origin](#973.-K-Closest-Points-to-Origin)\n",
    "* [1046. Last Stone Weight](#1046.-Last-Stone-Weight)\n",
    "* [1054. Distant Barcodes](#1054.-Distant-Barcodes)"
   ]
  },
  {
   "cell_type": "markdown",
   "metadata": {},
   "source": [
    "# 23. Merge k Sorted Lists\n",
    "\n",
    "Idea:\n",
    "\n",
    "* ⭐️Use a min-heap to keep track of all the nodes in the list of linked lists\n",
    "* Build the new linked lists by popping from the min heap"
   ]
  },
  {
   "cell_type": "code",
   "execution_count": 1,
   "metadata": {},
   "outputs": [],
   "source": [
    "class ListNode:\n",
    "    def __init__(self, x):\n",
    "        self.val = x\n",
    "        self.next = None\n",
    "\n",
    "from heapq import *        \n",
    "        \n",
    "class Solution:\n",
    "    def mergeKLists(self, lists) -> ListNode:\n",
    "        heap = []\n",
    "        \n",
    "        if not lists or not len(lists):\n",
    "            return None\n",
    "        \n",
    "        # Get all the nodes from the list of linkedlists into a max heap\n",
    "        for head in lists:\n",
    "            while head:\n",
    "                heappush(heap, head.val)\n",
    "                head = head.next\n",
    "        \n",
    "        if not heap:\n",
    "            return None\n",
    "        \n",
    "        # Build the new linked list\n",
    "        head = ListNode(heappop(heap))\n",
    "        curr = head\n",
    "        while heap:\n",
    "            n = heappop(heap)\n",
    "            curr.next = ListNode(n)\n",
    "            curr = curr.next\n",
    "            \n",
    "        return head"
   ]
  },
  {
   "cell_type": "markdown",
   "metadata": {},
   "source": [
    "# 215. Kth Largest Element in an Array\n",
    "\n",
    "Idea:\n",
    "\n",
    "* Use a min-heap which will sort the array\n",
    "* Keep popping until we have k elements left in the array\n",
    "* This element will be the k-th largest element in the array"
   ]
  },
  {
   "cell_type": "code",
   "execution_count": 2,
   "metadata": {},
   "outputs": [],
   "source": [
    "from heapq import *\n",
    "\n",
    "class Solution:\n",
    "    def findKthLargest(self, nums, k: int) -> int:\n",
    "        heapify(nums)\n",
    "        \n",
    "        while len(nums) > k:\n",
    "            heappop(nums)\n",
    "            \n",
    "        return heappop(nums)"
   ]
  },
  {
   "cell_type": "code",
   "execution_count": 3,
   "metadata": {},
   "outputs": [
    {
     "data": {
      "text/plain": [
       "5"
      ]
     },
     "execution_count": 3,
     "metadata": {},
     "output_type": "execute_result"
    }
   ],
   "source": [
    "nums = [3,2,1,5,6,4]\n",
    "k = 2\n",
    "Solution().findKthLargest(nums, k)"
   ]
  },
  {
   "cell_type": "markdown",
   "metadata": {},
   "source": [
    "# 347. Top K Frequent Elements\n",
    "\n",
    "Idea: \n",
    "* Get the frequency of each of the elements in the array and store them in a min-heap. \n",
    "* Keep poping the min-heap until we have k elements left."
   ]
  },
  {
   "cell_type": "code",
   "execution_count": 4,
   "metadata": {},
   "outputs": [],
   "source": [
    "from heapq import *\n",
    "\n",
    "class Solution:\n",
    "    def topKFrequent(self, nums, k: int):\n",
    "        heap = []\n",
    "        heapify(heap)\n",
    "        dic = dict()\n",
    "        \n",
    "        # Get the frequency of each element in the array\n",
    "        for num in nums:\n",
    "            dic[num] = dic.get(num, 0) + 1\n",
    "            \n",
    "        # Use a min heap and store (frequency, key)\n",
    "        for key in dic:\n",
    "            heappush(heap, [dic.get(key), key])\n",
    "            \n",
    "        # Keep popping from the heap until we have the k largest frequencies    \n",
    "        while len(heap) > k:\n",
    "            heappop(heap)\n",
    "            \n",
    "        # Return the top k frequencies in the heap    \n",
    "        return [i[1] for i in heap]\n",
    "            \n",
    "        \n",
    "        "
   ]
  },
  {
   "cell_type": "code",
   "execution_count": 5,
   "metadata": {},
   "outputs": [
    {
     "data": {
      "text/plain": [
       "[2, 1]"
      ]
     },
     "execution_count": 5,
     "metadata": {},
     "output_type": "execute_result"
    }
   ],
   "source": [
    "nums = [1,1,1,2,2,3]\n",
    "k = 2\n",
    "Solution().topKFrequent(nums, k)"
   ]
  },
  {
   "cell_type": "markdown",
   "metadata": {},
   "source": [
    "# 373. Find K Pairs with Smallest Sums\n",
    "\n",
    "Idea:\n",
    "\n",
    "* Loop through each element in the two arrays and find their summs\n",
    "* Insert their sums into a max-heap\n",
    "* Keep popping until we have k elements left in the max-heap\n",
    "* These elements will be the pairs with the smallest sums"
   ]
  },
  {
   "cell_type": "code",
   "execution_count": 6,
   "metadata": {},
   "outputs": [],
   "source": [
    "from heapq import *\n",
    "\n",
    "class Solution:\n",
    "    def kSmallestPairs(self, nums1, nums2, k):\n",
    "        heap = []\n",
    "        heapify(heap)\n",
    "        \n",
    "        for i in nums1:\n",
    "            for j in nums2:\n",
    "                heappush(heap, [-(i + j), [i, j]])\n",
    "                \n",
    "                if len(heap) > k:\n",
    "                    heappop(heap)\n",
    "            \n",
    "        return [h[1] for h in heap]"
   ]
  },
  {
   "cell_type": "code",
   "execution_count": 7,
   "metadata": {},
   "outputs": [
    {
     "data": {
      "text/plain": [
       "[[1, 6], [1, 2], [1, 4]]"
      ]
     },
     "execution_count": 7,
     "metadata": {},
     "output_type": "execute_result"
    }
   ],
   "source": [
    "nums1 = [1,7,11]\n",
    "nums2 = [2,4,6]\n",
    "k = 3\n",
    "Solution().kSmallestPairs(nums1, nums2, k)"
   ]
  },
  {
   "cell_type": "markdown",
   "metadata": {},
   "source": [
    "# 378. Kth Smallest Element in a Sorted Matrix\n",
    "\n",
    "* Look through every element in the matrix and insert it into a max-heap\n",
    "* The max heap will allow us find the top k elements\n",
    "* Return the top of the max-heap"
   ]
  },
  {
   "cell_type": "code",
   "execution_count": 8,
   "metadata": {},
   "outputs": [],
   "source": [
    "from heapq import *\n",
    "\n",
    "class Solution:\n",
    "    def kthSmallest(self, matrix, k: int) -> int:\n",
    "        # Create a max heap\n",
    "        heap = []\n",
    "        heapify(heap)\n",
    "        \n",
    "        n = len(matrix)\n",
    "        \n",
    "        # Go through every element of the matrix and keep track of the top k\n",
    "        for i in range(n):\n",
    "            for j in range(n):\n",
    "                heappush(heap, -matrix[i][j])\n",
    "                \n",
    "                if len(heap) > k:\n",
    "                    heappop(heap)\n",
    "                    \n",
    "        return -heappop(heap)            \n",
    "        "
   ]
  },
  {
   "cell_type": "code",
   "execution_count": 9,
   "metadata": {},
   "outputs": [
    {
     "data": {
      "text/plain": [
       "13"
      ]
     },
     "execution_count": 9,
     "metadata": {},
     "output_type": "execute_result"
    }
   ],
   "source": [
    "matrix = [[1,5,9],\n",
    "          [10,11,13],\n",
    "          [12,13,15]]\n",
    "k = 8\n",
    "\n",
    "Solution().kthSmallest(matrix, k)"
   ]
  },
  {
   "cell_type": "markdown",
   "metadata": {},
   "source": [
    "# 451. Sort Characters By Frequency\n",
    "\n",
    "* Hashmap to find freq of characters\n",
    "* Max heap to keep track of the most freq characters"
   ]
  },
  {
   "cell_type": "code",
   "execution_count": 10,
   "metadata": {},
   "outputs": [],
   "source": [
    "from heapq import *\n",
    "\n",
    "class Solution:\n",
    "    def frequencySort(self, s):\n",
    "        heap = []\n",
    "        dic = dict()\n",
    "        \n",
    "        for c in s:\n",
    "            dic[c] = dic.get(c, 0) + 1\n",
    "            \n",
    "        for c in s:\n",
    "            heappush(heap, [-dic.get(c), c])\n",
    "            \n",
    "        res = []\n",
    "        while heap:\n",
    "            freq, char = heappop(heap)\n",
    "            res.append(char)\n",
    "            \n",
    "        return \"\".join(res)"
   ]
  },
  {
   "cell_type": "code",
   "execution_count": 11,
   "metadata": {},
   "outputs": [
    {
     "data": {
      "text/plain": [
       "'eert'"
      ]
     },
     "execution_count": 11,
     "metadata": {},
     "output_type": "execute_result"
    }
   ],
   "source": [
    "s = \"tree\"\n",
    "Solution().frequencySort(s)"
   ]
  },
  {
   "cell_type": "markdown",
   "metadata": {},
   "source": [
    "# 692. Top K Frequent Words\n",
    "\n",
    "Idea:\n",
    "\n",
    "* Use a hashmap to get the frequency of all the words\n",
    "* Use a max-heap to keep track of the top words\n",
    "* Pop the heap to get the top k words"
   ]
  },
  {
   "cell_type": "code",
   "execution_count": 12,
   "metadata": {},
   "outputs": [],
   "source": [
    "from heapq import *\n",
    "\n",
    "class Solution:\n",
    "    def topKFrequent(self, words, k):\n",
    "        heap = []\n",
    "        heapify(heap)\n",
    "        dic = dict()\n",
    "        \n",
    "        # Get the frequency of all the words\n",
    "        for w in words:\n",
    "            dic[w] = dic.get(w, 0) + 1\n",
    "        \n",
    "        # Use max-heap so the top words are at the top\n",
    "        for key in dic:\n",
    "            heappush(heap, [-dic.get(key), key])\n",
    "        \n",
    "        # Get top k words\n",
    "        top = []\n",
    "        while k > 0:\n",
    "            freq, char = heappop(heap)\n",
    "            top.append(char)\n",
    "            k -= 1\n",
    "            \n",
    "        return top"
   ]
  },
  {
   "cell_type": "code",
   "execution_count": 13,
   "metadata": {},
   "outputs": [
    {
     "data": {
      "text/plain": [
       "['i', 'love']"
      ]
     },
     "execution_count": 13,
     "metadata": {},
     "output_type": "execute_result"
    }
   ],
   "source": [
    "words = [\"i\", \"love\", \"leetcode\", \"i\", \"love\", \"coding\"]\n",
    "k = 2\n",
    "Solution().topKFrequent(words, k)"
   ]
  },
  {
   "cell_type": "markdown",
   "metadata": {},
   "source": [
    "# 767. Reorganize String\n",
    "\n",
    "Idea:\n",
    "\n",
    "* Use a hashmap to get the frequency of all of the elements\n",
    "* Use a max-heap to keep track of the most frequent elements\n",
    "* ⭐️2 characters cannot be adjacent to each other, if the most frequent element is greater than 2x the length of the original string, we cannot possibly separate the characters.\n",
    "* Distribute the most frequent element first, followed by the remaining in order by their frequency.\n"
   ]
  },
  {
   "cell_type": "code",
   "execution_count": 14,
   "metadata": {},
   "outputs": [],
   "source": [
    "from heapq import *\n",
    "\n",
    "class Solution:\n",
    "    def reorganizeString(self, S):\n",
    "        heap = []\n",
    "        heapify(heap)\n",
    "        dic = dict()\n",
    "        \n",
    "        for s in S:\n",
    "            dic[s] = dic.get(s, 0) + 1\n",
    "        \n",
    "        # Max heap to store the most frequent elements at the top\n",
    "        for s in S:\n",
    "            heappush(heap, [-dic.get(s), s])\n",
    "            \n",
    "        most_freq = heap[0][0]    \n",
    "        n = len(S)\n",
    "        \n",
    "        if most_freq > n // 2:\n",
    "            return \"\"\n",
    "        \n",
    "        # Distribute the elements in even and odd positions\n",
    "        res = [0] * n\n",
    "        for i in range(0, n, 2):\n",
    "            res[i] = heappop(heap)[1]\n",
    "        for j in range(1, n , 2):\n",
    "            res[j] = heappop(heap)[1]\n",
    "            \n",
    "        for i in range(1, n):\n",
    "            if res[i - 1] == res[i]:\n",
    "                return \"\"\n",
    "            \n",
    "        return \"\".join(res)\n",
    "            "
   ]
  },
  {
   "cell_type": "code",
   "execution_count": 15,
   "metadata": {},
   "outputs": [
    {
     "name": "stdout",
     "output_type": "stream",
     "text": [
      "aba\n"
     ]
    }
   ],
   "source": [
    "S = \"aab\"\n",
    "print(Solution().reorganizeString(S))"
   ]
  },
  {
   "cell_type": "markdown",
   "metadata": {},
   "source": [
    "# 973. K Closest Points to Origin\n",
    "\n",
    "Idea:\n",
    "\n",
    "* Use a max-heap to keep track of the closest points which should be at the bottom of the max-heap\n",
    "* Only keep k elements in the heap so we have the k closest points in the origin"
   ]
  },
  {
   "cell_type": "code",
   "execution_count": 16,
   "metadata": {},
   "outputs": [],
   "source": [
    "from heapq import *\n",
    "\n",
    "class Solution:\n",
    "    def kClosest(self, points, K):\n",
    "        heap = []\n",
    "        heapify(heap)\n",
    "        \n",
    "        for p in points:\n",
    "            # Use Euclidian distance. Sqrt does not make a difference in size\n",
    "            e = p[0]*p[0] + p[1]*p[1]\n",
    "            \n",
    "            # Use a max-heap to keep the furthest positions at the top\n",
    "            heappush(heap, [-e, p])\n",
    "            \n",
    "            if len(heap) > k:\n",
    "                heappop(heap)\n",
    "                \n",
    "        return [p[1] for p in heap]\n"
   ]
  },
  {
   "cell_type": "code",
   "execution_count": 17,
   "metadata": {},
   "outputs": [
    {
     "data": {
      "text/plain": [
       "[[-2, 2]]"
      ]
     },
     "execution_count": 17,
     "metadata": {},
     "output_type": "execute_result"
    }
   ],
   "source": [
    "points = [[1,3],[-2,2]]\n",
    "k = 1\n",
    "Solution().kClosest(points, k)"
   ]
  },
  {
   "cell_type": "markdown",
   "metadata": {},
   "source": [
    "# 1046. Last Stone Weight\n",
    "\n",
    "Idea:\n",
    "\n",
    "* Use a max-heap to keep track of the largest two stones that we can smash\n",
    "* After we have smashed the two stones, the remainder can be pushed back into the heap\n",
    "* The heap will allow us to sort all the stones by weight\n",
    "* Keep picking the two largest stones in the heap until there is only one stone remaining\n",
    "* Return that stone"
   ]
  },
  {
   "cell_type": "code",
   "execution_count": 18,
   "metadata": {},
   "outputs": [],
   "source": [
    "from heapq import *\n",
    "\n",
    "\n",
    "class Solution:\n",
    "    def lastStoneWeight(self, stones):\n",
    "        heap = []\n",
    "        \n",
    "        # Use -s in order to get a max heap\n",
    "        for s in stones:\n",
    "            heappush(heap, -s)\n",
    "            \n",
    "        while len(heap) >= 2:\n",
    "            a = abs(heappop(heap))\n",
    "            b = abs(heappop(heap))\n",
    "            \n",
    "            heappush(heap, -abs(a - b))\n",
    "            \n",
    "        return abs(heappop(heap))"
   ]
  },
  {
   "cell_type": "code",
   "execution_count": 19,
   "metadata": {},
   "outputs": [
    {
     "data": {
      "text/plain": [
       "1"
      ]
     },
     "execution_count": 19,
     "metadata": {},
     "output_type": "execute_result"
    }
   ],
   "source": [
    "stones = [2,7,4,1,8,1]\n",
    "Solution().lastStoneWeight(stones)"
   ]
  },
  {
   "cell_type": "markdown",
   "metadata": {},
   "source": [
    "# 1054. Distant Barcodes\n",
    "\n",
    "Idea:\n",
    "\n",
    "* Use a hashmap to count the most frequent elements in the array\n",
    "* Use a max heap to keep track of the elements\n",
    "* Since two adjacent barcodes of the same kind cannot be next to each other, fill in the odd spots with the most frequent element first"
   ]
  },
  {
   "cell_type": "code",
   "execution_count": 20,
   "metadata": {},
   "outputs": [],
   "source": [
    "from heapq import *\n",
    "\n",
    "class Solution:\n",
    "    def rearrangeBarcodes(self, barcodes):\n",
    "        dic = dict()\n",
    "        heap = []\n",
    "        \n",
    "        for b in barcodes:\n",
    "            dic[b] = dic.get(b, 0) + 1\n",
    "            \n",
    "        for b in barcodes:\n",
    "            heappush(heap, [-dic.get(b), b])\n",
    "            \n",
    "        n = len(barcodes)\n",
    "        res = [0] * n\n",
    "        \n",
    "        for i in range(0, n, 2):\n",
    "            res[i] = heappop(heap)[1]\n",
    "        for i in range(1, n, 2):\n",
    "            res[i] = heappop(heap)[1]\n",
    "            \n",
    "        return res"
   ]
  },
  {
   "cell_type": "code",
   "execution_count": 21,
   "metadata": {},
   "outputs": [
    {
     "data": {
      "text/plain": [
       "[1, 2, 1, 2, 1, 2]"
      ]
     },
     "execution_count": 21,
     "metadata": {},
     "output_type": "execute_result"
    }
   ],
   "source": [
    "barcodes = [1,1,1,2,2,2]\n",
    "Solution().rearrangeBarcodes(barcodes)"
   ]
  },
  {
   "cell_type": "code",
   "execution_count": null,
   "metadata": {},
   "outputs": [],
   "source": []
  }
 ],
 "metadata": {
  "kernelspec": {
   "display_name": "Python 3",
   "language": "python",
   "name": "python3"
  },
  "language_info": {
   "codemirror_mode": {
    "name": "ipython",
    "version": 3
   },
   "file_extension": ".py",
   "mimetype": "text/x-python",
   "name": "python",
   "nbconvert_exporter": "python",
   "pygments_lexer": "ipython3",
   "version": "3.7.7"
  }
 },
 "nbformat": 4,
 "nbformat_minor": 2
}
