{
 "cells": [
  {
   "cell_type": "markdown",
   "metadata": {},
   "source": [
    "# Arrays"
   ]
  },
  {
   "cell_type": "markdown",
   "metadata": {},
   "source": [
    "### Boyer–Moore majority vote\n",
    "\n",
    "* [169. Majority Element](#169.-Majority-Element)\n",
    "\n",
    "### Array\n",
    "\n",
    "\n",
    "* [15. 3Sum](#15.-3Sum)\n",
    "* [287. Find the Duplicate Number](#287.-Find-the-Duplicate-Number)\n",
    "* [657. Robot Return to Origin](#657.-Robot-Return-to-Origin)\n",
    "* [1243. Array Transformation](#1243.-Array-Transformation)\n",
    "* [1304. Find N Unique Integers Sum up to Zero](#1304.-Find-N-Unique-Integers-Sum-up-to-Zero)\n",
    "\n",
    "### Binary Search\n",
    "\n",
    "* [278. First Bad Version](#278.-First-Bad-Version)"
   ]
  },
  {
   "cell_type": "markdown",
   "metadata": {},
   "source": [
    "# 169. Majority Element"
   ]
  },
  {
   "cell_type": "markdown",
   "metadata": {},
   "source": [
    "**Solution 1: HashMap - Count**\n",
    "\n",
    "Time: `O(n)` - We go through every element of the array\n",
    "\n",
    "Space: `O(n)` - We need to store the frequency of each of the elements in the array\n",
    "\n",
    "Idea:\n",
    "\n",
    "* Go through the array and keep track of the frequency of each element\n",
    "* Iterate through the hashmap and check if any element has a frequency of over n // 2\n",
    "\n",
    "\n",
    "**Solution 2: Boyer-More**\n",
    "\n",
    "Time: `O(n)` - Go through all the elements in the array\n",
    "\n",
    "Space: `O(1)` - Use two variables the will store the candidate element and it's frequency\n",
    "\n",
    "Idea:\n",
    "\n",
    "* Use Boyer-MOre algo\n",
    "    "
   ]
  },
  {
   "cell_type": "code",
   "execution_count": 9,
   "metadata": {},
   "outputs": [],
   "source": [
    "class Solution1:\n",
    "    def majorityElement(self, nums):\n",
    "        freq = {}\n",
    "        n = len(nums) // 2\n",
    "        \n",
    "        for num in nums:\n",
    "            freq[num] = freq.get(num, 0) + 1\n",
    "            \n",
    "        for key in freq:\n",
    "            if freq[key] > n:\n",
    "                return key\n",
    "            \n",
    "        return False\n",
    "        \n",
    "class Solution2:\n",
    "    def majorityElement(self, nums):\n",
    "        cand = nums[0]\n",
    "        count = 0\n",
    "        \n",
    "        for num in nums:\n",
    "            if num == cand:\n",
    "                count += 1\n",
    "            elif count == 0:\n",
    "                cand = num\n",
    "                count += 1\n",
    "            else:\n",
    "                count -= 1\n",
    "                \n",
    "        return cand"
   ]
  },
  {
   "cell_type": "code",
   "execution_count": 11,
   "metadata": {},
   "outputs": [
    {
     "name": "stdout",
     "output_type": "stream",
     "text": [
      "2\n",
      "2\n"
     ]
    }
   ],
   "source": [
    "s1 = Solution1()\n",
    "nums = [2,2,1,1,1,2,2]\n",
    "print(s1.majorityElement(nums))\n",
    "\n",
    "s2 = Solution2()\n",
    "nums = [2,2,1,1,1,2,2]\n",
    "print(s2.majorityElement(nums))"
   ]
  },
  {
   "cell_type": "markdown",
   "metadata": {},
   "source": [
    "## Array"
   ]
  },
  {
   "cell_type": "markdown",
   "metadata": {},
   "source": [
    "# 15. 3Sum"
   ]
  },
  {
   "cell_type": "markdown",
   "metadata": {},
   "source": [
    "Time: `O(n^2)`\n",
    "\n",
    "Space: `O(n)`"
   ]
  },
  {
   "cell_type": "code",
   "execution_count": 14,
   "metadata": {},
   "outputs": [],
   "source": [
    "class Solution:\n",
    "    def threeSum(self, nums):\n",
    "        res = []\n",
    "        \n",
    "        if not nums:\n",
    "            return res\n",
    "        \n",
    "        nums.sort()\n",
    "        n = len(nums)\n",
    "        print(nums)\n",
    "        \n",
    "        for i in range(0, n - 2):\n",
    "            # Avoid duplicates for the i pointer\n",
    "            if i > 0 and nums[i] == nums[i - 1]:\n",
    "                continue\n",
    "                \n",
    "            lo = i + 1\n",
    "            hi = n - 1\n",
    "            \n",
    "            while lo < hi:\n",
    "                sum = nums[i] + nums[lo] + nums[hi]\n",
    "                \n",
    "                if sum == 0:\n",
    "                    res.append([nums[i], nums[lo], nums[hi]])\n",
    "                    \n",
    "                    # Avoid duplicates for the lo pointer\n",
    "                    while lo < hi and nums[lo] == nums[lo + 1]:\n",
    "                        lo += 1\n",
    "                        \n",
    "                    # Avoid duplicates for the hi pointer\n",
    "                    while lo < hi and nums[hi] == nums[hi - 1]:\n",
    "                        hi -= 1\n",
    "                    \n",
    "                    lo += 1\n",
    "                    hi -= 1\n",
    "                elif sum > 0:     \n",
    "                    hi -= 1\n",
    "                else:    \n",
    "                    lo += 1\n",
    "                    \n",
    "        return res\n",
    "        "
   ]
  },
  {
   "cell_type": "markdown",
   "metadata": {},
   "source": [
    "# 287. Find the Duplicate Number\n",
    "\n",
    "Solution 1: Sort and Scan\n",
    "\n",
    "Time: `O(nlogn)`"
   ]
  },
  {
   "cell_type": "markdown",
   "metadata": {},
   "source": [
    "# 657. Robot Return to Origin\n",
    "\n",
    "There is a robot starting at position (0, 0), the origin, on a 2D plane. Given a sequence of its moves, judge if this robot ends up at (0, 0) after it completes its moves.\n",
    "\n",
    "The move sequence is represented by a string, and the character moves[i] represents its ith move. Valid moves are R (right), L (left), U (up), and D (down). If the robot returns to the origin after it finishes all of its moves, return true. Otherwise, return false.\n",
    "\n",
    "Note: The way that the robot is \"facing\" is irrelevant. \"R\" will always make the robot move to the right once, \"L\" will always make it move left, etc. Also, assume that the magnitude of the robot's movement is the same for each move."
   ]
  },
  {
   "cell_type": "markdown",
   "metadata": {},
   "source": [
    "## Idea\n",
    "\n",
    "* We want to return to the position that we originally started in\n",
    "* That means that we have to move an equal number of steps vertically and horizontally\n",
    "* L and R should be balanced and U and D should be balanced as all things should be.\n",
    "\n"
   ]
  },
  {
   "cell_type": "code",
   "execution_count": 1,
   "metadata": {},
   "outputs": [
    {
     "name": "stdout",
     "output_type": "stream",
     "text": [
      "True\n"
     ]
    }
   ],
   "source": [
    "def judgeCircle(moves):\n",
    "    \n",
    "    x = 0\n",
    "    y = 0\n",
    "    \n",
    "    for move in list(moves):\n",
    "        if move == \"U\":\n",
    "            y += 1\n",
    "        elif move == \"D\":\n",
    "            y -= 1\n",
    "        elif move == \"L\":\n",
    "            x -= 1\n",
    "        elif move == \"R\":\n",
    "            x += 1\n",
    "            \n",
    "    return x == 0 and y == 0\n",
    "\n",
    "moves = \"UD\"\n",
    "print(judgeCircle(moves))"
   ]
  },
  {
   "cell_type": "markdown",
   "metadata": {},
   "source": [
    "# 1243. Array Transformation\n",
    "\n",
    "Given an initial array arr, every day you produce a new array using the array of the previous day.\n",
    "\n",
    "On the i-th day, you do the following operations on the array of day i-1 to produce the array of day i:\n",
    "\n",
    "If an element is smaller than both its left neighbor and its right neighbor, then this element is incremented.\n",
    "If an element is bigger than both its left neighbor and its right neighbor, then this element is decremented.\n",
    "The first and last elements never change.\n",
    "After some days, the array does not change. Return that final array."
   ]
  },
  {
   "cell_type": "markdown",
   "metadata": {},
   "source": [
    "## Idea:\n",
    "\n",
    "* Thought I had to modify the current array instead of creating a new array. That got my stuck for a bit. I was modifying the original array in place before."
   ]
  },
  {
   "cell_type": "code",
   "execution_count": 2,
   "metadata": {},
   "outputs": [
    {
     "name": "stdout",
     "output_type": "stream",
     "text": [
      "[2, 2, 1, 1, 1, 2, 2, 1]\n"
     ]
    }
   ],
   "source": [
    "def transformArray(arr):\n",
    "    if len(arr) < 3:\n",
    "        return arr\n",
    "\n",
    "    new = list(arr)\n",
    "    changed = True\n",
    "\n",
    "    while changed:\n",
    "        changed = False\n",
    "\n",
    "        # Start at index 1 til n - 1 of arr\n",
    "        # We never modify 0 and n positions\n",
    "        for i in range(1, len(arr) - 1):\n",
    "            if arr[i - 1] < arr[i] and arr[i] > arr[i + 1]:\n",
    "                new[i] = arr[i] - 1\n",
    "                changed = True\n",
    "            elif arr[i - 1] > arr[i] and arr[i] < arr[i + 1]:\n",
    "                new[i] = arr[i] + 1\n",
    "                changed = True\n",
    "\n",
    "        arr = list(new)\n",
    "\n",
    "    return new\n",
    "        \n",
    "\n",
    "arr = [2,1,2,1,1,2,2,1]\n",
    "print(transformArray(arr))"
   ]
  },
  {
   "cell_type": "markdown",
   "metadata": {},
   "source": [
    "# 1304. Find N Unique Integers Sum up to Zero\n",
    "\n",
    "Idea:\n",
    "\n",
    "* We want to find the number of unique integers that sum up to zero\n",
    "* The easiest way is to find the complement of each number such that it is equal to zero\n",
    "* There are two cases: Even and Odd\n",
    "* If we want an odd number of numbers, we can add zero\n",
    "* If there's an even amount of numbers, we don't have to!"
   ]
  },
  {
   "cell_type": "code",
   "execution_count": 3,
   "metadata": {},
   "outputs": [],
   "source": [
    "class Solution:\n",
    "    def sumZero(self, n: int):\n",
    "        res = []\n",
    "        for i in range(1, n // 2 + 1):\n",
    "            res.append(i)\n",
    "            res.append(-i)\n",
    "            \n",
    "        if n % 2 == 1:    \n",
    "            res.append(0)\n",
    "        \n",
    "        return res"
   ]
  },
  {
   "cell_type": "code",
   "execution_count": 4,
   "metadata": {},
   "outputs": [
    {
     "data": {
      "text/plain": [
       "[1, -1, 2, -2, 0]"
      ]
     },
     "execution_count": 4,
     "metadata": {},
     "output_type": "execute_result"
    }
   ],
   "source": [
    "n = 5\n",
    "Solution().sumZero(n)"
   ]
  },
  {
   "cell_type": "markdown",
   "metadata": {},
   "source": [
    "# 278. First Bad Version"
   ]
  },
  {
   "cell_type": "markdown",
   "metadata": {},
   "source": [
    "Idea:\n",
    "    \n",
    "Solution 1: `Linear Search`\n",
    "    \n",
    "Time: `O(n)` We need to search the entire array (all versions)\n",
    "    \n",
    "Space: `O(1)` Not using any additional space\n",
    "\n",
    "Let's start from the beginning of all the versions that we have. Keep checking from left to right which is the bad version. This is the brute force solution to check all versions if they are bad or not.\n",
    "\n",
    "Solution 2: `Binary Search`\n",
    "\n",
    "Time: `O(logn)` Binary Search\n",
    "\n",
    "Space: `O(1)` No additional space\n",
    "\n",
    "We can improve on the previous solution because we don't have to check all versions if they are bad. We can bound which is the first bad version using two pointers. We know that after the first bad version, all the versions that come after it are also bad. So we keep moving the `hi` pointer down if we come across a bad version."
   ]
  },
  {
   "cell_type": "code",
   "execution_count": 11,
   "metadata": {},
   "outputs": [],
   "source": [
    "def isBadVersion(n):\n",
    "    return n in [4,5]\n",
    "\n",
    "\n",
    "# Binary Search\n",
    "# T: O(logn)\n",
    "# S: O(1)\n",
    "class Solution2:\n",
    "    def firstBadVersion(self, n):\n",
    "        return self.binarySearch(1, n)\n",
    "        \n",
    "    def binarySearch(self, lo, hi):\n",
    "        while lo < hi:\n",
    "            mid = lo + (hi - lo) // 2\n",
    "            \n",
    "            if isBadVersion(mid):\n",
    "                hi = mid\n",
    "            else:\n",
    "                lo = mid + 1\n",
    "        \n",
    "        return lo\n",
    "    \n",
    "# Linear Search - TLE and Brute Force\n",
    "# T: O(n)\n",
    "# S: O(1)\n",
    "class Solution1:\n",
    "    def firstBadVersion(self, n):\n",
    "        for version in range(n):\n",
    "            if isBadVersion(version):\n",
    "                return version\n",
    "            \n",
    "        return n\n"
   ]
  },
  {
   "cell_type": "code",
   "execution_count": 12,
   "metadata": {},
   "outputs": [
    {
     "name": "stdout",
     "output_type": "stream",
     "text": [
      "4\n"
     ]
    }
   ],
   "source": [
    "# Binary Search\n",
    "\n",
    "s2 = Solution2()\n",
    "print(s2.firstBadVersion(5))"
   ]
  },
  {
   "cell_type": "code",
   "execution_count": 13,
   "metadata": {},
   "outputs": [
    {
     "data": {
      "text/plain": [
       "4"
      ]
     },
     "execution_count": 13,
     "metadata": {},
     "output_type": "execute_result"
    }
   ],
   "source": [
    "# Linear Search\n",
    "\n",
    "s1 = Solution1()\n",
    "s1.firstBadVersion(5)"
   ]
  },
  {
   "cell_type": "code",
   "execution_count": null,
   "metadata": {},
   "outputs": [],
   "source": []
  }
 ],
 "metadata": {
  "kernelspec": {
   "display_name": "Python 3",
   "language": "python",
   "name": "python3"
  },
  "language_info": {
   "codemirror_mode": {
    "name": "ipython",
    "version": 3
   },
   "file_extension": ".py",
   "mimetype": "text/x-python",
   "name": "python",
   "nbconvert_exporter": "python",
   "pygments_lexer": "ipython3",
   "version": "3.7.7"
  }
 },
 "nbformat": 4,
 "nbformat_minor": 2
}
