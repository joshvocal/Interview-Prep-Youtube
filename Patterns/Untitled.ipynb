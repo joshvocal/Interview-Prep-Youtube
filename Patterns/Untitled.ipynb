{
 "cells": [
  {
   "cell_type": "markdown",
   "metadata": {},
   "source": [
    "# Heap"
   ]
  },
  {
   "cell_type": "markdown",
   "metadata": {},
   "source": [
    "# 215. Kth Largest Element in an Array\n",
    "\n",
    "Idea:\n",
    "\n",
    "* Use a min-heap which will sort the array\n",
    "* Keep popping until we have k elements left in the array\n",
    "* This element will be the k-th largest element in the array"
   ]
  },
  {
   "cell_type": "code",
   "execution_count": 19,
   "metadata": {},
   "outputs": [],
   "source": [
    "from heapq import *\n",
    "\n",
    "class Solution:\n",
    "    def findKthLargest(self, nums, k: int) -> int:\n",
    "        heapify(nums)\n",
    "        \n",
    "        while len(nums) > k:\n",
    "            heappop(nums)\n",
    "            \n",
    "        return heappop(nums)"
   ]
  },
  {
   "cell_type": "code",
   "execution_count": 20,
   "metadata": {},
   "outputs": [
    {
     "data": {
      "text/plain": [
       "5"
      ]
     },
     "execution_count": 20,
     "metadata": {},
     "output_type": "execute_result"
    }
   ],
   "source": [
    "nums = [3,2,1,5,6,4]\n",
    "k = 2\n",
    "Solution().findKthLargest(nums, k)"
   ]
  },
  {
   "cell_type": "markdown",
   "metadata": {},
   "source": [
    "# 347. Top K Frequent Elements\n",
    "\n",
    "Idea: \n",
    "* Get the frequency of each of the elements in the array and store them in a min-heap. \n",
    "* Keep poping the min-heap until we have k elements left."
   ]
  },
  {
   "cell_type": "code",
   "execution_count": 29,
   "metadata": {},
   "outputs": [],
   "source": [
    "from heapq import *\n",
    "\n",
    "class Solution:\n",
    "    def topKFrequent(self, nums, k: int):\n",
    "        heap = []\n",
    "        heapify(heap)\n",
    "        dic = dict()\n",
    "        \n",
    "        # Get the frequency of each element in the array\n",
    "        for num in nums:\n",
    "            dic[num] = dic.get(num, 0) + 1\n",
    "            \n",
    "        # Use a min heap and store (frequency, key)\n",
    "        for key in dic:\n",
    "            heappush(heap, [dic.get(key), key])\n",
    "            \n",
    "        # Keep popping from the heap until we have the k largest frequencies    \n",
    "        while len(heap) > k:\n",
    "            heappop(heap)\n",
    "            \n",
    "        # Return the top k frequencies in the heap    \n",
    "        return [i[1] for i in heap]\n",
    "            \n",
    "        \n",
    "        "
   ]
  },
  {
   "cell_type": "code",
   "execution_count": 30,
   "metadata": {},
   "outputs": [
    {
     "data": {
      "text/plain": [
       "[2, 1]"
      ]
     },
     "execution_count": 30,
     "metadata": {},
     "output_type": "execute_result"
    }
   ],
   "source": [
    "nums = [1,1,1,2,2,3]\n",
    "k = 2\n",
    "Solution().topKFrequent(nums, k)"
   ]
  },
  {
   "cell_type": "markdown",
   "metadata": {},
   "source": [
    "# 373. Find K Pairs with Smallest Sums\n",
    "\n",
    "Idea:\n",
    "\n",
    "* Loop through each element in the two arrays and find their summs\n",
    "* Insert their sums into a max-heap\n",
    "* Keep popping until we have k elements left in the max-heap\n",
    "* These elements will be the pairs with the smallest sums"
   ]
  },
  {
   "cell_type": "code",
   "execution_count": 37,
   "metadata": {},
   "outputs": [],
   "source": [
    "from heapq import *\n",
    "\n",
    "class Solution:\n",
    "    def kSmallestPairs(self, nums1, nums2, k):\n",
    "        heap = []\n",
    "        heapify(heap)\n",
    "        \n",
    "        for i in nums1:\n",
    "            for j in nums2:\n",
    "                heappush(heap, [-(i + j), [i, j]])\n",
    "                \n",
    "        while len(heap) > k:\n",
    "            heappop(heap)\n",
    "            \n",
    "        return [h[1] for h in heap]"
   ]
  },
  {
   "cell_type": "code",
   "execution_count": 38,
   "metadata": {},
   "outputs": [
    {
     "data": {
      "text/plain": [
       "[[1, 6], [1, 2], [1, 4]]"
      ]
     },
     "execution_count": 38,
     "metadata": {},
     "output_type": "execute_result"
    }
   ],
   "source": [
    "nums1 = [1,7,11]\n",
    "nums2 = [2,4,6]\n",
    "k = 3\n",
    "Solution().kSmallestPairs(nums1, nums2, k)"
   ]
  },
  {
   "cell_type": "code",
   "execution_count": null,
   "metadata": {},
   "outputs": [],
   "source": []
  }
 ],
 "metadata": {
  "kernelspec": {
   "display_name": "Python 3",
   "language": "python",
   "name": "python3"
  },
  "language_info": {
   "codemirror_mode": {
    "name": "ipython",
    "version": 3
   },
   "file_extension": ".py",
   "mimetype": "text/x-python",
   "name": "python",
   "nbconvert_exporter": "python",
   "pygments_lexer": "ipython3",
   "version": "3.7.5"
  }
 },
 "nbformat": 4,
 "nbformat_minor": 2
}
