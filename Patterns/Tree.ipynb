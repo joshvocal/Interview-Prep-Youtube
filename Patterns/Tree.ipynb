{
 "cells": [
  {
   "cell_type": "markdown",
   "metadata": {},
   "source": [
    "# Tree"
   ]
  },
  {
   "cell_type": "code",
   "execution_count": 4,
   "metadata": {},
   "outputs": [
    {
     "name": "stdout",
     "output_type": "stream",
     "text": [
      "\n",
      "    __1__\n",
      "   /     \\\n",
      "  2       4\n",
      " / \\     / \\\n",
      "5   3   6   0\n",
      "\n"
     ]
    }
   ],
   "source": [
    "from binarytree import tree\n",
    "my_tree = tree(height=2, is_perfect=True)\n",
    "print(my_tree)"
   ]
  },
  {
   "cell_type": "markdown",
   "metadata": {},
   "source": [
    "#### DFS\n",
    "* [653. Two Sum IV - Input is a BST](#653.-Two-Sum-IV---Input-is-a-BST)\n",
    "\n",
    "\n",
    "* [1305. All Elements in Two Binary Search Trees](#1305.-All-Elements-in-Two-Binary-Search-Trees)\n"
   ]
  },
  {
   "cell_type": "markdown",
   "metadata": {},
   "source": [
    "# 653. Two Sum IV - Input is a BST"
   ]
  },
  {
   "cell_type": "markdown",
   "metadata": {},
   "source": [
    "**Solution 1: Brute Force**\n",
    "\n",
    "Time: `O(n)`\n",
    "\n",
    "Space: `O(n)`\n",
    "\n",
    "Idea:\n",
    "\n",
    "* Traverse the entire tree and use a set to store the second value the current node needs to sum up to the target.\n",
    "* If we come across the missing node a needs to sum up to the target, return True"
   ]
  },
  {
   "cell_type": "code",
   "execution_count": 10,
   "metadata": {},
   "outputs": [
    {
     "data": {
      "text/plain": [
       "True"
      ]
     },
     "execution_count": 10,
     "metadata": {},
     "output_type": "execute_result"
    }
   ],
   "source": [
    "class Solution1:\n",
    "    def findTarget(self, root, k: int) -> bool:\n",
    "        s = set()\n",
    "        return self.inorder(root, k, s)\n",
    "        \n",
    "    def inorder(self, root, target, s):\n",
    "        if not root:\n",
    "            return False\n",
    "        \n",
    "        if root.value in s:\n",
    "            return True\n",
    "        else:\n",
    "            s.add(target - root.value)\n",
    "            \n",
    "        left = self.inorder(root.left, target, s)\n",
    "        right = self.inorder(root.right, target, s)\n",
    "        \n",
    "        return left or right\n",
    "    \n",
    "s1 = Solution1()\n",
    "s1.findTarget(my_tree, 4)"
   ]
  },
  {
   "cell_type": "markdown",
   "metadata": {},
   "source": [
    "# 1305. All Elements in Two Binary Search Trees\n",
    "\n",
    "Idea:\n",
    "\n",
    "* Use a min-heap to maintain the order of the elements in both trees\n",
    "* The heap will keep the sorted order when we are sorting them into an array\n",
    "* DFS In-order traversal to go through both trees\n",
    "\n",
    "Time:\n",
    "\n",
    "2 DFS = O(n)\n",
    "\n",
    "Heap Insertion = O(logn)\n",
    "\n",
    "= O(n*logn)\n",
    "\n",
    "Space:\n",
    "\n",
    "Two tree lengths = O(2n)\n",
    "\n",
    "= O(n)"
   ]
  },
  {
   "cell_type": "code",
   "execution_count": 5,
   "metadata": {},
   "outputs": [],
   "source": [
    "class TreeNode:\n",
    "    def __init__(self, x):\n",
    "        self.val = x\n",
    "        self.left = None\n",
    "        self.right = None\n",
    "\n",
    "from heapq import *\n",
    "\n",
    "class Solution:\n",
    "    def getAllElements(self, root1: TreeNode, root2: TreeNode):\n",
    "        heap = []\n",
    "        self.dfs(root1, heap)\n",
    "        self.dfs(root2, heap)\n",
    "        \n",
    "        h = []\n",
    "        while heap:\n",
    "            h.append(heappop(heap))\n",
    "        \n",
    "        return h\n",
    "    \n",
    "    def dfs(self, root, heap):\n",
    "        if not root:\n",
    "            return\n",
    "        \n",
    "        self.dfs(root.left, heap)\n",
    "        heappush(heap, root.val)\n",
    "        self.dfs(root.right, heap)"
   ]
  },
  {
   "cell_type": "code",
   "execution_count": null,
   "metadata": {},
   "outputs": [],
   "source": []
  }
 ],
 "metadata": {
  "kernelspec": {
   "display_name": "Python 3",
   "language": "python",
   "name": "python3"
  },
  "language_info": {
   "codemirror_mode": {
    "name": "ipython",
    "version": 3
   },
   "file_extension": ".py",
   "mimetype": "text/x-python",
   "name": "python",
   "nbconvert_exporter": "python",
   "pygments_lexer": "ipython3",
   "version": "3.7.7"
  }
 },
 "nbformat": 4,
 "nbformat_minor": 2
}
