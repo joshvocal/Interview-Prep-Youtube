{
 "cells": [
  {
   "cell_type": "markdown",
   "metadata": {},
   "source": [
    "# Tree"
   ]
  },
  {
   "cell_type": "markdown",
   "metadata": {},
   "source": [
    "* [1305. All Elements in Two Binary Search Trees](#1305.-All-Elements-in-Two-Binary-Search-Trees)\n"
   ]
  },
  {
   "cell_type": "markdown",
   "metadata": {},
   "source": [
    "# 1305. All Elements in Two Binary Search Trees\n",
    "\n",
    "Idea:\n",
    "\n",
    "* Use a min-heap to maintain the order of the elements in both trees\n",
    "* The heap will keep the sorted order when we are sorting them into an array\n",
    "* DFS In-order traversal to go through both trees\n",
    "\n",
    "Time:\n",
    "\n",
    "2 DFS = O(n)\n",
    "\n",
    "Heap Insertion = O(logn)\n",
    "\n",
    "= O(n*logn)\n",
    "\n",
    "Space:\n",
    "\n",
    "Two tree lengths = O(2n)\n",
    "\n",
    "= O(n)"
   ]
  },
  {
   "cell_type": "code",
   "execution_count": 5,
   "metadata": {},
   "outputs": [],
   "source": [
    "class TreeNode:\n",
    "    def __init__(self, x):\n",
    "        self.val = x\n",
    "        self.left = None\n",
    "        self.right = None\n",
    "\n",
    "from heapq import *\n",
    "\n",
    "class Solution:\n",
    "    def getAllElements(self, root1: TreeNode, root2: TreeNode):\n",
    "        heap = []\n",
    "        self.dfs(root1, heap)\n",
    "        self.dfs(root2, heap)\n",
    "        \n",
    "        h = []\n",
    "        while heap:\n",
    "            h.append(heappop(heap))\n",
    "        \n",
    "        return h\n",
    "    \n",
    "    def dfs(self, root, heap):\n",
    "        if not root:\n",
    "            return\n",
    "        \n",
    "        self.dfs(root.left, heap)\n",
    "        heappush(heap, root.val)\n",
    "        self.dfs(root.right, heap)"
   ]
  },
  {
   "cell_type": "code",
   "execution_count": null,
   "metadata": {},
   "outputs": [],
   "source": []
  }
 ],
 "metadata": {
  "kernelspec": {
   "display_name": "Python 3",
   "language": "python",
   "name": "python3"
  },
  "language_info": {
   "codemirror_mode": {
    "name": "ipython",
    "version": 3
   },
   "file_extension": ".py",
   "mimetype": "text/x-python",
   "name": "python",
   "nbconvert_exporter": "python",
   "pygments_lexer": "ipython3",
   "version": "3.7.5"
  }
 },
 "nbformat": 4,
 "nbformat_minor": 2
}
