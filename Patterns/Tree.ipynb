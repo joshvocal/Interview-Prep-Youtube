{
 "cells": [
  {
   "cell_type": "markdown",
   "metadata": {},
   "source": [
    "# Tree"
   ]
  },
  {
   "cell_type": "code",
   "execution_count": 1,
   "metadata": {},
   "outputs": [
    {
     "name": "stdout",
     "output_type": "stream",
     "text": [
      "\n",
      "    __1__\n",
      "   /     \\\n",
      "  6       5\n",
      " / \\     / \\\n",
      "0   2   3   4\n",
      "\n"
     ]
    }
   ],
   "source": [
    "from binarytree import tree\n",
    "my_tree = tree(height=2, is_perfect=True)\n",
    "print(my_tree)"
   ]
  },
  {
   "cell_type": "markdown",
   "metadata": {},
   "source": [
    "#### DFS\n",
    "* [501. Find Mode in Binary Search Tree](#501.-Find-Mode-in-Binary-Search-Tree)\n",
    "\n",
    "* [563. Binary Tree Tilt](#563.-Binary-Tree-Tilt)\n",
    "\n",
    "* [653. Two Sum IV - Input is a BST](#653.-Two-Sum-IV---Input-is-a-BST)\n",
    "\n",
    "* [783. Minimum Distance Between BST Nodes](#783.-Minimum-Distance-Between-BST-Nodes)\n",
    "\n",
    "* [1305. All Elements in Two Binary Search Trees](#1305.-All-Elements-in-Two-Binary-Search-Trees)\n",
    "\n",
    "#### Remove Nodes\n",
    "\n",
    "* [1325. Delete Leaves With a Given Value](#1325.-Delete-Leaves-With-a-Given-Value)"
   ]
  },
  {
   "cell_type": "markdown",
   "metadata": {},
   "source": [
    "# 501. Find Mode in Binary Search Tree\n",
    "\n",
    "**Solution 1: HashSet**\n",
    "\n",
    "Time: `O(n)` - Traverse all the elements in the array\n",
    "\n",
    "Space: `O(n)` - Using a HashSet to store the frequency of elements in the array\n",
    "\n",
    "Idea:\n",
    "\n",
    "* Use the HashMap to store the frequency of all the nodes.\n",
    "* Use a global variable to store the maximum freq of an element\n",
    "* Look through the HashMap and return all the values with the max freq"
   ]
  },
  {
   "cell_type": "code",
   "execution_count": 2,
   "metadata": {},
   "outputs": [
    {
     "data": {
      "text/plain": [
       "[1, 6, 0, 2, 5, 3, 4]"
      ]
     },
     "execution_count": 2,
     "metadata": {},
     "output_type": "execute_result"
    }
   ],
   "source": [
    "class Solution1:\n",
    "    def findMode(self, root):\n",
    "        freq = {}\n",
    "        self.m = -float('inf')\n",
    "        self.dfs(root, freq)\n",
    "        \n",
    "        return [key for key in freq if freq[key] == self.m]\n",
    "        \n",
    "        \n",
    "    def dfs(self, root, freq):\n",
    "        if not root:\n",
    "            return\n",
    "        \n",
    "        freq[root.value] = freq.get(root.value, 0) + 1\n",
    "        self.m = max(self.m, freq[root.value])\n",
    "        self.dfs(root.left, freq)\n",
    "        self.dfs(root.right, freq)\n",
    "        \n",
    "s1 = Solution1()\n",
    "s1.findMode(my_tree)"
   ]
  },
  {
   "cell_type": "markdown",
   "metadata": {},
   "source": [
    "# 563. Binary Tree Tilt\n",
    "\n",
    "**Solution: DFS**\n",
    "\n",
    "Time: `O(n)`\n",
    "\n",
    "Space: `O(logn)`\n",
    "\n",
    "Idea:\n",
    "\n",
    "* We need to make sure that we are calculating the difference between the whole subtree, not just the `left` and `right` children of a particular node."
   ]
  },
  {
   "cell_type": "code",
   "execution_count": 3,
   "metadata": {},
   "outputs": [
    {
     "data": {
      "text/plain": [
       "7"
      ]
     },
     "execution_count": 3,
     "metadata": {},
     "output_type": "execute_result"
    }
   ],
   "source": [
    "class Solution:\n",
    "    def findTilt(self, root):\n",
    "        self.tilt = 0\n",
    "        self.dfs(root)\n",
    "        return self.tilt\n",
    "    \n",
    "    def dfs(self, root):\n",
    "        if not root:\n",
    "            return 0\n",
    "        \n",
    "        left = self.dfs(root.left)\n",
    "        right = self.dfs(root.right)\n",
    "        \n",
    "        self.tilt += abs(left - right)\n",
    "        \n",
    "        return root.value + left + right\n",
    "    \n",
    "s1 = Solution()\n",
    "s1.findTilt(my_tree)"
   ]
  },
  {
   "cell_type": "markdown",
   "metadata": {},
   "source": [
    "# 653. Two Sum IV - Input is a BST"
   ]
  },
  {
   "cell_type": "markdown",
   "metadata": {},
   "source": [
    "**Solution 1: Brute Force**\n",
    "\n",
    "Time: `O(n)`\n",
    "\n",
    "Space: `O(n)`\n",
    "\n",
    "Idea:\n",
    "\n",
    "* Traverse the entire tree and use a set to store the second value the current node needs to sum up to the target.\n",
    "* If we come across the missing node a needs to sum up to the target, return True"
   ]
  },
  {
   "cell_type": "code",
   "execution_count": 4,
   "metadata": {},
   "outputs": [
    {
     "data": {
      "text/plain": [
       "True"
      ]
     },
     "execution_count": 4,
     "metadata": {},
     "output_type": "execute_result"
    }
   ],
   "source": [
    "class Solution1:\n",
    "    def findTarget(self, root, k: int) -> bool:\n",
    "        s = set()\n",
    "        return self.inorder(root, k, s)\n",
    "        \n",
    "    def inorder(self, root, target, s):\n",
    "        if not root:\n",
    "            return False\n",
    "        \n",
    "        if root.value in s:\n",
    "            return True\n",
    "        else:\n",
    "            s.add(target - root.value)\n",
    "            \n",
    "        left = self.inorder(root.left, target, s)\n",
    "        right = self.inorder(root.right, target, s)\n",
    "        \n",
    "        return left or right\n",
    "    \n",
    "s1 = Solution1()\n",
    "s1.findTarget(my_tree, 4)"
   ]
  },
  {
   "cell_type": "markdown",
   "metadata": {},
   "source": [
    "# 783. Minimum Distance Between BST Nodes\n",
    "\n",
    "**Solution 1: Preorder Traversal**\n",
    "\n",
    "Time: `O(n)`\n",
    "\n",
    "Space: `O(1)`\n",
    "\n",
    "Idea:\n",
    "\n",
    "* Use Preorder Traversal, because it will return nodes in a BST is a sorted order\n",
    "* We can use this sorted order to our advantage.\n",
    "* The smallest absolute difference can only happen with nodes that are the closest to each other. If we are traversing through a sorted order, the next node is the closest in value to the previous"
   ]
  },
  {
   "cell_type": "code",
   "execution_count": 8,
   "metadata": {},
   "outputs": [],
   "source": [
    "class Solution:\n",
    "    def minDiffInBST(self, root: TreeNode) -> int:\n",
    "        stack = []\n",
    "        m = float('inf')\n",
    "        prev = None\n",
    "        \n",
    "        while stack or root:\n",
    "            while root:\n",
    "                stack.append(root)\n",
    "                root = root.left\n",
    "                \n",
    "            root = stack.pop()\n",
    "            if prev:\n",
    "                m = min(m, abs(root.val - prev.val))\n",
    "            \n",
    "            prev = root\n",
    "            root = root.right\n",
    "            \n",
    "        return m"
   ]
  },
  {
   "cell_type": "markdown",
   "metadata": {},
   "source": [
    "# 1305. All Elements in Two Binary Search Trees\n",
    "\n",
    "Idea:\n",
    "\n",
    "* Use a min-heap to maintain the order of the elements in both trees\n",
    "* The heap will keep the sorted order when we are sorting them into an array\n",
    "* DFS In-order traversal to go through both trees\n",
    "\n",
    "Time:\n",
    "\n",
    "2 DFS = O(n)\n",
    "\n",
    "Heap Insertion = O(logn)\n",
    "\n",
    "= O(n*logn)\n",
    "\n",
    "Space:\n",
    "\n",
    "Two tree lengths = O(2n)\n",
    "\n",
    "= O(n)"
   ]
  },
  {
   "cell_type": "code",
   "execution_count": 5,
   "metadata": {},
   "outputs": [],
   "source": [
    "class TreeNode:\n",
    "    def __init__(self, x):\n",
    "        self.val = x\n",
    "        self.left = None\n",
    "        self.right = None\n",
    "\n",
    "from heapq import *\n",
    "\n",
    "class Solution:\n",
    "    def getAllElements(self, root1: TreeNode, root2: TreeNode):\n",
    "        heap = []\n",
    "        self.dfs(root1, heap)\n",
    "        self.dfs(root2, heap)\n",
    "        \n",
    "        h = []\n",
    "        while heap:\n",
    "            h.append(heappop(heap))\n",
    "        \n",
    "        return h\n",
    "    \n",
    "    def dfs(self, root, heap):\n",
    "        if not root:\n",
    "            return\n",
    "        \n",
    "        self.dfs(root.left, heap)\n",
    "        heappush(heap, root.val)\n",
    "        self.dfs(root.right, heap)"
   ]
  },
  {
   "cell_type": "markdown",
   "metadata": {},
   "source": [
    "# 1325. Delete Leaves With a Given Value\n",
    "\n",
    "**Solution 1: Bottom Up**\n",
    "\n",
    "Time: `O(n)`\n",
    "\n",
    "Space: `O(logn)`\n",
    "\n",
    "Idea:\n",
    "\n",
    "* Use DFS to go to the bottom of the tree\n",
    "* From the bottom up, check if the node is `target` and it's a leaf node. If it is, change it to `None`"
   ]
  },
  {
   "cell_type": "code",
   "execution_count": 6,
   "metadata": {},
   "outputs": [
    {
     "data": {
      "text/plain": [
       "Node(1)"
      ]
     },
     "execution_count": 6,
     "metadata": {},
     "output_type": "execute_result"
    }
   ],
   "source": [
    "class Solution:\n",
    "    def removeLeafNodes(self, root, target: int):\n",
    "        return self.dfs(root, target)\n",
    "    \n",
    "    def dfs(self, root, target):\n",
    "        if not root:\n",
    "            return\n",
    "        \n",
    "        root.left = self.dfs(root.left, target)\n",
    "        root.right = self.dfs(root.right, target)\n",
    "        \n",
    "        if root.value == target and not root.left and not root.right:\n",
    "            root = None\n",
    "            \n",
    "        return root\n",
    "    \n",
    "s1 = Solution()\n",
    "s1.removeLeafNodes(my_tree, 2)"
   ]
  },
  {
   "cell_type": "code",
   "execution_count": null,
   "metadata": {},
   "outputs": [],
   "source": []
  }
 ],
 "metadata": {
  "kernelspec": {
   "display_name": "Python 3",
   "language": "python",
   "name": "python3"
  },
  "language_info": {
   "codemirror_mode": {
    "name": "ipython",
    "version": 3
   },
   "file_extension": ".py",
   "mimetype": "text/x-python",
   "name": "python",
   "nbconvert_exporter": "python",
   "pygments_lexer": "ipython3",
   "version": "3.7.7"
  }
 },
 "nbformat": 4,
 "nbformat_minor": 2
}
