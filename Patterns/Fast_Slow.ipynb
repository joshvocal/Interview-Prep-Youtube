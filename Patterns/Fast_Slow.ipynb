{
 "cells": [
  {
   "cell_type": "markdown",
   "metadata": {},
   "source": [
    "# Fast Slow\n",
    "\n",
    "* ⭐️ [19. Remove Nth Node From End of List](#19.-Remove-Nth-Node-From-End-of-List)\n"
   ]
  },
  {
   "cell_type": "markdown",
   "metadata": {},
   "source": [
    "# 19. Remove Nth Node From End of List\n",
    "\n",
    "Idea:\n",
    "\n",
    "* Use two pointers, one fast and one slow\n",
    "* Fast will advance n positions in the linked list first\n",
    "* Advance Fast and Slow util Fast is at the last position of the LL\n",
    "* Change Slow.next to Slow.next.next to remove the Slow.next node"
   ]
  },
  {
   "cell_type": "code",
   "execution_count": 1,
   "metadata": {},
   "outputs": [],
   "source": [
    "class ListNode:\n",
    "    def __init__(self, x):\n",
    "        self.val = x\n",
    "        self.next = None\n",
    "\n",
    "class Solution:\n",
    "    def removeNthFromEnd(self, head: ListNode, n: int) -> ListNode:\n",
    "        if not head:\n",
    "            return head\n",
    "        \n",
    "        fast = head\n",
    "        slow = head\n",
    "        \n",
    "        # Advance the fast pointer n positions\n",
    "        for _ in range(n):\n",
    "            fast = fast.next\n",
    "\n",
    "        if not fast:\n",
    "            return head.next\n",
    "            \n",
    "        while fast.next:\n",
    "            fast = fast.next\n",
    "            slow = slow.next\n",
    "            \n",
    "        slow.next = slow.next.next    \n",
    "        \n",
    "        return head"
   ]
  },
  {
   "cell_type": "code",
   "execution_count": null,
   "metadata": {},
   "outputs": [],
   "source": []
  }
 ],
 "metadata": {
  "kernelspec": {
   "display_name": "Python 3",
   "language": "python",
   "name": "python3"
  },
  "language_info": {
   "codemirror_mode": {
    "name": "ipython",
    "version": 3
   },
   "file_extension": ".py",
   "mimetype": "text/x-python",
   "name": "python",
   "nbconvert_exporter": "python",
   "pygments_lexer": "ipython3",
   "version": "3.7.5"
  }
 },
 "nbformat": 4,
 "nbformat_minor": 2
}
