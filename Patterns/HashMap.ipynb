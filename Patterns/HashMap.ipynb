{
 "cells": [
  {
   "cell_type": "markdown",
   "metadata": {},
   "source": [
    "# HashTable"
   ]
  },
  {
   "cell_type": "markdown",
   "metadata": {},
   "source": [
    "* [1133. Largest Unique Number](#1133.-Largest-Unique-Number)\n"
   ]
  },
  {
   "cell_type": "markdown",
   "metadata": {},
   "source": [
    "# 1133. Largest Unmique Number"
   ]
  },
  {
   "cell_type": "markdown",
   "metadata": {},
   "source": [
    "Time: `O(n)`\n",
    "\n",
    "* We are storing all the elements and their counts in a hashmap. There can be at most `n` unique numbers that are not duplicated \n",
    "\n",
    "Space: `O(n)`\n",
    "\n",
    "* We need to store all the unqiue nubmers in the array"
   ]
  },
  {
   "cell_type": "code",
   "execution_count": 6,
   "metadata": {},
   "outputs": [
    {
     "data": {
      "text/plain": [
       "8"
      ]
     },
     "execution_count": 6,
     "metadata": {},
     "output_type": "execute_result"
    }
   ],
   "source": [
    "def largestUniqueNumber(A) -> int:\n",
    "    dic = {}\n",
    "\n",
    "    for a in A:\n",
    "        dic[a] = dic.get(a, 0) + 1\n",
    "\n",
    "    m = -1\n",
    "\n",
    "    for key in dic:\n",
    "        if dic[key] == 1:\n",
    "            m = max(m, key)\n",
    "\n",
    "    return m\n",
    "\n",
    "A = [5,7,3,9,4,9,8,3,1]\n",
    "largestUniqueNumber(A)"
   ]
  },
  {
   "cell_type": "code",
   "execution_count": null,
   "metadata": {},
   "outputs": [],
   "source": []
  }
 ],
 "metadata": {
  "kernelspec": {
   "display_name": "Python 3",
   "language": "python",
   "name": "python3"
  },
  "language_info": {
   "codemirror_mode": {
    "name": "ipython",
    "version": 3
   },
   "file_extension": ".py",
   "mimetype": "text/x-python",
   "name": "python",
   "nbconvert_exporter": "python",
   "pygments_lexer": "ipython3",
   "version": "3.7.7"
  }
 },
 "nbformat": 4,
 "nbformat_minor": 2
}
