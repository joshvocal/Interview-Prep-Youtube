{
 "cells": [
  {
   "cell_type": "markdown",
   "metadata": {},
   "source": [
    "# HashTable"
   ]
  },
  {
   "cell_type": "markdown",
   "metadata": {},
   "source": [
    "* [771. Jewels and Stones](#771.-Jewels-and-Stones)\n",
    "\n",
    "* [1133. Largest Unique Number](#1133.-Largest-Unique-Number)"
   ]
  },
  {
   "cell_type": "markdown",
   "metadata": {},
   "source": [
    "# 771. Jewels and Stones\n",
    "\n",
    "**Solution 1: Brute Force**\n",
    "\n",
    "Time: `O(j*s)`\n",
    "\n",
    "Space: `O(1)`\n",
    "\n",
    "Idea: Search through each of the stones and for each stone, search if it is a jewel. Every time we see a stone is a jewel, increase our `count`.\n",
    "\n",
    "Improvements: We are iterating through `J`, multiple times and that can be reduced.\n",
    "\n",
    "**Solution 2: HashMap**\n",
    "\n",
    "Time: `O(j + s)` = We iterate through the stones `s`, once and iterate through `j` once.\n",
    "\n",
    "Space: `O(s)` - Where `s` is the number of unique stones that we are storing the occurance of.\n",
    "\n",
    "Idea: Store the frequency of the number of stones in a `HashMap`, so we can quickly look up how many occurances we have. Next, iterate through the jewels and add the count to our final jewel count."
   ]
  },
  {
   "cell_type": "code",
   "execution_count": 12,
   "metadata": {},
   "outputs": [
    {
     "data": {
      "text/plain": [
       "3"
      ]
     },
     "execution_count": 12,
     "metadata": {},
     "output_type": "execute_result"
    }
   ],
   "source": [
    "class Solution1:\n",
    "    def numJewelsInStones(self, J, S):\n",
    "        count = 0\n",
    "        \n",
    "        for stone in S:\n",
    "            for jewel in J:\n",
    "                if jewel == stone:\n",
    "                    count +=1\n",
    "                    \n",
    "        return count\n",
    "    \n",
    "s = Solution1()\n",
    "J = \"aA\"\n",
    "S = \"aAAbbbb\"\n",
    "s.numJewelsInStones(J, S)"
   ]
  },
  {
   "cell_type": "code",
   "execution_count": 11,
   "metadata": {},
   "outputs": [
    {
     "data": {
      "text/plain": [
       "3"
      ]
     },
     "execution_count": 11,
     "metadata": {},
     "output_type": "execute_result"
    }
   ],
   "source": [
    "class Solution2:\n",
    "    def numJewelsInStones(self, J, S):\n",
    "        freq = {}\n",
    "        count = 0\n",
    "        \n",
    "        for stone in S:\n",
    "            freq[stone] = freq.get(stone, 0) + 1\n",
    "        \n",
    "        for jewel in J:\n",
    "             count += freq.get(jewel, 0)\n",
    "                \n",
    "        return count\n",
    "    \n",
    "s = Solution2()\n",
    "J = \"aA\"\n",
    "S = \"aAAbbbb\"\n",
    "s.numJewelsInStones(J, S)"
   ]
  },
  {
   "cell_type": "markdown",
   "metadata": {},
   "source": [
    "\n",
    "# 1133. Largest Unmique Number"
   ]
  },
  {
   "cell_type": "markdown",
   "metadata": {},
   "source": [
    "Time: `O(n)`\n",
    "\n",
    "* We are storing all the elements and their counts in a hashmap. There can be at most `n` unique numbers that are not duplicated \n",
    "\n",
    "Space: `O(n)`\n",
    "\n",
    "* We need to store all the unqiue nubmers in the array"
   ]
  },
  {
   "cell_type": "code",
   "execution_count": 6,
   "metadata": {},
   "outputs": [
    {
     "data": {
      "text/plain": [
       "8"
      ]
     },
     "execution_count": 6,
     "metadata": {},
     "output_type": "execute_result"
    }
   ],
   "source": [
    "def largestUniqueNumber(A) -> int:\n",
    "    dic = {}\n",
    "\n",
    "    for a in A:\n",
    "        dic[a] = dic.get(a, 0) + 1\n",
    "\n",
    "    m = -1\n",
    "\n",
    "    for key in dic:\n",
    "        if dic[key] == 1:\n",
    "            m = max(m, key)\n",
    "\n",
    "    return m\n",
    "\n",
    "A = [5,7,3,9,4,9,8,3,1]\n",
    "largestUniqueNumber(A)"
   ]
  },
  {
   "cell_type": "code",
   "execution_count": null,
   "metadata": {},
   "outputs": [],
   "source": []
  }
 ],
 "metadata": {
  "kernelspec": {
   "display_name": "Python 3",
   "language": "python",
   "name": "python3"
  },
  "language_info": {
   "codemirror_mode": {
    "name": "ipython",
    "version": 3
   },
   "file_extension": ".py",
   "mimetype": "text/x-python",
   "name": "python",
   "nbconvert_exporter": "python",
   "pygments_lexer": "ipython3",
   "version": "3.7.7"
  }
 },
 "nbformat": 4,
 "nbformat_minor": 2
}
