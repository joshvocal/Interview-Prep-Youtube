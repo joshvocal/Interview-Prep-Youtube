{
 "cells": [
  {
   "cell_type": "markdown",
   "metadata": {},
   "source": [
    "# HashTable"
   ]
  },
  {
   "cell_type": "markdown",
   "metadata": {},
   "source": [
    "### Frequency\n",
    "* [383. Ransom Note](#383.-Ransom-Note)\n",
    "\n",
    "* [771. Jewels and Stones](#771.-Jewels-and-Stones)\n",
    "\n",
    "* [1133. Largest Unique Number](#1133.-Largest-Unique-Number)\n",
    "\n",
    "\n",
    "### Floyd Cycle Detection\n",
    "* [202. Happy Number](#202.-Happy-Number)"
   ]
  },
  {
   "cell_type": "markdown",
   "metadata": {},
   "source": [
    "# 383. Ransom Note"
   ]
  },
  {
   "cell_type": "markdown",
   "metadata": {},
   "source": [
    "**Solution 1: HashMap**\n",
    "\n",
    "Time: `O(n + m)`\n",
    "\n",
    "Space: `O(m)`\n",
    "\n",
    "Idea:\n",
    "\n",
    "* Use a hashmap to store the frequency of the characters. If we use more characters than we have, we cannot make the ransom note."
   ]
  },
  {
   "cell_type": "code",
   "execution_count": 1,
   "metadata": {},
   "outputs": [],
   "source": [
    "class Solution:\n",
    "    def canConstruct(self, ransomNote: str, magazine: str) -> bool:\n",
    "        freq = dict()\n",
    "        \n",
    "        for char in magazine:  \n",
    "            freq[char] = freq.get(char, 0) + 1\n",
    "            \n",
    "        for char in ransomNote:\n",
    "            freq[char] = freq.get(char, 0) - 1\n",
    "            \n",
    "        for key in freq:\n",
    "            if freq[key] < 0:\n",
    "                return False\n",
    "            \n",
    "        return True"
   ]
  },
  {
   "cell_type": "code",
   "execution_count": 4,
   "metadata": {},
   "outputs": [
    {
     "data": {
      "text/plain": [
       "True"
      ]
     },
     "execution_count": 4,
     "metadata": {},
     "output_type": "execute_result"
    }
   ],
   "source": [
    "s = Solution()\n",
    "s.canConstruct(\"aa\", \"aab\")"
   ]
  },
  {
   "cell_type": "markdown",
   "metadata": {},
   "source": [
    "# 771. Jewels and Stones\n",
    "\n",
    "**Solution 1: Brute Force**\n",
    "\n",
    "Time: `O(j*s)`\n",
    "\n",
    "Space: `O(1)`\n",
    "\n",
    "Idea: Search through each of the stones and for each stone, search if it is a jewel. Every time we see a stone is a jewel, increase our `count`.\n",
    "\n",
    "Improvements: We are iterating through `J`, multiple times and that can be reduced.\n",
    "\n",
    "**Solution 2: HashMap**\n",
    "\n",
    "Time: `O(j + s)` = We iterate through the stones `s`, once and iterate through `j` once.\n",
    "\n",
    "Space: `O(s)` - Where `s` is the number of unique stones that we are storing the occurance of.\n",
    "\n",
    "Idea: Store the frequency of the number of stones in a `HashMap`, so we can quickly look up how many occurances we have. Next, iterate through the jewels and add the count to our final jewel count."
   ]
  },
  {
   "cell_type": "code",
   "execution_count": 12,
   "metadata": {},
   "outputs": [
    {
     "data": {
      "text/plain": [
       "3"
      ]
     },
     "execution_count": 12,
     "metadata": {},
     "output_type": "execute_result"
    }
   ],
   "source": [
    "class Solution1:\n",
    "    def numJewelsInStones(self, J, S):\n",
    "        count = 0\n",
    "        \n",
    "        for stone in S:\n",
    "            for jewel in J:\n",
    "                if jewel == stone:\n",
    "                    count +=1\n",
    "                    \n",
    "        return count\n",
    "    \n",
    "s = Solution1()\n",
    "J = \"aA\"\n",
    "S = \"aAAbbbb\"\n",
    "s.numJewelsInStones(J, S)"
   ]
  },
  {
   "cell_type": "code",
   "execution_count": 11,
   "metadata": {},
   "outputs": [
    {
     "data": {
      "text/plain": [
       "3"
      ]
     },
     "execution_count": 11,
     "metadata": {},
     "output_type": "execute_result"
    }
   ],
   "source": [
    "class Solution2:\n",
    "    def numJewelsInStones(self, J, S):\n",
    "        freq = {}\n",
    "        count = 0\n",
    "        \n",
    "        for stone in S:\n",
    "            freq[stone] = freq.get(stone, 0) + 1\n",
    "        \n",
    "        for jewel in J:\n",
    "             count += freq.get(jewel, 0)\n",
    "                \n",
    "        return count\n",
    "    \n",
    "s = Solution2()\n",
    "J = \"aA\"\n",
    "S = \"aAAbbbb\"\n",
    "s.numJewelsInStones(J, S)"
   ]
  },
  {
   "cell_type": "markdown",
   "metadata": {},
   "source": [
    "\n",
    "# 1133. Largest Unmique Number"
   ]
  },
  {
   "cell_type": "markdown",
   "metadata": {},
   "source": [
    "Time: `O(n)`\n",
    "\n",
    "* We are storing all the elements and their counts in a hashmap. There can be at most `n` unique numbers that are not duplicated \n",
    "\n",
    "Space: `O(n)`\n",
    "\n",
    "* We need to store all the unqiue nubmers in the array"
   ]
  },
  {
   "cell_type": "code",
   "execution_count": 6,
   "metadata": {},
   "outputs": [
    {
     "data": {
      "text/plain": [
       "8"
      ]
     },
     "execution_count": 6,
     "metadata": {},
     "output_type": "execute_result"
    }
   ],
   "source": [
    "def largestUniqueNumber(A) -> int:\n",
    "    dic = {}\n",
    "\n",
    "    for a in A:\n",
    "        dic[a] = dic.get(a, 0) + 1\n",
    "\n",
    "    m = -1\n",
    "\n",
    "    for key in dic:\n",
    "        if dic[key] == 1:\n",
    "            m = max(m, key)\n",
    "\n",
    "    return m\n",
    "\n",
    "A = [5,7,3,9,4,9,8,3,1]\n",
    "largestUniqueNumber(A)"
   ]
  },
  {
   "cell_type": "markdown",
   "metadata": {},
   "source": [
    "# Frequency"
   ]
  },
  {
   "cell_type": "markdown",
   "metadata": {},
   "source": [
    "# 202. Happy Number\n",
    "\n",
    "**Solution 1: HashSet**\n",
    "\n",
    "Time: `O(logn)` Not exactly sure how to calculate how many numbers will be in the cycle\n",
    "\n",
    "Space: `O(logn)` This is the number of elements that will be in the `seen` set and will be in the cycle.\n",
    "\n",
    "Idea:\n",
    "\n",
    "* We know that the cycle either ends in the number `1` or it will continue looping forever. We can keep looping til `n` becomes 1 or it is need in the cycle again. We can use a `set` to determine if we have seen this again.\n",
    "\n",
    "\n",
    "* We should also know how to extract the least significant digit from a number using modulo.\n",
    "\n",
    "**Solution 2: Floyd Cycle Detection**\n",
    "\n",
    "Time: `O(logn)` We need to use two pointers to calculate how many numbers will be in the cycle\n",
    "\n",
    "Space: `O(1)` We are not using any additional space to store numbers in the cycle. Instead, we are just using two pointers to keep where we are in the sequence.\n",
    "\n",
    "Idea:\n",
    "\n",
    "* We know that this number sequence is a cycle. We can use that to our advantage using the Floyd Cycle Detection algorithm with two pointers. We have one pointer which advances one at a time, and another pointer which advances two at a time. If there is a cycle, they will eventually meet. If there is no cycle, the `fast` pointer will eventually reach the end.\n",
    "\n",
    "\n",
    "* We can keep looping and using these conditions, we can determine if a number ends in `1` or not."
   ]
  },
  {
   "cell_type": "code",
   "execution_count": 15,
   "metadata": {},
   "outputs": [],
   "source": [
    "class Solution1:\n",
    "    def isHappy(self, n):\n",
    "        seen = set()\n",
    "        \n",
    "        while n != 1 and n not in seen:\n",
    "            seen.add(n)\n",
    "            n = self.getNext(n)\n",
    "            \n",
    "        return n == 1\n",
    "    \n",
    "    def getNext(self, n):\n",
    "        newSum = 0\n",
    "        \n",
    "        while n:\n",
    "            digit = n % 10\n",
    "            newSum += digit ** 2\n",
    "            n //= 10\n",
    "            \n",
    "        return newSum"
   ]
  },
  {
   "cell_type": "code",
   "execution_count": 16,
   "metadata": {},
   "outputs": [
    {
     "name": "stdout",
     "output_type": "stream",
     "text": [
      "True\n",
      "False\n"
     ]
    }
   ],
   "source": [
    "s1 = Solution1()\n",
    "\n",
    "print(s1.isHappy(19))\n",
    "print(s1.isHappy(4))"
   ]
  },
  {
   "cell_type": "code",
   "execution_count": 17,
   "metadata": {},
   "outputs": [],
   "source": [
    "class Solution2:\n",
    "    def isHappy(self, n):\n",
    "        slow = n\n",
    "        fast = self.getNext(n)\n",
    "        \n",
    "        while fast != 1 and slow != fast:\n",
    "            slow = self.getNext(slow)\n",
    "            fast = self.getNext(self.getNext(fast))\n",
    "            \n",
    "        return fast == 1\n",
    "    \n",
    "    def getNext(self, n):\n",
    "        newSum = 0\n",
    "        \n",
    "        while n:\n",
    "            digit = n % 10\n",
    "            newSum += digit ** 2\n",
    "            n //= 10\n",
    "            \n",
    "        return newSum"
   ]
  },
  {
   "cell_type": "code",
   "execution_count": 19,
   "metadata": {},
   "outputs": [
    {
     "name": "stdout",
     "output_type": "stream",
     "text": [
      "True\n",
      "False\n"
     ]
    }
   ],
   "source": [
    "s2 = Solution2()\n",
    "print(s2.isHappy(19))\n",
    "print(s2.isHappy(4))"
   ]
  },
  {
   "cell_type": "code",
   "execution_count": null,
   "metadata": {},
   "outputs": [],
   "source": []
  }
 ],
 "metadata": {
  "kernelspec": {
   "display_name": "Python 3",
   "language": "python",
   "name": "python3"
  },
  "language_info": {
   "codemirror_mode": {
    "name": "ipython",
    "version": 3
   },
   "file_extension": ".py",
   "mimetype": "text/x-python",
   "name": "python",
   "nbconvert_exporter": "python",
   "pygments_lexer": "ipython3",
   "version": "3.7.7"
  }
 },
 "nbformat": 4,
 "nbformat_minor": 2
}
