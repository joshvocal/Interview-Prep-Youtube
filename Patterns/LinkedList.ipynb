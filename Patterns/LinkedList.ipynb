{
 "cells": [
  {
   "cell_type": "markdown",
   "metadata": {},
   "source": [
    "# Linked List"
   ]
  },
  {
   "cell_type": "markdown",
   "metadata": {},
   "source": [
    "### Two Pointer\n",
    "\n",
    "* [21. Merge Two Sorted Lists](#21.-Merge-Two-Sorted-Lists)\n",
    "* [141. Linked List Cycle](#141.-Linked-List-Cycle)\n",
    "* [142. Linked List Cycle II](#142.-Linked-List-Cycle-II)\n",
    "* [328. Odd Even Linked List](#328.-Odd-Even-Linked-List)"
   ]
  },
  {
   "cell_type": "markdown",
   "metadata": {},
   "source": [
    "# 21. Merge Two Sorted Lists\n",
    "\n",
    "**Solution 1: Two Pointers**\n",
    "\n",
    "Time: `O(n)`\n",
    "\n",
    "Space: `O(1)`\n",
    "\n",
    "Idea:\n",
    "\n",
    "* Use two pointers. One to keep track of the head called `dummy` and another `l3`, to traverse the linked lists.\n",
    "* Move `l3.next` to the lower valued of the two linked lists and advance `l3 = l3.next` every iteration\n",
    "* One of the lists may finish before the other, we should add a case which checks if there are any elements remaining in the list and add the rest in. We can safely assume this because if one of the lists contains no more elements, the rest of the elements must be greater."
   ]
  },
  {
   "cell_type": "code",
   "execution_count": 1,
   "metadata": {},
   "outputs": [],
   "source": [
    "class Solution:\n",
    "    def mergeTwoLists(self, l1, l2):\n",
    "        if not l1 and not l2:\n",
    "            return None\n",
    "        \n",
    "        dummy = ListNode(-1)\n",
    "        l3 = dummy\n",
    "        dummy.next = l3\n",
    "        \n",
    "        while l1 and l2:\n",
    "            if l1.val < l2.val:\n",
    "                l3.next = l1\n",
    "                l1 = l1.next\n",
    "            else:    \n",
    "                l3.next = l2\n",
    "                l2 = l2.next\n",
    "                \n",
    "            l3 = l3.next\n",
    "            \n",
    "        if l1:\n",
    "            l3.next = l1\n",
    "            \n",
    "        if l2:\n",
    "            l3.next = l2\n",
    "            \n",
    "        return dummy.next"
   ]
  },
  {
   "cell_type": "markdown",
   "metadata": {},
   "source": [
    "# 141. Linked List Cycle\n",
    "\n",
    "**Solution 1: HashSet**\n",
    "\n",
    "Time: `O(n)` - We need to iterate through the entire lengh of the linked list\n",
    "\n",
    "Space: `O(n)` - The cycle can be right at the beginning of the linked list and we will have to store all the nodes at least once before we get back to the cycle.\n",
    "\n",
    "Idea:\n",
    "\n",
    "* We can use a `set` to keep track of all the unique nodes that we see in the linked list. Every time we visit a node, we add it to our `seen` set. If we come across a node again, we know that we have come across a cycle.\n",
    "\n",
    "**Solution 2: Two Pointesr**\n",
    "\n",
    "Time: `O(n)` - We have two pointers, `fast` and `slow`. `fast` advances two times as fast as `slow`. It will reach the end with `n/2` but it will still be `O(n)`\n",
    "\n",
    "Space: `O(1)` - We are not using any additional space since are only using two pointers to keep track of which nodes we are currently visiting.\n",
    "\n",
    "Idea:\n",
    "\n",
    "* We can use two pointers to keep track where we are in the linked list. If the `fast` pointer becomes `null`, we know that we have reached the end of the linked list and there isn't a cycle. If there is a cycle, the `fast` and `slow` pointer will eventually meet."
   ]
  },
  {
   "cell_type": "code",
   "execution_count": 2,
   "metadata": {},
   "outputs": [],
   "source": [
    "class ListNode:\n",
    "    def __init__(self, x):\n",
    "        self.val = x\n",
    "        self.next = None\n",
    "        \n",
    "        \n",
    "head = ListNode(1)\n",
    "two = ListNode(2)\n",
    "three = ListNode(3)\n",
    "four = ListNode(4)\n",
    "\n",
    "head.next = two\n",
    "two.next = three\n",
    "three.next = four\n",
    "four.next = two"
   ]
  },
  {
   "cell_type": "code",
   "execution_count": 3,
   "metadata": {},
   "outputs": [],
   "source": [
    "class Solution1:\n",
    "    def isCycle(self, head) -> bool:\n",
    "        if not head:\n",
    "            return False\n",
    "        \n",
    "        seen = set()\n",
    "        runner = head\n",
    "        \n",
    "        while runner:\n",
    "            if runner in seen:\n",
    "                return True\n",
    "            \n",
    "            seen.add(runner)\n",
    "            runner = runner.next\n",
    "            \n",
    "        return False"
   ]
  },
  {
   "cell_type": "code",
   "execution_count": 4,
   "metadata": {},
   "outputs": [
    {
     "data": {
      "text/plain": [
       "True"
      ]
     },
     "execution_count": 4,
     "metadata": {},
     "output_type": "execute_result"
    }
   ],
   "source": [
    "s1 = Solution1()\n",
    "s1.isCycle(head)"
   ]
  },
  {
   "cell_type": "code",
   "execution_count": 5,
   "metadata": {},
   "outputs": [],
   "source": [
    "class Solution2:\n",
    "    def isCycle(self, head) -> bool:\n",
    "        if not head:\n",
    "            return False\n",
    "        \n",
    "        slow = head\n",
    "        fast = head\n",
    "        \n",
    "        while fast and fast.next:\n",
    "            slow = slow.next\n",
    "            fast = fast.next.next\n",
    "            \n",
    "            if slow == fast:\n",
    "                return True\n",
    "            \n",
    "        return False"
   ]
  },
  {
   "cell_type": "code",
   "execution_count": 6,
   "metadata": {},
   "outputs": [
    {
     "data": {
      "text/plain": [
       "True"
      ]
     },
     "execution_count": 6,
     "metadata": {},
     "output_type": "execute_result"
    }
   ],
   "source": [
    "s2 = Solution2()\n",
    "s2.isCycle(head)"
   ]
  },
  {
   "cell_type": "markdown",
   "metadata": {},
   "source": [
    "# 142. Linked List Cycle II"
   ]
  },
  {
   "cell_type": "markdown",
   "metadata": {},
   "source": [
    "**Solution 1: Hashset**\n",
    "\n",
    "Time: `O(n)` - We need to search through the entire LL\n",
    "\n",
    "Space: `O(n)` - We might have to store all the nodes in the LL in `seen`\n",
    "\n",
    "Idea:\n",
    "\n",
    "* Go through the LL and record every node that we visit. If we come across a node that we've seen before, that is the beginning of the cycle.\n",
    "\n",
    "\n",
    "**Solution 2: Floyd Cycle Detection**\n",
    "\n",
    "Time: `O(n)`\n",
    "\n",
    "Space: `O(1)` - No additional space\n",
    "\n",
    "Idea:\n",
    "\n",
    "* The first part of the FCD algo lets us determine if there is a cycle or not in the LL. Once we have determine that there is a cycle, we need to find the beginning of that cycle. We restart the `slow` pointer at the beginning of the LL and we advance both pointers at the same time. They will eventually meet and that is were the cycle will have started."
   ]
  },
  {
   "cell_type": "code",
   "execution_count": 7,
   "metadata": {},
   "outputs": [],
   "source": [
    "class Solution1:\n",
    "    def detectCycle(self, head):\n",
    "        if not head:\n",
    "            return None\n",
    "        \n",
    "        seen = set()\n",
    "        \n",
    "        runner = head\n",
    "        \n",
    "        while runner:\n",
    "            if runner in seen:\n",
    "                return runner\n",
    "            \n",
    "            seen.add(runner)\n",
    "            runner = runner.next\n",
    "            \n",
    "        return None"
   ]
  },
  {
   "cell_type": "code",
   "execution_count": 8,
   "metadata": {},
   "outputs": [],
   "source": [
    "class Solution2:\n",
    "    def detectCycle(self, head):\n",
    "        if not head:\n",
    "            return None\n",
    "        \n",
    "        slow = head\n",
    "        fast = head\n",
    "        \n",
    "        while fast and fast.next:\n",
    "            slow = slow.next\n",
    "            fast = fast.next.next\n",
    "            \n",
    "            if slow == fast:\n",
    "                break\n",
    "                \n",
    "        if not fast or not fast.next:\n",
    "            return None\n",
    "        \n",
    "        slow = head\n",
    "        \n",
    "        while slow != fast:\n",
    "            slow = slow.next\n",
    "            fast = fast.next\n",
    "            \n",
    "        return fast"
   ]
  },
  {
   "cell_type": "markdown",
   "metadata": {},
   "source": [
    "# 328. Odd Even Linked List\n",
    "\n",
    "**Solution 1: Odd and Even Pointer**\n",
    "\n",
    "Time: `O(n)`\n",
    "\n",
    "Space: `O(1)`\n",
    "\n",
    "Idea:\n",
    "\n",
    "* Use two pointers to traverse the odd and even nodes called `odd` and `even`\n",
    "* Use two pointers to keep track of the head of the odd and even nodes called `oddHead` and `evenHead`\n",
    "* Use a while loop to keep advancing these two pointers until the `even` node hits the end of the linked list.\n",
    "* Change `even.next` to `oddHead` to link the odd and even lists together."
   ]
  },
  {
   "cell_type": "code",
   "execution_count": 9,
   "metadata": {},
   "outputs": [],
   "source": [
    "class Solution:\n",
    "    def oddEvenList(self, head):\n",
    "        if not head:\n",
    "            return head\n",
    "        \n",
    "        if head and not head.next:\n",
    "            return head\n",
    "        \n",
    "        oddHead = head\n",
    "        odd = head\n",
    "        \n",
    "        evenHead = head.next\n",
    "        even = head.next\n",
    "        \n",
    "        while even and even.next:\n",
    "            odd.next = odd.next.next\n",
    "            odd = odd.next\n",
    "            \n",
    "            even.next = even.next.next\n",
    "            even = even.next\n",
    "        \n",
    "        odd.next = evenHead\n",
    "        \n",
    "        return oddHead"
   ]
  },
  {
   "cell_type": "code",
   "execution_count": null,
   "metadata": {},
   "outputs": [],
   "source": []
  }
 ],
 "metadata": {
  "kernelspec": {
   "display_name": "Python 3",
   "language": "python",
   "name": "python3"
  },
  "language_info": {
   "codemirror_mode": {
    "name": "ipython",
    "version": 3
   },
   "file_extension": ".py",
   "mimetype": "text/x-python",
   "name": "python",
   "nbconvert_exporter": "python",
   "pygments_lexer": "ipython3",
   "version": "3.7.7"
  }
 },
 "nbformat": 4,
 "nbformat_minor": 2
}
