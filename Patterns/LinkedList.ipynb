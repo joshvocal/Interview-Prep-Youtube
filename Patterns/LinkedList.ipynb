{
 "cells": [
  {
   "cell_type": "markdown",
   "metadata": {},
   "source": [
    "# Linked List"
   ]
  },
  {
   "cell_type": "markdown",
   "metadata": {},
   "source": [
    "### Two Pointer\n",
    "\n",
    "* [141. Linked List Cycle](#141.-Linked-List-Cycle)"
   ]
  },
  {
   "cell_type": "markdown",
   "metadata": {},
   "source": [
    "# 141. Linked List Cycle\n",
    "\n",
    "**Solution 1: HashSet**\n",
    "\n",
    "Time: `O(n)` - We need to iterate through the entire lengh of the linked list\n",
    "\n",
    "Space: `O(n)` - The cycle can be right at the beginning of the linked list and we will have to store all the nodes at least once before we get back to the cycle.\n",
    "\n",
    "Idea:\n",
    "\n",
    "* We can use a `set` to keep track of all the unique nodes that we see in the linked list. Every time we visit a node, we add it to our `seen` set. If we come across a node again, we know that we have come across a cycle.\n",
    "\n",
    "**Solution 2: Two Pointesr**\n",
    "\n",
    "Time: `O(n)` - We have two pointers, `fast` and `slow`. `fast` advances two times as fast as `slow`. It will reach the end with `n/2` but it will still be `O(n)`\n",
    "\n",
    "Space: `O(1)` - We are not using any additional space since are only using two pointers to keep track of which nodes we are currently visiting.\n",
    "\n",
    "Idea:\n",
    "\n",
    "* We can use two pointers to keep track where we are in the linked list. If the `fast` pointer becomes `null`, we know that we have reached the end of the linked list and there isn't a cycle. If there is a cycle, the `fast` and `slow` pointer will eventually meet."
   ]
  },
  {
   "cell_type": "code",
   "execution_count": 14,
   "metadata": {},
   "outputs": [],
   "source": [
    "class ListNode:\n",
    "    def __init__(self, x):\n",
    "        self.val = x\n",
    "        self.next = None\n",
    "        \n",
    "        \n",
    "head = ListNode(1)\n",
    "two = ListNode(2)\n",
    "three = ListNode(3)\n",
    "four = ListNode(4)\n",
    "\n",
    "head.next = two\n",
    "two.next = three\n",
    "three.next = four\n",
    "four.next = two"
   ]
  },
  {
   "cell_type": "code",
   "execution_count": 10,
   "metadata": {},
   "outputs": [],
   "source": [
    "class Solution1:\n",
    "    def isCycle(self, head) -> bool:\n",
    "        if not head:\n",
    "            return False\n",
    "        \n",
    "        seen = set()\n",
    "        runner = head\n",
    "        \n",
    "        while runner:\n",
    "            if runner in seen:\n",
    "                return True\n",
    "            \n",
    "            seen.add(runner)\n",
    "            runner = runner.next\n",
    "            \n",
    "        return False"
   ]
  },
  {
   "cell_type": "code",
   "execution_count": 11,
   "metadata": {},
   "outputs": [
    {
     "data": {
      "text/plain": [
       "True"
      ]
     },
     "execution_count": 11,
     "metadata": {},
     "output_type": "execute_result"
    }
   ],
   "source": [
    "s1 = Solution1()\n",
    "s1.isCycle(head)"
   ]
  },
  {
   "cell_type": "code",
   "execution_count": 12,
   "metadata": {},
   "outputs": [],
   "source": [
    "class Solution2:\n",
    "    def isCycle(self, head) -> bool:\n",
    "        if not head:\n",
    "            return False\n",
    "        \n",
    "        slow = head\n",
    "        fast = head\n",
    "        \n",
    "        while fast and fast.next:\n",
    "            slow = slow.next\n",
    "            fast = fast.next.next\n",
    "            \n",
    "            if slow == fast:\n",
    "                return True\n",
    "            \n",
    "        return False"
   ]
  },
  {
   "cell_type": "code",
   "execution_count": 13,
   "metadata": {},
   "outputs": [
    {
     "data": {
      "text/plain": [
       "True"
      ]
     },
     "execution_count": 13,
     "metadata": {},
     "output_type": "execute_result"
    }
   ],
   "source": [
    "s2 = Solution2()\n",
    "s2.isCycle(head)"
   ]
  }
 ],
 "metadata": {
  "kernelspec": {
   "display_name": "Python 3",
   "language": "python",
   "name": "python3"
  },
  "language_info": {
   "codemirror_mode": {
    "name": "ipython",
    "version": 3
   },
   "file_extension": ".py",
   "mimetype": "text/x-python",
   "name": "python",
   "nbconvert_exporter": "python",
   "pygments_lexer": "ipython3",
   "version": "3.7.7"
  }
 },
 "nbformat": 4,
 "nbformat_minor": 2
}
