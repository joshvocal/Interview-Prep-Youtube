{
 "cells": [
  {
   "cell_type": "markdown",
   "metadata": {},
   "source": [
    "# DFS"
   ]
  },
  {
   "cell_type": "markdown",
   "metadata": {},
   "source": [
    "\n",
    "### Tree\n",
    "* [104. Maximum Depth of Binary Tree](#104.-Maximum-Depth-of-Binary-Tree)\n",
    "\n",
    "* [112. Path Sum](#112.-Path-Sum)\n",
    "\n",
    "* [257. Binary Tree Paths](#257.-Binary-Tree-Paths)\n",
    "\n",
    "* [814. Binary Tree Pruning](#814.-Binary-Tree-Pruning)\n",
    "\n",
    "* [872. Leaf-Similar Trees](#872.-Leaf-Similar-Trees)\n",
    "\n",
    "* [993. Cousins in Binary Tree](#993.-Cousins-in-Binary-Tree)\n",
    "\n",
    "* [1430. Check If a String Is a Valid Sequence from Root to Leaves Path in a Binary Tree](#1430.-Check-If-a-String-Is-a-Valid-Sequence-from-Root-to-Leaves-Path-in-a-Binary-Tree)\n",
    "\n",
    "### Graph\n",
    "\n",
    "#### Flood Fill\n",
    "\n",
    "* [694. Number of Distinct Islands](#694.-Number-of-Distinct-Islands)\n",
    "\n",
    "* [733. Flood Fill](#733.-Flood-Fill)\n",
    "\n",
    "\n",
    "### N-ary Tree\n",
    "\n",
    "* [559. Maximum Depth of N-ary Tree](#559.-Maximum-Depth-of-N-ary-Tree)"
   ]
  },
  {
   "cell_type": "markdown",
   "metadata": {},
   "source": [
    "## Tree"
   ]
  },
  {
   "cell_type": "markdown",
   "metadata": {},
   "source": [
    "# 104. Maximum Depth of Binary Tree\n",
    "\n",
    "Given a binary tree, find its maximum depth.\n",
    "\n",
    "The maximum depth is the number of nodes along the longest path from the root node down to the farthest leaf node.\n",
    "\n",
    "Note: A leaf is a node with no children."
   ]
  },
  {
   "cell_type": "code",
   "execution_count": 1,
   "metadata": {},
   "outputs": [],
   "source": [
    "class Solution(object):\n",
    "    def dfs(self, root):\n",
    "        if not root:\n",
    "            return 0\n",
    "        \n",
    "        left = self.dfs(root.left)\n",
    "        right = self.dfs(root.right)\n",
    "        \n",
    "        return max(left, right) + 1\n",
    "    \n",
    "    def maxDepth(self, root):\n",
    "        \"\"\"\n",
    "        :type root: TreeNode\n",
    "        :rtype: int\n",
    "        \"\"\"\n",
    "        if not root:\n",
    "            return 0\n",
    "        \n",
    "        return self.dfs(root)\n",
    "        "
   ]
  },
  {
   "cell_type": "markdown",
   "metadata": {},
   "source": [
    "# 112. Path Sum\n",
    "\n",
    "Given a binary tree and a sum, determine if the tree has a root-to-leaf path such that adding up all the values along the path equals the given sum.\n",
    "\n",
    "Note: A leaf is a node with no children."
   ]
  },
  {
   "cell_type": "code",
   "execution_count": 2,
   "metadata": {},
   "outputs": [],
   "source": [
    "class Solution(object):\n",
    "    def dfs(self, root, sums, s):\n",
    "        if not root:\n",
    "            return\n",
    "        \n",
    "        if not root.left and not root.right:\n",
    "            sums.append(s + root.val)\n",
    "        if root.left:    \n",
    "            self.dfs(root.left, sums, s + root.val)\n",
    "        if root.right:    \n",
    "            self.dfs(root.right, sums, s + root.val)\n",
    "        \n",
    "    def hasPathSum(self, root, s):\n",
    "        \"\"\"\n",
    "        :type root: TreeNode\n",
    "        :type sum: int\n",
    "        :rtype: bool\n",
    "        \"\"\"\n",
    "        sums = []\n",
    "        self.dfs(root, sums, 0)\n",
    "        print(sums)\n",
    "        return s in sums"
   ]
  },
  {
   "cell_type": "markdown",
   "metadata": {},
   "source": [
    "# 257. Binary Tree Paths\n",
    "\n",
    "Given a binary tree, return all root-to-leaf paths.\n",
    "\n",
    "Note: A leaf is a node with no children."
   ]
  },
  {
   "cell_type": "code",
   "execution_count": 3,
   "metadata": {},
   "outputs": [],
   "source": [
    "class Solution(object):\n",
    "    def dfs(self, root, res, s):\n",
    "        if not root:\n",
    "            return\n",
    "        \n",
    "        if not root.left and not root.right:\n",
    "            res.append(s + str(root.val))\n",
    "        if root.left:    \n",
    "            self.dfs(root.left, res, s + str(root.val) + \"->\")\n",
    "        if root.right:    \n",
    "            self.dfs(root.right, res, s + str(root.val) + \"->\")\n",
    "        \n",
    "    def binaryTreePaths(self, root):\n",
    "        \"\"\"\n",
    "        :type root: TreeNode\n",
    "        :rtype: List[str]\n",
    "        \"\"\"\n",
    "        res = []\n",
    "        self.dfs(root, res, \"\")\n",
    "        return res"
   ]
  },
  {
   "cell_type": "markdown",
   "metadata": {},
   "source": [
    "# 814. Binary Tree Pruning"
   ]
  },
  {
   "cell_type": "markdown",
   "metadata": {},
   "source": [
    "**Solution 1: Recursive**\n",
    "\n",
    "Time: `O(logn)` - Height of the tree\n",
    "\n",
    "Space: `O(logn)` - Space on the heap\n",
    "\n",
    "Idea:\n",
    "\n",
    "* Traverse the tree and check if it a leaf node and the value == 0. Change the value to the node to `null`"
   ]
  },
  {
   "cell_type": "code",
   "execution_count": 14,
   "metadata": {},
   "outputs": [],
   "source": [
    "class Solution1:\n",
    "    def pruneTree(root):\n",
    "        if not root:\n",
    "            return\n",
    "        \n",
    "        root.left = self.pruneTree(root.left)\n",
    "        root.right = self.pruneTree(root.right)\n",
    "        \n",
    "        if root.value == 0 and not root.left and not root.right:\n",
    "            root = None\n",
    "            \n",
    "        return root"
   ]
  },
  {
   "cell_type": "markdown",
   "metadata": {},
   "source": [
    "# 872. Leaf-Similar Trees\n",
    "\n",
    "Consider all the leaves of a binary tree.  From left to right order, the values of those leaves form a leaf value sequence."
   ]
  },
  {
   "cell_type": "code",
   "execution_count": 4,
   "metadata": {},
   "outputs": [],
   "source": [
    "class Solution(object):\n",
    "    def dfs(self, root, res):\n",
    "        if not root:\n",
    "            return\n",
    "        \n",
    "        if not root.left and not root.right:\n",
    "            res.append(root.val)\n",
    "            \n",
    "        self.dfs(root.left, res)    \n",
    "        self.dfs(root.right, res)    \n",
    "            \n",
    "    def leafSimilar(self, root1, root2):\n",
    "        \"\"\"\n",
    "        :type root1: TreeNode\n",
    "        :type root2: TreeNode\n",
    "        :rtype: bool\n",
    "        \"\"\"\n",
    "        one = []\n",
    "        two = []\n",
    "        \n",
    "        self.dfs(root1, one)\n",
    "        self.dfs(root2, two)\n",
    "        \n",
    "        return one == two\n",
    "        "
   ]
  },
  {
   "cell_type": "markdown",
   "metadata": {},
   "source": [
    "# 993. Cousins in Binary Tree"
   ]
  },
  {
   "cell_type": "markdown",
   "metadata": {},
   "source": [
    "**Solution 1: DFS**\n",
    "\n",
    "Time: `O(logn)` - Traverse the tree\n",
    "\n",
    "Space: `O(1)` - Constant space because we are storing two values in our array that are `x` abd `y` which contain the `depth` or the tree and the nodes parent.\n",
    "\n",
    "Idea:\n",
    "\n",
    "* Traverse the tree to find our targets with their depth and parent. Check if they have the same parent and the same depth."
   ]
  },
  {
   "cell_type": "code",
   "execution_count": 5,
   "metadata": {},
   "outputs": [],
   "source": [
    "class Solution1():\n",
    "    def isCousins(root, x, y):\n",
    "        res = []\n",
    "        self.dfs(root, x, y, res, 0, None)\n",
    "        \n",
    "    def dfs(root, x, y, res, depth, parent):\n",
    "        if not root:\n",
    "            return\n",
    "        \n",
    "        if root.val == x or root.val == y:\n",
    "            res.append([parent, depth])\n",
    "            \n",
    "        self.dfs(root.left, x, y, res, depth + 1, root)\n",
    "        self.dfs(root.right, x, y, res, depth + 1, root)"
   ]
  },
  {
   "cell_type": "markdown",
   "metadata": {},
   "source": [
    "# 1430. Check If a String Is a Valid Sequence from Root to Leaves Path in a Binary Tree"
   ]
  },
  {
   "cell_type": "markdown",
   "metadata": {},
   "source": [
    "**Solution 1: DFS Recursive**\n",
    "\n",
    "Time: `O(logn)` - We need to through the height of the binary tree\n",
    "\n",
    "Space: `O(logn)` - Space of the stack going through the tree\n",
    "\n",
    "Idea:\n",
    "\n",
    "* Traverse through the tree and check for 2 things\n",
    "\n",
    "1. Check that the tree has the same length as `arr`\n",
    "2. Check that the current node has the same value\n",
    "\n",
    "**Solution 2: DFS Iterative**\n",
    "\n",
    "Time: `O(n)` - We need to through all the elements of the binary tree\n",
    "\n",
    "Space: `O(1)` - No extra space\n",
    "Idea:\n",
    "\n",
    "* Traverse through the tree and check for 2 things\n",
    "\n",
    "1. Check that the tree has the same length as `arr`\n",
    "2. Check that the current node has the same value"
   ]
  },
  {
   "cell_type": "code",
   "execution_count": 6,
   "metadata": {},
   "outputs": [],
   "source": [
    "class Solution1:\n",
    "    def isValidSequence(self, root, arr):\n",
    "        return self.dfs(root, arr, 0)\n",
    "    \n",
    "    def dfs(self, root, arr, depth):\n",
    "        if not root:\n",
    "            return False\n",
    "        \n",
    "        if root.val != arr[depth]:\n",
    "            return False\n",
    "        \n",
    "        if depth == len(arr) - 1:\n",
    "            return not root.left and not root.right\n",
    "        \n",
    "        left = self.dfs(root.left, arr, depth + 1)\n",
    "        right = self.dfs(root.right, arr, depth + 1)\n",
    "        \n",
    "        return left or right"
   ]
  },
  {
   "cell_type": "code",
   "execution_count": 7,
   "metadata": {},
   "outputs": [],
   "source": [
    "class Solution2:\n",
    "    def isValidSequence(self, root, arr):\n",
    "        stack = [[root, 0]]\n",
    "        n = len(arr)\n",
    "        \n",
    "        while stack:\n",
    "            curr, depth = stack.pop()\n",
    "            \n",
    "            if depth == n or curr.val != arr[depth]:\n",
    "                continue\n",
    "                \n",
    "            if not curr.left and not curr.right and depth == n - 1:\n",
    "                return True\n",
    "            \n",
    "            if curr.right:\n",
    "                stack.append([curr.right, depth + 1])\n",
    "            if curr.left:\n",
    "                stack.append([curr.left, depth + 1])\n",
    "                \n",
    "        return False"
   ]
  },
  {
   "cell_type": "markdown",
   "metadata": {},
   "source": [
    "# Flood Fill"
   ]
  },
  {
   "cell_type": "markdown",
   "metadata": {},
   "source": [
    "# 694. Number of Distinct Islands\n",
    "\n",
    "Given a non-empty 2D array grid of 0's and 1's, an island is a group of 1's (representing land) connected 4-directionally (horizontal or vertical.) You may assume all four edges of the grid are surrounded by water.\n",
    "\n",
    "Count the number of distinct islands. An island is considered to be the same as another if and only if one island can be translated (and not rotated or reflected) to equal the other."
   ]
  },
  {
   "cell_type": "code",
   "execution_count": 8,
   "metadata": {},
   "outputs": [],
   "source": [
    "def numberDistinctIslands(grid):\n",
    "    rows = len(grid)\n",
    "    cols = len(grid[0])\n",
    "    patterns = set()\n",
    "    \n",
    "    for i in range(rows):\n",
    "        for j in range(cols):\n",
    "            if grid[i][j] == 1:\n",
    "                pattern = []\n",
    "                dfs(i, j, rows, cols, grid, pattern, \"\")\n",
    "                patterns.add(\"\".join(pattern))\n",
    "                \n",
    "    return len(patterns)\n",
    "\n",
    "def dfs(i, j , rows, cols, grid, pattern, p):\n",
    "    if i < 0 or i >= rows or j < 0 or j >= cols or grid[i][j] == 0:\n",
    "        return\n",
    "    \n",
    "    pattern.append(p)\n",
    "    grid[i][j] = 0\n",
    "    \n",
    "    dfs(i, j + 1, rows, cols, grid, pattern, \"r\")\n",
    "    dfs(i, j - 1, rows, cols, grid, pattern, \"l\")\n",
    "    dfs(i + 1, j, rows, cols, grid, pattern, \"u\")\n",
    "    dfs(i - 1, j, rows, cols, grid, pattern, \"d\")\n",
    "    \n",
    "    pattern.append(\"b\")  "
   ]
  },
  {
   "cell_type": "code",
   "execution_count": 9,
   "metadata": {},
   "outputs": [
    {
     "data": {
      "text/plain": [
       "[[0, 0, 0, 0, 0], [0, 0, 0, 0, 0], [0, 0, 0, 0, 0], [0, 0, 0, 0, 0]]"
      ]
     },
     "execution_count": 9,
     "metadata": {},
     "output_type": "execute_result"
    }
   ],
   "source": [
    "grid = [[1,1,0,0,0],\n",
    "        [1,1,0,0,0],\n",
    "        [0,0,0,1,1],\n",
    "        [0,0,0,1,1]]\n",
    "\n",
    "numberDistinctIslands(grid)\n",
    "\n",
    "grid"
   ]
  },
  {
   "cell_type": "markdown",
   "metadata": {},
   "source": [
    "# 733. Flood Fill\n",
    "\n",
    "An image is represented by a 2-D array of integers, each integer representing the pixel value of the image (from 0 to 65535).\n",
    "\n",
    "Given a coordinate (sr, sc) representing the starting pixel (row and column) of the flood fill, and a pixel value newColor, \"flood fill\" the image.\n",
    "\n",
    "To perform a \"flood fill\", consider the starting pixel, plus any pixels connected 4-directionally to the starting pixel of the same color as the starting pixel, plus any pixels connected 4-directionally to those pixels (also with the same color as the starting pixel), and so on. Replace the color of all of the aforementioned pixels with the newColor.\n",
    "\n",
    "At the end, return the modified image."
   ]
  },
  {
   "cell_type": "code",
   "execution_count": 10,
   "metadata": {},
   "outputs": [],
   "source": [
    "class Solution(object):\n",
    "    def dfs(self, image, sr, sc, newColor, color, visited):\n",
    "        if sr < 0 or sr >= len(image) or sc < 0 or sc >= len(image[0]) or \\\n",
    "            image[sr][sc] != color or (sr, sc) in visited:\n",
    "            return\n",
    "        \n",
    "        image[sr][sc] = newColor\n",
    "        visited.add((sr, sc))\n",
    "            \n",
    "        self.dfs(image, sr + 1, sc, newColor, color, visited)\n",
    "        self.dfs(image, sr - 1, sc, newColor, color, visited)\n",
    "        self.dfs(image, sr, sc + 1, newColor, color, visited)\n",
    "        self.dfs(image, sr, sc - 1, newColor, color, visited)\n",
    "        \n",
    "    def floodFill(self, image, sr, sc, newColor):\n",
    "        \"\"\"\n",
    "        :type image: List[List[int]]\n",
    "        :type sr: int\n",
    "        :type sc: int\n",
    "        :type newColor: int\n",
    "        :rtype: List[List[int]]\n",
    "        \"\"\"\n",
    "        visited = set()\n",
    "        self.dfs(image, sr, sc, newColor, image[sr][sc], visited)\n",
    "        return image"
   ]
  },
  {
   "cell_type": "code",
   "execution_count": 11,
   "metadata": {},
   "outputs": [],
   "source": [
    "s1 = Solution1()"
   ]
  },
  {
   "cell_type": "markdown",
   "metadata": {},
   "source": [
    "# 559. Maximum Depth of N-ary Tree\n",
    "\n",
    "Given a n-ary tree, find its maximum depth.\n",
    "\n",
    "The maximum depth is the number of nodes along the longest path from the root node down to the farthest leaf node."
   ]
  },
  {
   "cell_type": "code",
   "execution_count": 12,
   "metadata": {},
   "outputs": [],
   "source": [
    "class Solution(object):\n",
    "    def dfs(self, node):\n",
    "        if not node:\n",
    "            return 1\n",
    "        \n",
    "        depth = 0\n",
    "        for child in node.children:\n",
    "            depth = max(depth, self.dfs(child))\n",
    "            \n",
    "        return depth + 1    \n",
    "    \n",
    "    def maxDepth(self, root):\n",
    "        \"\"\"\n",
    "        :type root: Node\n",
    "        :rtype: int\n",
    "        \"\"\"\n",
    "        if not root:\n",
    "            return 0\n",
    "        \n",
    "        return self.dfs(root)\n",
    "        "
   ]
  }
 ],
 "metadata": {
  "kernelspec": {
   "display_name": "Python 3",
   "language": "python",
   "name": "python3"
  },
  "language_info": {
   "codemirror_mode": {
    "name": "ipython",
    "version": 3
   },
   "file_extension": ".py",
   "mimetype": "text/x-python",
   "name": "python",
   "nbconvert_exporter": "python",
   "pygments_lexer": "ipython3",
   "version": "3.7.7"
  }
 },
 "nbformat": 4,
 "nbformat_minor": 2
}
