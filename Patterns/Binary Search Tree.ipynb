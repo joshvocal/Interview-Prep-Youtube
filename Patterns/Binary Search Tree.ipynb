{
 "cells": [
  {
   "cell_type": "markdown",
   "metadata": {},
   "source": [
    "# Binary Search Tree"
   ]
  },
  {
   "cell_type": "markdown",
   "metadata": {},
   "source": [
    "* [230. Kth Smallest Element in a BST](#230.-Kth-Smallest-Element-in-a-BST)"
   ]
  },
  {
   "cell_type": "markdown",
   "metadata": {},
   "source": [
    "# 230. Kth Smallest Element in a BST\n",
    "\n",
    "**Solution 1: Inorder Recursive Array**\n",
    "\n",
    "Time: `O(n)`\n",
    "\n",
    "Space: `O(n)` - Recursion Stack\n",
    "\n",
    "Idea:\n",
    "\n",
    "* Use inorder traversal to traverse the tree from the smallest elements to the largest elements. Store each of the values in an array.\n",
    "* Once the array had been filled up. Access the `k - 1` element to get the kth smallest element.\n",
    "\n",
    "**Solution 2: Inorder Recursive Array Stop Early**\n",
    "\n",
    "Time: `O(n)`\n",
    "\n",
    "Space: `O(n)` - Recursion Stack\n",
    "\n",
    "Idea:\n",
    "\n",
    "* Same as `Solution 1`, but once we have seen a certain amount of elements going from the bottom up, we can return from the recursion because we have already seen the kth smallest element doing our traversal`\n",
    "\n",
    "**Solution 3: Inorder Iterative Extra Space**\n",
    "\n",
    "Time: `O(n)`\n",
    "\n",
    "Space: `O(n)` - Stack\n",
    "\n",
    "* Use Inorder traversal iteratively to find the smallest element.\n",
    "* Same idea as `Solution 1` but iteratively\n",
    "\n",
    "**Solution 4: Inorder Iterative w/o Space**\n",
    "\n",
    "Time: `O(n)`\n",
    "\n",
    "Space: `O(n)` - Stack\n",
    "\n",
    "* Same as `Solution 2`, but iteratvely"
   ]
  },
  {
   "cell_type": "code",
   "execution_count": 4,
   "metadata": {},
   "outputs": [],
   "source": [
    "class Solution2:\n",
    "    def kthSmallest(self, root, k: int) -> int:\n",
    "        res = []\n",
    "        self.preorder(root, res, k)\n",
    "        return res[k - 1]\n",
    "    \n",
    "    def preorder(self, root, res, k):\n",
    "        if not root:\n",
    "            return\n",
    "        \n",
    "        self.preorder(root.left, res, k)\n",
    "        res.append(root.val)\n",
    "        self.preorder(root.right, res, k)"
   ]
  },
  {
   "cell_type": "code",
   "execution_count": 5,
   "metadata": {},
   "outputs": [],
   "source": [
    "class Solution2:\n",
    "    def kthSmallest(self, root, k: int) -> int:\n",
    "        res = []\n",
    "        self.preorder(root, res, k)\n",
    "        return res[k - 1]\n",
    "    \n",
    "    def preorder(self, root, res, k):\n",
    "        if not root:\n",
    "            return\n",
    "        \n",
    "        self.preorder(root.left, res, k)\n",
    "        res.append(root.val)\n",
    "        if len(res) == k:\n",
    "            return\n",
    "        self.preorder(root.right, res, k)"
   ]
  },
  {
   "cell_type": "code",
   "execution_count": 7,
   "metadata": {},
   "outputs": [],
   "source": [
    "class Solution3:\n",
    "    def kthSmallest(self, root, k: int) -> int:\n",
    "        stack = []\n",
    "        temp = []\n",
    "        \n",
    "        while stack or root:\n",
    "            while root:\n",
    "                stack.append(root)\n",
    "                root = root.left\n",
    "                \n",
    "            root = stack.pop()\n",
    "            temp.append(root.val)\n",
    "            root = root.right\n",
    "            \n",
    "        return temp[k - 1]"
   ]
  },
  {
   "cell_type": "code",
   "execution_count": 8,
   "metadata": {},
   "outputs": [],
   "source": [
    "class Solution4:\n",
    "    def kthSmallest(self, root, k: int) -> int:\n",
    "        stack = []\n",
    "        \n",
    "        while stack or root:\n",
    "            while root:\n",
    "                stack.append(root)\n",
    "                root = root.left\n",
    "                \n",
    "            root = stack.pop()\n",
    "            k -= 1\n",
    "            \n",
    "            if not k:\n",
    "                return root.val\n",
    "            \n",
    "            root = root.right\n",
    "            \n",
    "        return -1"
   ]
  }
 ],
 "metadata": {
  "kernelspec": {
   "display_name": "Python 3",
   "language": "python",
   "name": "python3"
  },
  "language_info": {
   "codemirror_mode": {
    "name": "ipython",
    "version": 3
   },
   "file_extension": ".py",
   "mimetype": "text/x-python",
   "name": "python",
   "nbconvert_exporter": "python",
   "pygments_lexer": "ipython3",
   "version": "3.7.7"
  }
 },
 "nbformat": 4,
 "nbformat_minor": 2
}
