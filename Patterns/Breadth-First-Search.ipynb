{
 "cells": [
  {
   "cell_type": "code",
   "execution_count": 6,
   "metadata": {},
   "outputs": [],
   "source": [
    "from binarytree import tree\n",
    "import collections\n",
    "import numpy as np"
   ]
  },
  {
   "cell_type": "code",
   "execution_count": 7,
   "metadata": {},
   "outputs": [
    {
     "name": "stdout",
     "output_type": "stream",
     "text": [
      "\n",
      "    __5__\n",
      "   /     \\\n",
      "  2       3\n",
      " / \\     / \\\n",
      "6   1   0   4\n",
      "\n"
     ]
    }
   ],
   "source": [
    "my_tree = tree(height=2, is_perfect=True)\n",
    "print(my_tree)"
   ]
  },
  {
   "cell_type": "markdown",
   "metadata": {},
   "source": [
    "## There are two types of BFS questions:\n",
    "* Tree\n",
    "* Graph"
   ]
  },
  {
   "cell_type": "markdown",
   "metadata": {},
   "source": [
    "# Appendix\n",
    "\n",
    "## Array\n",
    "\n",
    "* [1306. Jump Game III](#1306.-Jump-Game-III) ⭐️\n",
    "\n",
    "## Tree\n",
    "\n",
    "* [101. Symmetric Tree](#101.-Symmetric-Tree)\n",
    "\n",
    "* [102. Binary Level Order Traversal](#102.-Binary-Level-Order-Traversal)\n",
    "\n",
    "* [103. Binary Tree Zigzag Level Order Traversal](#103.-Binary-Tree-Zigzag-Level-Order-Traversal)\n",
    "\n",
    "* [107. Binary Tree Level Order Traversal II](#107.-Binary-Tree-Level-Order-Traversal-II)\n",
    "\n",
    "* [111. Minimum Depth of Binary Tree](#111.-Minimum-Depth-of-Binary-Tree)\n",
    "\n",
    "* [199. Binary Tree Right Side View](#199.-Binary-Tree-Right-Side-View)\n",
    "\n",
    "* [513. Find Bottom Left Tree Value](#513.-Find-Bottom-Left-Tree-Value)\n",
    "\n",
    "* [515. Find Largest Value in Each Tree Row](#515.-Find-Largest-Value-in-Each-Tree-Row)\n",
    "\n",
    "* [965. Univalued Binary Tree](#965.-Univalued-Binary-Tree)\n",
    "\n",
    "* [993. Cousins in Binary Tree](#993.-Cousins-in-Binary-Tree)\n",
    "\n",
    "* [1161. Maximum Level of a Binary Tree](#1161.-Maximum-Level-of-a-Binary-Tree)\n",
    "\n",
    "* [1302. Deepest Leaves Sum](#1302.-Deepest-Leaves-Sum)\n",
    "\n",
    "* [1315. Sum of Nodes with Even-Valued Grandparent](#1315.-Sum-of-Nodes-with-Even-Valued-Grandparent)\n",
    "\n",
    "### Tree + HashMap\n",
    "\n",
    "* [314. Binary Tree Vertical Order Traversal](#314.-Binary-Tree-Vertical-Order-Traversal)\n",
    "\n",
    "## N-ary Tree\n",
    "\n",
    "* [429. N-ary Tree Level Order Traversal](#429.-N-ary-Tree-Level-Order-Traversal)\n",
    "\n",
    "* [559. Maximum Depth of N-ary Tree](#559.-Maximum-Depth-of-N-ary-Tree)\n",
    "\n",
    "\n",
    "## Graph\n",
    "\n",
    "* [200. Number of Islands](#200.-Number-of-Islands)\n",
    "\n",
    "* [286. Walls and Gates](#286.-Walls-and-Gates)\n",
    "\n",
    "* [542. 01 Matrix](#542.-01-Matrix)\n",
    "\n",
    "* [863. All Nodes Distance K in Binary Tree](#863.-All-Nodes-Distance-K-in-Binary-Tree)\n",
    "\n",
    "* [934. Shortest Bridge](#934.-Shortest-Bridge)\n",
    "\n",
    "* [994. Rotting Oranges](#994.-Rotting-Oranges)\n",
    "\n",
    "* [1091. Shortest Path in Binary Matrix](#1091.-Shortest-Path-in-Binary-Matrix)\n",
    "\n",
    "* [1162. As Far from Land as Possible](#1162.-As-Far-from-Land-as-Possible)\n",
    "\n",
    "* [1197. Minimum Knight Moves](#1197.-Minimum-Knight-Moves)\n",
    "\n",
    "## Adjacency List\n",
    "\n",
    "* [261. Graph Valid Tree](#261.-Graph-Valid-Tree)\n",
    "\n",
    "## Uncategorized Yet\n",
    "\n",
    "* [127. Word Ladder](#127.-Word-Ladder)\n",
    "\n",
    "* [279. Perfect Squares](#279.-Perfect-Squares)\n"
   ]
  },
  {
   "cell_type": "markdown",
   "metadata": {},
   "source": [
    "# Array"
   ]
  },
  {
   "cell_type": "markdown",
   "metadata": {},
   "source": [
    "# 1306. Jump Game III\n",
    "\n",
    "This is an interesting one. Since we can move left or right in this array, we can treat this as building up a decision tree where we can move one step at a time. This sounds a lot like BFS.\n",
    "\n",
    "Idea:\n",
    "\n",
    "* Use BFS to build a tree of positions of where we can jump to\n",
    "* Use a set to record indexes of positions we have visted.\n",
    "* If we come across a index in the set, that means we're going to end up in a loop.\n",
    "* If we've visited all places we can go, it's not possible to find our target 0\n",
    "\n"
   ]
  },
  {
   "cell_type": "code",
   "execution_count": 8,
   "metadata": {},
   "outputs": [],
   "source": [
    "class Solution:\n",
    "    def canReach(self, arr, start: int) -> bool:\n",
    "        if not arr:\n",
    "            return False\n",
    "        \n",
    "        q = [start]\n",
    "        n = len(arr)\n",
    "        visited = {start}\n",
    "        \n",
    "        while q:\n",
    "            print(q)\n",
    "            index = q.pop(0)\n",
    "            if arr[index] == 0:\n",
    "                return True\n",
    "            \n",
    "            left = index - arr[index]\n",
    "            right = index + arr[index]\n",
    "            \n",
    "            if left >= 0 and left not in visited:\n",
    "                q.append(left)\n",
    "                visited.add(left)\n",
    "            if right < n and right not in visited:    \n",
    "                q.append(right)\n",
    "                visited.add(right)\n",
    "                \n",
    "        return False        "
   ]
  },
  {
   "cell_type": "code",
   "execution_count": 9,
   "metadata": {},
   "outputs": [
    {
     "name": "stdout",
     "output_type": "stream",
     "text": [
      "[5]\n",
      "[4, 6]\n",
      "[6, 1]\n",
      "[1]\n",
      "[3]\n"
     ]
    },
    {
     "data": {
      "text/plain": [
       "True"
      ]
     },
     "execution_count": 9,
     "metadata": {},
     "output_type": "execute_result"
    }
   ],
   "source": [
    "arr = [4,2,3,0,3,1,2]\n",
    "start = 5\n",
    "\n",
    "Solution().canReach(arr, start)"
   ]
  },
  {
   "cell_type": "markdown",
   "metadata": {},
   "source": [
    "# N-ary Breadth First Search"
   ]
  },
  {
   "cell_type": "code",
   "execution_count": 10,
   "metadata": {},
   "outputs": [],
   "source": [
    "def n_ary_bfs(root):\n",
    "    output = []\n",
    "    \n",
    "    if not root:\n",
    "        return output\n",
    "    \n",
    "    queue = [root]\n",
    "    \n",
    "    while queue:\n",
    "        curr = queue.pop(0)\n",
    "        output.append(curr.value)\n",
    "        \n",
    "        for child in curr.children:\n",
    "            queue.append(child)\n",
    "            \n",
    "    return output"
   ]
  },
  {
   "cell_type": "markdown",
   "metadata": {},
   "source": [
    "# 429. N-ary Tree Level Order Traversal"
   ]
  },
  {
   "cell_type": "code",
   "execution_count": 11,
   "metadata": {},
   "outputs": [],
   "source": [
    "def levelOrder(root):\n",
    "    out = []\n",
    "\n",
    "    if not root:\n",
    "        return out\n",
    "\n",
    "    queue = [root]\n",
    "\n",
    "    while queue:\n",
    "        level = []\n",
    "\n",
    "        for i in range(len(queue)):\n",
    "            curr = queue.pop(0)\n",
    "            level.append(curr.val)\n",
    "\n",
    "            for child in curr.children:\n",
    "                queue.append(child)\n",
    "\n",
    "        out.append(level)\n",
    "\n",
    "    return out"
   ]
  },
  {
   "cell_type": "markdown",
   "metadata": {},
   "source": [
    "# 559. Maximum Depth of N-ary Tree"
   ]
  },
  {
   "cell_type": "code",
   "execution_count": 12,
   "metadata": {},
   "outputs": [],
   "source": [
    "def maxDepth(root):\n",
    "    \"\"\"\n",
    "    :type root: Node\n",
    "    :rtype: int\n",
    "    \"\"\"\n",
    "    max_depth = 0\n",
    "\n",
    "    if not root:\n",
    "        return max_depth\n",
    "\n",
    "    queue = [root] \n",
    "\n",
    "    while queue:\n",
    "        for i in range(len(queue)):\n",
    "            curr = queue.pop(0)\n",
    "\n",
    "            for child in curr.children:\n",
    "                queue.append(child)\n",
    "\n",
    "        max_depth += 1\n",
    "\n",
    "    return max_depth"
   ]
  },
  {
   "cell_type": "markdown",
   "metadata": {},
   "source": [
    "# General Breadth First Search"
   ]
  },
  {
   "cell_type": "code",
   "execution_count": 13,
   "metadata": {},
   "outputs": [
    {
     "name": "stdout",
     "output_type": "stream",
     "text": [
      "\n",
      "    __5__\n",
      "   /     \\\n",
      "  2       3\n",
      " / \\     / \\\n",
      "6   1   0   4\n",
      "\n",
      "BFS:  [5, 2, 3, 6, 1, 0, 4]\n"
     ]
    }
   ],
   "source": [
    "def bfs(root):\n",
    "    output = []\n",
    "    \n",
    "    if not root:\n",
    "        return output\n",
    "    \n",
    "    queue = [root]\n",
    "    \n",
    "    while queue:\n",
    "        curr = queue.pop(0)\n",
    "        output.append(curr.value)\n",
    "        \n",
    "        if curr.left:\n",
    "            queue.append(curr.left)\n",
    "        if curr.right:\n",
    "            queue.append(curr.right)\n",
    "            \n",
    "    return output\n",
    "\n",
    "print(my_tree)\n",
    "print(\"BFS: \", bfs(my_tree))"
   ]
  },
  {
   "cell_type": "markdown",
   "metadata": {},
   "source": [
    "# 101. Symmetric Tree\n",
    "\n",
    "Given a binary tree, check whether it is a mirror of itself (ie, symmetric around its center).\n",
    "\n",
    "For example, this binary tree [1,2,2,3,4,4,3] is symmetric:"
   ]
  },
  {
   "cell_type": "code",
   "execution_count": 14,
   "metadata": {},
   "outputs": [
    {
     "name": "stdout",
     "output_type": "stream",
     "text": [
      "\n",
      "    __5__\n",
      "   /     \\\n",
      "  2       3\n",
      " / \\     / \\\n",
      "6   1   0   4\n",
      "\n",
      "Is the tree symmetric:  False\n"
     ]
    }
   ],
   "source": [
    "def isSymmetric(root):\n",
    "    \"\"\"\n",
    "    :type root: TreeNode\n",
    "    :rtype: bool\n",
    "    \"\"\"\n",
    "    if not root:\n",
    "        return True\n",
    "\n",
    "    queue = [(root.left, root.right)]\n",
    "\n",
    "    while queue:\n",
    "        size = len(queue)\n",
    "\n",
    "        for i in range(size):\n",
    "            left, right = queue.pop(0)\n",
    "\n",
    "            if not left and not right:\n",
    "                continue\n",
    "            elif not left or not right:\n",
    "                return False\n",
    "            elif left.value != right.value:\n",
    "                return False\n",
    "\n",
    "            queue.append((left.left, right.right))\n",
    "            queue.append((left.right, right.left))\n",
    "\n",
    "    return True\n",
    "\n",
    "print(my_tree)\n",
    "print(\"Is the tree symmetric: \", isSymmetric(my_tree))"
   ]
  },
  {
   "cell_type": "markdown",
   "metadata": {},
   "source": [
    "# 102. Binary Level Order Traversal\n",
    "\n",
    "Given a binary tree, return the level order traversal of its nodes' values. (ie, from left to right, level by level)."
   ]
  },
  {
   "cell_type": "code",
   "execution_count": 15,
   "metadata": {},
   "outputs": [
    {
     "name": "stdout",
     "output_type": "stream",
     "text": [
      "\n",
      "    __5__\n",
      "   /     \\\n",
      "  2       3\n",
      " / \\     / \\\n",
      "6   1   0   4\n",
      "\n",
      "Levels:  [[5], [2, 3], [6, 1, 0, 4]]\n"
     ]
    }
   ],
   "source": [
    "def level_order_traversal(root):\n",
    "    output = []\n",
    "    \n",
    "    if not root:\n",
    "        return output\n",
    "    \n",
    "    queue = [root]\n",
    "    \n",
    "    while queue:\n",
    "        level = []\n",
    "        for i in range(len(queue)):\n",
    "            curr = queue.pop(0)\n",
    "            level.append(curr.value)\n",
    "            \n",
    "            if curr.left:\n",
    "                queue.append(curr.left)\n",
    "            if curr.right:\n",
    "                queue.append(curr.right)\n",
    "                \n",
    "        output.append(level)\n",
    "        \n",
    "    return output\n",
    "\n",
    "print(my_tree)\n",
    "print(\"Levels: \", level_order_traversal(my_tree))"
   ]
  },
  {
   "cell_type": "markdown",
   "metadata": {},
   "source": [
    "# 103. Binary Tree Zigzag Level Order Traversal\n",
    "\n",
    "Given a binary tree, return the zigzag level order traversal of its nodes' values. (ie, from left to right, then right to left for the next level and alternate between).\n",
    "\n",
    "For example:\n",
    "Given binary tree [3,9,20,null,null,15,7],"
   ]
  },
  {
   "cell_type": "code",
   "execution_count": 16,
   "metadata": {},
   "outputs": [
    {
     "name": "stdout",
     "output_type": "stream",
     "text": [
      "\n",
      "    __5__\n",
      "   /     \\\n",
      "  2       3\n",
      " / \\     / \\\n",
      "6   1   0   4\n",
      "\n",
      "Zig-zag level order traversal:  [[5], [3, 2], [6, 1, 0, 4]]\n"
     ]
    }
   ],
   "source": [
    "def zigzagLevelOrder(root):\n",
    "    \"\"\"\n",
    "    :type root: TreeNode\n",
    "    :rtype: List[List[int]]\n",
    "    \"\"\"\n",
    "    res = []\n",
    "\n",
    "    if not root:\n",
    "        return res\n",
    "\n",
    "    queue = [root]\n",
    "\n",
    "    while queue: \n",
    "        level = []\n",
    "\n",
    "        for i in range(len(queue)):\n",
    "            curr = queue.pop(0)\n",
    "            if len(res) % 2 == 0:\n",
    "                level.append(curr.value)\n",
    "            else:    \n",
    "                level.insert(0, curr.value)\n",
    "\n",
    "            if curr.left:\n",
    "                queue.append(curr.left)\n",
    "            if curr.right:    \n",
    "                queue.append(curr.right)\n",
    "\n",
    "        res.append(level) \n",
    "\n",
    "    return res\n",
    "\n",
    "print(my_tree)\n",
    "print(\"Zig-zag level order traversal: \", zigzagLevelOrder(my_tree))"
   ]
  },
  {
   "cell_type": "markdown",
   "metadata": {},
   "source": [
    "# 107. Binary Tree Level Order Traversal II\n",
    "\n",
    "Given a binary tree, return the bottom-up level order traversal of its nodes' values. (ie, from left to right, level by level from leaf to root)."
   ]
  },
  {
   "cell_type": "code",
   "execution_count": 17,
   "metadata": {},
   "outputs": [
    {
     "name": "stdout",
     "output_type": "stream",
     "text": [
      "\n",
      "    __5__\n",
      "   /     \\\n",
      "  2       3\n",
      " / \\     / \\\n",
      "6   1   0   4\n",
      "\n",
      "Reverse Levels:  [[6, 1, 0, 4], [2, 3], [5]]\n"
     ]
    }
   ],
   "source": [
    "def level_order_bottom(root):\n",
    "    output = []\n",
    "    \n",
    "    if not root:\n",
    "        return output\n",
    "    \n",
    "    queue = [root]\n",
    "    \n",
    "    while queue:\n",
    "        level = []\n",
    "        for i in range(len(queue)):\n",
    "            curr = queue.pop(0)\n",
    "            level.append(curr.value)\n",
    "            \n",
    "            if curr.left:\n",
    "                queue.append(curr.left)\n",
    "            if curr.right:\n",
    "                queue.append(curr.right)\n",
    "                \n",
    "        output.insert(0, level)\n",
    "            \n",
    "    return output\n",
    "\n",
    "print(my_tree)\n",
    "print(\"Reverse Levels: \", level_order_bottom(my_tree))"
   ]
  },
  {
   "cell_type": "markdown",
   "metadata": {},
   "source": [
    "# 111. Minimum Depth of Binary Tree"
   ]
  },
  {
   "cell_type": "code",
   "execution_count": 18,
   "metadata": {},
   "outputs": [
    {
     "name": "stdout",
     "output_type": "stream",
     "text": [
      "\n",
      "    __5__\n",
      "   /     \\\n",
      "  2       3\n",
      " / \\     / \\\n",
      "6   1   0   4\n",
      "\n",
      "Min depth of binary tree:  3\n"
     ]
    }
   ],
   "source": [
    "def minDepth(root):\n",
    "    \"\"\"\n",
    "    :type root: TreeNode\n",
    "    :rtype: int\n",
    "    \"\"\"\n",
    "    if not root:\n",
    "        return 0\n",
    "\n",
    "    min_depth = 1\n",
    "    queue = [root]\n",
    "\n",
    "    while queue:\n",
    "        for i in range(len(queue)):\n",
    "            curr = queue.pop(0)\n",
    "\n",
    "            if not curr.left and not curr.right:\n",
    "                return min_depth\n",
    "\n",
    "            if curr.left:\n",
    "                queue.append(curr.left)\n",
    "            if curr.right:    \n",
    "                queue.append(curr.right)\n",
    "\n",
    "        min_depth += 1\n",
    "\n",
    "    return min_depth\n",
    "\n",
    "print(my_tree)\n",
    "print(\"Min depth of binary tree: \", minDepth(my_tree))"
   ]
  },
  {
   "cell_type": "markdown",
   "metadata": {},
   "source": [
    "# 199. Binary Tree Right Side View\n",
    "\n",
    "Given a binary tree, imagine yourself standing on the right side of it, return the values of the nodes you can see ordered from top to bottom."
   ]
  },
  {
   "cell_type": "code",
   "execution_count": 19,
   "metadata": {},
   "outputs": [
    {
     "name": "stdout",
     "output_type": "stream",
     "text": [
      "\n",
      "    __5__\n",
      "   /     \\\n",
      "  2       3\n",
      " / \\     / \\\n",
      "6   1   0   4\n",
      "\n",
      "Right Side View:  [5, 3, 4]\n"
     ]
    }
   ],
   "source": [
    "def right_side_view(root):\n",
    "    out = []\n",
    "    \n",
    "    if not root:\n",
    "        return out\n",
    "    \n",
    "    queue = [root]\n",
    "    \n",
    "    while queue:\n",
    "        size = len(queue)\n",
    "        \n",
    "        for i in range(size):\n",
    "            curr = queue.pop(0)\n",
    "            if i == size - 1:\n",
    "                out.append(curr.value)\n",
    "                \n",
    "            if curr.left:\n",
    "                queue.append(curr.left)\n",
    "            if curr.right:\n",
    "                queue.append(curr.right)\n",
    "                \n",
    "                \n",
    "    return out\n",
    "\n",
    "print(my_tree)\n",
    "print(\"Right Side View: \", right_side_view(my_tree))"
   ]
  },
  {
   "cell_type": "markdown",
   "metadata": {},
   "source": [
    "# 314. Binary Tree Vertical Order Traversal"
   ]
  },
  {
   "cell_type": "markdown",
   "metadata": {},
   "source": [
    "Time: `O(nlogn)`\n",
    "\n",
    "* We need to traverse all of the nodes in the tree `O(n)` and we also need to sort the keys `O(nlogn)`\n",
    "\n",
    "Space: `O(n)?`\n",
    "\n",
    "* We might have to store all of the tree nodes as keys in our dictionary"
   ]
  },
  {
   "cell_type": "code",
   "execution_count": 20,
   "metadata": {},
   "outputs": [
    {
     "name": "stdout",
     "output_type": "stream",
     "text": [
      "[[6], [2], [5, 1, 0], [3], [4]]\n",
      "\n",
      "    __5__\n",
      "   /     \\\n",
      "  2       3\n",
      " / \\     / \\\n",
      "6   1   0   4\n",
      "\n"
     ]
    }
   ],
   "source": [
    "class Solution:\n",
    "    def verticalOrder(self, root):\n",
    "        if not root:\n",
    "            return None\n",
    "        \n",
    "        queue = [[root, 0]]\n",
    "        cols = {}\n",
    "        res = []\n",
    "        \n",
    "        while queue:\n",
    "            for i in range(len(queue)):\n",
    "                node, col = queue.pop(0)\n",
    "                \n",
    "                if col not in cols:\n",
    "                    cols[col] = []\n",
    "                    \n",
    "                cols[col].append(node.value)\n",
    "                \n",
    "                if node.left:\n",
    "                    queue.append([node.left, col - 1])\n",
    "                if node.right:\n",
    "                    queue.append([node.right, col + 1])\n",
    "                    \n",
    "        sortedCols = sorted([col for col in cols])\n",
    "        for col in sortedCols:\n",
    "            res.append(cols[col])\n",
    "            \n",
    "        return res\n",
    "\n",
    "s = Solution()\n",
    "print(s.verticalOrder(my_tree))\n",
    "print(my_tree)"
   ]
  },
  {
   "cell_type": "markdown",
   "metadata": {},
   "source": [
    "Time: `O(n)`\n",
    "\n",
    "* We can optimize the solution by not sorting the keys when iterating through the dictionary.\n",
    "* Instead, we can keep track of the left-most column and the right-most column which are represented by the negative and postive numbers\n",
    "\n",
    "Space: `O(n)`"
   ]
  },
  {
   "cell_type": "code",
   "execution_count": 21,
   "metadata": {},
   "outputs": [
    {
     "name": "stdout",
     "output_type": "stream",
     "text": [
      "[[6], [2], [5, 1, 0], [3], [4]]\n",
      "\n",
      "    __5__\n",
      "   /     \\\n",
      "  2       3\n",
      " / \\     / \\\n",
      "6   1   0   4\n",
      "\n"
     ]
    }
   ],
   "source": [
    "class Solution2:\n",
    "    def verticalOrder(self, root):\n",
    "        if not root:\n",
    "            return None\n",
    "        \n",
    "        queue = [[root, 0]]\n",
    "        cols = {}\n",
    "        res = []\n",
    "        maxCol = 0\n",
    "        minCol = 0\n",
    "        \n",
    "        while queue:\n",
    "            for _ in range(len(queue)):\n",
    "                node, col = queue.pop(0)\n",
    "                \n",
    "                if col not in cols:\n",
    "                    cols[col] = []\n",
    "                    \n",
    "                cols[col].append(node.value)\n",
    "                maxCol = max(maxCol, col)\n",
    "                minCol = min(minCol, col)\n",
    "                \n",
    "                if node.left:\n",
    "                    queue.append([node.left, col - 1])\n",
    "                if node.right:\n",
    "                    queue.append([node.right, col + 1])\n",
    "                    \n",
    "        for col in range(minCol, maxCol + 1):\n",
    "            res.append(cols[col])\n",
    "            \n",
    "        return res\n",
    "\n",
    "s = Solution2()\n",
    "print(s.verticalOrder(my_tree))\n",
    "print(my_tree)"
   ]
  },
  {
   "cell_type": "markdown",
   "metadata": {},
   "source": [
    "# 513. Find Bottom Left Tree Value\n",
    "\n",
    "Given a binary tree, find the leftmost value in the last row of the tree."
   ]
  },
  {
   "cell_type": "code",
   "execution_count": 22,
   "metadata": {},
   "outputs": [
    {
     "name": "stdout",
     "output_type": "stream",
     "text": [
      "\n",
      "    __5__\n",
      "   /     \\\n",
      "  2       3\n",
      " / \\     / \\\n",
      "6   1   0   4\n",
      "\n",
      "Bottom Left Value:  6\n"
     ]
    }
   ],
   "source": [
    "def find_bottom_left_value(root):\n",
    "    if not root:\n",
    "        return None\n",
    "    \n",
    "    queue = [root]\n",
    "    \n",
    "    while queue:\n",
    "        curr = queue.pop(0)\n",
    "        \n",
    "        if curr.right:\n",
    "            queue.append(curr.right)\n",
    "        if curr.left:\n",
    "            queue.append(curr.left)\n",
    "            \n",
    "    return curr.value\n",
    "\n",
    "print(my_tree)\n",
    "print(\"Bottom Left Value: \", find_bottom_left_value(my_tree))"
   ]
  },
  {
   "cell_type": "markdown",
   "metadata": {},
   "source": [
    "# 515. Find Largest Value in Each Tree Row"
   ]
  },
  {
   "cell_type": "code",
   "execution_count": 23,
   "metadata": {},
   "outputs": [
    {
     "name": "stdout",
     "output_type": "stream",
     "text": [
      "\n",
      "    __5__\n",
      "   /     \\\n",
      "  2       3\n",
      " / \\     / \\\n",
      "6   1   0   4\n",
      "\n",
      "[5, 3, 6]\n"
     ]
    }
   ],
   "source": [
    "def largestValues(root):\n",
    "    out = []\n",
    "\n",
    "    if not root:\n",
    "        return out\n",
    "\n",
    "    queue = [root]\n",
    "    biggest = -float('inf')\n",
    "    biggestSoFar = -float('inf')\n",
    "\n",
    "    while queue:\n",
    "        size = len(queue)\n",
    "\n",
    "        for i in range(size):\n",
    "            curr = queue.pop(0)\n",
    "            biggestSoFar = curr.value\n",
    "\n",
    "            if curr.left:\n",
    "                queue.append(curr.left)\n",
    "            if curr.right:\n",
    "                queue.append(curr.right)\n",
    "\n",
    "            biggest = max(biggest, biggestSoFar)\n",
    "\n",
    "\n",
    "        out.append(biggest)\n",
    "        biggest = -float('inf')\n",
    "        biggestSoFar = -float('inf')\n",
    "\n",
    "    return out\n",
    "\n",
    "print(my_tree)\n",
    "print(largestValues(my_tree))"
   ]
  },
  {
   "cell_type": "markdown",
   "metadata": {},
   "source": [
    "# 965. Univalued Binary Tree\n",
    "\n",
    "A binary tree is univalued if every node in the tree has the same value.\n",
    "\n",
    "Return true if and only if the given tree is univalued.\n",
    "\n",
    "## Idea:\n",
    "\n",
    "We can use the root's value to compare to every other node in the tree that we traverse. If there is such a node which is not equal to the root's value, we know that all nodes in the tree cannot be the same.\n",
    "\n",
    "Use level-order traversal to check all nodes are the same.\n",
    "\n",
    "\n",
    "## Complexity:\n",
    "\n",
    "**Time**: O(n)\n",
    "\n",
    "We must visit every node in this binary tree to check if all values are the same which is O(n)\n",
    "\n",
    "**Space**: O(n)\n",
    "\n",
    "Using BFS, the data structure, queue, can hold at most n/2 nodes at the bottom of a full tree.\n",
    "\n",
    "So at lowest level, we store n/2 nodes which becomes O(n)"
   ]
  },
  {
   "cell_type": "code",
   "execution_count": 24,
   "metadata": {},
   "outputs": [
    {
     "name": "stdout",
     "output_type": "stream",
     "text": [
      "\n",
      "    __5__\n",
      "   /     \\\n",
      "  2       3\n",
      " / \\     / \\\n",
      "6   1   0   4\n",
      "\n",
      "Are all values in the tree the same?:  False\n"
     ]
    }
   ],
   "source": [
    "class Solution(object):\n",
    "    def isUnivalTree(self, root):\n",
    "        \"\"\"\n",
    "        :type root: TreeNode\n",
    "        :rtype: bool\n",
    "        \"\"\"\n",
    "        if not root:\n",
    "            return True\n",
    "        \n",
    "        queue = [root]\n",
    "        v = root.value\n",
    "        \n",
    "        while queue:\n",
    "            curr = queue.pop(0)\n",
    "            if curr.value != v:\n",
    "                return False\n",
    "            \n",
    "            if curr.left:\n",
    "                queue.append(curr.left)\n",
    "            if curr.right:\n",
    "                queue.append(curr.right)\n",
    "                \n",
    "        return True\n",
    "    \n",
    "print(my_tree)\n",
    "print(\"Are all values in the tree the same?: \", Solution().isUnivalTree(my_tree))"
   ]
  },
  {
   "cell_type": "markdown",
   "metadata": {},
   "source": [
    "# 993. Cousins in Binary Tree\n",
    "\n",
    "In a binary tree, the root node is at depth 0, and children of each depth k node are at depth k+1.\n",
    "\n",
    "Two nodes of a binary tree are cousins if they have the same depth, but have different parents.\n",
    "\n",
    "We are given the root of a binary tree with unique values, and the values x and y of two different nodes in the tree.\n",
    "\n",
    "Return true if and only if the nodes corresponding to the values x and y are cousins."
   ]
  },
  {
   "cell_type": "markdown",
   "metadata": {},
   "source": [
    "**Time:** O(n)\n",
    "\n",
    "**Space:** O(log(n))\n",
    "\n",
    "**Idea:**\n",
    "\n",
    "* We need to check that both nodes are in the same level but not have the same parent.\n",
    "* Have two flags that check if we have found both nodes on the same level.\n",
    "* Also have a check that if we found x, y with the same parent, return False"
   ]
  },
  {
   "cell_type": "code",
   "execution_count": 25,
   "metadata": {},
   "outputs": [
    {
     "name": "stdout",
     "output_type": "stream",
     "text": [
      "\n",
      "    __5__\n",
      "   /     \\\n",
      "  2       3\n",
      " / \\     / \\\n",
      "6   1   0   4\n",
      "\n",
      "Are these two nodes cousins:  False\n"
     ]
    }
   ],
   "source": [
    "def isCousins(root, x, y) -> bool:\n",
    "    q = [root]\n",
    "    \n",
    "    while q:\n",
    "        \n",
    "        a = False\n",
    "        b = False\n",
    "        \n",
    "        for i in range(len(q)):\n",
    "            curr = q.pop(0)\n",
    "            \n",
    "            if curr.value == x:\n",
    "                a = True\n",
    "            if curr.value == y:\n",
    "                b = True\n",
    "                \n",
    "            if curr.left and curr.right:\n",
    "                if curr.left.value == x and curr.right.value == y:\n",
    "                    return False\n",
    "                if curr.right.value == x and curr.left.value == y:\n",
    "                    return False\n",
    "                \n",
    "            if curr.left:\n",
    "                q.append(curr.left)\n",
    "            if curr.right:\n",
    "                q.append(curr.right)\n",
    "                \n",
    "        if a and b:\n",
    "            return True\n",
    "    \n",
    "    return False\n",
    "\n",
    "print(my_tree)\n",
    "print(\"Are these two nodes cousins: \", isCousins(my_tree, 6, 2))"
   ]
  },
  {
   "cell_type": "markdown",
   "metadata": {},
   "source": [
    "# 1161. Maximum Level of a Binary Tree\n",
    "\n",
    "Given the root of a binary tree, the level of its root is 1, the level of its children is 2, and so on.\n",
    "\n",
    "Return the smallest level X such that the sum of all the values of nodes at level X is maximal."
   ]
  },
  {
   "cell_type": "code",
   "execution_count": 26,
   "metadata": {},
   "outputs": [
    {
     "name": "stdout",
     "output_type": "stream",
     "text": [
      "\n",
      "    __5__\n",
      "   /     \\\n",
      "  2       3\n",
      " / \\     / \\\n",
      "6   1   0   4\n",
      "\n",
      "Max Level:  3\n"
     ]
    }
   ],
   "source": [
    "def max_level_sum(root):\n",
    "    if not root:\n",
    "        return None\n",
    "\n",
    "    max_level = 1\n",
    "    curr_level = 1\n",
    "    curr_val = -float('inf')\n",
    "\n",
    "    queue = [root]\n",
    "\n",
    "    while queue:\n",
    "        level = []\n",
    "        for i in range(len(queue)):\n",
    "            curr = queue.pop(0)\n",
    "            level.append(curr.value)\n",
    "\n",
    "            if curr.left:\n",
    "                queue.append(curr.left)\n",
    "            if curr.right:\n",
    "                queue.append(curr.right)\n",
    "\n",
    "        if sum(level) > curr_val:\n",
    "            curr_val = sum(level)\n",
    "            max_level = curr_level\n",
    "\n",
    "        curr_level += 1\n",
    "        \n",
    "    return max_level\n",
    "            \n",
    "print(my_tree)\n",
    "print(\"Max Level: \", max_level_sum(my_tree))"
   ]
  },
  {
   "cell_type": "markdown",
   "metadata": {},
   "source": [
    "# 1302. Deepest Leaves Sum\n",
    "\n",
    "Idea:\n",
    "\n",
    "Time: O(n) We have to visit every node in the tree\n",
    "\n",
    "Space: O(logn) Our level array contains at most logn nodes which is the size of the bottom of a perfect binary tree\n",
    "\n",
    "* We want to find the sum of the deepest leaves in the tree.\n",
    "* Let's traverse the tree level by level.\n",
    "* By doing so, we can find the sum of each level's leaves\n",
    "* A leaf is a node which does not have any left or right pointers (children)"
   ]
  },
  {
   "cell_type": "code",
   "execution_count": 27,
   "metadata": {},
   "outputs": [],
   "source": [
    "class TreeNode:\n",
    "    def __init__(self, x):\n",
    "        self.val = x\n",
    "        self.left = None\n",
    "        self.right = None\n",
    "\n",
    "class Solution:\n",
    "    def deepestLeavesSum(self, root: TreeNode) -> int:\n",
    "        if not root:\n",
    "            return 0\n",
    "        \n",
    "        q = [root]\n",
    "        s = 0\n",
    "        res = []\n",
    "        \n",
    "        while q: \n",
    "            level = []\n",
    "            \n",
    "            for i in range(len(q)):\n",
    "                curr = q.pop(0)\n",
    "                level.append(curr.val)\n",
    "                \n",
    "                if curr.left:\n",
    "                    q.append(curr.left)\n",
    "                if curr.right:    \n",
    "                    q.append(curr.right)\n",
    "                    \n",
    "            res.append(level)        \n",
    "            s = sum(level)\n",
    "            \n",
    "        return s\n",
    "                    "
   ]
  },
  {
   "cell_type": "markdown",
   "metadata": {},
   "source": [
    "# 1315. Sum of Nodes with Even-Valued Grandparent"
   ]
  },
  {
   "cell_type": "markdown",
   "metadata": {},
   "source": [
    "**Solution 1: BFS**\n",
    "\n",
    "Time: `O(n)` - We need to traverse the entire tree\n",
    "\n",
    "Space: `O(n)` - We might have to store all the elements in the tree. This is greater than the queue of the BFS that we are storing the levels on"
   ]
  },
  {
   "cell_type": "code",
   "execution_count": 30,
   "metadata": {},
   "outputs": [
    {
     "name": "stdout",
     "output_type": "stream",
     "text": [
      "\n",
      "    __5__\n",
      "   /     \\\n",
      "  2       3\n",
      " / \\     / \\\n",
      "6   1   0   4\n",
      "\n",
      "0\n"
     ]
    }
   ],
   "source": [
    "class Solution:\n",
    "    def sumEvenGrandparent(self, root) -> int:\n",
    "        sum = 0\n",
    "        \n",
    "        if not root:\n",
    "            return sum\n",
    "        \n",
    "        # curr, parent, grandparent\n",
    "        queue = [[root, None, None]]\n",
    "        \n",
    "        while queue:\n",
    "            for _ in range(len(queue)):\n",
    "                curr, parent, gp = queue.pop(0)\n",
    "                \n",
    "                if gp and gp.value % 2 == 0:\n",
    "                    sum += curr.value\n",
    "                    \n",
    "                if curr.left:\n",
    "                    queue.append([curr.left, curr, parent])\n",
    "                if curr.right:\n",
    "                    queue.append([curr.right, curr, parent])\n",
    "                    \n",
    "        return sum\n",
    "    \n",
    "s = Solution()\n",
    "print(my_tree)\n",
    "print(s.sumEvenGrandparent(my_tree))"
   ]
  },
  {
   "cell_type": "markdown",
   "metadata": {},
   "source": [
    "# General BFS Graph"
   ]
  },
  {
   "cell_type": "code",
   "execution_count": 21,
   "metadata": {},
   "outputs": [
    {
     "name": "stdout",
     "output_type": "stream",
     "text": [
      "[(0, 0)]\n",
      "[(1, 0), (0, 1)]\n",
      "[(2, 0), (1, 1), (0, 2)]\n",
      "[(2, 1), (1, 2)]\n",
      "[(2, 2)]\n"
     ]
    }
   ],
   "source": [
    "def bfs_graph(graph):\n",
    "    if not graph:\n",
    "        return None\n",
    "    \n",
    "    queue = [(0,0)]\n",
    "    visited = {(0, 0)}\n",
    "    dirs = [(-1,0), # Left\n",
    "            (1,0),  # Right\n",
    "            (0,-1), # Up\n",
    "            (0,1)]  # Down\n",
    "    \n",
    "    while queue:\n",
    "        print(queue)\n",
    "        for i in range(len(queue)):\n",
    "            curr_x, curr_y = queue.pop(0)\n",
    "            \n",
    "            for x, y in dirs:\n",
    "                next_x = curr_x + x\n",
    "                next_y = curr_y + y\n",
    "                \n",
    "                if next_x >= 0 and next_x < len(graph) and \\\n",
    "                    next_y >= 0 and next_y < len(graph[0]) and \\\n",
    "                    (next_x, next_y) not in visited:\n",
    "                    \n",
    "                    visited.add((next_x, next_y))\n",
    "                    queue.append((next_x, next_y))\n",
    "                    \n",
    "    return\n",
    "\n",
    "graph = [[1,2,3],\n",
    "         [4,5,6],\n",
    "         [7,8,9]]\n",
    "                \n",
    "bfs_graph(graph)"
   ]
  },
  {
   "cell_type": "markdown",
   "metadata": {},
   "source": [
    "# 200. Number of Islands"
   ]
  },
  {
   "cell_type": "code",
   "execution_count": 22,
   "metadata": {},
   "outputs": [
    {
     "name": "stdout",
     "output_type": "stream",
     "text": [
      "[['1' '1' '1' '1' '0']\n",
      " ['1' '1' '0' '1' '0']\n",
      " ['1' '1' '0' '0' '0']\n",
      " ['0' '0' '0' '0' '0']]\n",
      "Number of Islands:  1\n"
     ]
    }
   ],
   "source": [
    "def bfs(grid, row, col):\n",
    "    dirs = [(-1,0), (1,0), (0,-1), (0,1)]\n",
    "    queue = [(row, col)]\n",
    "\n",
    "    while queue:\n",
    "        i, j = queue.pop(0)\n",
    "\n",
    "        for x, y in dirs:\n",
    "            nrow = x + i\n",
    "            ncol = y + j\n",
    "\n",
    "            if nrow >= 0 and nrow < len(grid) and \\\n",
    "                ncol >= 0 and ncol < len(grid[0]) and \\\n",
    "                grid[nrow][ncol] == '1':\n",
    "                grid[nrow][ncol] = '0'\n",
    "                queue.append((nrow, ncol))\n",
    "\n",
    "    return\n",
    "\n",
    "\n",
    "def numIslands(grid):\n",
    "    \"\"\"\n",
    "    :type grid: List[List[str]]\n",
    "    :rtype: int\n",
    "    \"\"\"\n",
    "    if not grid:\n",
    "        return 0\n",
    "\n",
    "    islands = 0\n",
    "    rows = len(grid)\n",
    "    cols = len(grid[0])\n",
    "\n",
    "    for i in range(rows):\n",
    "        for j in range(cols):\n",
    "            if grid[i][j] == '1':\n",
    "                bfs(grid, i, j)\n",
    "                islands += 1\n",
    "\n",
    "    return islands\n",
    "\n",
    "grid = [[\"1\",\"1\",\"1\",\"1\",\"0\"],[\"1\",\"1\",\"0\",\"1\",\"0\"],[\"1\",\"1\",\"0\",\"0\",\"0\"],[\"0\",\"0\",\"0\",\"0\",\"0\"]]\n",
    "print(np.array(grid))\n",
    "print('Number of Islands: ', numIslands(grid))"
   ]
  },
  {
   "cell_type": "markdown",
   "metadata": {},
   "source": [
    "# 286. Walls and Gates\n",
    "\n",
    "You are given a m x n 2D grid initialized with these three possible values.\n",
    "\n",
    "-1 - A wall or an obstacle.\n",
    "0 - A gate.\n",
    "INF - Infinity means an empty room. We use the value 231 - 1 = 2147483647 to represent INF as you may assume that the distance to a gate is less than 2147483647.\n",
    "Fill each empty room with the distance to its nearest gate. If it is impossible to reach a gate, it should be filled with INF."
   ]
  },
  {
   "cell_type": "code",
   "execution_count": 23,
   "metadata": {},
   "outputs": [
    {
     "name": "stdout",
     "output_type": "stream",
     "text": [
      "[[2147483647         -1          0 2147483647]\n",
      " [2147483647 2147483647 2147483647         -1]\n",
      " [2147483647         -1 2147483647         -1]\n",
      " [         0         -1 2147483647 2147483647]]\n",
      "Find each rooms nearest gate: \n",
      " [[ 3 -1  0  1]\n",
      " [ 2  2  1 -1]\n",
      " [ 1 -1  2 -1]\n",
      " [ 0 -1  3  4]]\n"
     ]
    }
   ],
   "source": [
    "def wallsAndGates(rooms):\n",
    "    if not rooms:\n",
    "        return None\n",
    "    \n",
    "    queue = []\n",
    "    dirs = [(-1,0), (1,0), (0,-1), (0,1)] # Directions we can traverse\n",
    "    rows = len(rooms)\n",
    "    cols = len(rooms[0])\n",
    "    INF = 2147483647 # Empty room\n",
    "    dist = 1 # Starting distance from each gate\n",
    "    \n",
    "    # Find all gates and perform BFS to find each rooms closest gate\n",
    "    for i in range(rows):\n",
    "        for j in range(cols):\n",
    "            if rooms[i][j] == 0:\n",
    "                queue.append((i, j))\n",
    "                \n",
    "    # Perform BFS on all gates\n",
    "    while queue:\n",
    "        size = len(queue)\n",
    "        \n",
    "        for i in range(size):\n",
    "            x, y = queue.pop(0)\n",
    "            \n",
    "            for i, j in dirs:\n",
    "                row = x + i\n",
    "                col = y + j\n",
    "                \n",
    "                if row >= 0 and row < rows and \\\n",
    "                    col >= 0 and col < cols and \\\n",
    "                    rooms[row][col] == INF:\n",
    "                    \n",
    "                    queue.append((row, col))\n",
    "                    rooms[row][col] = dist\n",
    "                    \n",
    "        dist += 1\n",
    "        \n",
    "        \n",
    "rooms = [[2147483647,-1,0,2147483647],[2147483647,2147483647,2147483647,-1],[2147483647,-1,2147483647,-1],[0,-1,2147483647,2147483647]]\n",
    "print(np.array(rooms))\n",
    "wallsAndGates(rooms)\n",
    "print(\"Find each rooms nearest gate: \\n\", np.array(rooms))"
   ]
  },
  {
   "cell_type": "markdown",
   "metadata": {},
   "source": [
    "# 542. 01 Matrix\n",
    "\n",
    "Given a matrix consists of 0 and 1, find the distance of the nearest 0 for each cell.\n",
    "\n",
    "The distance between two adjacent cells is 1.\n",
    "\n"
   ]
  },
  {
   "cell_type": "code",
   "execution_count": 24,
   "metadata": {},
   "outputs": [
    {
     "name": "stdout",
     "output_type": "stream",
     "text": [
      "[[0 0 0]\n",
      " [0 1 0]\n",
      " [1 1 1]]\n",
      "Shortest distance from 1 to 0: \n",
      " [[0 0 0]\n",
      " [0 1 0]\n",
      " [1 2 1]]\n"
     ]
    }
   ],
   "source": [
    "class Solution(object):\n",
    "    def updateMatrix(self, m):\n",
    "        \"\"\"\n",
    "        :type matrix: List[List[int]]\n",
    "        :rtype: List[List[int]]\n",
    "        \"\"\"\n",
    "        \n",
    "        queue = []\n",
    "        visited = set()\n",
    "        rows = len(m)\n",
    "        cols = len(m[0])\n",
    "        dirs = [(-1,0), (0,1), (1,0), (0,-1)]\n",
    "        \n",
    "        for i in range(rows):\n",
    "            for j in range(cols):\n",
    "                if m[i][j] == 0:\n",
    "                    queue.append((i, j))\n",
    "                    visited.add((i, j))\n",
    "                    \n",
    "        dist = 1            \n",
    "        \n",
    "        while queue:\n",
    "            size = len(queue)\n",
    "            \n",
    "            for _ in range(size):\n",
    "                x, y = queue.pop(0)\n",
    "                \n",
    "                for i, j in dirs:\n",
    "                    row = x + i\n",
    "                    col = y + j\n",
    "                    \n",
    "                    if row >= 0 and row < rows and \\\n",
    "                        col >= 0 and col < cols and \\\n",
    "                        (row, col) not in visited:\n",
    "                        \n",
    "                        m[row][col] = dist\n",
    "                        queue.append((row, col))\n",
    "                        visited.add((row, col))\n",
    "                        \n",
    "            dist += 1\n",
    "                        \n",
    "        return m\n",
    "    \n",
    "grid = [[0,0,0],\n",
    " [0,1,0],\n",
    " [1,1,1]]\n",
    "print(np.array(grid))\n",
    "\n",
    "solution = Solution().updateMatrix(grid)\n",
    "print(\"Shortest distance from 1 to 0: \\n\", np.array(solution))"
   ]
  },
  {
   "cell_type": "markdown",
   "metadata": {},
   "source": [
    "# 863. All Nodes Distance K in Binary Tree\n",
    "\n",
    "\n",
    "We are given a binary tree (with root node root), a target node, and an integer value K.\n",
    "\n",
    "Return a list of the values of all nodes that have a distance K from the target node.  The answer can be returned in any order."
   ]
  },
  {
   "cell_type": "markdown",
   "metadata": {},
   "source": [
    "* Main Idea: Be able to turn a tree, which is a directed graph, into a graph.\n",
    "* Hashmap to store the child's parent.\n",
    "* BFS"
   ]
  },
  {
   "cell_type": "code",
   "execution_count": 25,
   "metadata": {},
   "outputs": [],
   "source": [
    "def distanceK(root, target, K):\n",
    "    \n",
    "    dic = dict()\n",
    "    helper(dic, root, None)\n",
    "    \n",
    "    q = [target]\n",
    "    seen = {target}\n",
    "    dist = 0\n",
    "    res = []\n",
    "    \n",
    "    while q:\n",
    "        for i in range(len(q)):\n",
    "            curr = q.pop(0)\n",
    "            if dist == K:\n",
    "                res.append(curr.val)\n",
    "                \n",
    "            if curr.left and curr.left not in seen:\n",
    "                seen.add(curr.left)\n",
    "                q.append(curr.left)\n",
    "            if curr.right and curr.right not in seen:\n",
    "                seen.add(curr.right)\n",
    "                q.append(curr.right)\n",
    "            if dic[curr] and dic[curr] not in seen:\n",
    "                seen.add(dic[curr])\n",
    "                q.append(dic[curr])\n",
    "        \n",
    "        dist += 1\n",
    "        \n",
    "    return res\n",
    "    \n",
    "def helper(dic, root, parent):\n",
    "    if not root:\n",
    "        return\n",
    "    \n",
    "    helper(dic, root.left, root)\n",
    "    helper(dic, root.right, root)"
   ]
  },
  {
   "cell_type": "markdown",
   "metadata": {},
   "source": [
    "# 934. Shortest Bridge\n",
    "\n",
    "In a given 2D binary array A, there are two islands.  (An island is a 4-directionally connected group of 1s not connected to any other 1s.)\n",
    "\n",
    "Now, we may change 0s to 1s so as to connect the two islands together to form 1 island.\n",
    "\n",
    "Return the smallest number of 0s that must be flipped.  (It is guaranteed that the answer is at least 1.)"
   ]
  },
  {
   "cell_type": "code",
   "execution_count": 26,
   "metadata": {},
   "outputs": [
    {
     "name": "stdout",
     "output_type": "stream",
     "text": [
      "[[1 1 1 1 1]\n",
      " [1 0 0 0 1]\n",
      " [1 0 1 0 1]\n",
      " [1 0 0 0 1]\n",
      " [1 1 1 1 1]]\n",
      "Min number of flips:  1\n"
     ]
    }
   ],
   "source": [
    "class Solution(object):\n",
    "    def dfs(self, grid, i, j, rows, cols, queue, visited, dirs):\n",
    "        if i < 0 or i >= rows or j < 0 or j >= cols or grid[i][j] == 0 or (i, j) in visited:\n",
    "            return\n",
    "        \n",
    "        visited.add((i, j))\n",
    "        queue.append((i, j))\n",
    "        \n",
    "        for x, y in dirs:\n",
    "            row = i + x\n",
    "            col = j + y\n",
    "            \n",
    "            self.dfs(grid, row, col, rows, cols, queue, visited, dirs)\n",
    "            \n",
    "        \n",
    "    def shortestBridge(self, A):\n",
    "        \"\"\"\n",
    "        :type A: List[List[int]]\n",
    "        :rtype: int\n",
    "        \"\"\"\n",
    "        queue = []\n",
    "        visited = set()\n",
    "        dirs = [(-1,0), (1,0), (0,-1), (0,1)]\n",
    "        rows = len(A)\n",
    "        cols = len(A[0])\n",
    "        flips = 0\n",
    "        is_found = False\n",
    "        \n",
    "        # Find the first island and mark it as found and add it to the queue\n",
    "        for i in range(rows):\n",
    "            if is_found:\n",
    "                break;\n",
    "                \n",
    "            for j in range(cols):\n",
    "                if A[i][j] == 1 and (i, j) not in visited:\n",
    "                    self.dfs(A, i, j, rows, cols, queue, visited, dirs)\n",
    "                    is_found = True\n",
    "                    break;\n",
    "                    \n",
    "                    \n",
    "        # Find the shortest path from the island to the next island            \n",
    "        while queue:\n",
    "            size = len(queue)\n",
    "            \n",
    "            for z in range(size):\n",
    "                x, y = queue.pop(0)\n",
    "                \n",
    "                for i, j in dirs:\n",
    "                    row = x + i\n",
    "                    col = j + y\n",
    "                    \n",
    "                    if row >= 0 and row < rows and \\\n",
    "                        col >= 0 and col < cols and \\\n",
    "                        (row, col) not in visited:\n",
    "                        \n",
    "                        if A[row][col] == 1:\n",
    "                            return flips\n",
    "                        \n",
    "                        visited.add((row, col))\n",
    "                        queue.append((row, col))\n",
    "                        \n",
    "            flips += 1\n",
    "            \n",
    "            \n",
    "        return -1\n",
    "      \n",
    "grid = [[1,1,1,1,1],[1,0,0,0,1],[1,0,1,0,1],[1,0,0,0,1],[1,1,1,1,1]]\n",
    "print(np.array(grid))\n",
    "print(\"Min number of flips: \", Solution().shortestBridge(grid))"
   ]
  },
  {
   "cell_type": "markdown",
   "metadata": {},
   "source": [
    "# 994. Rotting Oranges\n",
    "\n",
    "In a given grid, each cell can have one of three values:\n",
    "\n",
    "the value 0 representing an empty cell;\n",
    "the value 1 representing a fresh orange;\n",
    "the value 2 representing a rotten orange.\n",
    "Every minute, any fresh orange that is adjacent (4-directionally) to a rotten orange becomes rotten.\n",
    "\n",
    "Return the minimum number of minutes that must elapse until no cell has a fresh orange.  If this is impossible, return -1 instead."
   ]
  },
  {
   "cell_type": "code",
   "execution_count": 27,
   "metadata": {},
   "outputs": [
    {
     "name": "stdout",
     "output_type": "stream",
     "text": [
      "[[2 1 1]\n",
      " [1 1 0]\n",
      " [0 1 1]]\n",
      "Number of minutes for all oranges to become rotten:  4\n"
     ]
    }
   ],
   "source": [
    "def orangesRotting(grid):\n",
    "    \"\"\"\n",
    "    :type grid: List[List[int]]\n",
    "    :rtype: int\n",
    "    \"\"\"\n",
    "    if not grid:\n",
    "        return -1\n",
    "\n",
    "    q = []\n",
    "    visited = set()\n",
    "    dirs = [(-1,0), (1,0), (0,-1), (0,1)]\n",
    "    rows = len(grid)\n",
    "    cols = len(grid[0])\n",
    "    fresh_count = 0\n",
    "    minutes = 0\n",
    "\n",
    "    for i in range(rows):\n",
    "        for j in range(cols):\n",
    "            if grid[i][j] == 2:\n",
    "                q.append((i, j))\n",
    "                visited.add((i, j))\n",
    "            elif grid[i][j] == 1:\n",
    "                fresh_count += 1\n",
    "\n",
    "    if fresh_count == 0:\n",
    "        return 0\n",
    "\n",
    "    while q:\n",
    "        size = len(q)\n",
    "        for i in range(size):\n",
    "            curr = q.pop(0)\n",
    "\n",
    "            for dir in dirs:\n",
    "                row = curr[0] + dir[0]\n",
    "                col = curr[1] + dir[1]\n",
    "\n",
    "\n",
    "                if row < rows and row >= 0 and \\\n",
    "                    col < cols and col >= 0 and \\\n",
    "                    grid[row][col] == 1 and (row, col) not in visited:\n",
    "                    q.append((row, col))\n",
    "                    visited.add((row, col))\n",
    "                    fresh_count -= 1\n",
    "\n",
    "        minutes += 1\n",
    "\n",
    "    if fresh_count == 0:    \n",
    "        return minutes - 1\n",
    "\n",
    "    return -1\n",
    "\n",
    "grid = [[2,1,1],\n",
    "        [1,1,0],\n",
    "        [0,1,1]]\n",
    "print(np.matrix(grid))\n",
    "print(\"Number of minutes for all oranges to become rotten: \", orangesRotting(grid))"
   ]
  },
  {
   "cell_type": "markdown",
   "metadata": {},
   "source": [
    "# 1091. Shortest Path in Binary Matrix\n",
    "\n",
    "In an N by N square grid, each cell is either empty (0) or blocked (1).\n",
    "\n",
    "A clear path from top-left to bottom-right has length k if and only if it is composed of cells C_1, C_2, ..., C_k such that:\n",
    "\n",
    "Adjacent cells C_i and C_{i+1} are connected 8-directionally (ie., they are different and share an edge or corner)\n",
    "C_1 is at location (0, 0) (ie. has value grid[0][0])\n",
    "C_k is at location (N-1, N-1) (ie. has value grid[N-1][N-1])\n",
    "If C_i is located at (r, c), then grid[r][c] is empty (ie. grid[r][c] == 0).\n",
    "Return the length of the shortest such clear path from top-left to bottom-right.  If such a path does not exist, return -1."
   ]
  },
  {
   "cell_type": "code",
   "execution_count": 28,
   "metadata": {},
   "outputs": [
    {
     "name": "stdout",
     "output_type": "stream",
     "text": [
      "[[0 0 0]\n",
      " [1 1 0]\n",
      " [1 1 0]]\n",
      "Shortest Path from top-left to bottom-right:  4\n"
     ]
    }
   ],
   "source": [
    "def shortest_path_binary_matrix(grid):\n",
    "    if not grid or grid[0][0] == 1:\n",
    "        return -1\n",
    "    \n",
    "    queue = [(0,0,1)]\n",
    "    rows = len(grid)\n",
    "    cols = len(grid[0])\n",
    "    visited = {(0,0)}\n",
    "    dirs = [(-1,0),(-1,-1),(1,0),(1,1),(0,1),(1,-1),(0,-1),(-1,-1)]\n",
    "    \n",
    "    while queue:\n",
    "        crow, ccol, d = queue.pop(0)\n",
    "        \n",
    "        if (crow, ccol) == (rows - 1, cols - 1):\n",
    "            return d\n",
    "        \n",
    "        for x, y in dirs:\n",
    "            row = crow + x\n",
    "            col = ccol + y\n",
    "            \n",
    "            if row >= 0 and row < rows and \\\n",
    "                col >= 0 and col < cols and \\\n",
    "                grid[row][col] == 0 and (row, col) not in visited:\n",
    "                visited.add((row, col))\n",
    "                queue.append((row, col, d + 1))\n",
    "    \n",
    "    \n",
    "grid = [[0,0,0],\n",
    "        [1,1,0],\n",
    "        [1,1,0]]\n",
    "print(np.matrix(grid))\n",
    "print(\"Shortest Path from top-left to bottom-right: \", shortest_path_binary_matrix(grid))"
   ]
  },
  {
   "cell_type": "markdown",
   "metadata": {},
   "source": [
    "# 1162. As Far from Land as Possible\n",
    "\n",
    "Given an N x N grid containing only values 0 and 1, where 0 represents water and 1 represents land, find a water cell such that its distance to the nearest land cell is maximized and return the distance.\n",
    "\n",
    "The distance used in this problem is the Manhattan distance: the distance between two cells (x0, y0) and (x1, y1) is |x0 - x1| + |y0 - y1|.\n",
    "\n",
    "If no land or water exists in the grid, return -1."
   ]
  },
  {
   "cell_type": "code",
   "execution_count": 29,
   "metadata": {},
   "outputs": [
    {
     "name": "stdout",
     "output_type": "stream",
     "text": [
      "[[1 0 0]\n",
      " [0 0 0]\n",
      " [0 0 0]]\n",
      "Max distance from land to water:  4\n"
     ]
    }
   ],
   "source": [
    "class Solution(object):\n",
    "    def maxDistance(self, grid):\n",
    "        \"\"\"\n",
    "        :type grid: List[List[int]]\n",
    "        :rtype: int\n",
    "        \"\"\"\n",
    "        queue = []\n",
    "        visited = set()            \n",
    "        rows = len(grid)\n",
    "        cols = len(grid[0])\n",
    "        dirs = [(-1,0), (1,0), (0,-1), (0,1)]\n",
    "        dist = 0\n",
    "        water = 0\n",
    "        \n",
    "        for i in range(rows):\n",
    "            for j in range(cols):\n",
    "                if grid[i][j] == 1:\n",
    "                    queue.append((i, j))\n",
    "                elif grid[i][j] == 0:\n",
    "                    water += 1\n",
    "                    \n",
    "        if not water:\n",
    "            return -1\n",
    "                    \n",
    "        while queue:\n",
    "            size = len(queue)\n",
    "            \n",
    "            for v in range(size):\n",
    "                x, y = queue.pop(0)\n",
    "                \n",
    "                for i, j in dirs:\n",
    "                    row = x + i\n",
    "                    col = y + j\n",
    "                    \n",
    "                    if row >= 0 and row < rows and \\\n",
    "                        col >= 0 and col < cols and \\\n",
    "                        grid[row][col] == 0 and (row, col) not in visited:\n",
    "                        visited.add((row, col))\n",
    "                        queue.append((row, col))\n",
    "                        \n",
    "            dist += 1\n",
    "            \n",
    "        return dist - 1\n",
    "    \n",
    "grid = [[1,0,0],[0,0,0],[0,0,0]]\n",
    "print(np.array(grid))\n",
    "print(\"Max distance from land to water: \", Solution().maxDistance(grid))"
   ]
  },
  {
   "cell_type": "markdown",
   "metadata": {},
   "source": [
    "# 1197. Minimum Knight Moves\n",
    "\n",
    "In an infinite chess board with coordinates from -infinity to +infinity, you have a knight at square [0, 0].\n",
    "\n",
    "A knight has 8 possible moves it can make, as illustrated below. Each move is two squares in a cardinal direction, then one square in an orthogonal direction."
   ]
  },
  {
   "cell_type": "code",
   "execution_count": 30,
   "metadata": {},
   "outputs": [
    {
     "name": "stdout",
     "output_type": "stream",
     "text": [
      "Min Knight moves to square:  4\n"
     ]
    }
   ],
   "source": [
    "class Solution(object):\n",
    "    def minKnightMoves(self, x, y):\n",
    "        \"\"\"\n",
    "        :type x: int\n",
    "        :type y: int\n",
    "        :rtype: int\n",
    "        \"\"\"\n",
    "        queue = [(0,0)]\n",
    "        dirs = [(-2,1), (-1,2), (1,2), (2,1), (2,-1), (1,-2), (-1,-2), (-2,-1)]\n",
    "        visited = {(0,0)}\n",
    "        moves = 1\n",
    "        \n",
    "        # There are four quadrants on the board, if we take the abs value\n",
    "        # of the location, we can only search 1 quadrant instead of four\n",
    "        x = abs(x)\n",
    "        y = abs(y)\n",
    "        \n",
    "        if (x, y) == (0, 0):\n",
    "            return 0\n",
    "        \n",
    "        while queue:\n",
    "            size = len(queue)\n",
    "            \n",
    "            for _ in range(size):\n",
    "                a, b = queue.pop(0)\n",
    "                \n",
    "                for i, j in dirs:\n",
    "                    row = a + i\n",
    "                    col = b + j\n",
    "                    \n",
    "                    # Since we have limited the target location to being\n",
    "                    # only positive, prevent our moves from leaving the first\n",
    "                    # quadrant and becoming in negative positions.\n",
    "                    if (row, col) not in visited and row > -2 and col > -2:\n",
    "                        if (row, col) == (x, y):\n",
    "                            return moves\n",
    "                        \n",
    "                        visited.add((row, col))\n",
    "                        queue.append((row, col))\n",
    "                        \n",
    "            moves += 1\n",
    "        \n",
    "x = 5\n",
    "y = 5\n",
    "\n",
    "s = Solution().minKnightMoves(x, y)\n",
    "print(\"Min Knight moves to square: \", s)"
   ]
  },
  {
   "cell_type": "code",
   "execution_count": 31,
   "metadata": {},
   "outputs": [
    {
     "name": "stdout",
     "output_type": "stream",
     "text": [
      "\n",
      "    __2__\n",
      "   /     \\\n",
      "  6       4\n",
      " / \\     / \\\n",
      "1   5   0   3\n",
      "\n"
     ]
    }
   ],
   "source": [
    "print(my_tree)"
   ]
  },
  {
   "cell_type": "markdown",
   "metadata": {},
   "source": [
    "# Adjacency List\n",
    "\n",
    "Given n nodes labeled from 0 to n-1 and a list of undirected edges (each edge is a pair of nodes), write a function to check whether these edges make up a valid tree.\n",
    "\n",
    "Not sure:\n",
    "\n",
    "Time: O(v) A tree has v nodes and we must visited them all \n",
    "\n",
    "Space: O(v) We are storing all the v nodes that we are visiting.\n",
    "Is this the biggest DS? What about the adjacency list? O(v + e)? )"
   ]
  },
  {
   "cell_type": "markdown",
   "metadata": {},
   "source": [
    "# 261. Graph Valid Tree"
   ]
  },
  {
   "cell_type": "code",
   "execution_count": 32,
   "metadata": {},
   "outputs": [
    {
     "name": "stdout",
     "output_type": "stream",
     "text": [
      "defaultdict(<class 'list'>, {0: [1, 2, 3], 1: [0, 4], 2: [0], 3: [0], 4: [1]})\n",
      "defaultdict(<class 'list'>, {0: [1, 2, 3], 1: [4], 2: [], 3: [], 4: []})\n",
      "Is this graph a tree:  True\n"
     ]
    }
   ],
   "source": [
    "def validTree(n, edges) -> bool:\n",
    "    adj = collections.defaultdict(list)\n",
    "    \n",
    "    for edge in edges:\n",
    "        child = edge[1]\n",
    "        parent = edge[0]\n",
    "        \n",
    "        adj[parent].append(child)\n",
    "        adj[child].append(parent)\n",
    "        \n",
    "    q = [0]\n",
    "    visited = {0}\n",
    "    print(adj)\n",
    "    \n",
    "    while q:\n",
    "        for i in range(len(q)):\n",
    "            curr = q.pop(0)\n",
    "            \n",
    "            for node in adj[curr]:\n",
    "                if node in visited:\n",
    "                    return False\n",
    "                \n",
    "                adj[node].remove(curr)\n",
    "                visited.add(node)\n",
    "                q.append(node)\n",
    "                \n",
    "    print(adj)\n",
    "    return len(visited) == n\n",
    "\n",
    "\n",
    "# Test case\n",
    "edges = [[0,1], [0,2], [0,3], [1,4]]\n",
    "n = 5\n",
    "\n",
    "print(\"Is this graph a tree: \", validTree(n, edges))"
   ]
  },
  {
   "cell_type": "markdown",
   "metadata": {},
   "source": [
    "# Uncategorized Yet"
   ]
  },
  {
   "cell_type": "markdown",
   "metadata": {},
   "source": [
    "# 279. Perfect Squares\n",
    "\n",
    "Given a positive integer n, find the least number of perfect square numbers (for example, 1, 4, 9, 16, ...) which sum to n."
   ]
  },
  {
   "cell_type": "code",
   "execution_count": 33,
   "metadata": {},
   "outputs": [],
   "source": [
    "def numSquares(n: int) -> int:\n",
    "    if n < 2:\n",
    "        return n\n",
    "    \n",
    "    squares = []\n",
    "    i = 1\n",
    "    while i*i <= n:\n",
    "        squares.append(i*i)\n",
    "        i += 1\n",
    "    \n",
    "    q = [n]\n",
    "    seen = set()\n",
    "    level = 0\n",
    "    \n",
    "    while q:\n",
    "        level += 1\n",
    "        for i in range(len(q)):\n",
    "            curr = q.pop(0)\n",
    "            if curr in seen:\n",
    "                continue\n",
    "            \n",
    "            # Prevent repeated calculations\n",
    "            seen.add(curr)\n",
    "            \n",
    "            for s in squares:\n",
    "                if curr - s == 0:\n",
    "                    return level\n",
    "                \n",
    "                if curr - s > 0:\n",
    "                    q.append(curr - s)\n",
    "                \n",
    "    return level\n",
    "        "
   ]
  },
  {
   "cell_type": "code",
   "execution_count": 34,
   "metadata": {},
   "outputs": [
    {
     "data": {
      "text/plain": [
       "3"
      ]
     },
     "execution_count": 34,
     "metadata": {},
     "output_type": "execute_result"
    }
   ],
   "source": [
    "numSquares(12)"
   ]
  },
  {
   "cell_type": "markdown",
   "metadata": {},
   "source": [
    "# 127. Word Ladder\n",
    "\n",
    "Given two words (beginWord and endWord), and a dictionary's word list, find the length of shortest transformation sequence from beginWord to endWord, such that:\n",
    "\n",
    "Only one letter can be changed at a time.\n",
    "Each transformed word must exist in the word list. Note that beginWord is not a transformed word."
   ]
  },
  {
   "cell_type": "markdown",
   "metadata": {},
   "source": [
    "**Idea**: Use BFS to change one character of the word of a particular index at a time.\n",
    "\n",
    "i: 123\n",
    "c: hit\n",
    "\n",
    "ait hat hia\n",
    "\n",
    "bit hbt hib\n",
    "\n",
    "cit hct hic\n",
    "\n",
    ".\n",
    "\n",
    ".\n",
    ".\n",
    "zit hzt hiz"
   ]
  },
  {
   "cell_type": "code",
   "execution_count": 35,
   "metadata": {},
   "outputs": [
    {
     "name": "stdout",
     "output_type": "stream",
     "text": [
      "5\n"
     ]
    }
   ],
   "source": [
    "def ladderLength(beginWord, endWord, wordList):\n",
    "    set(wordList)\n",
    "    q = [(beginWord, 1)]\n",
    "    visited = {beginWord}\n",
    "    \n",
    "    while q:\n",
    "        word, ladder = q.pop(0)\n",
    "        \n",
    "        if word == endWord:\n",
    "            return ladder\n",
    "        \n",
    "        for i in range(len(word)):\n",
    "            chars = list(word)\n",
    "            for char in \"abcdefghijklmnopqrstuvwxyz\":\n",
    "                chars[i] = char\n",
    "                \n",
    "                new_word = ''.join(chars)\n",
    "                \n",
    "                if new_word in wordList and new_word not in visited:\n",
    "                    q.append((new_word, ladder + 1))\n",
    "                    visited.add(new_word)\n",
    "                    \n",
    "    return 0\n",
    "\n",
    "beginWord = \"hit\"\n",
    "endWord = \"cog\"\n",
    "wordList = [\"hot\",\"dot\",\"dog\",\"lot\",\"log\",\"cog\"]\n",
    "\n",
    "print(ladderLength(beginWord, endWord, wordList))"
   ]
  },
  {
   "cell_type": "code",
   "execution_count": null,
   "metadata": {},
   "outputs": [],
   "source": []
  }
 ],
 "metadata": {
  "kernelspec": {
   "display_name": "Python 3",
   "language": "python",
   "name": "python3"
  },
  "language_info": {
   "codemirror_mode": {
    "name": "ipython",
    "version": 3
   },
   "file_extension": ".py",
   "mimetype": "text/x-python",
   "name": "python",
   "nbconvert_exporter": "python",
   "pygments_lexer": "ipython3",
   "version": "3.7.7"
  }
 },
 "nbformat": 4,
 "nbformat_minor": 2
}
