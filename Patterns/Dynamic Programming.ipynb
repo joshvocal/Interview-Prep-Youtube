{
 "cells": [
  {
   "cell_type": "markdown",
   "metadata": {},
   "source": [
    "# Dynamic Programming"
   ]
  },
  {
   "cell_type": "markdown",
   "metadata": {},
   "source": [
    "#### Minimum (Maximum) Path to Reach a Target\n",
    "\n",
    "* [64. Minimum Path Sum](#64.-Minimum-Path-Sum)\n",
    "\n",
    "* [746. Min Cost Climbing Stairs](#746.-Min-Cost-Climbing-Stairs)\n",
    "\n",
    "\n",
    "#### Distinct Ways\n",
    "\n",
    "* [70. Climbing Stairs](#70.-Climbing-Stairs)"
   ]
  },
  {
   "cell_type": "markdown",
   "metadata": {},
   "source": [
    "# Minimum (Maximum) Path to Reach a Target"
   ]
  },
  {
   "cell_type": "markdown",
   "metadata": {},
   "source": [
    "# 64. Minimum Path Sum"
   ]
  },
  {
   "cell_type": "markdown",
   "metadata": {},
   "source": [
    "**Solution 1: Top Down - No Memoization**\n",
    "\n",
    "Time: `O(2^(m*n))`\n",
    "\n",
    "Space: `O(m*n)`\n",
    "\n",
    "**Solution 2: Top Down - Memoization**\n",
    "\n",
    "Time: `O(m*n)`\n",
    "\n",
    "Space: `O(m*n)`\n",
    "\n",
    "**Solution 3: Bottom Up - Modify Matrix**\n",
    "\n",
    "Time: `O(m*n)`\n",
    "\n",
    "Space: `O(1)`\n",
    "\n",
    "Idea:\n",
    "\n",
    "* The min path for any `matrix[i][j]` is `matrix[i - 1][j]` and `matrix[i][j - 1]`\n",
    "* Go through the top row to calculate the rows min path sum\n",
    "* Go through the first col to calculate the rows min path sum\n",
    "* Go through the inner elements to calculate which is a minimal path, up or left."
   ]
  },
  {
   "cell_type": "code",
   "execution_count": 49,
   "metadata": {},
   "outputs": [
    {
     "data": {
      "text/plain": [
       "7"
      ]
     },
     "execution_count": 49,
     "metadata": {},
     "output_type": "execute_result"
    }
   ],
   "source": [
    "class Solution1:\n",
    "    def minPathSum(self, grid) -> int:\n",
    "        if not grid:\n",
    "            return 0\n",
    "        \n",
    "        rows = len(grid)\n",
    "        cols = len(grid[0])\n",
    "        \n",
    "        return self.minPath(grid, rows - 1, cols - 1)\n",
    "    \n",
    "    def minPath(self, grid, row, col):\n",
    "        if row < 0 or col < 0:\n",
    "            return float('inf')\n",
    "        \n",
    "        if row == 0 and col == 0:\n",
    "            return grid[0][0]\n",
    "        \n",
    "        up = self.minPath(grid, row, col - 1)\n",
    "        left = self.minPath(grid, row - 1, col)\n",
    "        \n",
    "        return grid[row][col] + min(up, left)\n",
    "    \n",
    "s1 = Solution1()\n",
    "grid = [[1,3,1],[1,5,1],[4,2,1]]\n",
    "s1.minPathSum(grid)"
   ]
  },
  {
   "cell_type": "code",
   "execution_count": 69,
   "metadata": {},
   "outputs": [
    {
     "data": {
      "text/plain": [
       "7"
      ]
     },
     "execution_count": 69,
     "metadata": {},
     "output_type": "execute_result"
    }
   ],
   "source": [
    "class Solution2:\n",
    "    def minPathSum(self, grid) -> int:\n",
    "        if not grid:\n",
    "            return 0\n",
    "        \n",
    "        rows = len(grid)\n",
    "        cols = len(grid[0])\n",
    "        \n",
    "        dp = [[0 for i in range(rows)] for j in range(cols)]\n",
    "        \n",
    "        return self.minPath(grid, rows - 1, cols - 1, dp)\n",
    "        \n",
    "    def minPath(self, grid, row, col, dp):\n",
    "        if row < 0 or col < 0:\n",
    "            return float('inf')\n",
    "        \n",
    "        if row == 0 and col == 0:\n",
    "            return grid[0][0]\n",
    "        \n",
    "        if dp[row][col]:\n",
    "            return dp[row][col]\n",
    "        \n",
    "        up = self.minPath(grid, row, col - 1, dp)\n",
    "        left = self.minPath(grid, row - 1, col, dp)\n",
    "        \n",
    "        dp[row][col] = grid[row][col] + min(up, left)\n",
    "        \n",
    "        return dp[row][col]\n",
    "    \n",
    "s2 = Solution2()\n",
    "grid = [[1,3,1],[1,5,1],[4,2,1]]\n",
    "s2.minPathSum(grid)"
   ]
  },
  {
   "cell_type": "code",
   "execution_count": 70,
   "metadata": {},
   "outputs": [
    {
     "name": "stdout",
     "output_type": "stream",
     "text": [
      "[[1, 4, 5], [2, 7, 6], [6, 8, 7]]\n"
     ]
    },
    {
     "data": {
      "text/plain": [
       "7"
      ]
     },
     "execution_count": 70,
     "metadata": {},
     "output_type": "execute_result"
    }
   ],
   "source": [
    "class Solution3:\n",
    "    def minPathSum(self, grid) -> int:\n",
    "        m = len(grid)\n",
    "        n = len(grid[0])\n",
    "        \n",
    "        for i in range(1, m):\n",
    "            grid[i][0] += grid[i - 1][0]\n",
    "            \n",
    "        \n",
    "        for i in range(1, n):\n",
    "            grid[0][i] += grid[0][i - 1]\n",
    "                        \n",
    "        for i in range(1, m):\n",
    "            for j in range(1, n):\n",
    "                grid[i][j] = min(grid[i - 1][j], grid[i][j - 1]) + grid[i][j]\n",
    "                \n",
    "        print(grid)        \n",
    "        return grid[m - 1][n - 1]\n",
    "    \n",
    "s3 = Solution3()\n",
    "grid = [[1,3,1],[1,5,1],[4,2,1]]\n",
    "s3.minPathSum(grid)"
   ]
  },
  {
   "cell_type": "code",
   "execution_count": 75,
   "metadata": {},
   "outputs": [
    {
     "name": "stdout",
     "output_type": "stream",
     "text": [
      "[[1, 4, 5], [2, 7, 6], [6, 8, 7]]\n"
     ]
    },
    {
     "data": {
      "text/plain": [
       "7"
      ]
     },
     "execution_count": 75,
     "metadata": {},
     "output_type": "execute_result"
    }
   ],
   "source": [
    "class Solution3:\n",
    "    def minPathSum(self, grid) -> int:\n",
    "        m = len(grid)\n",
    "        n = len(grid[0])\n",
    "        \n",
    "        for i in range(1, m):\n",
    "            grid[i][0] += grid[i - 1][0]\n",
    "            \n",
    "        for i in range(1, n):\n",
    "            grid[0][i] += grid[0][i - 1]\n",
    "                        \n",
    "        for i in range(1, m):\n",
    "            for j in range(1, n):\n",
    "                grid[i][j] = min(grid[i - 1][j], grid[i][j - 1]) + grid[i][j]\n",
    "                \n",
    "        print(grid)        \n",
    "        return grid[m - 1][n - 1]\n",
    "    \n",
    "s3 = Solution3()\n",
    "grid = [[1,3,1],[1,5,1],[4,2,1]]\n",
    "s3.minPathSum(grid)"
   ]
  },
  {
   "cell_type": "code",
   "execution_count": 78,
   "metadata": {},
   "outputs": [
    {
     "data": {
      "text/plain": [
       "7"
      ]
     },
     "execution_count": 78,
     "metadata": {},
     "output_type": "execute_result"
    }
   ],
   "source": [
    "class Solution4:\n",
    "    def minPathSum(self, grid):\n",
    "        rows = len(grid)\n",
    "        cols = len(grid[0])\n",
    "        \n",
    "        dp = [[0 for i in range(cols)] for j in range(rows)]\n",
    "        dp[0][0] = grid[0][0]\n",
    "        \n",
    "        for i in range(1, rows):\n",
    "            dp[i][0] = grid[i][0] + dp[i - 1][0]\n",
    "            \n",
    "        for j in range(1, cols):\n",
    "            dp[0][j] = grid[0][j] + dp[0][j - 1]\n",
    "            \n",
    "        for row in range(1, rows):\n",
    "            for col in range(1, cols):\n",
    "                dp[row][col] = min(dp[row - 1][col], dp[row][col - 1]) + grid[row][col]\n",
    "            \n",
    "        return dp[rows - 1][cols - 1]\n",
    "        \n",
    "s4 = Solution4()\n",
    "grid = [[1,3,1],[1,5,1],[4,2,1]]\n",
    "s4.minPathSum(grid)"
   ]
  },
  {
   "cell_type": "markdown",
   "metadata": {},
   "source": [
    "# 746. Min Cost Climbing Stairs\n",
    "\n",
    "\n",
    "**Solution 1: Greedy w/ Modifying the Array**\n",
    "\n",
    "Time: `O(n)`\n",
    "\n",
    "Space: `O(1)`\n",
    "\n",
    "Idea:\n",
    "\n",
    "* If we are at staircase `i`, we can either get there from `i - 1` or `i - 2`.\n",
    "* Add the minimum cost of the previous two steps and add it to the current step.\n",
    "* Adding would give us the min cost to climb the stairs at that point.\n",
    "* Once we are at the end, pick the min cost of the last two steps that will allow us to go to the top.\n",
    "\n",
    "**Solution 2: DP w/ Space - Bottom Up**\n",
    "\n",
    "Time: `O(n)`\n",
    "\n",
    "Space: `O(n)`\n",
    "\n",
    "**Solution 3: DP w/ No Space - Bottom Up**\n",
    "\n",
    "Time: `O(n)`\n",
    "\n",
    "Space: `O(1)`\n",
    "\n",
    "**Solution 4: Recurrence Relation**\n",
    "\n",
    "Time: `O(2^n)`\n",
    "\n",
    "**Solution 5: DP - Top Down**\n",
    "\n",
    "Time: `O(n)`"
   ]
  },
  {
   "cell_type": "code",
   "execution_count": 1,
   "metadata": {},
   "outputs": [
    {
     "name": "stdout",
     "output_type": "stream",
     "text": [
      "[1, 100, 2, 1, 1, 100, 1, 1, 100, 1]\n",
      "[1, 100, 2, 3, 1, 100, 1, 1, 100, 1]\n",
      "[1, 100, 2, 3, 3, 100, 1, 1, 100, 1]\n",
      "[1, 100, 2, 3, 3, 103, 1, 1, 100, 1]\n",
      "[1, 100, 2, 3, 3, 103, 4, 1, 100, 1]\n",
      "[1, 100, 2, 3, 3, 103, 4, 5, 100, 1]\n",
      "[1, 100, 2, 3, 3, 103, 4, 5, 104, 1]\n",
      "[1, 100, 2, 3, 3, 103, 4, 5, 104, 6]\n"
     ]
    },
    {
     "data": {
      "text/plain": [
       "6"
      ]
     },
     "execution_count": 1,
     "metadata": {},
     "output_type": "execute_result"
    }
   ],
   "source": [
    "class Solution1:\n",
    "    def minCostClimbingStairs(self, cost):\n",
    "        n = len(cost)\n",
    "        \n",
    "        for i in range(2, n):\n",
    "            cost[i] += min(cost[i - 1], cost[i - 2])\n",
    "            print(cost)\n",
    "            \n",
    "        return min(cost[n - 1], cost[n - 2])\n",
    "    \n",
    "s1 = Solution1()\n",
    "cost = [1, 100, 1, 1, 1, 100, 1, 1, 100, 1]\n",
    "s1.minCostClimbingStairs(cost)"
   ]
  },
  {
   "cell_type": "code",
   "execution_count": 2,
   "metadata": {},
   "outputs": [
    {
     "name": "stdout",
     "output_type": "stream",
     "text": [
      "[1, 100, 2, 0, 0, 0, 0, 0, 0, 0]\n",
      "[1, 100, 2, 3, 0, 0, 0, 0, 0, 0]\n",
      "[1, 100, 2, 3, 3, 0, 0, 0, 0, 0]\n",
      "[1, 100, 2, 3, 3, 103, 0, 0, 0, 0]\n",
      "[1, 100, 2, 3, 3, 103, 4, 0, 0, 0]\n",
      "[1, 100, 2, 3, 3, 103, 4, 5, 0, 0]\n",
      "[1, 100, 2, 3, 3, 103, 4, 5, 104, 0]\n",
      "[1, 100, 2, 3, 3, 103, 4, 5, 104, 6]\n"
     ]
    },
    {
     "data": {
      "text/plain": [
       "6"
      ]
     },
     "execution_count": 2,
     "metadata": {},
     "output_type": "execute_result"
    }
   ],
   "source": [
    "class Solution2:\n",
    "    def minCostClimbingStairs(self, cost):\n",
    "        n = len(cost)\n",
    "        dp = [0] * n\n",
    "        \n",
    "        dp[0] = cost[0]\n",
    "        dp[1] = cost[1]\n",
    "        \n",
    "        for i in range(2, n):\n",
    "            dp[i] = min(dp[i - 1], dp[i - 2]) + cost[i]\n",
    "            print(dp)\n",
    "        \n",
    "        return min(dp[n - 1], dp[n - 2])\n",
    "        \n",
    "        \n",
    "s2 = Solution2()\n",
    "cost = [1, 100, 1, 1, 1, 100, 1, 1, 100, 1]\n",
    "s2.minCostClimbingStairs(cost)"
   ]
  },
  {
   "cell_type": "code",
   "execution_count": 3,
   "metadata": {},
   "outputs": [
    {
     "data": {
      "text/plain": [
       "6"
      ]
     },
     "execution_count": 3,
     "metadata": {},
     "output_type": "execute_result"
    }
   ],
   "source": [
    "class Solution3:\n",
    "    def minCostClimbingStairs(self, cost):\n",
    "        n = len(cost)\n",
    "        \n",
    "        first = cost[0]\n",
    "        second = cost[1]\n",
    "        \n",
    "        for i in range(2, n):\n",
    "            temp = min(first, second) + cost[i]\n",
    "            first = second\n",
    "            second = temp\n",
    "            \n",
    "        return min(first, second)\n",
    "    \n",
    "s3 = Solution3()\n",
    "cost = [1, 100, 1, 1, 1, 100, 1, 1, 100, 1]\n",
    "s3.minCostClimbingStairs(cost)"
   ]
  },
  {
   "cell_type": "code",
   "execution_count": 4,
   "metadata": {},
   "outputs": [
    {
     "data": {
      "text/plain": [
       "6"
      ]
     },
     "execution_count": 4,
     "metadata": {},
     "output_type": "execute_result"
    }
   ],
   "source": [
    "class Solution4:\n",
    "    def minCostClimbingStairs(self, cost):\n",
    "        n = len(cost)\n",
    "        return min(self.minCost(cost, n - 1), self.minCost(cost, n - 2))\n",
    "    \n",
    "    def minCost(self, cost, n):\n",
    "        if n < 0:\n",
    "            return 0\n",
    "        if n == 0 or n == 1:\n",
    "            return cost[n]\n",
    "        \n",
    "        first = self.minCost(cost, n - 1)\n",
    "        second = self.minCost(cost, n - 2)\n",
    "        \n",
    "        return min(first, second) + cost[n]\n",
    "    \n",
    "s4 = Solution4()\n",
    "cost = [1, 100, 1, 1, 1, 100, 1, 1, 100, 1]\n",
    "s4.minCostClimbingStairs(cost)"
   ]
  },
  {
   "cell_type": "code",
   "execution_count": 5,
   "metadata": {},
   "outputs": [
    {
     "data": {
      "text/plain": [
       "6"
      ]
     },
     "execution_count": 5,
     "metadata": {},
     "output_type": "execute_result"
    }
   ],
   "source": [
    "class Solution5:\n",
    "    def minCostClimbingStairs(self, cost):\n",
    "        n = len(cost)\n",
    "        self.dp = [0] * n\n",
    "        return min(self.minCost(cost, n - 1), self.minCost(cost, n - 2))\n",
    "    \n",
    "    def minCost(self, cost, n):\n",
    "        if n < 0:\n",
    "            return 0\n",
    "        \n",
    "        if n == 0 or n == 1:\n",
    "            return cost[n]\n",
    "        \n",
    "        if self.dp[n] != 0:\n",
    "            return self.dp[n]\n",
    "        \n",
    "        first = self.minCost(cost, n - 1)\n",
    "        second = self.minCost(cost, n - 2)\n",
    "        \n",
    "        self.dp[n] = min(first, second) + cost[n]\n",
    "        \n",
    "        return self.dp[n]\n",
    "    \n",
    "s5 = Solution5()\n",
    "cost = [1, 100, 1, 1, 1, 100, 1, 1, 100, 1]\n",
    "s5.minCostClimbingStairs(cost)"
   ]
  },
  {
   "cell_type": "markdown",
   "metadata": {},
   "source": [
    "# Distinct Ways"
   ]
  },
  {
   "cell_type": "markdown",
   "metadata": {},
   "source": [
    "# 70. Climbing Stairs\n",
    "\n",
    "**Solution 1: Recursion - Top Down**\n",
    "\n",
    "Time: `O(2^n)`\n",
    "\n",
    "Space: `O(n)`\n",
    "\n",
    "**Solution 2: Recursion - Top Down Memoization**\n",
    "\n",
    "Time: `O(n)`\n",
    "\n",
    "Space: `O(n)`\n",
    "\n",
    "**Solution 3: Bottom Up w/ Space**\n",
    "\n",
    "Time: `O(n)`\n",
    "\n",
    "Space: `O(n)`\n",
    "\n",
    "**Solution 3.1: Bottom Up w/o Space**\n",
    "\n",
    "Time: `O(n)`\n",
    "\n",
    "Space: `O(n)`\n",
    "\n",
    "**Solution 4: Bottom Up w/o Space**\n",
    "\n",
    "Time: `O(n)`\n",
    "\n",
    "Space: `O(1)`"
   ]
  },
  {
   "cell_type": "code",
   "execution_count": 6,
   "metadata": {},
   "outputs": [
    {
     "data": {
      "text/plain": [
       "3"
      ]
     },
     "execution_count": 6,
     "metadata": {},
     "output_type": "execute_result"
    }
   ],
   "source": [
    "class Solution1:\n",
    "    def climbStairs(self, n: int) -> int:\n",
    "        return self.climb(n, 0)\n",
    "    \n",
    "    def climb(self, n, step):\n",
    "        if step > n:\n",
    "            return 0\n",
    "        \n",
    "        if step == n:\n",
    "            return 1\n",
    "        \n",
    "        one = self.climb(n, step + 1)\n",
    "        two = self.climb(n, step + 2)\n",
    "        \n",
    "        return one + two\n",
    "    \n",
    "s1 = Solution1()\n",
    "s1.climbStairs(3)"
   ]
  },
  {
   "cell_type": "code",
   "execution_count": 7,
   "metadata": {},
   "outputs": [
    {
     "name": "stdout",
     "output_type": "stream",
     "text": [
      "[0, 0, 1]\n",
      "[0, 2, 1]\n",
      "[3, 2, 1]\n"
     ]
    },
    {
     "data": {
      "text/plain": [
       "3"
      ]
     },
     "execution_count": 7,
     "metadata": {},
     "output_type": "execute_result"
    }
   ],
   "source": [
    "class Solution2:\n",
    "    def climbStairs(self, n: int) -> int:\n",
    "        self.dp = [0] * n\n",
    "        return self.climb(n, 0)\n",
    "    \n",
    "    def climb(self, n, steps):\n",
    "        if steps > n:\n",
    "            return 0\n",
    "        \n",
    "        if steps == n:\n",
    "            return 1\n",
    "        \n",
    "        if self.dp[steps]:\n",
    "            return self.dp[steps]\n",
    "        \n",
    "        one = self.climb(n, steps + 1)\n",
    "        two = self.climb(n, steps + 2)\n",
    "        \n",
    "        self.dp[steps] = one + two\n",
    "        \n",
    "        print(self.dp)\n",
    "        return self.dp[steps]\n",
    "    \n",
    "s2 = Solution2()\n",
    "s2.climbStairs(3)"
   ]
  },
  {
   "cell_type": "code",
   "execution_count": 8,
   "metadata": {},
   "outputs": [
    {
     "name": "stdout",
     "output_type": "stream",
     "text": [
      "[1, 2, 3, 5]\n"
     ]
    },
    {
     "data": {
      "text/plain": [
       "3"
      ]
     },
     "execution_count": 8,
     "metadata": {},
     "output_type": "execute_result"
    }
   ],
   "source": [
    "class Solution3:\n",
    "    def climbStairs(self, n: int) -> int:\n",
    "        dp = [0] * (n + 1)\n",
    "        \n",
    "        dp[0] = 1\n",
    "        dp[1] = 2\n",
    "        \n",
    "        for i in range(2, n + 1):\n",
    "            dp[i] = dp[i - 1] + dp[i - 2]\n",
    "            \n",
    "        print(dp)\n",
    "        return dp[n - 1]\n",
    "        \n",
    "s3 = Solution3()\n",
    "s3.climbStairs(3)"
   ]
  },
  {
   "cell_type": "code",
   "execution_count": 9,
   "metadata": {},
   "outputs": [
    {
     "name": "stdout",
     "output_type": "stream",
     "text": [
      "[1, 2, 3, 5]\n"
     ]
    },
    {
     "data": {
      "text/plain": [
       "3"
      ]
     },
     "execution_count": 9,
     "metadata": {},
     "output_type": "execute_result"
    }
   ],
   "source": [
    "class Solution31:\n",
    "    def climbStairs(self, n: int) -> int:\n",
    "        dp = [0] * (n + 1)\n",
    "        \n",
    "        dp[0] = 1\n",
    "        dp[1] = 2\n",
    "        \n",
    "        for stair in range(2, n + 1):\n",
    "            for way in [1, 2]:\n",
    "                dp[stair] += dp[stair - way]\n",
    "            \n",
    "        print(dp)\n",
    "        return dp[n - 1]\n",
    "        \n",
    "s31 = Solution31()\n",
    "s31.climbStairs(3)"
   ]
  },
  {
   "cell_type": "code",
   "execution_count": 10,
   "metadata": {},
   "outputs": [
    {
     "data": {
      "text/plain": [
       "3"
      ]
     },
     "execution_count": 10,
     "metadata": {},
     "output_type": "execute_result"
    }
   ],
   "source": [
    "class Solution4:\n",
    "    def climbStairs(self, n: int) -> int:\n",
    "        if n == 1:\n",
    "            return 1\n",
    "        \n",
    "        first = 1\n",
    "        second = 2\n",
    "        \n",
    "        for i in range(2, n):\n",
    "            temp = first + second\n",
    "            first = second\n",
    "            second = temp\n",
    "            \n",
    "        return second\n",
    "        \n",
    "s4 = Solution4()\n",
    "s4.climbStairs(3)"
   ]
  },
  {
   "cell_type": "code",
   "execution_count": null,
   "metadata": {},
   "outputs": [],
   "source": []
  }
 ],
 "metadata": {
  "kernelspec": {
   "display_name": "Python 3",
   "language": "python",
   "name": "python3"
  },
  "language_info": {
   "codemirror_mode": {
    "name": "ipython",
    "version": 3
   },
   "file_extension": ".py",
   "mimetype": "text/x-python",
   "name": "python",
   "nbconvert_exporter": "python",
   "pygments_lexer": "ipython3",
   "version": "3.7.7"
  }
 },
 "nbformat": 4,
 "nbformat_minor": 2
}
