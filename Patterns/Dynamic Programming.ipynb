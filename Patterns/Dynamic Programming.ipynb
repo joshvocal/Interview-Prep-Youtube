{
 "cells": [
  {
   "cell_type": "markdown",
   "metadata": {},
   "source": [
    "# Dynamic Programming"
   ]
  },
  {
   "cell_type": "markdown",
   "metadata": {},
   "source": [
    "#### Minimum (Maximum) Path to Reach a Target\n",
    "\n",
    "* [746. Min Cost Climbing Stairs](#746.-Min-Cost-Climbing-Stairs)"
   ]
  },
  {
   "cell_type": "markdown",
   "metadata": {},
   "source": [
    "# Minimum (Maximum) Path to Reach a Target\n",
    "\n",
    "**Solution 1: Greedy w/ Modifying the Array**\n",
    "\n",
    "Time: `O(n)`\n",
    "\n",
    "Space: `O(1)`\n",
    "\n",
    "Idea:\n",
    "\n",
    "* If we are at staircase `i`, we can either get there from `i - 1` or `i - 2`.\n",
    "* Add the minimum cost of the previous two steps and add it to the current step.\n",
    "* Adding would give us the min cost to climb the stairs at that point.\n",
    "* Once we are at the end, pick the min cost of the last two steps that will allow us to go to the top.\n",
    "\n",
    "**Solution 2: DP w/ Space - Bottom Up**\n",
    "\n",
    "Time: `O(n)`\n",
    "\n",
    "Space: `O(n)`\n",
    "\n",
    "**Solution 3: DP w/ No Space - Bottom Up**\n",
    "\n",
    "Time: `O(n)`\n",
    "\n",
    "Space: `O(1)`\n",
    "\n",
    "**Solution 4: Recurrence Relation**\n",
    "\n",
    "Time: `O(2^n)`\n",
    "\n",
    "**Solution 5: DP - Top Down**\n",
    "\n",
    "Time: `O(n)`"
   ]
  },
  {
   "cell_type": "markdown",
   "metadata": {},
   "source": [
    "# 746. Min Cost Climbing Stairs"
   ]
  },
  {
   "cell_type": "code",
   "execution_count": 5,
   "metadata": {},
   "outputs": [
    {
     "name": "stdout",
     "output_type": "stream",
     "text": [
      "[1, 100, 2, 1, 1, 100, 1, 1, 100, 1]\n",
      "[1, 100, 2, 3, 1, 100, 1, 1, 100, 1]\n",
      "[1, 100, 2, 3, 3, 100, 1, 1, 100, 1]\n",
      "[1, 100, 2, 3, 3, 103, 1, 1, 100, 1]\n",
      "[1, 100, 2, 3, 3, 103, 4, 1, 100, 1]\n",
      "[1, 100, 2, 3, 3, 103, 4, 5, 100, 1]\n",
      "[1, 100, 2, 3, 3, 103, 4, 5, 104, 1]\n",
      "[1, 100, 2, 3, 3, 103, 4, 5, 104, 6]\n"
     ]
    },
    {
     "data": {
      "text/plain": [
       "6"
      ]
     },
     "execution_count": 5,
     "metadata": {},
     "output_type": "execute_result"
    }
   ],
   "source": [
    "class Solution1:\n",
    "    def minCostClimbingStairs(self, cost):\n",
    "        n = len(cost)\n",
    "        \n",
    "        for i in range(2, n):\n",
    "            cost[i] += min(cost[i - 1], cost[i - 2])\n",
    "            print(cost)\n",
    "            \n",
    "        return min(cost[n - 1], cost[n - 2])\n",
    "    \n",
    "s1 = Solution1()\n",
    "cost = [1, 100, 1, 1, 1, 100, 1, 1, 100, 1]\n",
    "s1.minCostClimbingStairs(cost)"
   ]
  },
  {
   "cell_type": "code",
   "execution_count": 29,
   "metadata": {},
   "outputs": [
    {
     "name": "stdout",
     "output_type": "stream",
     "text": [
      "[1, 100, 2, 0, 0, 0, 0, 0, 0, 0]\n",
      "[1, 100, 2, 3, 0, 0, 0, 0, 0, 0]\n",
      "[1, 100, 2, 3, 3, 0, 0, 0, 0, 0]\n",
      "[1, 100, 2, 3, 3, 103, 0, 0, 0, 0]\n",
      "[1, 100, 2, 3, 3, 103, 4, 0, 0, 0]\n",
      "[1, 100, 2, 3, 3, 103, 4, 5, 0, 0]\n",
      "[1, 100, 2, 3, 3, 103, 4, 5, 104, 0]\n",
      "[1, 100, 2, 3, 3, 103, 4, 5, 104, 6]\n"
     ]
    },
    {
     "data": {
      "text/plain": [
       "6"
      ]
     },
     "execution_count": 29,
     "metadata": {},
     "output_type": "execute_result"
    }
   ],
   "source": [
    "class Solution2:\n",
    "    def minCostClimbingStairs(self, cost):\n",
    "        n = len(cost)\n",
    "        dp = [0] * n\n",
    "        \n",
    "        dp[0] = cost[0]\n",
    "        dp[1] = cost[1]\n",
    "        \n",
    "        for i in range(2, n):\n",
    "            dp[i] = min(dp[i - 1], dp[i - 2]) + cost[i]\n",
    "            print(dp)\n",
    "        \n",
    "        return min(dp[n - 1], dp[n - 2])\n",
    "        \n",
    "        \n",
    "s2 = Solution2()\n",
    "cost = [1, 100, 1, 1, 1, 100, 1, 1, 100, 1]\n",
    "s2.minCostClimbingStairs(cost)"
   ]
  },
  {
   "cell_type": "code",
   "execution_count": 31,
   "metadata": {},
   "outputs": [
    {
     "data": {
      "text/plain": [
       "6"
      ]
     },
     "execution_count": 31,
     "metadata": {},
     "output_type": "execute_result"
    }
   ],
   "source": [
    "class Solution3:\n",
    "    def minCostClimbingStairs(self, cost):\n",
    "        n = len(cost)\n",
    "        \n",
    "        first = cost[0]\n",
    "        second = cost[1]\n",
    "        \n",
    "        for i in range(2, n):\n",
    "            temp = min(first, second) + cost[i]\n",
    "            first = second\n",
    "            second = temp\n",
    "            \n",
    "        return min(first, second)\n",
    "    \n",
    "s3 = Solution3()\n",
    "cost = [1, 100, 1, 1, 1, 100, 1, 1, 100, 1]\n",
    "s3.minCostClimbingStairs(cost)"
   ]
  },
  {
   "cell_type": "code",
   "execution_count": 39,
   "metadata": {},
   "outputs": [
    {
     "data": {
      "text/plain": [
       "6"
      ]
     },
     "execution_count": 39,
     "metadata": {},
     "output_type": "execute_result"
    }
   ],
   "source": [
    "class Solution4:\n",
    "    def minCostClimbingStairs(self, cost):\n",
    "        n = len(cost)\n",
    "        return min(self.minCost(cost, n - 1), self.minCost(cost, n - 2))\n",
    "    \n",
    "    def minCost(self, cost, n):\n",
    "        if n < 0:\n",
    "            return 0\n",
    "        if n == 0 or n == 1:\n",
    "            return cost[n]\n",
    "        \n",
    "        first = self.minCost(cost, n - 1)\n",
    "        second = self.minCost(cost, n - 2)\n",
    "        \n",
    "        return min(first, second) + cost[n]\n",
    "    \n",
    "s4 = Solution4()\n",
    "cost = [1, 100, 1, 1, 1, 100, 1, 1, 100, 1]\n",
    "s4.minCostClimbingStairs(cost)"
   ]
  },
  {
   "cell_type": "code",
   "execution_count": 43,
   "metadata": {},
   "outputs": [
    {
     "data": {
      "text/plain": [
       "6"
      ]
     },
     "execution_count": 43,
     "metadata": {},
     "output_type": "execute_result"
    }
   ],
   "source": [
    "class Solution5:\n",
    "    def minCostClimbingStairs(self, cost):\n",
    "        n = len(cost)\n",
    "        self.dp = [0] * n\n",
    "        return min(self.minCost(cost, n - 1), self.minCost(cost, n - 2))\n",
    "    \n",
    "    def minCost(self, cost, n):\n",
    "        if n < 0:\n",
    "            return 0\n",
    "        \n",
    "        if n == 0 or n == 1:\n",
    "            return cost[n]\n",
    "        \n",
    "        if self.dp[n] != 0:\n",
    "            return self.dp[n]\n",
    "        \n",
    "        first = self.minCost(cost, n - 1)\n",
    "        second = self.minCost(cost, n - 2)\n",
    "        \n",
    "        self.dp[n] = min(first, second) + cost[n]\n",
    "        \n",
    "        return self.dp[n]\n",
    "    \n",
    "s5 = Solution5()\n",
    "cost = [1, 100, 1, 1, 1, 100, 1, 1, 100, 1]\n",
    "s5.minCostClimbingStairs(cost)"
   ]
  },
  {
   "cell_type": "code",
   "execution_count": null,
   "metadata": {},
   "outputs": [],
   "source": []
  }
 ],
 "metadata": {
  "kernelspec": {
   "display_name": "Python 3",
   "language": "python",
   "name": "python3"
  },
  "language_info": {
   "codemirror_mode": {
    "name": "ipython",
    "version": 3
   },
   "file_extension": ".py",
   "mimetype": "text/x-python",
   "name": "python",
   "nbconvert_exporter": "python",
   "pygments_lexer": "ipython3",
   "version": "3.7.7"
  }
 },
 "nbformat": 4,
 "nbformat_minor": 2
}
