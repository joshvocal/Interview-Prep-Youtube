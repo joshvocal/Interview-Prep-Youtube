{
 "cells": [
  {
   "cell_type": "markdown",
   "metadata": {},
   "source": [
    "# Backtracking\n",
    "\n",
    "* [17. Letter Combinations of a Phone Number](#17.-Letter-Combinations-of-a-Phone-Number)\n",
    "* [22. Generate Parentheses](#22.-Generate-Parentheses)\n",
    "* [46. Permutations](#46.-Permutations)\n",
    "* [78. Subsets](#78.-Subsets)"
   ]
  },
  {
   "cell_type": "markdown",
   "metadata": {},
   "source": [
    "# 17. Letter Combinations of a Phone Number"
   ]
  },
  {
   "cell_type": "code",
   "execution_count": 7,
   "metadata": {},
   "outputs": [],
   "source": [
    "class Solution:\n",
    "    def letterCombinations(self, digits):\n",
    "        \n",
    "        dic = {\n",
    "            \"2\": \"abc\",\n",
    "            \"3\": \"def\",\n",
    "            \"4\": \"ghi\",\n",
    "            \"5\": \"jkl\",\n",
    "            \"6\": \"mno\",\n",
    "            \"7\": \"pqrs\",\n",
    "            \"8\": \"tuv\",\n",
    "            \"9\": \"wxyz\",\n",
    "        }\n",
    "        \n",
    "        res = []\n",
    "    \n",
    "        self.backtrack(digits, dic, 0, \"\", res)\n",
    "        return res\n",
    "    \n",
    "    def backtrack(self, digits, dic, index, path, res):\n",
    "        if len(path) == len(digits):\n",
    "            res.append(path)\n",
    "            return\n",
    "        \n",
    "        for digit in dic.get(digits[index]):\n",
    "            print(path + digit)\n",
    "            self.backtrack(digits, dic, index + 1, path + digit, res)\n",
    "            \n",
    "        \n",
    "        "
   ]
  },
  {
   "cell_type": "code",
   "execution_count": 8,
   "metadata": {},
   "outputs": [
    {
     "name": "stdout",
     "output_type": "stream",
     "text": [
      "a\n",
      "ad\n",
      "ae\n",
      "af\n",
      "b\n",
      "bd\n",
      "be\n",
      "bf\n",
      "c\n",
      "cd\n",
      "ce\n",
      "cf\n"
     ]
    },
    {
     "data": {
      "text/plain": [
       "['ad', 'ae', 'af', 'bd', 'be', 'bf', 'cd', 'ce', 'cf']"
      ]
     },
     "execution_count": 8,
     "metadata": {},
     "output_type": "execute_result"
    }
   ],
   "source": [
    "digits = \"23\"\n",
    "Solution().letterCombinations(digits)"
   ]
  },
  {
   "cell_type": "markdown",
   "metadata": {},
   "source": [
    "# 22. Generate Parentheses"
   ]
  },
  {
   "cell_type": "code",
   "execution_count": 15,
   "metadata": {},
   "outputs": [],
   "source": [
    "class Solution:\n",
    "    def generateParenthesis(self, n):\n",
    "        res = []\n",
    "        self.backtrack(res, n, \"\", 0, 0)\n",
    "        return res\n",
    "    \n",
    "    def backtrack(self, res, n, temp, left, right):\n",
    "        if len(temp) == 2*n:\n",
    "            res.append(temp)\n",
    "        \n",
    "        print(temp)\n",
    "        if left < n:\n",
    "            self.backtrack(res, n, temp + \"(\", left + 1, right)\n",
    "        if right < left:\n",
    "            self.backtrack(res, n, temp + \")\", left, right + 1)\n"
   ]
  },
  {
   "cell_type": "code",
   "execution_count": 16,
   "metadata": {},
   "outputs": [
    {
     "name": "stdout",
     "output_type": "stream",
     "text": [
      "\n",
      "(\n",
      "((\n",
      "(((\n",
      "((()\n",
      "((())\n",
      "((()))\n",
      "(()\n",
      "(()(\n",
      "(()()\n",
      "(()())\n",
      "(())\n",
      "(())(\n",
      "(())()\n",
      "()\n",
      "()(\n",
      "()((\n",
      "()(()\n",
      "()(())\n",
      "()()\n",
      "()()(\n",
      "()()()\n"
     ]
    },
    {
     "data": {
      "text/plain": [
       "['((()))', '(()())', '(())()', '()(())', '()()()']"
      ]
     },
     "execution_count": 16,
     "metadata": {},
     "output_type": "execute_result"
    }
   ],
   "source": [
    "n = 3\n",
    "Solution().generateParenthesis(n)"
   ]
  },
  {
   "cell_type": "markdown",
   "metadata": {},
   "source": [
    "# 46. Permutations\n",
    "\n",
    "Idea:\n",
    "\n",
    "* Build up the permutations by going depth first\n",
    "* Start at one number, and build up to the length of the number\n",
    "* Each time we reach the length of the desired number, backtrack/pop the last number to build the new number"
   ]
  },
  {
   "cell_type": "code",
   "execution_count": 13,
   "metadata": {},
   "outputs": [],
   "source": [
    "class Solution:\n",
    "    def permute(self, nums):\n",
    "        res = []\n",
    "        self.backtrack(nums, res, [])\n",
    "        return res\n",
    "    \n",
    "    def backtrack(self, nums, res, temp):\n",
    "        if len(temp) == len(nums):\n",
    "            res.append(list(temp))\n",
    "            return\n",
    "            \n",
    "        for num in nums:\n",
    "            if num not in temp:\n",
    "                temp.append(num)\n",
    "                print(temp)\n",
    "                self.backtrack(nums, res, temp)\n",
    "                temp.pop()"
   ]
  },
  {
   "cell_type": "code",
   "execution_count": 14,
   "metadata": {},
   "outputs": [
    {
     "name": "stdout",
     "output_type": "stream",
     "text": [
      "[1]\n",
      "[1, 2]\n",
      "[1, 2, 3]\n"
     ]
    },
    {
     "data": {
      "text/plain": [
       "[[1, 2, 3]]"
      ]
     },
     "execution_count": 14,
     "metadata": {},
     "output_type": "execute_result"
    }
   ],
   "source": [
    "nums = [1,2,3]\n",
    "Solution().permute(nums)"
   ]
  },
  {
   "cell_type": "markdown",
   "metadata": {},
   "source": [
    "# 78. Subsets\n",
    "\n",
    "Idea:\n",
    "\n",
    "* This question is kinda like 46. Permutations in that we have to use backtracking\n",
    "* There isn't a condition to add our temp variable which stores our power set\n",
    "* Every time we backtrack, start at an increasing index"
   ]
  },
  {
   "cell_type": "code",
   "execution_count": 21,
   "metadata": {},
   "outputs": [],
   "source": [
    "class Solution:\n",
    "    def subsets(self, nums):\n",
    "        res = []\n",
    "        self.backtrack(nums, res, [], 0)\n",
    "        return res\n",
    "    \n",
    "    def backtrack(self, nums, res, temp, start):\n",
    "        print(list(temp))\n",
    "        res.append(list(temp))\n",
    "        \n",
    "        for i in range(start, len(nums)):\n",
    "            temp.append(nums[i])\n",
    "            self.backtrack(nums, res, temp, i + 1)\n",
    "            temp.pop()"
   ]
  },
  {
   "cell_type": "code",
   "execution_count": 22,
   "metadata": {},
   "outputs": [
    {
     "name": "stdout",
     "output_type": "stream",
     "text": [
      "[]\n",
      "[1]\n",
      "[1, 2]\n",
      "[1, 2, 3]\n",
      "[1, 3]\n",
      "[2]\n",
      "[2, 3]\n",
      "[3]\n"
     ]
    },
    {
     "data": {
      "text/plain": [
       "[[], [1], [1, 2], [1, 2, 3], [1, 3], [2], [2, 3], [3]]"
      ]
     },
     "execution_count": 22,
     "metadata": {},
     "output_type": "execute_result"
    }
   ],
   "source": [
    "nums = [1,2,3]\n",
    "Solution().subsets(nums)"
   ]
  },
  {
   "cell_type": "code",
   "execution_count": null,
   "metadata": {},
   "outputs": [],
   "source": []
  }
 ],
 "metadata": {
  "kernelspec": {
   "display_name": "Python 3",
   "language": "python",
   "name": "python3"
  },
  "language_info": {
   "codemirror_mode": {
    "name": "ipython",
    "version": 3
   },
   "file_extension": ".py",
   "mimetype": "text/x-python",
   "name": "python",
   "nbconvert_exporter": "python",
   "pygments_lexer": "ipython3",
   "version": "3.7.5"
  }
 },
 "nbformat": 4,
 "nbformat_minor": 2
}
