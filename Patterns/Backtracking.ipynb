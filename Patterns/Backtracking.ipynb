{
 "cells": [
  {
   "cell_type": "markdown",
   "metadata": {},
   "source": [
    "# Backtracking\n",
    "\n",
    "* [17. Letter Combinations of a Phone Number](#17.-Letter-Combinations-of-a-Phone-Number)\n",
    "* [22. Generate Parentheses](#22.-Generate-Parentheses)\n",
    "* [39. Combination Sum](#39.-Combination-Sum)\n",
    "* [46. Permutations](#46.-Permutations)\n",
    "* [77. Combinations](#77.-Combinations)\n",
    "* [78. Subsets](#78.-Subsets)\n",
    "\n",
    "* [784. Letter Case Permutation](#784.-Letter-Case-Permutation)\n",
    "\n",
    "## Grid\n",
    "* [79. Word Search](#79.-Word-Search)\n",
    "* [1219. Path with Maximum Gold](#1219.-Path-with-Maximum-Gold)"
   ]
  },
  {
   "cell_type": "markdown",
   "metadata": {},
   "source": [
    "# 17. Letter Combinations of a Phone Number"
   ]
  },
  {
   "cell_type": "code",
   "execution_count": 1,
   "metadata": {},
   "outputs": [],
   "source": [
    "class Solution:\n",
    "    def letterCombinations(self, digits):\n",
    "        \n",
    "        dic = {\n",
    "            \"2\": \"abc\",\n",
    "            \"3\": \"def\",\n",
    "            \"4\": \"ghi\",\n",
    "            \"5\": \"jkl\",\n",
    "            \"6\": \"mno\",\n",
    "            \"7\": \"pqrs\",\n",
    "            \"8\": \"tuv\",\n",
    "            \"9\": \"wxyz\",\n",
    "        }\n",
    "        \n",
    "        res = []\n",
    "    \n",
    "        self.backtrack(digits, dic, 0, \"\", res)\n",
    "        return res\n",
    "    \n",
    "    def backtrack(self, digits, dic, index, path, res):\n",
    "        if len(path) == len(digits):\n",
    "            res.append(path)\n",
    "            return\n",
    "        \n",
    "        for digit in dic.get(digits[index]):\n",
    "            print(path + digit)\n",
    "            self.backtrack(digits, dic, index + 1, path + digit, res)\n",
    "            \n",
    "        \n",
    "        "
   ]
  },
  {
   "cell_type": "code",
   "execution_count": 2,
   "metadata": {},
   "outputs": [
    {
     "name": "stdout",
     "output_type": "stream",
     "text": [
      "a\n",
      "ad\n",
      "ae\n",
      "af\n",
      "b\n",
      "bd\n",
      "be\n",
      "bf\n",
      "c\n",
      "cd\n",
      "ce\n",
      "cf\n"
     ]
    },
    {
     "data": {
      "text/plain": [
       "['ad', 'ae', 'af', 'bd', 'be', 'bf', 'cd', 'ce', 'cf']"
      ]
     },
     "execution_count": 2,
     "metadata": {},
     "output_type": "execute_result"
    }
   ],
   "source": [
    "digits = \"23\"\n",
    "Solution().letterCombinations(digits)"
   ]
  },
  {
   "cell_type": "markdown",
   "metadata": {},
   "source": [
    "# 22. Generate Parentheses"
   ]
  },
  {
   "cell_type": "code",
   "execution_count": 3,
   "metadata": {},
   "outputs": [],
   "source": [
    "class Solution:\n",
    "    def generateParenthesis(self, n):\n",
    "        res = []\n",
    "        self.backtrack(res, n, \"\", 0, 0)\n",
    "        return res\n",
    "    \n",
    "    def backtrack(self, res, n, temp, left, right):\n",
    "        if len(temp) == 2*n:\n",
    "            res.append(temp)\n",
    "        \n",
    "        print(temp)\n",
    "        if left < n:\n",
    "            self.backtrack(res, n, temp + \"(\", left + 1, right)\n",
    "        if right < left:\n",
    "            self.backtrack(res, n, temp + \")\", left, right + 1)\n"
   ]
  },
  {
   "cell_type": "code",
   "execution_count": 4,
   "metadata": {},
   "outputs": [
    {
     "name": "stdout",
     "output_type": "stream",
     "text": [
      "\n",
      "(\n",
      "((\n",
      "(((\n",
      "((()\n",
      "((())\n",
      "((()))\n",
      "(()\n",
      "(()(\n",
      "(()()\n",
      "(()())\n",
      "(())\n",
      "(())(\n",
      "(())()\n",
      "()\n",
      "()(\n",
      "()((\n",
      "()(()\n",
      "()(())\n",
      "()()\n",
      "()()(\n",
      "()()()\n"
     ]
    },
    {
     "data": {
      "text/plain": [
       "['((()))', '(()())', '(())()', '()(())', '()()()']"
      ]
     },
     "execution_count": 4,
     "metadata": {},
     "output_type": "execute_result"
    }
   ],
   "source": [
    "n = 3\n",
    "Solution().generateParenthesis(n)"
   ]
  },
  {
   "cell_type": "markdown",
   "metadata": {},
   "source": [
    "# 39. Combination Sum"
   ]
  },
  {
   "cell_type": "code",
   "execution_count": 28,
   "metadata": {},
   "outputs": [],
   "source": [
    "class Solution:\n",
    "    def combinationSum(self, candidates, target: int):\n",
    "        res = []\n",
    "        self.backtrack(candidates, target, res, [], 0)\n",
    "        return res\n",
    "    \n",
    "    def backtrack(self, candidates, target, res, temp, pos):\n",
    "        if sum(temp) > target:\n",
    "            return\n",
    "        \n",
    "        if sum(temp) == target:\n",
    "            res.append(list(temp))\n",
    "            return\n",
    "            \n",
    "        for i in range(pos, len(candidates)):\n",
    "            print(temp)\n",
    "            temp.append(candidates[i])\n",
    "            self.backtrack(candidates, target, res, temp, i)\n",
    "            temp.pop()"
   ]
  },
  {
   "cell_type": "code",
   "execution_count": 29,
   "metadata": {},
   "outputs": [
    {
     "name": "stdout",
     "output_type": "stream",
     "text": [
      "[]\n",
      "[2]\n",
      "[2, 2]\n",
      "[2, 2, 2]\n",
      "[2, 2, 2]\n",
      "[2, 2, 2]\n",
      "[2, 2, 2]\n",
      "[2, 2]\n",
      "[2, 2]\n",
      "[2, 2]\n",
      "[2]\n",
      "[2, 3]\n",
      "[2, 3]\n",
      "[2, 3]\n",
      "[2]\n",
      "[2]\n",
      "[]\n",
      "[3]\n",
      "[3, 3]\n",
      "[3, 3]\n",
      "[3, 3]\n",
      "[3]\n",
      "[3]\n",
      "[]\n",
      "[6]\n",
      "[6]\n",
      "[]\n"
     ]
    },
    {
     "data": {
      "text/plain": [
       "[[2, 2, 3], [7]]"
      ]
     },
     "execution_count": 29,
     "metadata": {},
     "output_type": "execute_result"
    }
   ],
   "source": [
    "candidates = [2,3,6,7]\n",
    "target = 7\n",
    "Solution().combinationSum(candidates, target)"
   ]
  },
  {
   "cell_type": "markdown",
   "metadata": {},
   "source": [
    "# 40. Combination Sum II\n",
    "\n",
    "Idea:\n",
    "\n",
    "* We want go through each branch/path in the "
   ]
  },
  {
   "cell_type": "code",
   "execution_count": 37,
   "metadata": {},
   "outputs": [],
   "source": [
    "class Solution:\n",
    "    def combinationSum2(self, candidates, target: int):\n",
    "        res = []\n",
    "        # Sort the candidates\n",
    "        self.backtrack(sorted(candidates), target, res, [], 0)\n",
    "        return res\n",
    "    \n",
    "    def backtrack(self, candidates, target, res, temp, pos):\n",
    "        if sum(temp) > target:\n",
    "            return\n",
    "        \n",
    "        if sum(temp) == target:\n",
    "            res.append(list(temp))\n",
    "            \n",
    "        for i in range(pos, len(candidates)):\n",
    "            # Prevents going down the branch with the repeated number\n",
    "            if i > pos and candidates[i] == candidates[i-1]:\n",
    "                continue\n",
    "                \n",
    "            temp.append(candidates[i])\n",
    "            self.backtrack(candidates, target, res, temp, i + 1)\n",
    "            temp.pop()\n",
    "    \n",
    "        "
   ]
  },
  {
   "cell_type": "code",
   "execution_count": 38,
   "metadata": {},
   "outputs": [
    {
     "data": {
      "text/plain": [
       "[[1, 1, 6], [1, 2, 5], [1, 7], [2, 6]]"
      ]
     },
     "execution_count": 38,
     "metadata": {},
     "output_type": "execute_result"
    }
   ],
   "source": [
    "candidates = [10,1,2,7,6,1,5]\n",
    "target = 8\n",
    "Solution().combinationSum2(candidates, target)"
   ]
  },
  {
   "cell_type": "markdown",
   "metadata": {},
   "source": [
    "# 46. Permutations\n",
    "\n",
    "Idea:\n",
    "\n",
    "* Build up the permutations by going depth first\n",
    "* Start at one number, and build up to the length of the number\n",
    "* Each time we reach the length of the desired number, backtrack/pop the last number to build the new number"
   ]
  },
  {
   "cell_type": "code",
   "execution_count": 30,
   "metadata": {},
   "outputs": [],
   "source": [
    "class Solution:\n",
    "    def permute(self, nums):\n",
    "        res = []\n",
    "        self.backtrack(nums, res, [])\n",
    "        return res\n",
    "    \n",
    "    def backtrack(self, nums, res, temp):\n",
    "        if len(temp) > len(nums):\n",
    "            return\n",
    "        \n",
    "        if len(temp) == len(nums):\n",
    "            res.append(list(temp))\n",
    "            return\n",
    "            \n",
    "        for num in nums:\n",
    "            if num not in temp:\n",
    "                temp.append(num)\n",
    "                print(temp)\n",
    "                self.backtrack(nums, res, temp)\n",
    "                temp.pop()"
   ]
  },
  {
   "cell_type": "code",
   "execution_count": 31,
   "metadata": {},
   "outputs": [
    {
     "name": "stdout",
     "output_type": "stream",
     "text": [
      "[1]\n",
      "[1, 2]\n",
      "[1, 2, 3]\n",
      "[1, 3]\n",
      "[1, 3, 2]\n",
      "[2]\n",
      "[2, 1]\n",
      "[2, 1, 3]\n",
      "[2, 3]\n",
      "[2, 3, 1]\n",
      "[3]\n",
      "[3, 1]\n",
      "[3, 1, 2]\n",
      "[3, 2]\n",
      "[3, 2, 1]\n"
     ]
    },
    {
     "data": {
      "text/plain": [
       "[[1, 2, 3], [1, 3, 2], [2, 1, 3], [2, 3, 1], [3, 1, 2], [3, 2, 1]]"
      ]
     },
     "execution_count": 31,
     "metadata": {},
     "output_type": "execute_result"
    }
   ],
   "source": [
    "nums = [1,2,3]\n",
    "Solution().permute(nums)"
   ]
  },
  {
   "cell_type": "markdown",
   "metadata": {},
   "source": [
    "# 77. Combinations\n",
    "\n",
    "Idea:\n",
    "\n",
    "* Use a for-loop in backtracking to advance to the next number available"
   ]
  },
  {
   "cell_type": "code",
   "execution_count": 34,
   "metadata": {},
   "outputs": [],
   "source": [
    "class Solution:\n",
    "    def combine(self, n: int, k: int):\n",
    "        res = []\n",
    "        self.backtrack(n + 1, k, res, [], 1)\n",
    "        return res\n",
    "    \n",
    "    def backtrack(self, n, k, res, temp, pos):\n",
    "        if len(temp) > k:\n",
    "            return\n",
    "        \n",
    "        if len(temp) == k:\n",
    "            res.append(list(temp))\n",
    "            return\n",
    "            \n",
    "        for i in range(pos, n):\n",
    "            temp.append(i)\n",
    "            self.backtrack(n, k, res, temp, i + 1)\n",
    "            temp.pop()\n",
    "            \n",
    "            "
   ]
  },
  {
   "cell_type": "code",
   "execution_count": 35,
   "metadata": {},
   "outputs": [
    {
     "data": {
      "text/plain": [
       "[[1, 2], [1, 3], [1, 4], [2, 3], [2, 4], [3, 4]]"
      ]
     },
     "execution_count": 35,
     "metadata": {},
     "output_type": "execute_result"
    }
   ],
   "source": [
    "n = 4\n",
    "k = 2\n",
    "Solution().combine(n, k)"
   ]
  },
  {
   "cell_type": "markdown",
   "metadata": {},
   "source": [
    "# 78. Subsets\n",
    "\n",
    "Idea:\n",
    "\n",
    "* This question is kinda like 46. Permutations in that we have to use backtracking\n",
    "* There isn't a condition to add our temp variable which stores our power set\n",
    "* Every time we backtrack, start at an increasing index"
   ]
  },
  {
   "cell_type": "code",
   "execution_count": 11,
   "metadata": {},
   "outputs": [],
   "source": [
    "class Solution:\n",
    "    def subsets(self, nums):\n",
    "        res = []\n",
    "        self.backtrack(nums, res, [], 0)\n",
    "        return res\n",
    "    \n",
    "    def backtrack(self, nums, res, temp, start):\n",
    "        print(list(temp))\n",
    "        res.append(list(temp))\n",
    "        \n",
    "        for i in range(start, len(nums)):\n",
    "            temp.append(nums[i])\n",
    "            self.backtrack(nums, res, temp, i + 1)\n",
    "            temp.pop()"
   ]
  },
  {
   "cell_type": "code",
   "execution_count": 12,
   "metadata": {},
   "outputs": [
    {
     "name": "stdout",
     "output_type": "stream",
     "text": [
      "[]\n",
      "[1]\n",
      "[1, 2]\n",
      "[1, 2, 3]\n",
      "[1, 3]\n",
      "[2]\n",
      "[2, 3]\n",
      "[3]\n"
     ]
    },
    {
     "data": {
      "text/plain": [
       "[[], [1], [1, 2], [1, 2, 3], [1, 3], [2], [2, 3], [3]]"
      ]
     },
     "execution_count": 12,
     "metadata": {},
     "output_type": "execute_result"
    }
   ],
   "source": [
    "nums = [1,2,3]\n",
    "Solution().subsets(nums)"
   ]
  },
  {
   "cell_type": "markdown",
   "metadata": {},
   "source": [
    "# 79. Word Search\n",
    "\n",
    "Idea:\n",
    "\n",
    "* Use backtracking to find if each character of our word is in the board\n",
    "* Everytime we find the next character of our word, update the next word index we are looking for\n",
    "* Use \"Short Circuiting\" to avoid searching every possible direction\n",
    "* Once we have found the right directions/path, return True"
   ]
  },
  {
   "cell_type": "code",
   "execution_count": 13,
   "metadata": {},
   "outputs": [],
   "source": [
    "class Solution:\n",
    "    def exist(self, board, word: str) -> bool:\n",
    "        if not board or not word:\n",
    "            return False\n",
    "        \n",
    "        rows = len(board)\n",
    "        cols = len(board[0])\n",
    "        \n",
    "        w = word[0]\n",
    "        \n",
    "        for i in range(rows):\n",
    "            for j in range(cols):\n",
    "                if board[i][j] == w:\n",
    "                    if self.backtrack(i, j, rows, cols, board, word):\n",
    "                        return True\n",
    "                    \n",
    "        return False\n",
    "    \n",
    "    def backtrack(self, i, j, rows, cols, board, word):\n",
    "        if not word:\n",
    "            return True\n",
    "        \n",
    "        if i < 0 or i >= rows or j < 0 or j >= cols or board[i][j] != word[0]:\n",
    "            return False\n",
    "        \n",
    "        c = board[i][j]\n",
    "        board[i][j] = \"*\"\n",
    "        \n",
    "        # Instead of looking for all possible directions before before finding a result,\n",
    "        # We can just \"Short Circuiting\" once we have found a result\n",
    "        res = self.backtrack(i + 1, j, rows, cols, board, word[1:]) or \\\n",
    "            self.backtrack(i - 1, j, rows, cols, board, word[1:]) or \\\n",
    "            self.backtrack(i, j + 1, rows, cols, board, word[1:]) or \\\n",
    "            self.backtrack(i, j - 1, rows, cols, board, word[1:])\n",
    "        \n",
    "        board[i][j] = c\n",
    "        \n",
    "        return res"
   ]
  },
  {
   "cell_type": "code",
   "execution_count": 14,
   "metadata": {},
   "outputs": [],
   "source": [
    "class Solution2:\n",
    "    def exist(self, board, word: str) -> bool:\n",
    "        if not board or not word:\n",
    "            return False\n",
    "        \n",
    "        rows = len(board)\n",
    "        cols = len(board[0])\n",
    "        \n",
    "        w = word[0]\n",
    "        \n",
    "        for i in range(rows):\n",
    "            for j in range(cols):\n",
    "                if board[i][j] == w:\n",
    "                    if self.backtrack(i, j, rows, cols, board, word, \"\", 0):\n",
    "                        return True\n",
    "                    \n",
    "        return False\n",
    "    \n",
    "    def backtrack(self, i, j, rows, cols, board, word, temp, index):\n",
    "        if temp == word:\n",
    "            return True\n",
    "        \n",
    "        if i < 0 or i >= rows or j < 0 or j >= cols or board[i][j] != word[index]:\n",
    "            return False\n",
    "        \n",
    "        c = board[i][j]\n",
    "        board[i][j] = \"*\"\n",
    "        \n",
    "        res = self.backtrack(i + 1, j, rows, cols, board, word, temp + c, index + 1) or \\\n",
    "            self.backtrack(i - 1, j, rows, cols, board, word, temp + c, index + 1) or \\\n",
    "            self.backtrack(i, j + 1, rows, cols, board, word, temp + c, index + 1) or \\\n",
    "            self.backtrack(i, j - 1, rows, cols, board, word, temp + c, index + 1)\n",
    "        \n",
    "        board[i][j] = c\n",
    "        \n",
    "        return res"
   ]
  },
  {
   "cell_type": "code",
   "execution_count": 15,
   "metadata": {},
   "outputs": [
    {
     "data": {
      "text/plain": [
       "True"
      ]
     },
     "execution_count": 15,
     "metadata": {},
     "output_type": "execute_result"
    }
   ],
   "source": [
    "board = [[\"A\",\"B\",\"C\",\"E\"],[\"S\",\"F\",\"C\",\"S\"],[\"A\",\"D\",\"E\",\"E\"]]\n",
    "word = \"ABCCED\"\n",
    "Solution2().exist(board, word)"
   ]
  },
  {
   "cell_type": "markdown",
   "metadata": {},
   "source": [
    "# 784. Letter Case Permutation\n",
    "\n",
    "Idea:\n",
    "\n",
    "* We can think of this like a tree. If we see an alpha character, there are two paths that it can go down\n",
    "* One path is the upper case and the other is the lower case branch"
   ]
  },
  {
   "cell_type": "code",
   "execution_count": 16,
   "metadata": {},
   "outputs": [],
   "source": [
    "class Solution:\n",
    "    def letterCasePermutation(self, S: str):\n",
    "        res = []\n",
    "        self.backtrack(S, res, \"\", 0)\n",
    "        return res\n",
    "    \n",
    "    def backtrack(self, S, res, temp, pos):\n",
    "        if len(temp) == len(S):\n",
    "            res.append(temp)\n",
    "            return\n",
    "        \n",
    "        # If we have an alpha character, let's toggle it to upper and lower case\n",
    "        if S[pos].isalpha():\n",
    "            self.backtrack(S, res, temp + S[pos].upper(), pos + 1)\n",
    "            self.backtrack(S, res, temp + S[pos].lower(), pos + 1)\n",
    "        else:\n",
    "            self.backtrack(S, res, temp + S[pos], pos + 1)\n",
    "            "
   ]
  },
  {
   "cell_type": "code",
   "execution_count": 17,
   "metadata": {},
   "outputs": [
    {
     "data": {
      "text/plain": [
       "['A1B2', 'A1b2', 'a1B2', 'a1b2']"
      ]
     },
     "execution_count": 17,
     "metadata": {},
     "output_type": "execute_result"
    }
   ],
   "source": [
    "S = \"a1b2\"\n",
    "Solution().letterCasePermutation(S)"
   ]
  },
  {
   "cell_type": "markdown",
   "metadata": {},
   "source": [
    "# 1219. Path with Maximum Gold\n",
    "\n",
    "Idea:\n",
    "\n",
    "* Traverse the graph and start a path from any point which has postive gold in the cell\n",
    "* Return the max path by traversing all 4 directions\n",
    "* Use recursion stack to bring back the value of the gold once we reach the end"
   ]
  },
  {
   "cell_type": "code",
   "execution_count": 18,
   "metadata": {},
   "outputs": [],
   "source": [
    "class Solution:\n",
    "    def getMaximumGold(self, grid) -> int:\n",
    "        if not grid:\n",
    "            return 0\n",
    "        \n",
    "        rows = len(grid)\n",
    "        cols = len(grid[0])\n",
    "        m = -float('inf')\n",
    "        \n",
    "        for i in range(rows):\n",
    "            for j in range(cols):\n",
    "                if grid[i][j]:\n",
    "                    p = self.dfs(i, j, rows, cols, grid)\n",
    "                    m = max(m, p)\n",
    "                    \n",
    "        return m            \n",
    "    \n",
    "    def dfs(self, i, j, rows, cols, grid):\n",
    "        if i < 0 or i >= rows or j < 0 or j >= cols or grid[i][j] == 0:\n",
    "            return 0\n",
    "        \n",
    "        c = grid[i][j]\n",
    "        grid[i][j] = 0\n",
    "        \n",
    "        l = self.dfs(i, j - 1, rows, cols, grid)\n",
    "        r = self.dfs(i, j + 1, rows, cols, grid)\n",
    "        u = self.dfs(i + 1, j, rows, cols, grid)\n",
    "        d = self.dfs(i - 1, j, rows, cols, grid)\n",
    "        \n",
    "        grid[i][j] = c\n",
    "        \n",
    "        return max(l, r, u, d) + c"
   ]
  },
  {
   "cell_type": "code",
   "execution_count": 19,
   "metadata": {},
   "outputs": [
    {
     "data": {
      "text/plain": [
       "24"
      ]
     },
     "execution_count": 19,
     "metadata": {},
     "output_type": "execute_result"
    }
   ],
   "source": [
    "grid = [[0,6,0],[5,8,7],[0,9,0]]\n",
    "Solution().getMaximumGold(grid)"
   ]
  },
  {
   "cell_type": "code",
   "execution_count": null,
   "metadata": {},
   "outputs": [],
   "source": []
  }
 ],
 "metadata": {
  "kernelspec": {
   "display_name": "Python 3",
   "language": "python",
   "name": "python3"
  },
  "language_info": {
   "codemirror_mode": {
    "name": "ipython",
    "version": 3
   },
   "file_extension": ".py",
   "mimetype": "text/x-python",
   "name": "python",
   "nbconvert_exporter": "python",
   "pygments_lexer": "ipython3",
   "version": "3.7.5"
  }
 },
 "nbformat": 4,
 "nbformat_minor": 2
}
