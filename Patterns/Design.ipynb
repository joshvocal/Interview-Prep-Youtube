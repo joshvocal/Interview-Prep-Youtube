{
 "cells": [
  {
   "cell_type": "markdown",
   "metadata": {},
   "source": [
    "# Design\n",
    "\n",
    "* [359. Logger Rate Limiter](#359.-Logger-Rate-Limiter)"
   ]
  },
  {
   "cell_type": "markdown",
   "metadata": {},
   "source": [
    "# 359. Logger Rate Limiter\n",
    "\n",
    "**Solution 1: HashMap**\n",
    "\n",
    "Time: `O(1)`\n",
    "\n",
    "Space: `O(n)`\n",
    "\n",
    "Idea:\n",
    "\n",
    "* Store all the previous timestamps in a dictionary for a message\n",
    "* Check if the current timestamp - previous timestamp < 10\n",
    "* Update the current timestamp to the previous timestamp if 10 seconds have elapsed"
   ]
  },
  {
   "cell_type": "code",
   "execution_count": 7,
   "metadata": {},
   "outputs": [
    {
     "name": "stdout",
     "output_type": "stream",
     "text": [
      "True\n"
     ]
    }
   ],
   "source": [
    "class Logger:\n",
    "    \n",
    "    def __init__(self):\n",
    "        self.dic = {}\n",
    "        \n",
    "    def shouldPrintMessage(self, timestamp: int, message: str) -> bool:\n",
    "        if message not in self.dic:\n",
    "            self.dic[message] = timestamp\n",
    "            return True\n",
    "        \n",
    "        lastTime = self.dic[message]\n",
    "        \n",
    "        if abs(timestamp - lastTime) < 10:\n",
    "            return False\n",
    "        \n",
    "        self.dic[message] = timestamp\n",
    "        \n",
    "        return True\n",
    "        \n",
    "logger = Logger()\n",
    "print(logger.shouldPrintMessage(1, \"foo\"))"
   ]
  },
  {
   "cell_type": "code",
   "execution_count": null,
   "metadata": {},
   "outputs": [],
   "source": []
  }
 ],
 "metadata": {
  "kernelspec": {
   "display_name": "Python 3",
   "language": "python",
   "name": "python3"
  },
  "language_info": {
   "codemirror_mode": {
    "name": "ipython",
    "version": 3
   },
   "file_extension": ".py",
   "mimetype": "text/x-python",
   "name": "python",
   "nbconvert_exporter": "python",
   "pygments_lexer": "ipython3",
   "version": "3.7.7"
  }
 },
 "nbformat": 4,
 "nbformat_minor": 2
}
