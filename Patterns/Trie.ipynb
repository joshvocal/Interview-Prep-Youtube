{
 "cells": [
  {
   "cell_type": "markdown",
   "metadata": {},
   "source": [
    "# Trie\n",
    "\n",
    "* [208. Implement Trie (Prefix Tree)](#208.-Implement-Trie-(Prefix-Tree))\n",
    "* [1065. Index Pairs of a String](#1065.-Index-Pairs-of-a-String)\n",
    "* [1268. Search Suggestions System](#1268.-Search-Suggestions-System)\n",
    "\n",
    "**With DFS**\n",
    "\n",
    "* [677. Map Sum Pairs](#677.-Map-Sum-Pairs)\n",
    "\n",
    "**With Backtracking**\n",
    "\n",
    "* [211. Add and Search Word - Data structure design](#211.-Add-and-Search-Word---Data-structure-design)\n"
   ]
  },
  {
   "cell_type": "markdown",
   "metadata": {},
   "source": [
    "# 208. Implement Trie (Prefix Tree)"
   ]
  },
  {
   "cell_type": "markdown",
   "metadata": {},
   "source": [
    "Idea: We can use a Tree stucture to represent words and prefixes. Each tree in the node contains two pieces of information. If the node is a word and children which are other characters that follow after the current node."
   ]
  },
  {
   "cell_type": "code",
   "execution_count": 3,
   "metadata": {},
   "outputs": [],
   "source": [
    "class TrieNode():\n",
    "    \n",
    "    def __init__(self):\n",
    "        self.is_word = False\n",
    "        self.children = {}\n",
    "        \n",
    "class Trie():\n",
    "    \n",
    "    def __init__(self):\n",
    "        self.root = TrieNode()\n",
    "        \n",
    "    def insert(self, word) -> None:\n",
    "        current_node = self.root\n",
    "        \n",
    "        for char in word:\n",
    "            if char not in current_node.children:\n",
    "                current_node.children[char] = TrieNode()\n",
    "                \n",
    "            current_node = current_node.children[char]\n",
    "            \n",
    "        current_node.is_word = True\n",
    "        \n",
    "    def search(self, word: str) -> bool:\n",
    "        current_node = self.root\n",
    "        \n",
    "        for char in word:\n",
    "            if char not in current_node.children:\n",
    "                return False\n",
    "            \n",
    "            current_node = current_node.children[char]\n",
    "            \n",
    "        return current_node.is_word\n",
    "    \n",
    "    def startsWith(self, word: str) -> bool:\n",
    "        current_node = self.root\n",
    "        \n",
    "        for char in word:\n",
    "            if char not in current_node.children:\n",
    "                return False\n",
    "            \n",
    "            current_node = current_node.children[char]\n",
    "            \n",
    "        return True"
   ]
  },
  {
   "cell_type": "code",
   "execution_count": 6,
   "metadata": {},
   "outputs": [
    {
     "name": "stdout",
     "output_type": "stream",
     "text": [
      "<__main__.Trie object at 0x104046210>\n",
      "True\n",
      "False\n",
      "False\n"
     ]
    }
   ],
   "source": [
    "root = Trie()\n",
    "root.insert(\"Trie\")\n",
    "\n",
    "print(root)\n",
    "print(root.search(\"Trie\"))\n",
    "print(root.search(\"Tri\"))\n",
    "print(root.startsWith(\"Ti\"))"
   ]
  },
  {
   "cell_type": "markdown",
   "metadata": {},
   "source": [
    "# 211. Add and Search Word - Data structure design"
   ]
  },
  {
   "cell_type": "markdown",
   "metadata": {},
   "source": [
    "Idea:\n",
    "\n",
    "We can use a Trie as a data structure for our dictionary to add and search for words.\n",
    "\n",
    "Words can have wildcards, '.', where it can represent any character in the dictionary.\n",
    "\n",
    "If we come across a wildcard, we can perform backtracking on all of the nodes in that level of the Trie.\n",
    "This allows us to search all characters in that level."
   ]
  },
  {
   "cell_type": "code",
   "execution_count": 47,
   "metadata": {},
   "outputs": [],
   "source": [
    "class TrieNode:\n",
    "    \n",
    "    def __init__(self):\n",
    "        self.isWord = False\n",
    "        self.children = {}\n",
    "        \n",
    "class WordDictionary:\n",
    "    \n",
    "    def __init__(self):\n",
    "        self.root = TrieNode()\n",
    "        \n",
    "    def addWord(self, word: str) -> None:\n",
    "        curr = self.root\n",
    "        \n",
    "        for char in word:\n",
    "            if char not in curr.children:\n",
    "                curr.children[char] = TrieNode()\n",
    "                \n",
    "            curr = curr.children[char]\n",
    "            \n",
    "        curr.isWord = True\n",
    "    \n",
    "    def search(self, word: str) -> bool:\n",
    "        curr = self.root\n",
    "        return self.backtrack(curr, word, 0)\n",
    "    \n",
    "    def backtrack(self, curr, word, pos):\n",
    "        if len(word) == pos:\n",
    "            return curr.isWord\n",
    "        \n",
    "        char = word[pos]\n",
    "        \n",
    "        if char == '.':\n",
    "            for node in curr:\n",
    "                if self.backtrack(curr.children[node], word, pos + 1):\n",
    "                    return True\n",
    "        else:\n",
    "            if char in curr.children:\n",
    "                return self.backtrack(curr.children[char], word, pos + 1)\n",
    "            \n",
    "        return False    "
   ]
  },
  {
   "cell_type": "code",
   "execution_count": 48,
   "metadata": {},
   "outputs": [
    {
     "data": {
      "text/plain": [
       "True"
      ]
     },
     "execution_count": 48,
     "metadata": {},
     "output_type": "execute_result"
    }
   ],
   "source": [
    "dic = WordDictionary()\n",
    "\n",
    "dic.addWord(\"bad\")\n",
    "dic.addWord(\"dad\")\n",
    "dic.addWord(\"mad\")\n",
    "dic.addWord(\"pad\")\n",
    "\n",
    "dic.search(\"pad\")"
   ]
  },
  {
   "cell_type": "markdown",
   "metadata": {},
   "source": [
    "# 648. Replace Words"
   ]
  },
  {
   "cell_type": "markdown",
   "metadata": {},
   "source": [
    "Brute Force:\n",
    "\n",
    "Time: `O(n*k)` where `n` is the length of the words in the sentence. `k` is the longest length of a word in the sentence.\n",
    "\n",
    "Space: `O(n)` as we are storing the `n` words in the sentence in an array\n",
    "    \n",
    "\n",
    "Idea:\n",
    "\n",
    "Put all the words in the `dict` into a `set`. We do this because we want to replace a word in the sentence if we come across this prefix.\n",
    "\n",
    "Iterate through all words in the sentence. Check if each continuous substring is a word in the dictionary. If it is a word, add the word to our array and break out of the substring loop and move onto the next word."
   ]
  },
  {
   "cell_type": "code",
   "execution_count": 50,
   "metadata": {},
   "outputs": [],
   "source": [
    "class Solution:\n",
    "    def replaceWords(self, dict, sentence: str) -> str:\n",
    "        s = set()\n",
    "        res = []\n",
    "        \n",
    "        for word in dict:\n",
    "            s.add(word)\n",
    "            \n",
    "        for word in sentence.split():\n",
    "            hasPrefix = False\n",
    "            \n",
    "            for i in range(1, len(word)):\n",
    "                if word[0:i] in s:\n",
    "                    res.append(word[0:i])\n",
    "                    hasPrefix = True\n",
    "                    break\n",
    "                \n",
    "            if not hasPrefix:\n",
    "                res.append(word)\n",
    "                    \n",
    "        return ' '.join(res)"
   ]
  },
  {
   "cell_type": "code",
   "execution_count": 55,
   "metadata": {},
   "outputs": [
    {
     "name": "stdout",
     "output_type": "stream",
     "text": [
      "the cattle was rattled by the battery\n"
     ]
    },
    {
     "data": {
      "text/plain": [
       "'the cat was rat by the bat'"
      ]
     },
     "execution_count": 55,
     "metadata": {},
     "output_type": "execute_result"
    }
   ],
   "source": [
    "dict = [\"cat\",\"bat\",\"rat\"]\n",
    "sentence = \"the cattle was rattled by the battery\"\n",
    "\n",
    "s = Solution()\n",
    "print(sentence)\n",
    "s.replaceWords(dict, sentence)"
   ]
  },
  {
   "cell_type": "markdown",
   "metadata": {},
   "source": [
    "Trie:\n",
    "\n",
    "Time: `O(n^2)?` We need to iterate through all the words in the sentence `O(n)` and we need to look if each word contains a prefix in the Trie `O(n)`\n",
    "\n",
    "Space: `O(n * k)` We are using a Trie for our data structure that we have to construct to store our words. `n` is the amount of words and `k` is their average character length. We either have to create new nodes that don't exist or use existing ones"
   ]
  },
  {
   "cell_type": "code",
   "execution_count": 53,
   "metadata": {},
   "outputs": [],
   "source": [
    "class TrieNode:\n",
    "    \n",
    "    def __init__(self):\n",
    "        self.isWord = False\n",
    "        self.children = {}\n",
    "        \n",
    "class Trie:\n",
    "    \n",
    "    def __init__(self):\n",
    "        self.root = TrieNode()\n",
    "        \n",
    "    def add(self, word):\n",
    "        curr = self.root\n",
    "        \n",
    "        for char in word:\n",
    "            if char not in curr.children:\n",
    "                curr.children[char] = TrieNode()\n",
    "                \n",
    "            curr = curr.children[char]\n",
    "            \n",
    "        curr.isWord = True\n",
    "        \n",
    "    def search(self, word):\n",
    "        curr = self.root\n",
    "        i = 0\n",
    "        \n",
    "        for char in word:\n",
    "            if curr.isWord:\n",
    "                return i\n",
    "            \n",
    "            if char not in curr.children:\n",
    "                return 0\n",
    "            \n",
    "            curr = curr.children[char]\n",
    "            i += 1\n",
    "                                 \n",
    "        return i\n",
    "\n",
    "class Solution2:\n",
    "    def replaceWords(self, dict, sentence: str) -> str:\n",
    "        trie = Trie()\n",
    "        res = []\n",
    "        \n",
    "        for word in dict:\n",
    "            trie.add(word)\n",
    "            \n",
    "        for word in sentence.split():\n",
    "            i = trie.search(word)\n",
    "            if i > 0:\n",
    "                res.append(word[0:i])\n",
    "            else:    \n",
    "                res.append(word)\n",
    "                \n",
    "        return \" \".join(res)\n",
    "            "
   ]
  },
  {
   "cell_type": "code",
   "execution_count": 56,
   "metadata": {},
   "outputs": [
    {
     "name": "stdout",
     "output_type": "stream",
     "text": [
      "the cattle was rattled by the battery\n"
     ]
    },
    {
     "data": {
      "text/plain": [
       "'the cat was rat by the bat'"
      ]
     },
     "execution_count": 56,
     "metadata": {},
     "output_type": "execute_result"
    }
   ],
   "source": [
    "dict = [\"cat\",\"bat\",\"rat\"]\n",
    "sentence = \"the cattle was rattled by the battery\"\n",
    "\n",
    "s = Solution2()\n",
    "print(sentence)\n",
    "s.replaceWords(dict, sentence)"
   ]
  },
  {
   "cell_type": "markdown",
   "metadata": {},
   "source": [
    "# 677. Map Sum Pairs"
   ]
  },
  {
   "cell_type": "markdown",
   "metadata": {},
   "source": [
    "Idea:\n",
    "\n",
    "* We can use a Trie to keep track the value of prefixs for `keys` inserted.\n",
    "* When we `sum`, we use `dfs` to keep going to the end of the word.\n",
    "* We sum the values of the prefixs until we get to the end."
   ]
  },
  {
   "cell_type": "code",
   "execution_count": 26,
   "metadata": {},
   "outputs": [
    {
     "data": {
      "text/plain": [
       "5"
      ]
     },
     "execution_count": 26,
     "metadata": {},
     "output_type": "execute_result"
    }
   ],
   "source": [
    "class TrieNode:\n",
    "    def __init__(self):\n",
    "        self.children = {}\n",
    "        self.val = 0\n",
    "        \n",
    "class Trie:\n",
    "    def __init__(self):\n",
    "        self.root = TrieNode()\n",
    "        \n",
    "    def add(self, word, val):\n",
    "        curr = self.root\n",
    "        \n",
    "        for char in word:\n",
    "            if char not in curr.children:\n",
    "                curr.children[char] = TrieNode()\n",
    "                \n",
    "            curr = curr.children[char]\n",
    "            \n",
    "        curr.val = val\n",
    "        \n",
    "    def search(self, word):\n",
    "        curr = self.root\n",
    "        \n",
    "        for char in word:\n",
    "            if char not in curr.children:\n",
    "                return 0\n",
    "            \n",
    "            curr = curr.children[char]\n",
    "            \n",
    "        return self.dfs(curr)\n",
    "    \n",
    "    def dfs(self, node):\n",
    "        s = 0\n",
    "        \n",
    "        for char in node.children:\n",
    "            s += self.dfs(node.children[char])\n",
    "            \n",
    "        return s + node.val\n",
    "        \n",
    "class MapSum:\n",
    "\n",
    "    def __init__(self):\n",
    "        \"\"\"\n",
    "        Initialize your data structure here.\n",
    "        \"\"\"\n",
    "        self.root = Trie()\n",
    "        \n",
    "\n",
    "    def insert(self, key: str, val: int) -> None:\n",
    "        curr = self.root\n",
    "        \n",
    "        curr.add(key, val)\n",
    "            \n",
    "    def sum(self, prefix: str) -> int:\n",
    "        curr = self.root\n",
    "        \n",
    "        return curr.search(prefix)\n",
    "        \n",
    "\n",
    "# Your MapSum object will be instantiated and called as such: = MapSum()\n",
    "m = MapSum()\n",
    "m.insert(\"apple\", 3)\n",
    "m.sum(\"ap\")\n",
    "m.insert(\"app\", 2)\n",
    "m.sum(\"ap\")"
   ]
  },
  {
   "cell_type": "markdown",
   "metadata": {},
   "source": [
    "# 720. Longest Word in Dictionary"
   ]
  },
  {
   "cell_type": "markdown",
   "metadata": {},
   "source": [
    "Idea:\n",
    "\n",
    "We can sort the `words` so that the smallest `words` come first. `Time: O(logn)`\n",
    "\n",
    "Next we can go through all of the sorted `words` and check if we have already come across it's substring `Time: O(n)`\n",
    "\n",
    "Use a set to store all of the substrings `Space: O(n)`\n",
    "\n",
    "\n",
    "Time: `O(n*logn)`\n",
    "\n",
    "Space: `O(n)`"
   ]
  },
  {
   "cell_type": "code",
   "execution_count": 44,
   "metadata": {},
   "outputs": [],
   "source": [
    "class Solution:\n",
    "    \n",
    "    def longestWord(self, words):\n",
    "        \n",
    "        words.sort()\n",
    "        s = set()\n",
    "        res = \"\"\n",
    "        \n",
    "        for word in words:\n",
    "            if len(word) == 1 or word[0:len(word) - 1] in s:\n",
    "                if len(word) > len(res):\n",
    "                    res = word\n",
    "                    \n",
    "                s.add(word)\n",
    "        \n",
    "        return res"
   ]
  },
  {
   "cell_type": "code",
   "execution_count": 46,
   "metadata": {},
   "outputs": [
    {
     "data": {
      "text/plain": [
       "'apple'"
      ]
     },
     "execution_count": 46,
     "metadata": {},
     "output_type": "execute_result"
    }
   ],
   "source": [
    "words = [\"a\", \"banana\", \"app\", \"appl\", \"ap\", \"apply\", \"apple\"]\n",
    "s = Solution()\n",
    "s.longestWord(words)"
   ]
  },
  {
   "cell_type": "markdown",
   "metadata": {},
   "source": [
    "# 1065. Index Pairs of a String"
   ]
  },
  {
   "cell_type": "markdown",
   "metadata": {},
   "source": [
    "Idea:\n",
    "\n",
    "* Brute force to find each of the substrings"
   ]
  },
  {
   "cell_type": "code",
   "execution_count": 22,
   "metadata": {},
   "outputs": [
    {
     "data": {
      "text/plain": [
       "[[3, 7], [9, 13], [10, 17]]"
      ]
     },
     "execution_count": 22,
     "metadata": {},
     "output_type": "execute_result"
    }
   ],
   "source": [
    "class Solution2:\n",
    "    def indexPairs(self, text: str, words):\n",
    "        res = []\n",
    "        \n",
    "        for i in range(len(text) + 1):\n",
    "            for j in range(i, len(text) + 1):\n",
    "                if text[i:j] in words:\n",
    "                    res.append([i,j - 1])\n",
    "                    \n",
    "        return res\n",
    "    \n",
    "s = Solution()\n",
    "text = \"thestoryofleetcodeandme\"\n",
    "words = [\"story\",\"fleet\",\"leetcode\"]\n",
    "s.indexPairs(text, words)"
   ]
  },
  {
   "cell_type": "code",
   "execution_count": 18,
   "metadata": {},
   "outputs": [
    {
     "data": {
      "text/plain": [
       "[[3, 7], [9, 13], [10, 17]]"
      ]
     },
     "execution_count": 18,
     "metadata": {},
     "output_type": "execute_result"
    }
   ],
   "source": [
    "class TrieNode:\n",
    "    def __init__(self):\n",
    "        self.children = {}\n",
    "        self.isWord = False\n",
    "        \n",
    "class Trie:\n",
    "    def __init__(self):\n",
    "        self.root = TrieNode()\n",
    "        \n",
    "    def add(self, word):\n",
    "        node = self.root\n",
    "        \n",
    "        for char in word:\n",
    "            if char not in node.children:\n",
    "                node.children[char] = TrieNode()\n",
    "                \n",
    "            node = node.children[char]\n",
    "            \n",
    "        node.isWord = True\n",
    "        \n",
    "    def search(self, word):\n",
    "        node = self.root\n",
    "        \n",
    "        for char in word:\n",
    "            if char not in node.children:\n",
    "                return False\n",
    "            \n",
    "            node = node.children[char]\n",
    "        \n",
    "        return node.isWord\n",
    "\n",
    "class Solution:\n",
    "    def indexPairs(self, text: str, words):\n",
    "        trie = Trie()\n",
    "        res = []\n",
    "        \n",
    "        for word in words:\n",
    "            trie.add(word)\n",
    "            \n",
    "        for i in range(len(text) + 1):\n",
    "            for j in range(i, len(text) + 1):\n",
    "                if trie.search(text[i:j]):\n",
    "                    res.append([i, j - 1])\n",
    "            \n",
    "        return res\n",
    "            \n",
    "            \n",
    "s = Solution()\n",
    "text = \"thestoryofleetcodeandme\"\n",
    "words = [\"story\",\"fleet\",\"leetcode\"]\n",
    "s.indexPairs(text, words)"
   ]
  },
  {
   "cell_type": "markdown",
   "metadata": {},
   "source": [
    "# 1268. Search Suggestions System"
   ]
  },
  {
   "cell_type": "markdown",
   "metadata": {},
   "source": [
    "Idea: We want to be able to return the top 3 suggestions that are lexicographical for products when a user searches for a product\n",
    "\n",
    "\n",
    "* We can use a Trie because it will give us the ability to look up what are the top 3 suggestions at a particiular index of a word."
   ]
  },
  {
   "cell_type": "code",
   "execution_count": 4,
   "metadata": {},
   "outputs": [],
   "source": [
    "class TrieNode:\n",
    "    def __init__(self):\n",
    "        self.children = {}\n",
    "        self.suggestions = []\n",
    "        \n",
    "class Trie:\n",
    "    def __init__(self):\n",
    "        self.root = TrieNode()\n",
    "        \n",
    "    def add(self, product):\n",
    "        node = self.root\n",
    "        \n",
    "        for char in product:\n",
    "            if char not in node.children:\n",
    "                node.children[char] = TrieNode()\n",
    "                \n",
    "            node = node.children[char]\n",
    "            \n",
    "            if len(node.suggestions) < 3:\n",
    "                node.suggestions.append(product)\n",
    "                \n",
    "    def search(self, word):\n",
    "        node = self.root\n",
    "        \n",
    "        for char in word:\n",
    "            if char not in node.children:\n",
    "                return None\n",
    "            \n",
    "            node = node.children[char]\n",
    "            \n",
    "        return node.suggestions\n",
    "                \n",
    "class Solution:\n",
    "    def suggestedProducts(self, products, searchWord: str):\n",
    "        \n",
    "        trie = Trie()\n",
    "        res = []\n",
    "        \n",
    "        # Add of our products into the Trie and sort them so that\n",
    "        # suggestions are lexicographical\n",
    "        for product in sorted(products):\n",
    "            trie.add(product)\n",
    "            \n",
    "        # Iterate through the word to simulate typing out a product\n",
    "        # character by character\n",
    "        for i in range(1, len(searchWord) + 1):\n",
    "            res.append(trie.search(searchWord[0:i]))\n",
    "            \n",
    "        return res "
   ]
  },
  {
   "cell_type": "code",
   "execution_count": null,
   "metadata": {},
   "outputs": [],
   "source": []
  }
 ],
 "metadata": {
  "kernelspec": {
   "display_name": "Python 3",
   "language": "python",
   "name": "python3"
  },
  "language_info": {
   "codemirror_mode": {
    "name": "ipython",
    "version": 3
   },
   "file_extension": ".py",
   "mimetype": "text/x-python",
   "name": "python",
   "nbconvert_exporter": "python",
   "pygments_lexer": "ipython3",
   "version": "3.7.7"
  }
 },
 "nbformat": 4,
 "nbformat_minor": 2
}
