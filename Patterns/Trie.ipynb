{
 "cells": [
  {
   "cell_type": "markdown",
   "metadata": {},
   "source": [
    "# Trie"
   ]
  },
  {
   "cell_type": "markdown",
   "metadata": {},
   "source": [
    "# 208. Implement Trie (Prefix Tree)"
   ]
  },
  {
   "cell_type": "markdown",
   "metadata": {},
   "source": [
    "Idea: We can use a Tree stucture to represent words and prefixes. Each tree in the node contains two pieces of information. If the node is a word and children which are other characters that follow after the current node."
   ]
  },
  {
   "cell_type": "code",
   "execution_count": 3,
   "metadata": {},
   "outputs": [],
   "source": [
    "class TrieNode():\n",
    "    \n",
    "    def __init__(self):\n",
    "        self.is_word = False\n",
    "        self.children = {}\n",
    "        \n",
    "class Trie():\n",
    "    \n",
    "    def __init__(self):\n",
    "        self.root = TrieNode()\n",
    "        \n",
    "    def insert(self, word) -> None:\n",
    "        current_node = self.root\n",
    "        \n",
    "        for char in word:\n",
    "            if char not in current_node.children:\n",
    "                current_node.children[char] = TrieNode()\n",
    "                \n",
    "            current_node = current_node.children[char]\n",
    "            \n",
    "        current_node.is_word = True\n",
    "        \n",
    "    def search(self, word: str) -> bool:\n",
    "        current_node = self.root\n",
    "        \n",
    "        for char in word:\n",
    "            if char not in current_node.children:\n",
    "                return False\n",
    "            \n",
    "            current_node = current_node.children[char]\n",
    "            \n",
    "        return current_node.is_word\n",
    "    \n",
    "    def startsWith(self, word: str) -> bool:\n",
    "        current_node = self.root\n",
    "        \n",
    "        for char in word:\n",
    "            if char not in current_node.children:\n",
    "                return False\n",
    "            \n",
    "            current_node = current_node.children[char]\n",
    "            \n",
    "        return True"
   ]
  },
  {
   "cell_type": "code",
   "execution_count": 6,
   "metadata": {},
   "outputs": [
    {
     "name": "stdout",
     "output_type": "stream",
     "text": [
      "<__main__.Trie object at 0x104046210>\n",
      "True\n",
      "False\n",
      "False\n"
     ]
    }
   ],
   "source": [
    "root = Trie()\n",
    "root.insert(\"Trie\")\n",
    "\n",
    "print(root)\n",
    "print(root.search(\"Trie\"))\n",
    "print(root.search(\"Tri\"))\n",
    "print(root.startsWith(\"Ti\"))"
   ]
  },
  {
   "cell_type": "markdown",
   "metadata": {},
   "source": [
    "# 211. Add and Search Word - Data structure design"
   ]
  },
  {
   "cell_type": "markdown",
   "metadata": {},
   "source": [
    "Idea:\n",
    "\n",
    "We can use a Trie as a data structure for our dictionary to add and search for words.\n",
    "\n",
    "Words can have wildcards, '.', where it can represent any character in the dictionary.\n",
    "\n",
    "If we come across a wildcard, we can perform backtracking on all of the nodes in that level of the Trie.\n",
    "This allows us to search all"
   ]
  },
  {
   "cell_type": "code",
   "execution_count": 38,
   "metadata": {},
   "outputs": [],
   "source": [
    "class TrieNode:\n",
    "    \n",
    "    def __init__(self):\n",
    "        self.isWord = False\n",
    "        self.children = {}\n",
    "        \n",
    "class WordDictionary:\n",
    "    \n",
    "    def __init__(self):\n",
    "        self.root = TrieNode()\n",
    "        \n",
    "    def addWord(self, word: str) -> None:\n",
    "        curr = self.root\n",
    "        \n",
    "        for char in word:\n",
    "            if char not in curr.children:\n",
    "                curr.children[char] = TrieNode()\n",
    "                \n",
    "            curr = curr.children[char]\n",
    "            \n",
    "        curr.isWord = True\n",
    "    \n",
    "    def search(self, word: str) -> bool:\n",
    "        curr = self.root\n",
    "        return self.backtrack(curr, word, 0)\n",
    "    \n",
    "    def backtrack(self, curr, word, pos):\n",
    "        if len(word) == pos:\n",
    "            return curr.isWord\n",
    "        \n",
    "        char = word[pos]\n",
    "        \n",
    "        if char == '.':\n",
    "            for noce in curr:\n",
    "                if self.backtrack(curr.children[node], word, pos + 1):\n",
    "                    return True\n",
    "        else:\n",
    "            if char in curr.children:\n",
    "                return self.backtrack(curr.children[char], word, pos + 1)\n",
    "            \n",
    "        return False    "
   ]
  },
  {
   "cell_type": "code",
   "execution_count": 39,
   "metadata": {},
   "outputs": [
    {
     "data": {
      "text/plain": [
       "True"
      ]
     },
     "execution_count": 39,
     "metadata": {},
     "output_type": "execute_result"
    }
   ],
   "source": [
    "dic = WordDictionary()\n",
    "\n",
    "dic.addWord(\"bad\")\n",
    "dic.addWord(\"dad\")\n",
    "dic.addWord(\"mad\")\n",
    "dic.addWord(\"pad\")\n",
    "\n",
    "dic.search(\"pad\")"
   ]
  }
 ],
 "metadata": {
  "kernelspec": {
   "display_name": "Python 3",
   "language": "python",
   "name": "python3"
  },
  "language_info": {
   "codemirror_mode": {
    "name": "ipython",
    "version": 3
   },
   "file_extension": ".py",
   "mimetype": "text/x-python",
   "name": "python",
   "nbconvert_exporter": "python",
   "pygments_lexer": "ipython3",
   "version": "3.7.7"
  }
 },
 "nbformat": 4,
 "nbformat_minor": 2
}
