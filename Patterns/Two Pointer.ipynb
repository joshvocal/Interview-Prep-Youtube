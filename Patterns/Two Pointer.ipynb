{
 "cells": [
  {
   "cell_type": "markdown",
   "metadata": {},
   "source": [
    "# Two Pointer\n",
    "\n",
    "* ⭐️[11. Container With Most Water](#11.-Container-With-Most-Water)\n",
    "* [125. Valid Palindrome](#125.-Valid-Palindrome)\n",
    "* [167. Two Sum II - Input array is sorted](#167.-Two-Sum-II---Input-array-is-sorted)\n"
   ]
  },
  {
   "cell_type": "markdown",
   "metadata": {},
   "source": [
    "# 11. Container With Most Water\n",
    "\n",
    "Idea:\n",
    "\n",
    "* Use two-pointers to bound the tallest height we can store in the water\n",
    "* We can store as much water as the min(h1, h2) two pointers height, otherwise it would overflow\n",
    "* The container, c, is the minimum height between h1 and h2 * the difference between h1 and h2\n",
    "* If h1 > h2, h2--\n",
    "* If h1 <= h2, h1++"
   ]
  },
  {
   "cell_type": "code",
   "execution_count": 6,
   "metadata": {},
   "outputs": [],
   "source": [
    "class Solution:\n",
    "    def maxArea(self, height) -> int:\n",
    "        \n",
    "        if not height:\n",
    "            return 0\n",
    "        \n",
    "        left = 0\n",
    "        right = len(height) - 1\n",
    "        m = -float('inf')\n",
    "        \n",
    "        while left < right:\n",
    "            # The water the container can hold is the min height of left and right\n",
    "            # multiplied by the abs distance between left and right\n",
    "            c = min(height[left], height[right]) * abs(left - right)\n",
    "            m = max(m, c)\n",
    "            \n",
    "            if height[left] > height[right]:\n",
    "                right -= 1\n",
    "            else:    \n",
    "                left += 1\n",
    "                \n",
    "        return m        \n",
    "            \n",
    "            "
   ]
  },
  {
   "cell_type": "code",
   "execution_count": 7,
   "metadata": {},
   "outputs": [
    {
     "data": {
      "text/plain": [
       "49"
      ]
     },
     "execution_count": 7,
     "metadata": {},
     "output_type": "execute_result"
    }
   ],
   "source": [
    "height = [1,8,6,2,5,4,8,3,7]\n",
    "Solution().maxArea(height)"
   ]
  },
  {
   "cell_type": "markdown",
   "metadata": {},
   "source": [
    "# 125. Valid Palindrome\n",
    "\n",
    "**Solution 1: Two Pointers**\n",
    "\n",
    "Time: O(n)\n",
    "\n",
    "Space: O(1)\n",
    "\n",
    "Idea:\n",
    "\n",
    "* Use two pointers to check that the characters at the beginning and the end are the same\n",
    "* If there is a non-alphanumeric number at one of the pointers, increment/decrement until we find a alphanumberic\n",
    "* Stop when the two pointers meet each other"
   ]
  },
  {
   "cell_type": "code",
   "execution_count": 7,
   "metadata": {},
   "outputs": [
    {
     "data": {
      "text/plain": [
       "True"
      ]
     },
     "execution_count": 7,
     "metadata": {},
     "output_type": "execute_result"
    }
   ],
   "source": [
    "class Solution:\n",
    "    def isPalindrome(self, s: str) -> bool:\n",
    "        if not s:\n",
    "            return True\n",
    "        \n",
    "        n = len(s)\n",
    "        left = 0\n",
    "        right = len(s) - 1\n",
    "        \n",
    "        while left < right:\n",
    "            while left < right and not s[left].isalnum():\n",
    "                left += 1\n",
    "            while left < right and not s[right].isalnum():\n",
    "                right -= 1\n",
    "                \n",
    "            if s[left].lower() != s[right].lower():\n",
    "                return False\n",
    "                \n",
    "            left += 1\n",
    "            right -= 1\n",
    "            \n",
    "        return True\n",
    "    \n",
    "s = Solution()\n",
    "a = \"A man, a plan, a canal: Panama\"\n",
    "s.isPalindrome(a)"
   ]
  },
  {
   "cell_type": "markdown",
   "metadata": {},
   "source": [
    "# 167. Two Sum II - Input array is sorted\n",
    "\n",
    "Idea:\n",
    "\n",
    "* We know that the array is sorted, so we can change the two pointers depending on their sum\n",
    "* If the sum is greater than the target, we move the bigger (right) pointer to the left to make the sum smaller\n",
    "* If the sum is smaller, we move the left target to the right, to increase the sum.\n",
    "* Keep going until the two pointers meet each other\n",
    "* If they meet, we know that there are no number numbers such that their sum is equal to the target"
   ]
  },
  {
   "cell_type": "code",
   "execution_count": 8,
   "metadata": {},
   "outputs": [],
   "source": [
    "class Solution:\n",
    "    def twoSum(self, numbers, target: int):\n",
    "        if not numbers:\n",
    "            return False\n",
    "        \n",
    "        left = 0\n",
    "        right = len(numbers) - 1\n",
    "        \n",
    "        while left < right:\n",
    "            print(numbers[left], numbers[right])\n",
    "            s = numbers[left] + numbers[right]\n",
    "            if s == target:\n",
    "                return [left + 1, right + 1]\n",
    "            elif s > target:\n",
    "                right -= 1\n",
    "            else:\n",
    "                left += 1\n",
    "                \n",
    "        return []        "
   ]
  },
  {
   "cell_type": "code",
   "execution_count": null,
   "metadata": {},
   "outputs": [],
   "source": []
  }
 ],
 "metadata": {
  "kernelspec": {
   "display_name": "Python 3",
   "language": "python",
   "name": "python3"
  },
  "language_info": {
   "codemirror_mode": {
    "name": "ipython",
    "version": 3
   },
   "file_extension": ".py",
   "mimetype": "text/x-python",
   "name": "python",
   "nbconvert_exporter": "python",
   "pygments_lexer": "ipython3",
   "version": "3.7.7"
  }
 },
 "nbformat": 4,
 "nbformat_minor": 2
}
