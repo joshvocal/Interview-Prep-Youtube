{
 "cells": [
  {
   "cell_type": "markdown",
   "metadata": {},
   "source": [
    "# Two Pointer\n",
    "\n",
    "* ⭐️[11. Container With Most Water](#11.-Container-With-Most-Water)\n"
   ]
  },
  {
   "cell_type": "markdown",
   "metadata": {},
   "source": [
    "# 11. Container With Most Water\n",
    "\n",
    "Idea:\n",
    "\n",
    "* Use two-pointers to bound the tallest height we can store in the water\n",
    "* We can store as much water as the min(h1, h2) two pointers height, otherwise it would overflow\n",
    "* The container, c, is the minimum height between h1 and h2 * the difference between h1 and h2\n",
    "* If h1 > h2, h2--\n",
    "* If h1 <= h2, h1++"
   ]
  },
  {
   "cell_type": "code",
   "execution_count": 6,
   "metadata": {},
   "outputs": [],
   "source": [
    "class Solution:\n",
    "    def maxArea(self, height) -> int:\n",
    "        \n",
    "        if not height:\n",
    "            return 0\n",
    "        \n",
    "        left = 0\n",
    "        right = len(height) - 1\n",
    "        m = -float('inf')\n",
    "        \n",
    "        while left < right:\n",
    "            # The water the container can hold is the min height of left and right\n",
    "            # multiplied by the abs distance between left and right\n",
    "            c = min(height[left], height[right]) * abs(left - right)\n",
    "            m = max(m, c)\n",
    "            \n",
    "            if height[left] > height[right]:\n",
    "                right -= 1\n",
    "            else:    \n",
    "                left += 1\n",
    "                \n",
    "        return m        \n",
    "            \n",
    "            "
   ]
  },
  {
   "cell_type": "code",
   "execution_count": 7,
   "metadata": {},
   "outputs": [
    {
     "data": {
      "text/plain": [
       "49"
      ]
     },
     "execution_count": 7,
     "metadata": {},
     "output_type": "execute_result"
    }
   ],
   "source": [
    "height = [1,8,6,2,5,4,8,3,7]\n",
    "Solution().maxArea(height)"
   ]
  },
  {
   "cell_type": "code",
   "execution_count": null,
   "metadata": {},
   "outputs": [],
   "source": []
  }
 ],
 "metadata": {
  "kernelspec": {
   "display_name": "Python 3",
   "language": "python",
   "name": "python3"
  },
  "language_info": {
   "codemirror_mode": {
    "name": "ipython",
    "version": 3
   },
   "file_extension": ".py",
   "mimetype": "text/x-python",
   "name": "python",
   "nbconvert_exporter": "python",
   "pygments_lexer": "ipython3",
   "version": "3.7.5"
  }
 },
 "nbformat": 4,
 "nbformat_minor": 2
}
