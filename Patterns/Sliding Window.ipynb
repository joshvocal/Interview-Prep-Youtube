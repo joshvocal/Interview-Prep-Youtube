{
 "cells": [
  {
   "cell_type": "markdown",
   "metadata": {},
   "source": [
    "# Sliding Window\n",
    "\n",
    "## Dynamic Sliding Window\n",
    "\n",
    "* [3. Longest Substring Without Repeating Characters](#3.-Longest-Substring-Without-Repeating-Characters)\n",
    "* [209. Minimum Size Subarray Sum](#209.-Minimum-Size-Subarray-Sum)\n",
    "* [485. Max Consecutive Ones](#485.-Max-Consecutive-Ones)\n",
    "\n",
    "## Fixed Sliding Window\n",
    "\n",
    "* [643. Maximum Average Subarray I](#643.-Maximum-Average-Subarray-I)"
   ]
  },
  {
   "cell_type": "markdown",
   "metadata": {},
   "source": [
    "# Dynamic Sliding Window"
   ]
  },
  {
   "cell_type": "markdown",
   "metadata": {},
   "source": [
    "# 3. Longest Substring Without Repeating Characters\n",
    "\n",
    "**Solution 1: Set**\n",
    "\n",
    "Time: `O(n)`\n",
    "\n",
    "Space: `O(n)`\n",
    "\n",
    "Idea:\n",
    "\n",
    "* We don't want any repeated characters so we will use a `set` to keep track of the characters that we have seen.\n",
    "* Once we have found a character that we have seen, we want to shorten the window by increasing the `start` pointer.\n",
    "* We will remove elements starting from the tail."
   ]
  },
  {
   "cell_type": "code",
   "execution_count": 1,
   "metadata": {},
   "outputs": [
    {
     "data": {
      "text/plain": [
       "3"
      ]
     },
     "execution_count": 1,
     "metadata": {},
     "output_type": "execute_result"
    }
   ],
   "source": [
    "class Solution1:\n",
    "    def lengthOfLongestSubstring(self, s: str) -> int:\n",
    "        if not s:\n",
    "            return 0\n",
    "        \n",
    "        longest = -float('inf')\n",
    "        start = 0\n",
    "        seen = set()\n",
    "        n = len(s)\n",
    "        \n",
    "        for end in range(n):\n",
    "            \n",
    "            while s[end] in seen:\n",
    "                seen.remove(s[start])\n",
    "                start += 1\n",
    "                \n",
    "            seen.add(s[end])\n",
    "            longest = max(longest, end - start + 1)\n",
    "            \n",
    "        return longest\n",
    "        \n",
    "s1 = Solution1()\n",
    "s = \"abcabcbb\"\n",
    "s1.lengthOfLongestSubstring(s)"
   ]
  },
  {
   "cell_type": "markdown",
   "metadata": {},
   "source": [
    "# 209. Minimum Size Subarray Sum\n",
    "\n",
    "Idea:\n",
    "\n",
    "* O(n)\n",
    "* We want to find the minimum array of elements that equal the sum of \"s\"\n",
    "* Ex: s = 7, [4,3] and [2,3,1,2] = 7\n",
    "* Keep track of the current sliding window sum until it's greater or equal to our target\n",
    "* Once it's greater, keep track of our best sized window, decrease the window\n",
    "* Keep doing that until we are at the end of the array"
   ]
  },
  {
   "cell_type": "code",
   "execution_count": 1,
   "metadata": {},
   "outputs": [],
   "source": [
    "class Solution:\n",
    "    def minSubArrayLen(self, s: int, nums) -> int:\n",
    "        if not nums:\n",
    "            return 0\n",
    "        \n",
    "        min_size = float('inf')\n",
    "        current_sum = 0\n",
    "        start = 0\n",
    "        n = len(nums)\n",
    "        \n",
    "        for end in range(n):\n",
    "            current_sum += nums[end]\n",
    "            \n",
    "            # Condition:\n",
    "            # Our current window sum is greater than our target sum \"s\"\n",
    "            # Keep track of our current best and slide the window up!\n",
    "            while current_sum >= s:\n",
    "                min_size = min(min_size, end - start + 1)\n",
    "                current_sum -= nums[start]\n",
    "                start += 1\n",
    "                \n",
    "        if min_size == float('inf'):\n",
    "            return 0\n",
    "                \n",
    "        return min_size"
   ]
  },
  {
   "cell_type": "code",
   "execution_count": 2,
   "metadata": {},
   "outputs": [
    {
     "data": {
      "text/plain": [
       "2"
      ]
     },
     "execution_count": 2,
     "metadata": {},
     "output_type": "execute_result"
    }
   ],
   "source": [
    "s = 7\n",
    "nums = [2,3,1,2,4,3]\n",
    "\n",
    "Solution().minSubArrayLen(s, nums)"
   ]
  },
  {
   "cell_type": "markdown",
   "metadata": {},
   "source": [
    "# 485. Max Consecutive Ones"
   ]
  },
  {
   "cell_type": "markdown",
   "metadata": {},
   "source": [
    "**Solution 1: Linear Count**\n",
    "\n",
    "Time: `O(n)` - Need to scan the entire array\n",
    "\n",
    "Space: `O(1)` - Not using any extra space\n",
    "\n",
    "Idea:\n",
    "\n",
    "* Go through the array and check if the current element is a one\n",
    "* Keep increasing out count until we don't see a 1\n",
    "* Reset the count\n",
    "\n",
    "**Solution 2: Sliding Window**\n",
    "\n",
    "Time: `O(n)` - Need to scan the entire array\n",
    "\n",
    "Space: `O(1)` - No extra space\n",
    "\n",
    "Idea:\n",
    "\n",
    "* Use the sliding window's `start` and `end` pointers to calculate the max mindow size."
   ]
  },
  {
   "cell_type": "code",
   "execution_count": 2,
   "metadata": {},
   "outputs": [
    {
     "data": {
      "text/plain": [
       "3"
      ]
     },
     "execution_count": 2,
     "metadata": {},
     "output_type": "execute_result"
    }
   ],
   "source": [
    "class Solution1:\n",
    "    def findMaxConsecutiveOnes(self, nums):\n",
    "        cnt = 0\n",
    "        m = -float('inf')\n",
    "        \n",
    "        for num in nums:\n",
    "            if num == 1:\n",
    "                cnt += 1\n",
    "            else:\n",
    "                m = max(m, cnt)\n",
    "                cnt = 0\n",
    "                \n",
    "        return max(m, cnt)\n",
    "    \n",
    "s1 = Solution1()\n",
    "nums = [1,1,0,1,1,1]\n",
    "s1.findMaxConsecutiveOnes(nums)"
   ]
  },
  {
   "cell_type": "code",
   "execution_count": 3,
   "metadata": {},
   "outputs": [
    {
     "data": {
      "text/plain": [
       "3"
      ]
     },
     "execution_count": 3,
     "metadata": {},
     "output_type": "execute_result"
    }
   ],
   "source": [
    "class Solution2:\n",
    "    def findMaxConsecutiveOnes(self, nums):\n",
    "        cnt = 0\n",
    "        m = -float('inf')\n",
    "        n = len(nums)\n",
    "        start = 0\n",
    "        \n",
    "        for end in range(n):\n",
    "            if nums[end] == 1:\n",
    "                m = max(m, end - start + 1)\n",
    "            else:\n",
    "                start = end + 1\n",
    "                \n",
    "        return m\n",
    "\n",
    "s2 = Solution1()\n",
    "nums = [1,1,0,1,1,1]\n",
    "s2.findMaxConsecutiveOnes(nums)"
   ]
  },
  {
   "cell_type": "markdown",
   "metadata": {},
   "source": [
    "# Fixed Sliding Window"
   ]
  },
  {
   "cell_type": "markdown",
   "metadata": {},
   "source": [
    "# 643. Maximum Average Subarray I\n",
    "\n",
    "Idea:\n",
    "\n",
    "* O(n)\n",
    "* Build up in the beginning the size of the window k\n",
    "* Every time we increase the window, subtract the last value in the window so we can add the next value"
   ]
  },
  {
   "cell_type": "code",
   "execution_count": 3,
   "metadata": {},
   "outputs": [],
   "source": [
    "class Solution:\n",
    "    def findMaxAverage(self, nums, k: int) -> float:\n",
    "        m = -float('inf')\n",
    "        c = 0\n",
    "        n = len(nums)\n",
    "        \n",
    "        for i in range(n):\n",
    "            c += nums[i]\n",
    "            \n",
    "            # Condition:\n",
    "            # If our window size is greater than k, we slide it up to find the next window average\n",
    "            if i >= k - 1:\n",
    "                m = max(m, c / k)\n",
    "                c -= nums[i - (k - 1)]\n",
    "        return m        "
   ]
  },
  {
   "cell_type": "code",
   "execution_count": 4,
   "metadata": {},
   "outputs": [
    {
     "data": {
      "text/plain": [
       "12.75"
      ]
     },
     "execution_count": 4,
     "metadata": {},
     "output_type": "execute_result"
    }
   ],
   "source": [
    "nums = [1,12,-5,-6,50,3]\n",
    "k = 4\n",
    "\n",
    "Solution().findMaxAverage(nums, k)"
   ]
  },
  {
   "cell_type": "code",
   "execution_count": null,
   "metadata": {},
   "outputs": [],
   "source": []
  }
 ],
 "metadata": {
  "kernelspec": {
   "display_name": "Python 3",
   "language": "python",
   "name": "python3"
  },
  "language_info": {
   "codemirror_mode": {
    "name": "ipython",
    "version": 3
   },
   "file_extension": ".py",
   "mimetype": "text/x-python",
   "name": "python",
   "nbconvert_exporter": "python",
   "pygments_lexer": "ipython3",
   "version": "3.7.7"
  }
 },
 "nbformat": 4,
 "nbformat_minor": 2
}
