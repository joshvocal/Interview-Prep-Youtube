{
 "cells": [
  {
   "cell_type": "markdown",
   "metadata": {},
   "source": [
    "# Sliding Window\n",
    "\n",
    "## Dynamic Sliding Window\n",
    "\n",
    "* [209. Minimum Size Subarray Sum](#209.-Minimum-Size-Subarray-Sum)\n",
    "\n",
    "## Fixed Sliding Window\n",
    "\n",
    "* [643. Maximum Average Subarray I](#643.-Maximum-Average-Subarray-I)"
   ]
  },
  {
   "cell_type": "markdown",
   "metadata": {},
   "source": [
    "# Dynamic Sliding Window"
   ]
  },
  {
   "cell_type": "markdown",
   "metadata": {},
   "source": [
    "# 209. Minimum Size Subarray Sum\n",
    "\n",
    "Idea:\n",
    "\n",
    "* O(n)\n",
    "* We want to find the minimum array of elements that equal the sum of \"s\"\n",
    "* Ex: s = 7, [4,3] and [2,3,1,2] = 7\n",
    "* Keep track of the current sliding window sum until it's greater or equal to our target\n",
    "* Once it's greater, keep track of our best sized window, decrease the window\n",
    "* Keep doing that until we are at the end of the array"
   ]
  },
  {
   "cell_type": "code",
   "execution_count": 1,
   "metadata": {},
   "outputs": [],
   "source": [
    "class Solution:\n",
    "    def minSubArrayLen(self, s: int, nums) -> int:\n",
    "        if not nums:\n",
    "            return 0\n",
    "        \n",
    "        min_size = float('inf')\n",
    "        current_sum = 0\n",
    "        start = 0\n",
    "        n = len(nums)\n",
    "        \n",
    "        for end in range(n):\n",
    "            current_sum += nums[end]\n",
    "            \n",
    "            # Condition:\n",
    "            # Our current window sum is greater than our target sum \"s\"\n",
    "            # Keep track of our current best and slide the window up!\n",
    "            while current_sum >= s:\n",
    "                min_size = min(min_size, end - start + 1)\n",
    "                current_sum -= nums[start]\n",
    "                start += 1\n",
    "                \n",
    "        if min_size == float('inf'):\n",
    "            return 0\n",
    "                \n",
    "        return min_size"
   ]
  },
  {
   "cell_type": "code",
   "execution_count": 2,
   "metadata": {},
   "outputs": [
    {
     "data": {
      "text/plain": [
       "2"
      ]
     },
     "execution_count": 2,
     "metadata": {},
     "output_type": "execute_result"
    }
   ],
   "source": [
    "s = 7\n",
    "nums = [2,3,1,2,4,3]\n",
    "\n",
    "Solution().minSubArrayLen(s, nums)"
   ]
  },
  {
   "cell_type": "markdown",
   "metadata": {},
   "source": [
    "# Fixed Sliding Window"
   ]
  },
  {
   "cell_type": "markdown",
   "metadata": {},
   "source": [
    "# 643. Maximum Average Subarray I\n",
    "\n",
    "Idea:\n",
    "\n",
    "* O(n)\n",
    "* Build up in the beginning the size of the window k\n",
    "* Every time we increase the window, subtract the last value in the window so we can add the next value"
   ]
  },
  {
   "cell_type": "code",
   "execution_count": 3,
   "metadata": {},
   "outputs": [],
   "source": [
    "class Solution:\n",
    "    def findMaxAverage(self, nums, k: int) -> float:\n",
    "        m = -float('inf')\n",
    "        c = 0\n",
    "        n = len(nums)\n",
    "        \n",
    "        for i in range(n):\n",
    "            c += nums[i]\n",
    "            \n",
    "            # Condition:\n",
    "            # If our window size is greater than k, we slide it up to find the next window average\n",
    "            if i >= k - 1:\n",
    "                m = max(m, c / k)\n",
    "                c -= nums[i - (k - 1)]\n",
    "        return m        "
   ]
  },
  {
   "cell_type": "code",
   "execution_count": 4,
   "metadata": {},
   "outputs": [
    {
     "data": {
      "text/plain": [
       "12.75"
      ]
     },
     "execution_count": 4,
     "metadata": {},
     "output_type": "execute_result"
    }
   ],
   "source": [
    "nums = [1,12,-5,-6,50,3]\n",
    "k = 4\n",
    "\n",
    "Solution().findMaxAverage(nums, k)"
   ]
  },
  {
   "cell_type": "code",
   "execution_count": null,
   "metadata": {},
   "outputs": [],
   "source": []
  }
 ],
 "metadata": {
  "kernelspec": {
   "display_name": "Python 3",
   "language": "python",
   "name": "python3"
  },
  "language_info": {
   "codemirror_mode": {
    "name": "ipython",
    "version": 3
   },
   "file_extension": ".py",
   "mimetype": "text/x-python",
   "name": "python",
   "nbconvert_exporter": "python",
   "pygments_lexer": "ipython3",
   "version": "3.7.5"
  }
 },
 "nbformat": 4,
 "nbformat_minor": 2
}
