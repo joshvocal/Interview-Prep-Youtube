{
 "cells": [
  {
   "cell_type": "markdown",
   "metadata": {},
   "source": [
    "# Math"
   ]
  },
  {
   "cell_type": "markdown",
   "metadata": {},
   "source": [
    "* [1323. Maximum 69 Number](#1323.-Maximum-69-Number)"
   ]
  },
  {
   "cell_type": "markdown",
   "metadata": {},
   "source": [
    "# 1323. Maximum 69 Number"
   ]
  },
  {
   "cell_type": "markdown",
   "metadata": {},
   "source": [
    "**Solution 1: Stack with Modulo**\n",
    "\n",
    "Time: `O(n)`\n",
    "\n",
    "Space: `O(n)`\n",
    "\n",
    "Idea:\n",
    "\n",
    "To get the maximum number, we want to change the first `6` that we see so that the it changes to a `9`. Let's use a stack and `pop` to find the first `6`. Change it to a `9`.\n",
    "\n",
    "**Solution 2: Convert to String**"
   ]
  },
  {
   "cell_type": "code",
   "execution_count": 1,
   "metadata": {},
   "outputs": [],
   "source": [
    "class Solution1:\n",
    "    def maximum69Number (self, num: int) -> int:\n",
    "        stack = []\n",
    "        \n",
    "        while num:\n",
    "            digit = num % 10\n",
    "            stack.append(digit)\n",
    "            num //= 10\n",
    "            \n",
    "        res = 0\n",
    "        first = False\n",
    "        \n",
    "        while stack:\n",
    "            digit = stack.pop()\n",
    "            if not first and digit == 6:\n",
    "                res = res * 10 + 9\n",
    "                first = True\n",
    "            else:    \n",
    "                res = res * 10 + digit\n",
    "                \n",
    "        return res"
   ]
  },
  {
   "cell_type": "code",
   "execution_count": 2,
   "metadata": {},
   "outputs": [],
   "source": [
    "class Solution:\n",
    "    def maximum69Number (self, num: int) -> int:\n",
    "        a = list(str(num))\n",
    "        \n",
    "        for i in range(len(a)):\n",
    "            if a[i] == \"6\":\n",
    "                a[i] = \"9\"\n",
    "                break\n",
    "                \n",
    "        return int(''.join(a))\n",
    "        \n",
    "        "
   ]
  },
  {
   "cell_type": "code",
   "execution_count": null,
   "metadata": {},
   "outputs": [],
   "source": []
  }
 ],
 "metadata": {
  "kernelspec": {
   "display_name": "Python 3",
   "language": "python",
   "name": "python3"
  },
  "language_info": {
   "codemirror_mode": {
    "name": "ipython",
    "version": 3
   },
   "file_extension": ".py",
   "mimetype": "text/x-python",
   "name": "python",
   "nbconvert_exporter": "python",
   "pygments_lexer": "ipython3",
   "version": "3.7.7"
  }
 },
 "nbformat": 4,
 "nbformat_minor": 2
}
