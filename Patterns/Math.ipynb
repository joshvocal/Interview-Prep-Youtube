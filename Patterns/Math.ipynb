{
 "cells": [
  {
   "cell_type": "markdown",
   "metadata": {},
   "source": [
    "# Math"
   ]
  },
  {
   "cell_type": "markdown",
   "metadata": {},
   "source": [
    "### Slope\n",
    "\n",
    "* [1232. Check If It Is a Straight Line](#1232.-Check-If-It-Is-a-Straight-Line)\n",
    "\n",
    "\n",
    "### Modulo Divide\n",
    "\n",
    "* [1323. Maximum 69 Number](#1323.-Maximum-69-Number)"
   ]
  },
  {
   "cell_type": "markdown",
   "metadata": {},
   "source": [
    "# Slope"
   ]
  },
  {
   "cell_type": "markdown",
   "metadata": {},
   "source": [
    "# 1232. Check If It Is a Straight Line\n"
   ]
  },
  {
   "cell_type": "markdown",
   "metadata": {},
   "source": [
    "**Solution 1: Slope**\n",
    "\n",
    "Time: `O(n)`  - We need to check every value in the `coordinates` list\n",
    "\n",
    "Space: `O(1)` - No additional space used. Just using variables\n",
    "\n",
    "Idea:\n",
    "\n",
    "In the problem there are 3 possibilities:\n",
    "* A vertical line\n",
    "* A horizontal line\n",
    "* A diagonal line\n",
    "\n",
    "How can we check all of these possibilities? We can check that the ratio of the `slope` is the same for all of the elemnts.\n",
    "\n",
    "* If there are two elements, we can be sure that they for a straight line\n",
    "\n",
    "\n",
    "`m = (y2 - y1) / (x2 - x1)`\n",
    "\n",
    "`someSlope = (yN - y1) / (xN - x1)`\n",
    "\n",
    "We need to check that `m == someSlope`. We can change the formula so we don't have a divide by zero error through cross multiplication\n",
    "\n",
    "`(yN - y1) * (x2 - x1) == (y2 - y1) == (xN - x1)`"
   ]
  },
  {
   "cell_type": "code",
   "execution_count": 1,
   "metadata": {},
   "outputs": [
    {
     "data": {
      "text/plain": [
       "False"
      ]
     },
     "execution_count": 1,
     "metadata": {},
     "output_type": "execute_result"
    }
   ],
   "source": [
    "class Solution:\n",
    "    def checkStraightLine(self, coordinates) -> bool:\n",
    "        if not coordinates:\n",
    "            return True\n",
    "        \n",
    "        if len(coordinates) == 2:\n",
    "            return True\n",
    "        \n",
    "        x1 = coordinates[0][0]\n",
    "        y1 = coordinates[0][1]\n",
    "        x2 = coordinates[1][0]\n",
    "        y2 = coordinates[1][1]\n",
    "        \n",
    "        '''\n",
    "        m = (y2 - y1) / (x2 - x1)\n",
    "        (y2 - y1) / (x2 - x1) == (yX - y1) / (xX - x1)\n",
    "        \n",
    "        '''    \n",
    "        \n",
    "        for i in range(2, len(coordinates)):\n",
    "            xN = coordinates[i][0]\n",
    "            yN = coordinates[i][1]\n",
    "            \n",
    "            if (y2 - y1) * (xN - x1) != (yN - y1) * (x2 - x1):\n",
    "                return False\n",
    "            \n",
    "        return True\n",
    "            \n",
    "s = Solution()\n",
    "coordinates = [[1,1],[2,2],[3,4],[4,5],[5,6],[7,7]]\n",
    "s.checkStraightLine(coordinates)"
   ]
  },
  {
   "cell_type": "markdown",
   "metadata": {},
   "source": [
    "# Modulo Divide"
   ]
  },
  {
   "cell_type": "markdown",
   "metadata": {},
   "source": [
    "# 1323. Maximum 69 Number"
   ]
  },
  {
   "cell_type": "markdown",
   "metadata": {},
   "source": [
    "**Solution 1: Stack with Modulo**\n",
    "\n",
    "Time: `O(n)`\n",
    "\n",
    "Space: `O(n)`\n",
    "\n",
    "Idea:\n",
    "\n",
    "To get the maximum number, we want to change the first `6` that we see so that the it changes to a `9`. Let's use a stack and `pop` to find the first `6`. Change it to a `9`.\n",
    "\n",
    "**Solution 2: Convert to String**"
   ]
  },
  {
   "cell_type": "code",
   "execution_count": 1,
   "metadata": {},
   "outputs": [],
   "source": [
    "class Solution1:\n",
    "    def maximum69Number (self, num: int) -> int:\n",
    "        stack = []\n",
    "        \n",
    "        while num:\n",
    "            digit = num % 10\n",
    "            stack.append(digit)\n",
    "            num //= 10\n",
    "            \n",
    "        res = 0\n",
    "        first = False\n",
    "        \n",
    "        while stack:\n",
    "            digit = stack.pop()\n",
    "            if not first and digit == 6:\n",
    "                res = res * 10 + 9\n",
    "                first = True\n",
    "            else:    \n",
    "                res = res * 10 + digit\n",
    "                \n",
    "        return res"
   ]
  },
  {
   "cell_type": "code",
   "execution_count": 2,
   "metadata": {},
   "outputs": [],
   "source": [
    "class Solution:\n",
    "    def maximum69Number (self, num: int) -> int:\n",
    "        a = list(str(num))\n",
    "        \n",
    "        for i in range(len(a)):\n",
    "            if a[i] == \"6\":\n",
    "                a[i] = \"9\"\n",
    "                break\n",
    "                \n",
    "        return int(''.join(a))\n",
    "        \n",
    "        "
   ]
  },
  {
   "cell_type": "code",
   "execution_count": null,
   "metadata": {},
   "outputs": [],
   "source": []
  }
 ],
 "metadata": {
  "kernelspec": {
   "display_name": "Python 3",
   "language": "python",
   "name": "python3"
  },
  "language_info": {
   "codemirror_mode": {
    "name": "ipython",
    "version": 3
   },
   "file_extension": ".py",
   "mimetype": "text/x-python",
   "name": "python",
   "nbconvert_exporter": "python",
   "pygments_lexer": "ipython3",
   "version": "3.7.7"
  }
 },
 "nbformat": 4,
 "nbformat_minor": 2
}
