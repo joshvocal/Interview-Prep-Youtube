{
 "cells": [
  {
   "cell_type": "markdown",
   "metadata": {},
   "source": [
    "# Binary Search"
   ]
  },
  {
   "cell_type": "markdown",
   "metadata": {},
   "source": [
    "* [33. Search in Rotated Sorted Array](#33.-Search-in-Rotated-Sorted-Array)\n",
    "\n",
    "* [69. Sqrt(x)](#69.-Sqrt(x))\n",
    "\n",
    "* [367. Valid Perfect Square](#367.-Valid-Perfect-Square)\n",
    "\n",
    "* [374. Guess Number Higher or Lower](#374.-Guess-Number-Higher-or-Lower)\n",
    "\n",
    "* [702. Search in a Sorted Array of Unknown Size](#702.-Search-in-a-Sorted-Array-of-Unknown-Size)\n",
    "\n",
    "* [704. Binary Search](#704.-Binary-Search)\n",
    "\n",
    "### Left Bound\n",
    "\n",
    "* [744. Find Smallest Letter Greater Than Target](#744.-Find-Smallest-Letter-Greater-Than-Target)\n"
   ]
  },
  {
   "cell_type": "markdown",
   "metadata": {},
   "source": [
    "# 33. Search in Rotated Sorted Array"
   ]
  },
  {
   "cell_type": "markdown",
   "metadata": {},
   "source": [
    "**Solution 1: Brute Force - Linear Search**\n",
    "\n",
    "Time: `O(n)`\n",
    "\n",
    "Space: `O(1)`\n",
    "\n",
    "Idea:\n",
    "\n",
    "* Scan through the entire array to find if the `target` exists in the arr.\n",
    "* If it exists, return the index\n",
    "\n",
    "**Solution 2: Left Bound Binary Search + Binary Search**\n",
    "\n",
    "Time: `O(logn)`\n",
    "\n",
    "Space: `O(1)`\n",
    "\n",
    "Idea:\n",
    "\n",
    "Left Bound Binary Search\n",
    "\n",
    "* Use this to find the minimum element in the sorted array. Note: There may be problems with this with duplicates in the array.\n",
    "\n",
    "* Once we have found that pivot, we can split the array into two sides that are both sorted.\n",
    "* Use binary search on both sides to check if the `target` exists in the array.\n",
    "\n",
    "**Soution 3: Left Bound Binary Search + Modulo Binary Search**\n",
    "\n",
    "Time: `O(logn)`\n",
    "\n",
    "Space: `O(1)`\n",
    "\n",
    "Idea:\n",
    "\n",
    "Left Bound Binary Search\n",
    "\n",
    "* We can use this to find the index of the pivot beacause we can find the minimum in a the array\n",
    "\n",
    "Modulo Binary Search\n",
    "\n",
    "* We can the rotation index `rot` to the `mid` value of a binary search. This will give the value of the mid element. We can adjust our pointers based on this.\n",
    "\n",
    "\n",
    "**Solution 4: Modified Binary Search**\n",
    "\n",
    "Time: `O(logn)`\n",
    "\n",
    "Space: `O(1)`\n",
    "\n",
    "Idea:\n",
    "\n",
    "There are two cases that we can have where the array is rotated."
   ]
  },
  {
   "cell_type": "code",
   "execution_count": 1,
   "metadata": {},
   "outputs": [
    {
     "data": {
      "text/plain": [
       "4"
      ]
     },
     "execution_count": 1,
     "metadata": {},
     "output_type": "execute_result"
    }
   ],
   "source": [
    "class Solution1:\n",
    "    def search(self, nums, target: int):\n",
    "        if not nums:\n",
    "            return -1\n",
    "        \n",
    "        for i, e in enumerate(nums):\n",
    "            if e == target:\n",
    "                return i\n",
    "            \n",
    "        return -1\n",
    "    \n",
    "nums = [4,5,6,7,0,1,2]\n",
    "target = 0\n",
    "s1 = Solution1()\n",
    "s1.search(nums, target)"
   ]
  },
  {
   "cell_type": "code",
   "execution_count": 2,
   "metadata": {},
   "outputs": [
    {
     "name": "stdout",
     "output_type": "stream",
     "text": [
      "[0, 1, 2]\n",
      "[4, 5, 6, 7]\n"
     ]
    },
    {
     "data": {
      "text/plain": [
       "4"
      ]
     },
     "execution_count": 2,
     "metadata": {},
     "output_type": "execute_result"
    }
   ],
   "source": [
    "class Solution2:\n",
    "    def search(self, nums, target):\n",
    "        if not nums:\n",
    "            return -1\n",
    "        \n",
    "        n = len(nums)\n",
    "        \n",
    "        pivot = self.findPivot(nums)\n",
    "        \n",
    "        print(nums[pivot:n])\n",
    "        print(nums[0:pivot])\n",
    "        \n",
    "        if pivot == 0 or target < nums[0]:\n",
    "            return self.binarySearch(nums, pivot, n - 1, target)\n",
    "        \n",
    "        return self.binarySearch(nums, 0, pivot - 1, target)\n",
    "        \n",
    "        \n",
    "    def findPivot(self, nums):\n",
    "        lo = 0\n",
    "        hi = len(nums) - 1\n",
    "        \n",
    "        while lo < hi:\n",
    "            mid = (lo + hi) // 2\n",
    "            \n",
    "            if nums[mid] > nums[hi]:\n",
    "                lo = mid + 1\n",
    "            else:\n",
    "                hi = mid\n",
    "                \n",
    "        return lo\n",
    "    \n",
    "    def binarySearch(self, nums, lo, hi, target):\n",
    "        while lo <= hi:\n",
    "            mid = (lo + hi) // 2\n",
    "            num = nums[mid]\n",
    "            \n",
    "            if num == target:\n",
    "                return mid\n",
    "            if num > target:\n",
    "                hi = mid - 1\n",
    "            else:\n",
    "                lo = mid + 1\n",
    "                \n",
    "        return -1\n",
    "    \n",
    "nums = [4,5,6,7,0,1,2]\n",
    "target = 0\n",
    "s2 = Solution2()\n",
    "s2.search(nums, target)"
   ]
  },
  {
   "cell_type": "code",
   "execution_count": 3,
   "metadata": {},
   "outputs": [
    {
     "data": {
      "text/plain": [
       "4"
      ]
     },
     "execution_count": 3,
     "metadata": {},
     "output_type": "execute_result"
    }
   ],
   "source": [
    "class Solution3:\n",
    "    def search(self, nums, target):\n",
    "        if not nums:\n",
    "            return - 1\n",
    "        \n",
    "        n = len(nums)\n",
    "        lo = 0\n",
    "        hi = n - 1\n",
    "        \n",
    "        while lo < hi:\n",
    "            mid = (lo + hi) // 2\n",
    "            \n",
    "            if nums[mid] > nums[hi]:\n",
    "                lo = mid + 1\n",
    "            else:\n",
    "                hi = mid\n",
    "                \n",
    "        rotation = lo\n",
    "        \n",
    "        lo = 0\n",
    "        hi = n - 1\n",
    "        \n",
    "        while lo <= hi:\n",
    "            mid = (lo + hi) // 2\n",
    "            real_mid = (mid + rotation) % n\n",
    "            num = nums[real_mid]\n",
    "            \n",
    "            if num == target:\n",
    "                return real_mid\n",
    "            elif num > target:\n",
    "                hi = mid - 1\n",
    "            else:\n",
    "                lo = mid - 1\n",
    "                \n",
    "        return -1\n",
    "        \n",
    "        \n",
    "nums = [4,5,6,7,0,1,2]\n",
    "target = 0\n",
    "s3 = Solution3()\n",
    "s3.search(nums, target)"
   ]
  },
  {
   "cell_type": "code",
   "execution_count": 4,
   "metadata": {},
   "outputs": [
    {
     "data": {
      "text/plain": [
       "4"
      ]
     },
     "execution_count": 4,
     "metadata": {},
     "output_type": "execute_result"
    }
   ],
   "source": [
    "class Solution4:\n",
    "    def search(self, nums, target: int) -> int:\n",
    "        lo = 0\n",
    "        hi = len(nums) - 1\n",
    "        \n",
    "        while lo <= hi:\n",
    "            \n",
    "            mid = (lo + hi) // 2\n",
    "            \n",
    "            if nums[mid] == target:\n",
    "                return mid\n",
    "            elif nums[lo] <= nums[mid]:\n",
    "                if nums[lo] <= target and target < nums[mid]:\n",
    "                    hi = mid - 1\n",
    "                else:    \n",
    "                    lo = mid + 1\n",
    "            else:        \n",
    "                if nums[mid] < target and target <= nums[hi]:\n",
    "                    lo = mid + 1    \n",
    "                else:\n",
    "                    hi = mid - 1\n",
    "                    \n",
    "        return -1\n",
    "                  \n",
    "        \n",
    "nums = [4,5,6,7,0,1,2]\n",
    "target = 0\n",
    "s4 = Solution4()\n",
    "s4.search(nums, target)"
   ]
  },
  {
   "cell_type": "markdown",
   "metadata": {},
   "source": [
    "# 69. Sqrt(x)"
   ]
  },
  {
   "cell_type": "markdown",
   "metadata": {},
   "source": [
    "**Solution 1: Binary Search**\n",
    "\n",
    "Time: `O(logn)`\n",
    "\n",
    "Space: `O(1)`\n",
    "\n",
    "Idea:\n",
    "\n",
    "* We are given some number `n` and we want to find the `floor` of the square root of the number.\n",
    "* Use binary search to find the square of the number since the seqence of numbers is ascending.\n",
    "\n",
    "**Solution 2: Brute Force - Linear**\n",
    "\n",
    "Time: `O(n)`\n",
    "\n",
    "Space: `O(1)`\n",
    "\n",
    "Idea:\n",
    "\n",
    "* Try every number to see if that number is the square root of `n`"
   ]
  },
  {
   "cell_type": "code",
   "execution_count": 5,
   "metadata": {},
   "outputs": [],
   "source": [
    "class Solution2:\n",
    "    def mySqrt(self, x):\n",
    "        if x < 2:\n",
    "            return x\n",
    "        \n",
    "        for i in range(x):\n",
    "            if i*i > x:\n",
    "                return i - 1\n",
    "            \n",
    "        return 1"
   ]
  },
  {
   "cell_type": "code",
   "execution_count": 6,
   "metadata": {},
   "outputs": [
    {
     "data": {
      "text/plain": [
       "2"
      ]
     },
     "execution_count": 6,
     "metadata": {},
     "output_type": "execute_result"
    }
   ],
   "source": [
    "s2 = Solution2()\n",
    "s2.mySqrt(8)"
   ]
  },
  {
   "cell_type": "code",
   "execution_count": 7,
   "metadata": {},
   "outputs": [],
   "source": [
    "class Solution1:\n",
    "    def mySqrt(self, x):\n",
    "        if x < 2:\n",
    "            return x\n",
    "        \n",
    "        return self.binarySearch(1, x)\n",
    "    \n",
    "    def binarySearch(self, lo, hi):\n",
    "        target = hi\n",
    "        \n",
    "        while lo <= hi:\n",
    "            mid = (lo + hi) // 2\n",
    "            sqr = mid * mid\n",
    "            \n",
    "            if sqr == target:\n",
    "                return mid\n",
    "            \n",
    "            if sqr > target:\n",
    "                hi = mid - 1\n",
    "            else:\n",
    "                lo = mid + 1\n",
    "                \n",
    "        return hi"
   ]
  },
  {
   "cell_type": "code",
   "execution_count": 8,
   "metadata": {},
   "outputs": [
    {
     "data": {
      "text/plain": [
       "2"
      ]
     },
     "execution_count": 8,
     "metadata": {},
     "output_type": "execute_result"
    }
   ],
   "source": [
    "s1 = Solution1()\n",
    "s1.mySqrt(8)"
   ]
  },
  {
   "cell_type": "markdown",
   "metadata": {},
   "source": [
    "# 367. Valid Perfect Square"
   ]
  },
  {
   "cell_type": "markdown",
   "metadata": {},
   "source": [
    "**Solution 1: Binary Search**\n",
    "\n",
    "Time: `O(logn)`\n",
    "\n",
    "Space: `O(1)`\n",
    "\n",
    "Idea:\n",
    "\n",
    "* We want to find a perfect square for our target `num`. Since the order of numbers is an ascending sequence, we can use binary search to find the perfect square of the number we are looking for."
   ]
  },
  {
   "cell_type": "code",
   "execution_count": 9,
   "metadata": {},
   "outputs": [],
   "source": [
    "class Solution:\n",
    "    def isPerfectSquare(self, num: int) -> bool:\n",
    "        return self.binarySearch(1, num, num)\n",
    "        \n",
    "    def binarySearch(self, lo, hi, target):\n",
    "        \n",
    "        while lo <= hi:\n",
    "            mid = (lo + hi) // 2\n",
    "            sqr = mid * mid\n",
    "            \n",
    "            if sqr == target:\n",
    "                return True\n",
    "            elif sqr > target:\n",
    "                hi = mid - 1\n",
    "            else:\n",
    "                lo = mid + 1\n",
    "                \n",
    "        return False\n",
    "        "
   ]
  },
  {
   "cell_type": "markdown",
   "metadata": {},
   "source": [
    "# 374. Guess Number Higher or Lower\n",
    "\n",
    "Time: `O(logn)`\n",
    "\n",
    "Space: `O(1)`\n",
    "\n",
    "Idea:\n",
    "\n",
    "* Use binary search since the numbers are sorted and we are told whether to high or lower."
   ]
  },
  {
   "cell_type": "code",
   "execution_count": 10,
   "metadata": {},
   "outputs": [],
   "source": [
    "class Solution1:\n",
    "    def __init__(self):\n",
    "        self.number = 6\n",
    "        \n",
    "    def guess(self, n):\n",
    "        if n == self.number:\n",
    "            return 0\n",
    "        \n",
    "        return 1 if n < self.number else -1\n",
    "    \n",
    "    def guessNumber(self, n):\n",
    "        return self.binarySearch(1, n)\n",
    "    \n",
    "    def binarySearch(self, lo, hi):\n",
    "        while lo <= hi:\n",
    "            mid = (lo + hi) // 2\n",
    "            \n",
    "            if self.guess(mid) == 0:\n",
    "                return mid\n",
    "            \n",
    "            if self.guess(mid) == 1:\n",
    "                lo = mid + 1\n",
    "            else:\n",
    "                hi = mid - 1\n",
    "                \n",
    "        return None"
   ]
  },
  {
   "cell_type": "code",
   "execution_count": 11,
   "metadata": {},
   "outputs": [
    {
     "data": {
      "text/plain": [
       "6"
      ]
     },
     "execution_count": 11,
     "metadata": {},
     "output_type": "execute_result"
    }
   ],
   "source": [
    "s = Solution1()\n",
    "s.guessNumber(10)"
   ]
  },
  {
   "cell_type": "markdown",
   "metadata": {},
   "source": [
    "# 702. Search in a Sorted Array of Unknown Size"
   ]
  },
  {
   "cell_type": "markdown",
   "metadata": {},
   "source": [
    "**Solution 1: Brute Force - Linear Search**\n",
    "\n",
    "Time: `O(n)`\n",
    "\n",
    "Space: `o(1)`\n",
    "\n",
    "Idea:\n",
    "\n",
    "* Keep increasing the size of our seach by one until we find our target element.\n",
    "    \n",
    "**Solution 2: Binary Search**\n",
    "\n",
    "Time: `O(logn)`\n",
    "\n",
    "Space: `O(n)`\n",
    "\n",
    "Idea:\n",
    "\n",
    "* We don't know how big the array is. Keep expanding our seach size by 2x until our biggest element in the array is larger than our target.\n",
    "* We are expanding 2x every time because we want to keep our `log` search time instead of expanding one at a time."
   ]
  },
  {
   "cell_type": "code",
   "execution_count": 12,
   "metadata": {},
   "outputs": [],
   "source": [
    "class Solution1:\n",
    "    def search(self, reader, target):\n",
    "        \n",
    "        p = 0\n",
    "        \n",
    "        while reader.get(p) != target:\n",
    "            p += 1\n",
    "            \n",
    "        return p"
   ]
  },
  {
   "cell_type": "code",
   "execution_count": 13,
   "metadata": {},
   "outputs": [],
   "source": [
    "class Solution2:\n",
    "    def search(self, reader, target):\n",
    "        \"\"\"\n",
    "        :type reader: ArrayReader\n",
    "        :type target: int\n",
    "        :rtype: int\n",
    "        \"\"\"\n",
    "        lo = 0\n",
    "        hi = 1\n",
    "        \n",
    "        while reader.get(hi) < target:\n",
    "            lo = hi\n",
    "            hi *= 2\n",
    "            \n",
    "        while lo <= hi:\n",
    "            mid = (lo + hi) // 2\n",
    "            num = reader.get(mid)\n",
    "            \n",
    "            if num == target:\n",
    "                return mid\n",
    "            elif num < target:\n",
    "                lo = mid + 1\n",
    "            else:    \n",
    "                hi = mid - 1\n",
    "                \n",
    "        return -1"
   ]
  },
  {
   "cell_type": "markdown",
   "metadata": {},
   "source": [
    "# 704. Binary Search"
   ]
  },
  {
   "cell_type": "markdown",
   "metadata": {},
   "source": [
    "Time: `O(n)`\n",
    "\n",
    "Space: `O(1)`\n",
    "\n",
    "Idea:\n",
    "\n",
    "* The classic search where you use two pointers to bound your search to check if the middle element is the target"
   ]
  },
  {
   "cell_type": "code",
   "execution_count": 14,
   "metadata": {},
   "outputs": [],
   "source": [
    "class Solution1:\n",
    "    def binarySearch(self, nums, target):\n",
    "        lo = 0\n",
    "        hi = len(nums) - 1\n",
    "        \n",
    "        while lo <= hi:\n",
    "            mid = (lo + hi) // 2\n",
    "            num = nums[mid]\n",
    "            \n",
    "            if target == num:\n",
    "                return mid\n",
    "            \n",
    "            if num < target:\n",
    "                lo = mid + 1\n",
    "            else:\n",
    "                hi = mid - 1\n",
    "                \n",
    "        return -1"
   ]
  },
  {
   "cell_type": "code",
   "execution_count": 15,
   "metadata": {},
   "outputs": [
    {
     "data": {
      "text/plain": [
       "4"
      ]
     },
     "execution_count": 15,
     "metadata": {},
     "output_type": "execute_result"
    }
   ],
   "source": [
    "s1 = Solution1()\n",
    "nums = [-1,0,3,5,9,12]\n",
    "target = 9\n",
    "s1.binarySearch(nums, target)"
   ]
  },
  {
   "cell_type": "markdown",
   "metadata": {},
   "source": [
    "# Left Bound"
   ]
  },
  {
   "cell_type": "markdown",
   "metadata": {},
   "source": [
    "# 744. Find Smallest Letter Greater Than Target"
   ]
  },
  {
   "cell_type": "markdown",
   "metadata": {},
   "source": [
    "**Solution 1: Binary Search Left Bound**"
   ]
  },
  {
   "cell_type": "code",
   "execution_count": 16,
   "metadata": {},
   "outputs": [],
   "source": [
    "class Solution:\n",
    "    def nextGreatestCharacter(self, letters, target):\n",
    "        lo = 0\n",
    "        hi = len(letters)\n",
    "        \n",
    "        return self.binarySearch(lo, hi, letters, target)\n",
    "    \n",
    "    def binarySearch(self, lo, hi, letters, target):\n",
    "        while lo < hi:\n",
    "            mid = (lo + hi) // 2\n",
    "            letter = letters[mid]\n",
    "            \n",
    "            if letter > target:\n",
    "                hi = mid\n",
    "            else:\n",
    "                lo = mid + 1\n",
    "        \n",
    "        return letters[lo % len(letters)]"
   ]
  },
  {
   "cell_type": "code",
   "execution_count": 17,
   "metadata": {},
   "outputs": [
    {
     "data": {
      "text/plain": [
       "'c'"
      ]
     },
     "execution_count": 17,
     "metadata": {},
     "output_type": "execute_result"
    }
   ],
   "source": [
    "s1 = Solution()\n",
    "letters = [\"a\", \"c\", \"e\"]\n",
    "target = \"b\"\n",
    "s1.nextGreatestCharacter(letters, target)"
   ]
  },
  {
   "cell_type": "code",
   "execution_count": null,
   "metadata": {},
   "outputs": [],
   "source": []
  }
 ],
 "metadata": {
  "kernelspec": {
   "display_name": "Python 3",
   "language": "python",
   "name": "python3"
  },
  "language_info": {
   "codemirror_mode": {
    "name": "ipython",
    "version": 3
   },
   "file_extension": ".py",
   "mimetype": "text/x-python",
   "name": "python",
   "nbconvert_exporter": "python",
   "pygments_lexer": "ipython3",
   "version": "3.7.7"
  }
 },
 "nbformat": 4,
 "nbformat_minor": 2
}
