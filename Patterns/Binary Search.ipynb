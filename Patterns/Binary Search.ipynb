{
 "cells": [
  {
   "cell_type": "markdown",
   "metadata": {},
   "source": [
    "# Binary Search"
   ]
  },
  {
   "cell_type": "markdown",
   "metadata": {},
   "source": [
    "* [33. Search in Rotated Sorted Array](#33.-Search-in-Rotated-Sorted-Array)\n",
    "\n",
    "* [69. Sqrt(x)](#69.-Sqrt(x))\n",
    "\n",
    "* [367. Valid Perfect Square](#367.-Valid-Perfect-Square)\n",
    "\n",
    "* [374. Guess Number Higher or Lower](#374.-Guess-Number-Higher-or-Lower)\n",
    "\n",
    "* [702. Search in a Sorted Array of Unknown Size](#702.-Search-in-a-Sorted-Array-of-Unknown-Size)\n",
    "\n",
    "* [704. Binary Search](#704.-Binary-Search)\n",
    "\n",
    "### Left Bound\n",
    "\n",
    "* [744. Find Smallest Letter Greater Than Target](#744.-Find-Smallest-Letter-Greater-Than-Target)\n"
   ]
  },
  {
   "cell_type": "markdown",
   "metadata": {},
   "source": [
    "# 33. Search in Rotated Sorted Array"
   ]
  },
  {
   "cell_type": "markdown",
   "metadata": {},
   "source": [
    "**Solution 1: Modified Binary Search**\n",
    "\n",
    "Time: `O(logn)`\n",
    "\n",
    "Space: `O(1)`\n",
    "\n",
    "Idea:\n",
    "\n",
    "There are two cases that we can have where the array is rotated."
   ]
  },
  {
   "cell_type": "markdown",
   "metadata": {},
   "source": [
    "# 69. Sqrt(x)"
   ]
  },
  {
   "cell_type": "markdown",
   "metadata": {},
   "source": [
    "**Solution 1: Binary Search**\n",
    "\n",
    "Time: `O(logn)`\n",
    "\n",
    "Space: `O(1)`\n",
    "\n",
    "Idea:\n",
    "\n",
    "* We are given some number `n` and we want to find the `floor` of the square root of the number.\n",
    "* Use binary search to find the square of the number since the seqence of numbers is ascending.\n",
    "\n",
    "**Solution 2: Brute Force - Linear**\n",
    "\n",
    "Time: `O(n)`\n",
    "\n",
    "Space: `O(1)`\n",
    "\n",
    "Idea:\n",
    "\n",
    "* Try every number to see if that number is the square root of `n`"
   ]
  },
  {
   "cell_type": "code",
   "execution_count": 1,
   "metadata": {},
   "outputs": [],
   "source": [
    "class Solution2:\n",
    "    def mySqrt(self, x):\n",
    "        if x < 2:\n",
    "            return x\n",
    "        \n",
    "        for i in range(x):\n",
    "            if i*i > x:\n",
    "                return i - 1\n",
    "            \n",
    "        return 1"
   ]
  },
  {
   "cell_type": "code",
   "execution_count": 2,
   "metadata": {},
   "outputs": [
    {
     "data": {
      "text/plain": [
       "2"
      ]
     },
     "execution_count": 2,
     "metadata": {},
     "output_type": "execute_result"
    }
   ],
   "source": [
    "s2 = Solution2()\n",
    "s2.mySqrt(8)"
   ]
  },
  {
   "cell_type": "code",
   "execution_count": 3,
   "metadata": {},
   "outputs": [],
   "source": [
    "class Solution1:\n",
    "    def mySqrt(self, x):\n",
    "        if x < 2:\n",
    "            return x\n",
    "        \n",
    "        return self.binarySearch(1, x)\n",
    "    \n",
    "    def binarySearch(self, lo, hi):\n",
    "        target = hi\n",
    "        \n",
    "        while lo <= hi:\n",
    "            mid = (lo + hi) // 2\n",
    "            sqr = mid * mid\n",
    "            \n",
    "            if sqr == target:\n",
    "                return mid\n",
    "            \n",
    "            if sqr > target:\n",
    "                hi = mid - 1\n",
    "            else:\n",
    "                lo = mid + 1\n",
    "                \n",
    "        return hi"
   ]
  },
  {
   "cell_type": "code",
   "execution_count": 4,
   "metadata": {},
   "outputs": [
    {
     "data": {
      "text/plain": [
       "2"
      ]
     },
     "execution_count": 4,
     "metadata": {},
     "output_type": "execute_result"
    }
   ],
   "source": [
    "s1 = Solution1()\n",
    "s1.mySqrt(8)"
   ]
  },
  {
   "cell_type": "markdown",
   "metadata": {},
   "source": [
    "# 367. Valid Perfect Square"
   ]
  },
  {
   "cell_type": "markdown",
   "metadata": {},
   "source": [
    "**Solution 1: Binary Search**\n",
    "\n",
    "Time: `O(logn)`\n",
    "\n",
    "Space: `O(1)`\n",
    "\n",
    "Idea:\n",
    "\n",
    "* We want to find a perfect square for our target `num`. Since the order of numbers is an ascending sequence, we can use binary search to find the perfect square of the number we are looking for."
   ]
  },
  {
   "cell_type": "code",
   "execution_count": 11,
   "metadata": {},
   "outputs": [],
   "source": [
    "class Solution:\n",
    "    def isPerfectSquare(self, num: int) -> bool:\n",
    "        return self.binarySearch(1, num, num)\n",
    "        \n",
    "    def binarySearch(self, lo, hi, target):\n",
    "        \n",
    "        while lo <= hi:\n",
    "            mid = (lo + hi) // 2\n",
    "            sqr = mid * mid\n",
    "            \n",
    "            if sqr == target:\n",
    "                return True\n",
    "            elif sqr > target:\n",
    "                hi = mid - 1\n",
    "            else:\n",
    "                lo = mid + 1\n",
    "                \n",
    "        return False\n",
    "        "
   ]
  },
  {
   "cell_type": "markdown",
   "metadata": {},
   "source": [
    "# 374. Guess Number Higher or Lower\n",
    "\n",
    "Time: `O(logn)`\n",
    "\n",
    "Space: `O(1)`\n",
    "\n",
    "Idea:\n",
    "\n",
    "* Use binary search since the numbers are sorted and we are told whether to high or lower."
   ]
  },
  {
   "cell_type": "code",
   "execution_count": 5,
   "metadata": {},
   "outputs": [],
   "source": [
    "class Solution1:\n",
    "    def __init__(self):\n",
    "        self.number = 6\n",
    "        \n",
    "    def guess(self, n):\n",
    "        if n == self.number:\n",
    "            return 0\n",
    "        \n",
    "        return 1 if n < self.number else -1\n",
    "    \n",
    "    def guessNumber(self, n):\n",
    "        return self.binarySearch(1, n)\n",
    "    \n",
    "    def binarySearch(self, lo, hi):\n",
    "        while lo <= hi:\n",
    "            mid = (lo + hi) // 2\n",
    "            \n",
    "            if self.guess(mid) == 0:\n",
    "                return mid\n",
    "            \n",
    "            if self.guess(mid) == 1:\n",
    "                lo = mid + 1\n",
    "            else:\n",
    "                hi = mid - 1\n",
    "                \n",
    "        return None"
   ]
  },
  {
   "cell_type": "code",
   "execution_count": 6,
   "metadata": {},
   "outputs": [
    {
     "data": {
      "text/plain": [
       "6"
      ]
     },
     "execution_count": 6,
     "metadata": {},
     "output_type": "execute_result"
    }
   ],
   "source": [
    "s = Solution1()\n",
    "s.guessNumber(10)"
   ]
  },
  {
   "cell_type": "markdown",
   "metadata": {},
   "source": [
    "# 702. Search in a Sorted Array of Unknown Size"
   ]
  },
  {
   "cell_type": "markdown",
   "metadata": {},
   "source": [
    "**Solution 1: Brute Force - Linear Search**\n",
    "\n",
    "Time: `O(n)`\n",
    "\n",
    "Space: `o(1)`\n",
    "\n",
    "Idea:\n",
    "\n",
    "* Keep increasing the size of our seach by one until we find our target element.\n",
    "    \n",
    "**Solution 2: Binary Search**\n",
    "\n",
    "Time: `O(logn)`\n",
    "\n",
    "Space: `O(n)`\n",
    "\n",
    "Idea:\n",
    "\n",
    "* We don't know how big the array is. Keep expanding our seach size by 2x until our biggest element in the array is larger than our target.\n",
    "* We are expanding 2x every time because we want to keep our `log` search time instead of expanding one at a time."
   ]
  },
  {
   "cell_type": "code",
   "execution_count": 7,
   "metadata": {},
   "outputs": [],
   "source": [
    "class Solution1:\n",
    "    def search(self, reader, target):\n",
    "        \n",
    "        p = 0\n",
    "        \n",
    "        while reader.get(p) != target:\n",
    "            p += 1\n",
    "            \n",
    "        return p"
   ]
  },
  {
   "cell_type": "code",
   "execution_count": 8,
   "metadata": {},
   "outputs": [],
   "source": [
    "class Solution2:\n",
    "    def search(self, reader, target):\n",
    "        \"\"\"\n",
    "        :type reader: ArrayReader\n",
    "        :type target: int\n",
    "        :rtype: int\n",
    "        \"\"\"\n",
    "        lo = 0\n",
    "        hi = 1\n",
    "        \n",
    "        while reader.get(hi) < target:\n",
    "            lo = hi\n",
    "            hi *= 2\n",
    "            \n",
    "        while lo <= hi:\n",
    "            mid = (lo + hi) // 2\n",
    "            num = reader.get(mid)\n",
    "            \n",
    "            if num == target:\n",
    "                return mid\n",
    "            elif num < target:\n",
    "                lo = mid + 1\n",
    "            else:    \n",
    "                hi = mid - 1\n",
    "                \n",
    "        return -1"
   ]
  },
  {
   "cell_type": "markdown",
   "metadata": {},
   "source": [
    "# 704. Binary Search"
   ]
  },
  {
   "cell_type": "markdown",
   "metadata": {},
   "source": [
    "Time: `O(n)`\n",
    "\n",
    "Space: `O(1)`\n",
    "\n",
    "Idea:\n",
    "\n",
    "* The classic search where you use two pointers to bound your search to check if the middle element is the target"
   ]
  },
  {
   "cell_type": "code",
   "execution_count": 9,
   "metadata": {},
   "outputs": [],
   "source": [
    "class Solution1:\n",
    "    def binarySearch(self, nums, target):\n",
    "        lo = 0\n",
    "        hi = len(nums) - 1\n",
    "        \n",
    "        while lo <= hi:\n",
    "            mid = (lo + hi) // 2\n",
    "            num = nums[mid]\n",
    "            \n",
    "            if target == num:\n",
    "                return mid\n",
    "            \n",
    "            if num < target:\n",
    "                lo = mid + 1\n",
    "            else:\n",
    "                hi = mid - 1\n",
    "                \n",
    "        return -1"
   ]
  },
  {
   "cell_type": "code",
   "execution_count": 10,
   "metadata": {},
   "outputs": [
    {
     "data": {
      "text/plain": [
       "4"
      ]
     },
     "execution_count": 10,
     "metadata": {},
     "output_type": "execute_result"
    }
   ],
   "source": [
    "s1 = Solution1()\n",
    "nums = [-1,0,3,5,9,12]\n",
    "target = 9\n",
    "s1.binarySearch(nums, target)"
   ]
  },
  {
   "cell_type": "markdown",
   "metadata": {},
   "source": [
    "# Left Bound"
   ]
  },
  {
   "cell_type": "markdown",
   "metadata": {},
   "source": [
    "# 744. Find Smallest Letter Greater Than Target"
   ]
  },
  {
   "cell_type": "markdown",
   "metadata": {},
   "source": [
    "**Solution 1: Binary Search Left Bound**"
   ]
  },
  {
   "cell_type": "code",
   "execution_count": 12,
   "metadata": {},
   "outputs": [],
   "source": [
    "class Solution:\n",
    "    def nextGreatestCharacter(self, letters, target):\n",
    "        lo = 0\n",
    "        hi = len(letters)\n",
    "        \n",
    "        return self.binarySearch(lo, hi, letters, target)\n",
    "    \n",
    "    def binarySearch(self, lo, hi, letters, target):\n",
    "        while lo < hi:\n",
    "            mid = (lo + hi) // 2\n",
    "            letter = letters[mid]\n",
    "            \n",
    "            if letter > target:\n",
    "                hi = mid\n",
    "            else:\n",
    "                lo = mid + 1\n",
    "        \n",
    "        return letters[lo % len(letters)]"
   ]
  },
  {
   "cell_type": "code",
   "execution_count": 13,
   "metadata": {},
   "outputs": [
    {
     "data": {
      "text/plain": [
       "'c'"
      ]
     },
     "execution_count": 13,
     "metadata": {},
     "output_type": "execute_result"
    }
   ],
   "source": [
    "s1 = Solution()\n",
    "letters = [\"a\", \"c\", \"e\"]\n",
    "target = \"b\"\n",
    "s1.nextGreatestCharacter(letters, target)"
   ]
  },
  {
   "cell_type": "code",
   "execution_count": null,
   "metadata": {},
   "outputs": [],
   "source": []
  }
 ],
 "metadata": {
  "kernelspec": {
   "display_name": "Python 3",
   "language": "python",
   "name": "python3"
  },
  "language_info": {
   "codemirror_mode": {
    "name": "ipython",
    "version": 3
   },
   "file_extension": ".py",
   "mimetype": "text/x-python",
   "name": "python",
   "nbconvert_exporter": "python",
   "pygments_lexer": "ipython3",
   "version": "3.7.7"
  }
 },
 "nbformat": 4,
 "nbformat_minor": 2
}
