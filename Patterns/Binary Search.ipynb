{
 "cells": [
  {
   "cell_type": "markdown",
   "metadata": {},
   "source": [
    "# Binary Search"
   ]
  },
  {
   "cell_type": "markdown",
   "metadata": {},
   "source": [
    "* [69. Sqrt(x)](#69.-Sqrt(x))\n",
    "\n",
    "* [374. Guess Number Higher or Lower](#374.-Guess-Number-Higher-or-Lower)\n",
    "\n",
    "* [704. Binary Search](#704.-Binary-Search)"
   ]
  },
  {
   "cell_type": "markdown",
   "metadata": {},
   "source": [
    "# 69. Sqrt(x)"
   ]
  },
  {
   "cell_type": "markdown",
   "metadata": {},
   "source": [
    "**Solution 1: Binary Search**\n",
    "\n",
    "Time: `O(logn)`\n",
    "\n",
    "Space: `O(1)`\n",
    "\n",
    "Idea:\n",
    "\n",
    "* We are given some number `n` and we want to find the `floor` of the square root of the number.\n",
    "* Use binary search to find the square of the number since the seqence of numbers is ascending.\n",
    "\n",
    "**Solution 2: Brute Force - Linear**\n",
    "\n",
    "Time: `O(n)`\n",
    "\n",
    "Space: `O(1)`\n",
    "\n",
    "Idea:\n",
    "\n",
    "* Try every number to see if that number is the square root of `n`"
   ]
  },
  {
   "cell_type": "code",
   "execution_count": 17,
   "metadata": {},
   "outputs": [],
   "source": [
    "class Solution2:\n",
    "    def mySqrt(self, x):\n",
    "        if x < 2:\n",
    "            return x\n",
    "        \n",
    "        for i in range(x):\n",
    "            if i*i > x:\n",
    "                return i - 1\n",
    "            \n",
    "        return 1"
   ]
  },
  {
   "cell_type": "code",
   "execution_count": 19,
   "metadata": {},
   "outputs": [
    {
     "data": {
      "text/plain": [
       "2"
      ]
     },
     "execution_count": 19,
     "metadata": {},
     "output_type": "execute_result"
    }
   ],
   "source": [
    "s2 = Solution2()\n",
    "s2.mySqrt(8)"
   ]
  },
  {
   "cell_type": "code",
   "execution_count": 20,
   "metadata": {},
   "outputs": [],
   "source": [
    "class Solution1:\n",
    "    def mySqrt(self, x):\n",
    "        if x < 2:\n",
    "            return x\n",
    "        \n",
    "        return self.binarySearch(1, x)\n",
    "    \n",
    "    def binarySearch(self, lo, hi):\n",
    "        target = hi\n",
    "        \n",
    "        while lo <= hi:\n",
    "            mid = (lo + hi) // 2\n",
    "            sqr = mid * mid\n",
    "            \n",
    "            if sqr == target:\n",
    "                return mid\n",
    "            \n",
    "            if sqr > target:\n",
    "                hi = mid - 1\n",
    "            else:\n",
    "                lo = mid + 1\n",
    "                \n",
    "        return hi"
   ]
  },
  {
   "cell_type": "code",
   "execution_count": 22,
   "metadata": {},
   "outputs": [
    {
     "data": {
      "text/plain": [
       "2"
      ]
     },
     "execution_count": 22,
     "metadata": {},
     "output_type": "execute_result"
    }
   ],
   "source": [
    "s1 = Solution1()\n",
    "s1.mySqrt(8)"
   ]
  },
  {
   "cell_type": "markdown",
   "metadata": {},
   "source": [
    "# 374. Guess Number Higher or Lower\n",
    "\n",
    "Time: `O(logn)`\n",
    "\n",
    "Space: `O(1)`\n",
    "\n",
    "Idea:\n",
    "\n",
    "* Use binary search since the numbers are sorted and we are told whether to high or lower."
   ]
  },
  {
   "cell_type": "code",
   "execution_count": 13,
   "metadata": {},
   "outputs": [],
   "source": [
    "class Solution1:\n",
    "    def __init__(self):\n",
    "        self.number = 6\n",
    "        \n",
    "    def guess(self, n):\n",
    "        if n == self.number:\n",
    "            return 0\n",
    "        \n",
    "        return 1 if n < self.number else -1\n",
    "    \n",
    "    def guessNumber(self, n):\n",
    "        return self.binarySearch(1, n)\n",
    "    \n",
    "    def binarySearch(self, lo, hi):\n",
    "        while lo <= hi:\n",
    "            mid = (lo + hi) // 2\n",
    "            \n",
    "            if self.guess(mid) == 0:\n",
    "                return mid\n",
    "            \n",
    "            if self.guess(mid) == 1:\n",
    "                lo = mid + 1\n",
    "            else:\n",
    "                hi = mid - 1\n",
    "                \n",
    "        return None"
   ]
  },
  {
   "cell_type": "code",
   "execution_count": 14,
   "metadata": {},
   "outputs": [
    {
     "data": {
      "text/plain": [
       "6"
      ]
     },
     "execution_count": 14,
     "metadata": {},
     "output_type": "execute_result"
    }
   ],
   "source": [
    "s = Solution1()\n",
    "s.guessNumber(10)"
   ]
  },
  {
   "cell_type": "markdown",
   "metadata": {},
   "source": [
    "# 704. Binary Search"
   ]
  },
  {
   "cell_type": "markdown",
   "metadata": {},
   "source": [
    "Time: `O(n)`\n",
    "\n",
    "Space: `O(1)`\n",
    "\n",
    "Idea:\n",
    "\n",
    "* The classic search where you use two pointers to bound your search to check if the middle element is the target"
   ]
  },
  {
   "cell_type": "code",
   "execution_count": 29,
   "metadata": {},
   "outputs": [],
   "source": [
    "class Solution1:\n",
    "    def binarySearch(self, nums, target):\n",
    "        lo = 0\n",
    "        hi = len(nums) - 1\n",
    "        \n",
    "        while lo <= hi:\n",
    "            mid = (lo + hi) // 2\n",
    "            num = nums[mid]\n",
    "            \n",
    "            if target == num:\n",
    "                return mid\n",
    "            \n",
    "            if num < target:\n",
    "                lo = mid + 1\n",
    "            else:\n",
    "                hi = mid - 1\n",
    "                \n",
    "        return -1"
   ]
  },
  {
   "cell_type": "code",
   "execution_count": 30,
   "metadata": {},
   "outputs": [
    {
     "data": {
      "text/plain": [
       "4"
      ]
     },
     "execution_count": 30,
     "metadata": {},
     "output_type": "execute_result"
    }
   ],
   "source": [
    "s1 = Solution1()\n",
    "nums = [-1,0,3,5,9,12]\n",
    "target = 9\n",
    "s1.binarySearch(nums, target)"
   ]
  },
  {
   "cell_type": "code",
   "execution_count": null,
   "metadata": {},
   "outputs": [],
   "source": []
  }
 ],
 "metadata": {
  "kernelspec": {
   "display_name": "Python 3",
   "language": "python",
   "name": "python3"
  },
  "language_info": {
   "codemirror_mode": {
    "name": "ipython",
    "version": 3
   },
   "file_extension": ".py",
   "mimetype": "text/x-python",
   "name": "python",
   "nbconvert_exporter": "python",
   "pygments_lexer": "ipython3",
   "version": "3.7.7"
  }
 },
 "nbformat": 4,
 "nbformat_minor": 2
}
