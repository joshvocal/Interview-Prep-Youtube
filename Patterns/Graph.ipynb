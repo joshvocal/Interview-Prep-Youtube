{
 "cells": [
  {
   "cell_type": "markdown",
   "metadata": {},
   "source": [
    "# Graph"
   ]
  },
  {
   "cell_type": "markdown",
   "metadata": {},
   "source": [
    "* [997. Find the Town Judge](#997.-Find-the-Town-Judge)"
   ]
  },
  {
   "cell_type": "markdown",
   "metadata": {},
   "source": [
    "**Solution 1: Count Edges**\n",
    "\n",
    "Time: `O(n)` - We need to check every edge on the graph\n",
    "\n",
    "Space: `O(n)` - We are using two arrays to store how many edges are pointing to the node and how many are pointing out of it.\n",
    "\n",
    "Idea:\n",
    "\n",
    "[a, b] is a pair where `a` trusts `b`. A person who is the Town Judge has everyone trusting thems, but they trust no one\n",
    "\n",
    "* We need to find an index on both arrays where their trust count is `N - 1`, because every trusts them and where they don't trust anyone."
   ]
  },
  {
   "cell_type": "code",
   "execution_count": 2,
   "metadata": {},
   "outputs": [],
   "source": [
    "class Solution:\n",
    "    def findJudge(self, N: int, trust):\n",
    "        trusted = [0] * (N + 1)\n",
    "        trusts = [0] * (N + 1)\n",
    "            \n",
    "        for t in trust:\n",
    "            a = t[0]\n",
    "            b = t[1]\n",
    "            \n",
    "            trusted[b] += 1\n",
    "            trusts[a] += 1\n",
    "            \n",
    "        for i in range(1, N + 1):\n",
    "            if trusted[i] == N - 1 and trusts[i] == 0:\n",
    "                return i\n",
    "            \n",
    "        return -1"
   ]
  },
  {
   "cell_type": "code",
   "execution_count": null,
   "metadata": {},
   "outputs": [],
   "source": []
  }
 ],
 "metadata": {
  "kernelspec": {
   "display_name": "Python 3",
   "language": "python",
   "name": "python3"
  },
  "language_info": {
   "codemirror_mode": {
    "name": "ipython",
    "version": 3
   },
   "file_extension": ".py",
   "mimetype": "text/x-python",
   "name": "python",
   "nbconvert_exporter": "python",
   "pygments_lexer": "ipython3",
   "version": "3.7.7"
  }
 },
 "nbformat": 4,
 "nbformat_minor": 2
}
