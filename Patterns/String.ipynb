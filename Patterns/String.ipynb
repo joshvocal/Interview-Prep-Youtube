{
 "cells": [
  {
   "cell_type": "markdown",
   "metadata": {},
   "source": [
    "# String"
   ]
  },
  {
   "cell_type": "markdown",
   "metadata": {},
   "source": [
    "* [1451. Rearrange Words in a Sentence](#1451.-Rearrange-Words-in-a-Sentence)"
   ]
  },
  {
   "cell_type": "markdown",
   "metadata": {},
   "source": [
    "# 1451. Rearrange Words in a Sentence\n"
   ]
  },
  {
   "cell_type": "markdown",
   "metadata": {},
   "source": [
    "**Solution 1: HashMap**\n",
    "\n",
    "Time: `O(n*k)` - Loop through the entire hashmap + remove all the elements in the key value, `k`\n",
    "\n",
    "Space: `O(n)` - Store all the values in the string to the map\n",
    "\n",
    "Idea:\n",
    "\n",
    "* Use a HashMap to store the length of words in the sentence and have the values map to the words in order.\n",
    "* Loop through the HashMap, starting with the lowest value keys and keep popping the values in"
   ]
  },
  {
   "cell_type": "code",
   "execution_count": 4,
   "metadata": {},
   "outputs": [
    {
     "data": {
      "text/plain": [
       "'Is cool leetcode'"
      ]
     },
     "execution_count": 4,
     "metadata": {},
     "output_type": "execute_result"
    }
   ],
   "source": [
    "from collections import *\n",
    "\n",
    "class Solution:\n",
    "    def arrangeWords(self, text: str) -> str:\n",
    "        dic = defaultdict(list)\n",
    "        text = text.lower()\n",
    "        arr = text.split(\" \")\n",
    "        \n",
    "        for word in arr:\n",
    "            count = len(word)\n",
    "            dic[count].append(word)     \n",
    "            \n",
    "        temp = []\n",
    "        \n",
    "        for key in sorted(dic):\n",
    "            while dic[key]:\n",
    "                temp.append(dic[key].pop(0))\n",
    "                \n",
    "        res = \" \".join(temp)\n",
    "        \n",
    "        return res[0].upper() + res[1:] \n",
    "            \n",
    "        \n",
    "text = \"Leetcode is cool\"\n",
    "s = Solution()\n",
    "s.arrangeWords(text)"
   ]
  },
  {
   "cell_type": "code",
   "execution_count": null,
   "metadata": {},
   "outputs": [],
   "source": []
  }
 ],
 "metadata": {
  "kernelspec": {
   "display_name": "Python 3",
   "language": "python",
   "name": "python3"
  },
  "language_info": {
   "codemirror_mode": {
    "name": "ipython",
    "version": 3
   },
   "file_extension": ".py",
   "mimetype": "text/x-python",
   "name": "python",
   "nbconvert_exporter": "python",
   "pygments_lexer": "ipython3",
   "version": "3.7.7"
  }
 },
 "nbformat": 4,
 "nbformat_minor": 2
}
