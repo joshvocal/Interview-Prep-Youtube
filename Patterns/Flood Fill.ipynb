{
 "cells": [
  {
   "cell_type": "markdown",
   "metadata": {},
   "source": [
    "# Flood Fill\n",
    "\n",
    "⭐️= Important Base Algorithm\n",
    "\n",
    "* [130. Surrounded Regions](#130.-Surrounded-Regions)\n",
    "* [200. Number of Islands](#200.-Number-of-Islands)\n",
    "* [463. Island Perimeter](#463.-Island-Perimeter) ⭐️\n",
    "* [694. Number of Distinct Islands](#694.-Number-of-Distinct-Islands)\n",
    "* [695. Max Area of Island](#695.-Max-Area-of-Island)\n",
    "* [733. Flood Fill](#733.-Flood-Fill) ⭐️\n",
    "\n"
   ]
  },
  {
   "cell_type": "markdown",
   "metadata": {},
   "source": [
    "# 130. Surrounded Regions\n",
    "\n",
    "Idea:\n",
    "\n",
    "* Any \"O\" cell on the borders cannot be captured because they have to be surrounded in \"X\"\n",
    "* Use DFS to mark all the \"O\" in the boarder as not capturable with *\n",
    "* Any remaining \"O\" are capturable now\n",
    "* Loop through the entire graph and mark \"O\" -> \"X\" and \"*\" -> \"O\""
   ]
  },
  {
   "cell_type": "code",
   "execution_count": 1,
   "metadata": {},
   "outputs": [],
   "source": [
    "class Solution:\n",
    "    def solve(self, grid) -> None:\n",
    "        if not grid:\n",
    "            return\n",
    "        \n",
    "        rows = len(grid)\n",
    "        cols = len(grid[0])\n",
    "        \n",
    "        # Cells at the border cannot be captured, mark all of them to be\n",
    "        # not captured\n",
    "        \n",
    "        for j in range(cols):\n",
    "            self.dfs(0, j, rows, cols, grid)\n",
    "            self.dfs(rows - 1, j, rows, cols, grid)\n",
    "        for i in range(rows):\n",
    "            self.dfs(i, 0, rows, cols, grid)\n",
    "            self.dfs(i, cols - 1, rows, cols, grid)\n",
    "        \n",
    "        # Mark any remaining \"O\" to be captured\n",
    "        # Revert any uncaptureable \"*\" back to \"O\"\n",
    "        for i in range(rows):\n",
    "            for j in range(cols):\n",
    "                if grid[i][j] == \"O\":\n",
    "                    grid[i][j] = \"X\"\n",
    "                if grid[i][j] == \"*\":\n",
    "                    grid[i][j] = \"O\"\n",
    "                    \n",
    "        print(grid)\n",
    "                \n",
    "        \n",
    "            \n",
    "    def dfs(self, i, j, rows, cols, grid):\n",
    "        if i < 0 or i >= rows or j < 0 or j >= cols or grid[i][j] == \"*\":\n",
    "            return\n",
    "        \n",
    "        if grid[i][j] == \"X\":\n",
    "            return\n",
    "        \n",
    "        grid[i][j] = \"*\"\n",
    "        \n",
    "        self.dfs(i + 1, j, rows, cols, grid)\n",
    "        self.dfs(i - 1, j, rows, cols, grid)\n",
    "        self.dfs(i, j + 1, rows, cols, grid)\n",
    "        self.dfs(i, j - 1, rows, cols, grid)\n",
    "            \n",
    "        "
   ]
  },
  {
   "cell_type": "code",
   "execution_count": 2,
   "metadata": {},
   "outputs": [
    {
     "name": "stdout",
     "output_type": "stream",
     "text": [
      "[['X', 'X', 'X', 'X'], ['X', 'X', 'X', 'X'], ['X', 'X', 'X', 'X'], ['X', 'O', 'X', 'X']]\n"
     ]
    }
   ],
   "source": [
    "grid = [[\"X\",\"X\",\"X\",\"X\"],\n",
    "        [\"X\",\"O\",\"O\",\"X\"],\n",
    "        [\"X\",\"X\",\"O\",\"X\"],\n",
    "        [\"X\",\"O\",\"X\",\"X\"]]\n",
    "Solution().solve(grid)"
   ]
  },
  {
   "cell_type": "markdown",
   "metadata": {},
   "source": [
    "# 200. Number of Islands\n",
    "\n",
    "\n",
    "Idea:\n",
    "\n",
    "* Use the dfs/flood fill to mark all of the islands\n",
    "* Every time we mark an island, increase our count by 1\n",
    "* When there are no more 1's in the matrix, we are complete\n",
    "* Return the island count"
   ]
  },
  {
   "cell_type": "code",
   "execution_count": 3,
   "metadata": {},
   "outputs": [],
   "source": [
    "class Solution:\n",
    "    def numIslands(self, grid):\n",
    "        cnt = 0\n",
    "        \n",
    "        if not grid or not grid[0]:\n",
    "            return cnt\n",
    "        \n",
    "        rows = len(grid)\n",
    "        cols = len(grid[0])\n",
    "        \n",
    "        for i in range(rows):\n",
    "            for j in range(cols):\n",
    "                if grid[i][j] == \"1\":\n",
    "                    self.dfs(i, j, rows, cols, grid)\n",
    "                    # Increase the count of every island that we have visited\n",
    "                    cnt += 1\n",
    "                    \n",
    "        return cnt\n",
    "    \n",
    "    def dfs(self, i, j, rows, cols, grid):\n",
    "        if i < 0 or i >= rows or j < 0 or j >= cols or grid[i][j] == \"0\":\n",
    "            return\n",
    "        \n",
    "        grid[i][j] = \"0\"\n",
    "        \n",
    "        self.dfs(i + 1, j, rows, cols, grid)\n",
    "        self.dfs(i - 1, j, rows, cols, grid)\n",
    "        self.dfs(i, j + 1, rows, cols, grid)\n",
    "        self.dfs(i, j - 1, rows, cols, grid)\n",
    "    "
   ]
  },
  {
   "cell_type": "code",
   "execution_count": 4,
   "metadata": {},
   "outputs": [
    {
     "data": {
      "text/plain": [
       "1"
      ]
     },
     "execution_count": 4,
     "metadata": {},
     "output_type": "execute_result"
    }
   ],
   "source": [
    "grid = [[\"1\",\"1\",\"1\",\"1\",\"0\"],\n",
    "        [\"1\",\"1\",\"0\",\"1\",\"0\"],\n",
    "        [\"1\",\"1\",\"0\",\"0\",\"0\"],\n",
    "        [\"0\",\"0\",\"0\",\"0\",\"0\"]]\n",
    "\n",
    "Solution().numIslands(grid)"
   ]
  },
  {
   "cell_type": "markdown",
   "metadata": {},
   "source": [
    "# 463. Island Perimeter\n",
    "\n",
    "Idea:\n",
    "\n",
    "* ⭐️ Count the number of out of bound moves that we can make in a square\n",
    "* This is kinda the opposite idea of flood fill. Instead we are count the squares that are not what we want."
   ]
  },
  {
   "cell_type": "code",
   "execution_count": 5,
   "metadata": {},
   "outputs": [],
   "source": [
    "class Solution:\n",
    "    def islandPerimeter(self, grid):\n",
    "        cnt = 0\n",
    "        \n",
    "        if not grid or not grid[0]:\n",
    "            return cnt\n",
    "        \n",
    "        rows = len(grid)\n",
    "        cols = len(grid)\n",
    "        \n",
    "        for i in range(rows):\n",
    "            for j in range(cols):\n",
    "                if grid[i][j] == 1:\n",
    "                    cnt += self.dfs(i, j, rows, cols, grid)\n",
    "                    \n",
    "        return cnt\n",
    "    \n",
    "    def dfs(self, i, j, rows, cols, grid):\n",
    "        # We actually want to increase our count when we go out of bounds!\n",
    "        if i < 0 or i >= rows or j < 0 or j >= cols or grid[i][j] == 0:\n",
    "                return 1\n",
    "        \n",
    "        # Mark squares that we have visited before, avoid stack overflow\n",
    "        if grid[i][j] == -1:\n",
    "            return 0\n",
    "        \n",
    "        grid[i][j] = -1\n",
    "        \n",
    "        up = self.dfs(i + 1, j, rows, cols, grid)\n",
    "        down = self.dfs(i - 1, j, rows, cols, grid)\n",
    "        right = self.dfs(i, j + 1, rows, cols, grid)\n",
    "        left = self.dfs(i, j - 1, rows, cols, grid)\n",
    "        \n",
    "        # Return the perimeter of water/out of bounds a square is touching\n",
    "        return left + right + up + down"
   ]
  },
  {
   "cell_type": "code",
   "execution_count": 6,
   "metadata": {},
   "outputs": [
    {
     "data": {
      "text/plain": [
       "16"
      ]
     },
     "execution_count": 6,
     "metadata": {},
     "output_type": "execute_result"
    }
   ],
   "source": [
    "grid = [[0,1,0,0],[1,1,1,0],[0,1,0,0],[1,1,0,0]]\n",
    "Solution().islandPerimeter(grid)"
   ]
  },
  {
   "cell_type": "markdown",
   "metadata": {},
   "source": [
    "# 694. Number of Distinct Islands\n",
    "\n",
    "\n",
    "Idea:\n",
    "\n",
    "* ⭐️Use a set to keep track of the patterns used to traverse the island\n",
    "* Make sure to add the backtracking movement onto the list of moves taken"
   ]
  },
  {
   "cell_type": "code",
   "execution_count": 7,
   "metadata": {},
   "outputs": [],
   "source": [
    "class Solution:\n",
    "    def numDistinctIslands(self, grid):\n",
    "        cnt = 0\n",
    "        \n",
    "        if not grid or not grid[0]:\n",
    "            return cnt\n",
    "        \n",
    "        rows = len(grid)\n",
    "        cols = len(grid[0])\n",
    "        patterns = set()\n",
    "        \n",
    "        for i in range(rows):\n",
    "            for j in range(cols):\n",
    "                if grid[i][j] == 1:\n",
    "                    # Create a new pattern every time we visit a new island\n",
    "                    pattern = []\n",
    "                    self.dfs(i, j, rows, cols, grid, pattern, \"\")\n",
    "                    # Convert the list of movements into a string for the set\n",
    "                    # so that it is hashable\n",
    "                    patterns.add(\"\".join(pattern))\n",
    "                    \n",
    "        return len(patterns)\n",
    "    \n",
    "    def dfs(self, i, j, rows, cols, grid, pattern, p):\n",
    "        if i < 0 or i >= rows or j < 0 or j >= cols or grid[i][j] == 0:\n",
    "            return\n",
    "        \n",
    "        grid[i][j] = 0\n",
    "        pattern.append(p)\n",
    "        \n",
    "        self.dfs(i + 1, j, rows, cols, grid, pattern, \"u\")\n",
    "        self.dfs(i - 1, j, rows, cols, grid, pattern, \"d\")\n",
    "        self.dfs(i, j - 1, rows, cols, grid, pattern, \"l\")\n",
    "        self.dfs(i, j + 1, rows, cols, grid, pattern, \"r\")\n",
    "        \n",
    "        # After we complete all 4 movements, we backtrack\n",
    "        pattern.append(\"b\")"
   ]
  },
  {
   "cell_type": "code",
   "execution_count": 8,
   "metadata": {},
   "outputs": [
    {
     "data": {
      "text/plain": [
       "1"
      ]
     },
     "execution_count": 8,
     "metadata": {},
     "output_type": "execute_result"
    }
   ],
   "source": [
    "grid = [[1,1,0,0,0],\n",
    "        [1,1,0,0,0],\n",
    "        [0,0,0,1,1],\n",
    "        [0,0,0,1,1]]\n",
    "Solution().numDistinctIslands(grid)"
   ]
  },
  {
   "cell_type": "markdown",
   "metadata": {},
   "source": [
    "# 695. Max Area of Island\n",
    "\n",
    "Idea:\n",
    "\n",
    "* Keep track of each area of the island we visit\n",
    "* We can do this by the number of squares we visit on the island\n",
    "* After we visit a square on the island we return 1, summing up everything that we have visited\n",
    "* Every visit, check if the area is larger than our current biggest thtat we have visited\n",
    "\n",
    "⭐️Use backtracking to remember how many squares that we have visited"
   ]
  },
  {
   "cell_type": "code",
   "execution_count": 9,
   "metadata": {},
   "outputs": [],
   "source": [
    "class Solution:\n",
    "    def maxAreaOfIsland(self, grid) -> int:\n",
    "        biggest = 0\n",
    "        \n",
    "        if not grid or not grid[0]:\n",
    "            return biggest\n",
    "\n",
    "        height = len(grid)\n",
    "        width = len(grid[0])\n",
    "        \n",
    "        for x in range(height):\n",
    "            for y in range(width):\n",
    "                if grid[x][y] == 1:\n",
    "                    area = self.dfs(grid, x, y, height, width)\n",
    "                    biggest = max(biggest, area)\n",
    "\n",
    "        return biggest\n",
    "    \n",
    "    def dfs(self, matrix, x, y, height, width):\n",
    "        if x < 0 or y < 0 or x >= height or y >= width or matrix[x][y] == 0:\n",
    "            return 0\n",
    "\n",
    "        matrix[x][y] = 0\n",
    "        \n",
    "        right = self.dfs(matrix, x + 1, y, height, width)\n",
    "        down = self.dfs(matrix, x, y - 1, height, width)\n",
    "        left = self.dfs(matrix, x - 1, y, height, width)\n",
    "        up = self.dfs(matrix, x, y + 1, height, width)\n",
    "\n",
    "        return left + right + up + down + 1\n",
    "        "
   ]
  },
  {
   "cell_type": "code",
   "execution_count": 10,
   "metadata": {},
   "outputs": [
    {
     "data": {
      "text/plain": [
       "6"
      ]
     },
     "execution_count": 10,
     "metadata": {},
     "output_type": "execute_result"
    }
   ],
   "source": [
    "grid = [[0,0,1,0,0,0,0,1,0,0,0,0,0],\n",
    "        [0,0,0,0,0,0,0,1,1,1,0,0,0],\n",
    "        [0,1,1,0,1,0,0,0,0,0,0,0,0],\n",
    "        [0,1,0,0,1,1,0,0,1,0,1,0,0],\n",
    "        [0,1,0,0,1,1,0,0,1,1,1,0,0],\n",
    "        [0,0,0,0,0,0,0,0,0,0,1,0,0],\n",
    "        [0,0,0,0,0,0,0,1,1,1,0,0,0],\n",
    "        [0,0,0,0,0,0,0,1,1,0,0,0,0]]\n",
    "\n",
    "Solution().maxAreaOfIsland(grid)"
   ]
  },
  {
   "cell_type": "markdown",
   "metadata": {},
   "source": [
    "# 733. Flood Fill\n",
    "\n",
    "Idea:\n",
    "\n",
    "* Use DFS/Backtracking to mark all of the values we want to change in the matrix"
   ]
  },
  {
   "cell_type": "code",
   "execution_count": 11,
   "metadata": {},
   "outputs": [],
   "source": [
    "class Solution:\n",
    "    def floodFill(self, image, sr, sc, newColor):\n",
    "        visited = set()\n",
    "        self.dfs(image, sr, sc, newColor, image[sr][sc], visited)\n",
    "        return image\n",
    "    \n",
    "    def dfs(self, image, sr, sc, newColor, color, visited):\n",
    "        if sr < 0 or sr >= len(image) or sc < 0 or sc >= len(image[0]) or image[sr][sc] != color or (sr, sc) in visited:\n",
    "            return\n",
    "        \n",
    "        image[sr][sc] = newColor\n",
    "        visited.add((sr, sc))\n",
    "            \n",
    "        self.dfs(image, sr + 1, sc, newColor, color, visited)\n",
    "        self.dfs(image, sr - 1, sc, newColor, color, visited)\n",
    "        self.dfs(image, sr, sc + 1, newColor, color, visited)\n",
    "        self.dfs(image, sr, sc - 1, newColor, color, visited)\n",
    "        "
   ]
  },
  {
   "cell_type": "code",
   "execution_count": 12,
   "metadata": {},
   "outputs": [
    {
     "name": "stdout",
     "output_type": "stream",
     "text": [
      "[[2, 2, 2], [2, 2, 0], [2, 0, 1]]\n"
     ]
    }
   ],
   "source": [
    "image = [[1,1,1],\n",
    "         [1,1,0],\n",
    "         [1,0,1]]\n",
    "sr = 1\n",
    "sc = 1\n",
    "newColor = 2\n",
    "\n",
    "print(Solution().floodFill(image, sr, sc, newColor))"
   ]
  },
  {
   "cell_type": "code",
   "execution_count": null,
   "metadata": {},
   "outputs": [],
   "source": []
  },
  {
   "cell_type": "code",
   "execution_count": null,
   "metadata": {},
   "outputs": [],
   "source": []
  }
 ],
 "metadata": {
  "kernelspec": {
   "display_name": "Python 3",
   "language": "python",
   "name": "python3"
  },
  "language_info": {
   "codemirror_mode": {
    "name": "ipython",
    "version": 3
   },
   "file_extension": ".py",
   "mimetype": "text/x-python",
   "name": "python",
   "nbconvert_exporter": "python",
   "pygments_lexer": "ipython3",
   "version": "3.7.5"
  }
 },
 "nbformat": 4,
 "nbformat_minor": 2
}
