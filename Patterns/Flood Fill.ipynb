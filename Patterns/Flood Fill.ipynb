{
 "cells": [
  {
   "cell_type": "markdown",
   "metadata": {},
   "source": [
    "# Flood Fill"
   ]
  },
  {
   "cell_type": "markdown",
   "metadata": {},
   "source": [
    "# 733. Flood Fill"
   ]
  },
  {
   "cell_type": "code",
   "execution_count": 2,
   "metadata": {},
   "outputs": [],
   "source": [
    "class Solution:\n",
    "    def floodFill(self, image, sr, sc, newColor):\n",
    "        visited = set()\n",
    "        self.dfs(image, sr, sc, newColor, image[sr][sc], visited)\n",
    "        return image\n",
    "    \n",
    "    def dfs(self, image, sr, sc, newColor, color, visited):\n",
    "        if sr < 0 or sr >= len(image) or sc < 0 or sc >= len(image[0]) or image[sr][sc] != color or (sr, sc) in visited:\n",
    "            return\n",
    "        \n",
    "        image[sr][sc] = newColor\n",
    "        visited.add((sr, sc))\n",
    "            \n",
    "        self.dfs(image, sr + 1, sc, newColor, color, visited)\n",
    "        self.dfs(image, sr - 1, sc, newColor, color, visited)\n",
    "        self.dfs(image, sr, sc + 1, newColor, color, visited)\n",
    "        self.dfs(image, sr, sc - 1, newColor, color, visited)\n",
    "        "
   ]
  },
  {
   "cell_type": "code",
   "execution_count": 4,
   "metadata": {},
   "outputs": [
    {
     "name": "stdout",
     "output_type": "stream",
     "text": [
      "[[2, 2, 2], [2, 2, 0], [2, 0, 1]]\n"
     ]
    }
   ],
   "source": [
    "image = [[1,1,1],\n",
    "         [1,1,0],\n",
    "         [1,0,1]]\n",
    "sr = 1\n",
    "sc = 1\n",
    "newColor = 2\n",
    "\n",
    "print(Solution().floodFill(image, sr, sc, newColor))"
   ]
  },
  {
   "cell_type": "code",
   "execution_count": null,
   "metadata": {},
   "outputs": [],
   "source": []
  }
 ],
 "metadata": {
  "kernelspec": {
   "display_name": "Python 3",
   "language": "python",
   "name": "python3"
  },
  "language_info": {
   "codemirror_mode": {
    "name": "ipython",
    "version": 3
   },
   "file_extension": ".py",
   "mimetype": "text/x-python",
   "name": "python",
   "nbconvert_exporter": "python",
   "pygments_lexer": "ipython3",
   "version": "3.7.5"
  }
 },
 "nbformat": 4,
 "nbformat_minor": 2
}
