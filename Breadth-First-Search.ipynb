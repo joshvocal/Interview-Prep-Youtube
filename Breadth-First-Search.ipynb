{
 "cells": [
  {
   "cell_type": "code",
   "execution_count": 1,
   "metadata": {},
   "outputs": [],
   "source": [
    "from binarytree import tree"
   ]
  },
  {
   "cell_type": "code",
   "execution_count": 2,
   "metadata": {},
   "outputs": [
    {
     "name": "stdout",
     "output_type": "stream",
     "text": [
      "\n",
      "    __3__\n",
      "   /     \\\n",
      "  6       0\n",
      " / \\     / \\\n",
      "2   4   5   1\n",
      "\n"
     ]
    }
   ],
   "source": [
    "my_tree = tree(height=2, is_perfect=True)\n",
    "print(my_tree)"
   ]
  },
  {
   "cell_type": "markdown",
   "metadata": {},
   "source": [
    "[513. Find Bottom Left Tree Value](#513.-Find-Bottom-Left-Tree-Value)\n",
    "\n",
    "[107. Binary Tree Level Order Traversal II](#107.-Binary-Tree-Level-Order-Traversal-II)\n",
    "\n",
    "[1161. Maximum Level of a Binary Tree](#1161.-Maximum-Level-of-a-Binary-Tree)"
   ]
  },
  {
   "cell_type": "markdown",
   "metadata": {},
   "source": [
    "# Breadth First Search"
   ]
  },
  {
   "cell_type": "code",
   "execution_count": 9,
   "metadata": {},
   "outputs": [
    {
     "name": "stdout",
     "output_type": "stream",
     "text": [
      "\n",
      "    __3__\n",
      "   /     \\\n",
      "  6       0\n",
      " / \\     / \\\n",
      "2   4   5   1\n",
      "\n"
     ]
    },
    {
     "data": {
      "text/plain": [
       "[3, 6, 0, 2, 4, 5, 1]"
      ]
     },
     "execution_count": 9,
     "metadata": {},
     "output_type": "execute_result"
    }
   ],
   "source": [
    "def bfs(root):\n",
    "    output = []\n",
    "    \n",
    "    if not root:\n",
    "        return output\n",
    "    \n",
    "    queue = [root]\n",
    "    \n",
    "    while queue:\n",
    "        curr = queue.pop(0)\n",
    "        output.append(curr.value)\n",
    "        \n",
    "        if curr.left:\n",
    "            queue.append(curr.left)\n",
    "        if curr.right:\n",
    "            queue.append(curr.right)\n",
    "            \n",
    "    return output\n",
    "\n",
    "print(my_tree)\n",
    "bfs(my_tree)"
   ]
  },
  {
   "cell_type": "markdown",
   "metadata": {},
   "source": [
    "# 513. Find Bottom Left Tree Value\n",
    "\n",
    "Given a binary tree, find the leftmost value in the last row of the tree."
   ]
  },
  {
   "cell_type": "code",
   "execution_count": 4,
   "metadata": {},
   "outputs": [
    {
     "name": "stdout",
     "output_type": "stream",
     "text": [
      "\n",
      "    __3__\n",
      "   /     \\\n",
      "  6       0\n",
      " / \\     / \\\n",
      "2   4   5   1\n",
      "\n"
     ]
    },
    {
     "data": {
      "text/plain": [
       "2"
      ]
     },
     "execution_count": 4,
     "metadata": {},
     "output_type": "execute_result"
    }
   ],
   "source": [
    "def find_bottom_left_value(root):\n",
    "    if not root:\n",
    "        return None\n",
    "    \n",
    "    queue = [root]\n",
    "    \n",
    "    while queue:\n",
    "        curr = queue.pop(0)\n",
    "        \n",
    "        if curr.right:\n",
    "            queue.append(curr.right)\n",
    "        if curr.left:\n",
    "            queue.append(curr.left)\n",
    "            \n",
    "    return curr.value\n",
    "\n",
    "print(my_tree)\n",
    "find_bottom_left_value(my_tree)"
   ]
  },
  {
   "cell_type": "markdown",
   "metadata": {},
   "source": [
    "# N-ary Breadth First Search"
   ]
  },
  {
   "cell_type": "code",
   "execution_count": 5,
   "metadata": {},
   "outputs": [],
   "source": [
    "def n_ary_bfs(root):\n",
    "    output = []\n",
    "    \n",
    "    if not root:\n",
    "        return output\n",
    "    \n",
    "    queue = [root]\n",
    "    \n",
    "    while queue:\n",
    "        curr = queue.pop(0)\n",
    "        output.append(curr.value)\n",
    "        \n",
    "        for child in curr.children:\n",
    "            queue.append(child)\n",
    "            \n",
    "    return output"
   ]
  },
  {
   "cell_type": "markdown",
   "metadata": {},
   "source": [
    "# 102: Binary Level Order Traversal\n",
    "\n",
    "Given a binary tree, return the level order traversal of its nodes' values. (ie, from left to right, level by level)."
   ]
  },
  {
   "cell_type": "code",
   "execution_count": 6,
   "metadata": {},
   "outputs": [
    {
     "name": "stdout",
     "output_type": "stream",
     "text": [
      "\n",
      "    __3__\n",
      "   /     \\\n",
      "  6       0\n",
      " / \\     / \\\n",
      "2   4   5   1\n",
      "\n"
     ]
    },
    {
     "data": {
      "text/plain": [
       "[[3], [6, 0], [2, 4, 5, 1]]"
      ]
     },
     "execution_count": 6,
     "metadata": {},
     "output_type": "execute_result"
    }
   ],
   "source": [
    "def level_order_traversal(root):\n",
    "    output = []\n",
    "    \n",
    "    if not root:\n",
    "        return output\n",
    "    \n",
    "    queue = [root]\n",
    "    \n",
    "    while queue:\n",
    "        level = []\n",
    "        for i in range(len(queue)):\n",
    "            curr = queue.pop(0)\n",
    "            level.append(curr.value)\n",
    "            \n",
    "            if curr.left:\n",
    "                queue.append(curr.left)\n",
    "            if curr.right:\n",
    "                queue.append(curr.right)\n",
    "                \n",
    "        output.append(level)\n",
    "        \n",
    "    return output\n",
    "\n",
    "print(my_tree)\n",
    "level_order_traversal(my_tree)"
   ]
  },
  {
   "cell_type": "markdown",
   "metadata": {},
   "source": [
    "# 107. Binary Tree Level Order Traversal II\n",
    "\n",
    "Given a binary tree, return the bottom-up level order traversal of its nodes' values. (ie, from left to right, level by level from leaf to root)."
   ]
  },
  {
   "cell_type": "code",
   "execution_count": 7,
   "metadata": {},
   "outputs": [
    {
     "name": "stdout",
     "output_type": "stream",
     "text": [
      "\n",
      "    __3__\n",
      "   /     \\\n",
      "  6       0\n",
      " / \\     / \\\n",
      "2   4   5   1\n",
      "\n"
     ]
    },
    {
     "data": {
      "text/plain": [
       "[[2, 4, 5, 1], [6, 0], [3]]"
      ]
     },
     "execution_count": 7,
     "metadata": {},
     "output_type": "execute_result"
    }
   ],
   "source": [
    "def level_order_bottom(root):\n",
    "    output = []\n",
    "    \n",
    "    if not root:\n",
    "        return output\n",
    "    \n",
    "    queue = [root]\n",
    "    \n",
    "    while queue:\n",
    "        level = []\n",
    "        for i in range(len(queue)):\n",
    "            curr = queue.pop(0)\n",
    "            level.append(curr.value)\n",
    "            \n",
    "            if curr.left:\n",
    "                queue.append(curr.left)\n",
    "            if curr.right:\n",
    "                queue.append(curr.right)\n",
    "                \n",
    "        output.insert(0, level)\n",
    "            \n",
    "    return output\n",
    "\n",
    "print(my_tree)\n",
    "level_order_bottom(my_tree)"
   ]
  },
  {
   "cell_type": "markdown",
   "metadata": {},
   "source": [
    "# 1161. Maximum Level of a Binary Tree\n",
    "\n",
    "Given the root of a binary tree, the level of its root is 1, the level of its children is 2, and so on.\n",
    "\n",
    "Return the smallest level X such that the sum of all the values of nodes at level X is maximal."
   ]
  },
  {
   "cell_type": "code",
   "execution_count": 8,
   "metadata": {},
   "outputs": [
    {
     "name": "stdout",
     "output_type": "stream",
     "text": [
      "\n",
      "    __3__\n",
      "   /     \\\n",
      "  6       0\n",
      " / \\     / \\\n",
      "2   4   5   1\n",
      "\n"
     ]
    },
    {
     "data": {
      "text/plain": [
       "3"
      ]
     },
     "execution_count": 8,
     "metadata": {},
     "output_type": "execute_result"
    }
   ],
   "source": [
    "def max_level_sum(root):\n",
    "    if not root:\n",
    "        return None\n",
    "\n",
    "    max_level = 1\n",
    "    curr_level = 1\n",
    "    curr_val = -float('inf')\n",
    "\n",
    "    queue = [root]\n",
    "\n",
    "    while queue:\n",
    "        level = []\n",
    "        for i in range(len(queue)):\n",
    "            curr = queue.pop(0)\n",
    "            level.append(curr.value)\n",
    "\n",
    "            if curr.left:\n",
    "                queue.append(curr.left)\n",
    "            if curr.right:\n",
    "                queue.append(curr.right)\n",
    "\n",
    "        if sum(level) > curr_val:\n",
    "            curr_val = sum(level)\n",
    "            max_level = curr_level\n",
    "\n",
    "        curr_level += 1\n",
    "        \n",
    "    return max_level\n",
    "            \n",
    "print(my_tree)\n",
    "max_level_sum(my_tree)"
   ]
  },
  {
   "cell_type": "markdown",
   "metadata": {},
   "source": [
    "# Hello"
   ]
  },
  {
   "cell_type": "code",
   "execution_count": null,
   "metadata": {},
   "outputs": [],
   "source": []
  }
 ],
 "metadata": {
  "kernelspec": {
   "display_name": "Python 3",
   "language": "python",
   "name": "python3"
  },
  "language_info": {
   "codemirror_mode": {
    "name": "ipython",
    "version": 3
   },
   "file_extension": ".py",
   "mimetype": "text/x-python",
   "name": "python",
   "nbconvert_exporter": "python",
   "pygments_lexer": "ipython3",
   "version": "3.7.2"
  }
 },
 "nbformat": 4,
 "nbformat_minor": 2
}
