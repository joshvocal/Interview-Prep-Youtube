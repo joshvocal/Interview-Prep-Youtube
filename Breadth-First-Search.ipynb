{
 "cells": [
  {
   "cell_type": "code",
   "execution_count": 1,
   "metadata": {},
   "outputs": [],
   "source": [
    "from binarytree import tree"
   ]
  },
  {
   "cell_type": "code",
   "execution_count": 2,
   "metadata": {},
   "outputs": [
    {
     "name": "stdout",
     "output_type": "stream",
     "text": [
      "\n",
      "    __2__\n",
      "   /     \\\n",
      "  3       0\n",
      " / \\     / \\\n",
      "6   1   4   5\n",
      "\n"
     ]
    }
   ],
   "source": [
    "my_tree = tree(height=2, is_perfect=True)\n",
    "print(my_tree)"
   ]
  },
  {
   "cell_type": "markdown",
   "metadata": {},
   "source": [
    "## There are two types of BFS questions:\n",
    "* Tree\n",
    "* Graph"
   ]
  },
  {
   "cell_type": "markdown",
   "metadata": {},
   "source": [
    "# Appendix\n",
    "\n",
    "[513. Find Bottom Left Tree Value](#513.-Find-Bottom-Left-Tree-Value)\n",
    "\n",
    "[107. Binary Tree Level Order Traversal II](#107.-Binary-Tree-Level-Order-Traversal-II)\n",
    "\n",
    "[1161. Maximum Level of a Binary Tree](#1161.-Maximum-Level-of-a-Binary-Tree)"
   ]
  },
  {
   "cell_type": "markdown",
   "metadata": {},
   "source": [
    "# Breadth First Search"
   ]
  },
  {
   "cell_type": "code",
   "execution_count": 3,
   "metadata": {},
   "outputs": [
    {
     "name": "stdout",
     "output_type": "stream",
     "text": [
      "\n",
      "    __2__\n",
      "   /     \\\n",
      "  3       0\n",
      " / \\     / \\\n",
      "6   1   4   5\n",
      "\n",
      "BFS:  [2, 3, 0, 6, 1, 4, 5]\n"
     ]
    }
   ],
   "source": [
    "def bfs(root):\n",
    "    output = []\n",
    "    \n",
    "    if not root:\n",
    "        return output\n",
    "    \n",
    "    queue = [root]\n",
    "    \n",
    "    while queue:\n",
    "        curr = queue.pop(0)\n",
    "        output.append(curr.value)\n",
    "        \n",
    "        if curr.left:\n",
    "            queue.append(curr.left)\n",
    "        if curr.right:\n",
    "            queue.append(curr.right)\n",
    "            \n",
    "    return output\n",
    "\n",
    "print(my_tree)\n",
    "print(\"BFS: \", bfs(my_tree))"
   ]
  },
  {
   "cell_type": "markdown",
   "metadata": {},
   "source": [
    "# 513. Find Bottom Left Tree Value\n",
    "\n",
    "Given a binary tree, find the leftmost value in the last row of the tree."
   ]
  },
  {
   "cell_type": "code",
   "execution_count": 4,
   "metadata": {},
   "outputs": [
    {
     "name": "stdout",
     "output_type": "stream",
     "text": [
      "\n",
      "    __2__\n",
      "   /     \\\n",
      "  3       0\n",
      " / \\     / \\\n",
      "6   1   4   5\n",
      "\n",
      "Bottom Left Value:  6\n"
     ]
    }
   ],
   "source": [
    "def find_bottom_left_value(root):\n",
    "    if not root:\n",
    "        return None\n",
    "    \n",
    "    queue = [root]\n",
    "    \n",
    "    while queue:\n",
    "        curr = queue.pop(0)\n",
    "        \n",
    "        if curr.right:\n",
    "            queue.append(curr.right)\n",
    "        if curr.left:\n",
    "            queue.append(curr.left)\n",
    "            \n",
    "    return curr.value\n",
    "\n",
    "print(my_tree)\n",
    "print(\"Bottom Left Value: \", find_bottom_left_value(my_tree))"
   ]
  },
  {
   "cell_type": "markdown",
   "metadata": {},
   "source": [
    "# N-ary Breadth First Search"
   ]
  },
  {
   "cell_type": "code",
   "execution_count": 5,
   "metadata": {},
   "outputs": [],
   "source": [
    "def n_ary_bfs(root):\n",
    "    output = []\n",
    "    \n",
    "    if not root:\n",
    "        return output\n",
    "    \n",
    "    queue = [root]\n",
    "    \n",
    "    while queue:\n",
    "        curr = queue.pop(0)\n",
    "        output.append(curr.value)\n",
    "        \n",
    "        for child in curr.children:\n",
    "            queue.append(child)\n",
    "            \n",
    "    return output"
   ]
  },
  {
   "cell_type": "markdown",
   "metadata": {},
   "source": [
    "# 102: Binary Level Order Traversal\n",
    "\n",
    "Given a binary tree, return the level order traversal of its nodes' values. (ie, from left to right, level by level)."
   ]
  },
  {
   "cell_type": "code",
   "execution_count": 6,
   "metadata": {},
   "outputs": [
    {
     "name": "stdout",
     "output_type": "stream",
     "text": [
      "\n",
      "    __2__\n",
      "   /     \\\n",
      "  3       0\n",
      " / \\     / \\\n",
      "6   1   4   5\n",
      "\n",
      "Levels:  [[2], [3, 0], [6, 1, 4, 5]]\n"
     ]
    }
   ],
   "source": [
    "def level_order_traversal(root):\n",
    "    output = []\n",
    "    \n",
    "    if not root:\n",
    "        return output\n",
    "    \n",
    "    queue = [root]\n",
    "    \n",
    "    while queue:\n",
    "        level = []\n",
    "        for i in range(len(queue)):\n",
    "            curr = queue.pop(0)\n",
    "            level.append(curr.value)\n",
    "            \n",
    "            if curr.left:\n",
    "                queue.append(curr.left)\n",
    "            if curr.right:\n",
    "                queue.append(curr.right)\n",
    "                \n",
    "        output.append(level)\n",
    "        \n",
    "    return output\n",
    "\n",
    "print(my_tree)\n",
    "print(\"Levels: \", level_order_traversal(my_tree))"
   ]
  },
  {
   "cell_type": "markdown",
   "metadata": {},
   "source": [
    "# 107. Binary Tree Level Order Traversal II\n",
    "\n",
    "Given a binary tree, return the bottom-up level order traversal of its nodes' values. (ie, from left to right, level by level from leaf to root)."
   ]
  },
  {
   "cell_type": "code",
   "execution_count": 7,
   "metadata": {},
   "outputs": [
    {
     "name": "stdout",
     "output_type": "stream",
     "text": [
      "\n",
      "    __2__\n",
      "   /     \\\n",
      "  3       0\n",
      " / \\     / \\\n",
      "6   1   4   5\n",
      "\n",
      "Reverse Levels:  [[6, 1, 4, 5], [3, 0], [2]]\n"
     ]
    }
   ],
   "source": [
    "def level_order_bottom(root):\n",
    "    output = []\n",
    "    \n",
    "    if not root:\n",
    "        return output\n",
    "    \n",
    "    queue = [root]\n",
    "    \n",
    "    while queue:\n",
    "        level = []\n",
    "        for i in range(len(queue)):\n",
    "            curr = queue.pop(0)\n",
    "            level.append(curr.value)\n",
    "            \n",
    "            if curr.left:\n",
    "                queue.append(curr.left)\n",
    "            if curr.right:\n",
    "                queue.append(curr.right)\n",
    "                \n",
    "        output.insert(0, level)\n",
    "            \n",
    "    return output\n",
    "\n",
    "print(my_tree)\n",
    "print(\"Reverse Levels: \", level_order_bottom(my_tree))"
   ]
  },
  {
   "cell_type": "markdown",
   "metadata": {},
   "source": [
    "# 1161. Maximum Level of a Binary Tree\n",
    "\n",
    "Given the root of a binary tree, the level of its root is 1, the level of its children is 2, and so on.\n",
    "\n",
    "Return the smallest level X such that the sum of all the values of nodes at level X is maximal."
   ]
  },
  {
   "cell_type": "code",
   "execution_count": 8,
   "metadata": {},
   "outputs": [
    {
     "name": "stdout",
     "output_type": "stream",
     "text": [
      "\n",
      "    __2__\n",
      "   /     \\\n",
      "  3       0\n",
      " / \\     / \\\n",
      "6   1   4   5\n",
      "\n",
      "Max Level:  3\n"
     ]
    }
   ],
   "source": [
    "def max_level_sum(root):\n",
    "    if not root:\n",
    "        return None\n",
    "\n",
    "    max_level = 1\n",
    "    curr_level = 1\n",
    "    curr_val = -float('inf')\n",
    "\n",
    "    queue = [root]\n",
    "\n",
    "    while queue:\n",
    "        level = []\n",
    "        for i in range(len(queue)):\n",
    "            curr = queue.pop(0)\n",
    "            level.append(curr.value)\n",
    "\n",
    "            if curr.left:\n",
    "                queue.append(curr.left)\n",
    "            if curr.right:\n",
    "                queue.append(curr.right)\n",
    "\n",
    "        if sum(level) > curr_val:\n",
    "            curr_val = sum(level)\n",
    "            max_level = curr_level\n",
    "\n",
    "        curr_level += 1\n",
    "        \n",
    "    return max_level\n",
    "            \n",
    "print(my_tree)\n",
    "print(\"Max Level: \", max_level_sum(my_tree))"
   ]
  },
  {
   "cell_type": "markdown",
   "metadata": {},
   "source": [
    "# 199. Binary Tree Right Side View\n",
    "\n",
    "Given a binary tree, imagine yourself standing on the right side of it, return the values of the nodes you can see ordered from top to bottom."
   ]
  },
  {
   "cell_type": "code",
   "execution_count": 9,
   "metadata": {},
   "outputs": [
    {
     "name": "stdout",
     "output_type": "stream",
     "text": [
      "\n",
      "    __2__\n",
      "   /     \\\n",
      "  3       0\n",
      " / \\     / \\\n",
      "6   1   4   5\n",
      "\n",
      "Right Side View:  [2, 0, 5]\n"
     ]
    }
   ],
   "source": [
    "def right_side_view(root):\n",
    "    out = []\n",
    "    \n",
    "    if not root:\n",
    "        return out\n",
    "    \n",
    "    queue = [root]\n",
    "    \n",
    "    while queue:\n",
    "        size = len(queue)\n",
    "        \n",
    "        for i in range(size):\n",
    "            curr = queue.pop(0)\n",
    "            if i == size - 1:\n",
    "                out.append(curr.value)\n",
    "                \n",
    "            if curr.left:\n",
    "                queue.append(curr.left)\n",
    "            if curr.right:\n",
    "                queue.append(curr.right)\n",
    "                \n",
    "                \n",
    "    return out\n",
    "\n",
    "print(my_tree)\n",
    "print(\"Right Side View: \", right_side_view(my_tree))"
   ]
  },
  {
   "cell_type": "markdown",
   "metadata": {},
   "source": [
    "# 1091. Shortest Path in Binary Matrix\n",
    "\n",
    "In an N by N square grid, each cell is either empty (0) or blocked (1).\n",
    "\n",
    "A clear path from top-left to bottom-right has length k if and only if it is composed of cells C_1, C_2, ..., C_k such that:\n",
    "\n",
    "Adjacent cells C_i and C_{i+1} are connected 8-directionally (ie., they are different and share an edge or corner)\n",
    "C_1 is at location (0, 0) (ie. has value grid[0][0])\n",
    "C_k is at location (N-1, N-1) (ie. has value grid[N-1][N-1])\n",
    "If C_i is located at (r, c), then grid[r][c] is empty (ie. grid[r][c] == 0).\n",
    "Return the length of the shortest such clear path from top-left to bottom-right.  If such a path does not exist, return -1."
   ]
  },
  {
   "cell_type": "code",
   "execution_count": 17,
   "metadata": {},
   "outputs": [
    {
     "data": {
      "text/plain": [
       "4"
      ]
     },
     "execution_count": 17,
     "metadata": {},
     "output_type": "execute_result"
    }
   ],
   "source": [
    "def shortest_path_binary_matrix(grid):\n",
    "    if not grid or grid[0][0] == 1:\n",
    "        return -1\n",
    "    \n",
    "    queue = [(0,0,1)]\n",
    "    rows = len(grid)\n",
    "    cols = len(grid[0])\n",
    "    visited = set()\n",
    "    dirs = [(-1,0),(-1,-1),(1,0),(1,1),(0,1),(1,-1),(0,-1),(-1,-1)]\n",
    "    \n",
    "    while queue:\n",
    "        crow, ccol, d = queue.pop(0)\n",
    "        \n",
    "        if (crow, ccol) == (rows - 1, cols - 1):\n",
    "            return d\n",
    "        \n",
    "        for x, y in dirs:\n",
    "            row = crow + x\n",
    "            col = ccol + y\n",
    "            \n",
    "            if row >= 0 and row < rows and \\\n",
    "                col >= 0 and col < cols and \\\n",
    "                grid[row][col] == 0 and (row, col) not in visited:\n",
    "                visited.add((row, col))\n",
    "                queue.append((row, col, d + 1))\n",
    "    \n",
    "    \n",
    "grid = [[0,0,0],\n",
    "        [1,1,0],\n",
    "        [1,1,0]]\n",
    "shortest_path_binary_matrix(grid)"
   ]
  },
  {
   "cell_type": "code",
   "execution_count": null,
   "metadata": {},
   "outputs": [],
   "source": []
  }
 ],
 "metadata": {
  "kernelspec": {
   "display_name": "Python 3",
   "language": "python",
   "name": "python3"
  },
  "language_info": {
   "codemirror_mode": {
    "name": "ipython",
    "version": 3
   },
   "file_extension": ".py",
   "mimetype": "text/x-python",
   "name": "python",
   "nbconvert_exporter": "python",
   "pygments_lexer": "ipython3",
   "version": "3.7.2"
  }
 },
 "nbformat": 4,
 "nbformat_minor": 2
}
