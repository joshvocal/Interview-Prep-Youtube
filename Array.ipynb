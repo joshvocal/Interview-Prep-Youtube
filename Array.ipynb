{
 "cells": [
  {
   "cell_type": "markdown",
   "metadata": {},
   "source": [
    "# 1243. Array Transformation\n",
    "\n",
    "Given an initial array arr, every day you produce a new array using the array of the previous day.\n",
    "\n",
    "On the i-th day, you do the following operations on the array of day i-1 to produce the array of day i:\n",
    "\n",
    "If an element is smaller than both its left neighbor and its right neighbor, then this element is incremented.\n",
    "If an element is bigger than both its left neighbor and its right neighbor, then this element is decremented.\n",
    "The first and last elements never change.\n",
    "After some days, the array does not change. Return that final array."
   ]
  },
  {
   "cell_type": "markdown",
   "metadata": {},
   "source": [
    "## Idea:\n",
    "\n",
    "* Thought I had to modify the current array instead of creating a new array. That got my stuck for a bit. I was modifying the original array in place before."
   ]
  },
  {
   "cell_type": "code",
   "execution_count": 6,
   "metadata": {},
   "outputs": [
    {
     "name": "stdout",
     "output_type": "stream",
     "text": [
      "[2, 2, 1, 1, 1, 2, 2, 1]\n"
     ]
    }
   ],
   "source": [
    "def transformArray(arr):\n",
    "    if len(arr) < 3:\n",
    "        return arr\n",
    "\n",
    "    new = list(arr)\n",
    "    changed = True\n",
    "\n",
    "    while changed:\n",
    "        changed = False\n",
    "\n",
    "        # Start at index 1 til n - 1 of arr\n",
    "        # We never modify 0 and n positions\n",
    "        for i in range(1, len(arr) - 1):\n",
    "            if arr[i - 1] < arr[i] and arr[i] > arr[i + 1]:\n",
    "                new[i] = arr[i] - 1\n",
    "                changed = True\n",
    "            elif arr[i - 1] > arr[i] and arr[i] < arr[i + 1]:\n",
    "                new[i] = arr[i] + 1\n",
    "                changed = True\n",
    "\n",
    "        arr = list(new)\n",
    "\n",
    "    return new\n",
    "        \n",
    "\n",
    "arr = [2,1,2,1,1,2,2,1]\n",
    "print(transformArray(arr))"
   ]
  },
  {
   "cell_type": "code",
   "execution_count": null,
   "metadata": {},
   "outputs": [],
   "source": []
  }
 ],
 "metadata": {
  "kernelspec": {
   "display_name": "Python 3",
   "language": "python",
   "name": "python3"
  },
  "language_info": {
   "codemirror_mode": {
    "name": "ipython",
    "version": 3
   },
   "file_extension": ".py",
   "mimetype": "text/x-python",
   "name": "python",
   "nbconvert_exporter": "python",
   "pygments_lexer": "ipython3",
   "version": "3.7.5"
  }
 },
 "nbformat": 4,
 "nbformat_minor": 2
}
