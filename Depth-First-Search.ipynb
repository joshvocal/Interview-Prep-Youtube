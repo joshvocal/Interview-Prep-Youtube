{
 "cells": [
  {
   "cell_type": "markdown",
   "metadata": {},
   "source": [
    "# 104. Maximum Depth of Binary Tree\n",
    "\n",
    "Given a binary tree, find its maximum depth.\n",
    "\n",
    "The maximum depth is the number of nodes along the longest path from the root node down to the farthest leaf node.\n",
    "\n",
    "Note: A leaf is a node with no children."
   ]
  },
  {
   "cell_type": "code",
   "execution_count": 1,
   "metadata": {},
   "outputs": [],
   "source": [
    "class Solution(object):\n",
    "    def dfs(self, root):\n",
    "        if not root:\n",
    "            return 0\n",
    "        \n",
    "        left = self.dfs(root.left)\n",
    "        right = self.dfs(root.right)\n",
    "        \n",
    "        return max(left, right) + 1\n",
    "    \n",
    "    def maxDepth(self, root):\n",
    "        \"\"\"\n",
    "        :type root: TreeNode\n",
    "        :rtype: int\n",
    "        \"\"\"\n",
    "        if not root:\n",
    "            return 0\n",
    "        \n",
    "        return self.dfs(root)\n",
    "        "
   ]
  },
  {
   "cell_type": "markdown",
   "metadata": {},
   "source": [
    "# 559. Maximum Depth of N-ary Tree\n",
    "\n",
    "Given a n-ary tree, find its maximum depth.\n",
    "\n",
    "The maximum depth is the number of nodes along the longest path from the root node down to the farthest leaf node."
   ]
  },
  {
   "cell_type": "code",
   "execution_count": 2,
   "metadata": {},
   "outputs": [],
   "source": [
    "class Solution(object):\n",
    "    def dfs(self, node):\n",
    "        if not node:\n",
    "            return 1\n",
    "        \n",
    "        depth = 0\n",
    "        for child in node.children:\n",
    "            depth = max(depth, self.dfs(child))\n",
    "            \n",
    "        return depth + 1    \n",
    "    \n",
    "    def maxDepth(self, root):\n",
    "        \"\"\"\n",
    "        :type root: Node\n",
    "        :rtype: int\n",
    "        \"\"\"\n",
    "        if not root:\n",
    "            return 0\n",
    "        \n",
    "        return self.dfs(root)\n",
    "        "
   ]
  },
  {
   "cell_type": "markdown",
   "metadata": {},
   "source": [
    "# 733. Flood Fill\n",
    "\n",
    "An image is represented by a 2-D array of integers, each integer representing the pixel value of the image (from 0 to 65535).\n",
    "\n",
    "Given a coordinate (sr, sc) representing the starting pixel (row and column) of the flood fill, and a pixel value newColor, \"flood fill\" the image.\n",
    "\n",
    "To perform a \"flood fill\", consider the starting pixel, plus any pixels connected 4-directionally to the starting pixel of the same color as the starting pixel, plus any pixels connected 4-directionally to those pixels (also with the same color as the starting pixel), and so on. Replace the color of all of the aforementioned pixels with the newColor.\n",
    "\n",
    "At the end, return the modified image."
   ]
  },
  {
   "cell_type": "code",
   "execution_count": 3,
   "metadata": {},
   "outputs": [],
   "source": [
    "class Solution(object):\n",
    "    def dfs(self, image, sr, sc, newColor, color, visited):\n",
    "        if sr < 0 or sr >= len(image) or sc < 0 or sc >= len(image[0]) or \\\n",
    "            image[sr][sc] != color or (sr, sc) in visited:\n",
    "            return\n",
    "        \n",
    "        image[sr][sc] = newColor\n",
    "        visited.add((sr, sc))\n",
    "            \n",
    "        self.dfs(image, sr + 1, sc, newColor, color, visited)\n",
    "        self.dfs(image, sr - 1, sc, newColor, color, visited)\n",
    "        self.dfs(image, sr, sc + 1, newColor, color, visited)\n",
    "        self.dfs(image, sr, sc - 1, newColor, color, visited)\n",
    "        \n",
    "    def floodFill(self, image, sr, sc, newColor):\n",
    "        \"\"\"\n",
    "        :type image: List[List[int]]\n",
    "        :type sr: int\n",
    "        :type sc: int\n",
    "        :type newColor: int\n",
    "        :rtype: List[List[int]]\n",
    "        \"\"\"\n",
    "        visited = set()\n",
    "        self.dfs(image, sr, sc, newColor, image[sr][sc], visited)\n",
    "        return image"
   ]
  },
  {
   "cell_type": "markdown",
   "metadata": {},
   "source": [
    "# 872. Leaf-Similar Trees\n",
    "\n",
    "Consider all the leaves of a binary tree.  From left to right order, the values of those leaves form a leaf value sequence."
   ]
  },
  {
   "cell_type": "code",
   "execution_count": 4,
   "metadata": {},
   "outputs": [],
   "source": [
    "class Solution(object):\n",
    "    def dfs(self, root, res):\n",
    "        if not root:\n",
    "            return\n",
    "        \n",
    "        if not root.left and not root.right:\n",
    "            res.append(root.val)\n",
    "            \n",
    "        self.dfs(root.left, res)    \n",
    "        self.dfs(root.right, res)    \n",
    "            \n",
    "    def leafSimilar(self, root1, root2):\n",
    "        \"\"\"\n",
    "        :type root1: TreeNode\n",
    "        :type root2: TreeNode\n",
    "        :rtype: bool\n",
    "        \"\"\"\n",
    "        one = []\n",
    "        two = []\n",
    "        \n",
    "        self.dfs(root1, one)\n",
    "        self.dfs(root2, two)\n",
    "        \n",
    "        return one == two\n",
    "        "
   ]
  },
  {
   "cell_type": "code",
   "execution_count": null,
   "metadata": {},
   "outputs": [],
   "source": []
  }
 ],
 "metadata": {
  "kernelspec": {
   "display_name": "Python 3",
   "language": "python",
   "name": "python3"
  },
  "language_info": {
   "codemirror_mode": {
    "name": "ipython",
    "version": 3
   },
   "file_extension": ".py",
   "mimetype": "text/x-python",
   "name": "python",
   "nbconvert_exporter": "python",
   "pygments_lexer": "ipython3",
   "version": "3.7.2"
  }
 },
 "nbformat": 4,
 "nbformat_minor": 2
}
